{
 "cells": [
  {
   "cell_type": "code",
   "id": "initial_id",
   "metadata": {
    "collapsed": true,
    "ExecuteTime": {
     "end_time": "2024-09-10T16:46:02.878285Z",
     "start_time": "2024-09-10T16:46:02.846286Z"
    }
   },
   "source": [
    "import platform\n",
    "print(f\"platform.python_version(): {platform.python_version()}\")\n",
    "\n",
    "import os\n",
    "import scipy\n",
    "import numpy as np\n",
    "from glob import glob\n",
    "from tqdm import tqdm\n",
    "\n",
    "from sklearn.preprocessing import StandardScaler\n",
    "from sklearn.model_selection import train_test_split\n",
    "\n",
    "import tensorflow as tf\n",
    "from tensorflow import keras\n",
    "from keras import Sequential\n",
    "from keras.utils import to_categorical\n",
    "from keras.layers import Dense, Flatten, Conv2D, MaxPooling2D, BatchNormalization, Activation\n",
    "\n",
    "import matplotlib.pyplot as plt\n",
    "\n",
    "# 在windows用gpu跑tensorflow 最多只支持到2.10.1並且conda沒有2.10.1 只能用pip\n",
    "# numpy和scipy也要配合安裝下列版本\n",
    "# pip install tensorflow==2.10.1\n",
    "# pip install numpy==1.22.4\n",
    "# pip install scipy==1.7.3\n",
    "print(f\"np.version.version: {np.version.version}\")\n",
    "print(f\"scipy.__version__: {scipy.__version__}\")\n",
    "print(f\"tf.__version__: {tf.__version__}\")\n",
    "# 確認GPU是否可用\n",
    "gpus = tf.config.experimental.list_physical_devices('GPU')\n",
    "print(f\"tf.config.list_physical_devices('GPU'): {tf.config.list_physical_devices('GPU')}\")"
   ],
   "outputs": [
    {
     "name": "stdout",
     "output_type": "stream",
     "text": [
      "platform.python_version(): 3.9.13\n",
      "np.version.version: 1.22.4\n",
      "scipy.__version__: 1.7.3\n",
      "tf.__version__: 2.10.1\n",
      "tf.config.list_physical_devices('GPU'): [PhysicalDevice(name='/physical_device:GPU:0', device_type='GPU')]\n"
     ]
    }
   ],
   "execution_count": 19
  },
  {
   "metadata": {},
   "cell_type": "markdown",
   "source": "取得訓練資料npy檔路徑放入 'npy_file_list'",
   "id": "f6b667196b81feb6"
  },
  {
   "metadata": {
    "ExecuteTime": {
     "end_time": "2024-09-10T16:46:02.988286Z",
     "start_time": "2024-09-10T16:46:02.892285Z"
    }
   },
   "cell_type": "code",
   "source": [
    "npy_file_list = glob(f\"{os.getcwd()}\\\\mfcc\\\\*.npy\")\n",
    "print(f\"type(npy_file_list): {type(npy_file_list)}\")\n",
    "print(f\"len(npy_file_list): {len(npy_file_list)}\")\n",
    "# npy_file_list"
   ],
   "id": "f08d72fd52262764",
   "outputs": [
    {
     "name": "stdout",
     "output_type": "stream",
     "text": [
      "type(npy_file_list): <class 'list'>\n",
      "len(npy_file_list): 32103\n"
     ]
    }
   ],
   "execution_count": 20
  },
  {
   "metadata": {},
   "cell_type": "markdown",
   "source": "將 'npy_file_list' 內所有npy檔轉成陣列並放入 'mfcc_list'",
   "id": "3e042d3649311523"
  },
  {
   "metadata": {
    "ExecuteTime": {
     "end_time": "2024-09-10T16:47:37.772295Z",
     "start_time": "2024-09-10T16:46:03.048440Z"
    }
   },
   "cell_type": "code",
   "source": [
    "mfcc_list = []\n",
    "\n",
    "for npy_file in tqdm(npy_file_list):\n",
    "    mfcc = np.load(file=npy_file)\n",
    "    mfcc_list.append(mfcc)\n",
    "\n",
    "# 將list()轉換成np.array()\n",
    "mfcc_list = np.array(mfcc_list)\n",
    "print(f\"type(mfcc_list): {type(mfcc_list)}\")\n",
    "print(f\"mfcc_list.shape: {mfcc_list.shape}\")\n",
    "\n",
    "# 不要印出 ipynb會爆炸\n",
    "# mfcc_list"
   ],
   "id": "52f86134d8030a75",
   "outputs": [
    {
     "name": "stderr",
     "output_type": "stream",
     "text": [
      "100%|██████████| 32103/32103 [01:34<00:00, 339.05it/s]"
     ]
    },
    {
     "name": "stdout",
     "output_type": "stream",
     "text": [
      "type(mfcc_list): <class 'numpy.ndarray'>\n",
      "mfcc_list.shape: (32103, 13, 44)\n"
     ]
    },
    {
     "name": "stderr",
     "output_type": "stream",
     "text": [
      "\n"
     ]
    }
   ],
   "execution_count": 21
  },
  {
   "metadata": {},
   "cell_type": "markdown",
   "source": "mfcc資料集標準化",
   "id": "ed9c817786704b44"
  },
  {
   "metadata": {
    "ExecuteTime": {
     "end_time": "2024-09-10T16:47:39.252418Z",
     "start_time": "2024-09-10T16:47:37.927556Z"
    }
   },
   "cell_type": "code",
   "source": [
    "scaler = StandardScaler()\n",
    "# 因為標準器只能fit 2維的資料所以要將3維的mfcc資料集reshape成2維\n",
    "# mfcc_data_nums: k\n",
    "# mfcc_row: n\n",
    "# mfcc_column: m\n",
    "# (k, n, m) => (k * n, m)\n",
    "scaler.fit(mfcc_list.reshape((mfcc_list.shape[0] * mfcc_list.shape[1], mfcc_list.shape[2])))\n",
    "\n",
    "mfcc_list_scaled = []\n",
    "for mfcc in mfcc_list:\n",
    "    mfcc_list_scaled.append(scaler.transform(mfcc))\n",
    "\n",
    "# 將list()轉換成np.array()\n",
    "mfcc_list_scaled = np.array(mfcc_list_scaled)\n",
    "\n",
    "print(f\"type(mfcc_list_scaled): {type(mfcc_list_scaled)}\")\n",
    "print(f\"mfcc_list_scaled.shape: {mfcc_list_scaled.shape}\")\n",
    "\n",
    "# 不要印出 ipynb會爆炸\n",
    "# mfcc_scaled"
   ],
   "id": "436d88e3bc310614",
   "outputs": [
    {
     "name": "stdout",
     "output_type": "stream",
     "text": [
      "type(mfcc_list_scaled): <class 'numpy.ndarray'>\n",
      "mfcc_list_scaled.shape: (32103, 13, 44)\n"
     ]
    }
   ],
   "execution_count": 22
  },
  {
   "metadata": {},
   "cell_type": "markdown",
   "source": "讀取 'npy_file_list' 中所有資料檔名的拼音標籤",
   "id": "41eac106b5d7c567"
  },
  {
   "metadata": {
    "ExecuteTime": {
     "end_time": "2024-09-10T16:47:39.283654Z",
     "start_time": "2024-09-10T16:47:39.269137Z"
    }
   },
   "cell_type": "code",
   "source": [
    "label_pinyin_list = []\n",
    "\n",
    "for npy_file in npy_file_list:\n",
    "    label_pinyin = npy_file[npy_file.find(\"_\") + 1:npy_file.find(\".npy\")]\n",
    "    label_pinyin_list.append(label_pinyin)\n",
    "\n",
    "# 將list()轉換成np.array()\n",
    "label_pinyin_list = np.array(label_pinyin_list)\n",
    "\n",
    "print(f\"type(label_pinyin_list): {type(label_pinyin_list)}\")\n",
    "print(f\"label_pinyin_list.shape: {label_pinyin_list.shape}\")\n",
    "# label_pinyin_list"
   ],
   "id": "f6309e00816fb9d1",
   "outputs": [
    {
     "name": "stdout",
     "output_type": "stream",
     "text": [
      "type(label_pinyin_list): <class 'numpy.ndarray'>\n",
      "label_pinyin_list.shape: (32103,)\n"
     ]
    }
   ],
   "execution_count": 23
  },
  {
   "metadata": {},
   "cell_type": "markdown",
   "source": "dictionary 標籤轉換器<br>key => pinyin<br>value => int<br>(0 <= int <= 1466)",
   "id": "50a2afbe9c6cf5"
  },
  {
   "metadata": {
    "ExecuteTime": {
     "end_time": "2024-09-10T16:47:39.330762Z",
     "start_time": "2024-09-10T16:47:39.316744Z"
    }
   },
   "cell_type": "code",
   "source": [
    "sample_list = glob(f\"{os.getcwd()}\\\\samplePinyin\\\\Male\\\\*.wav\")\n",
    "\n",
    "label_dic: dict = {}\n",
    "for i in range(len(sample_list)):\n",
    "    label = sample_list[i][sample_list[i].find(\"_\") + 1:sample_list[i].find(\".wav\")]\n",
    "    label_dic[label] = i\n",
    "\n",
    "print(f\"type(label_dic): {type(label_dic)}\")\n",
    "print(f\"len(label_dic): {len(label_dic)}\")\n",
    "# label_dic"
   ],
   "id": "d5c83d64905fd11",
   "outputs": [
    {
     "name": "stdout",
     "output_type": "stream",
     "text": [
      "type(label_dic): <class 'dict'>\n",
      "len(label_dic): 1467\n"
     ]
    }
   ],
   "execution_count": 24
  },
  {
   "metadata": {},
   "cell_type": "markdown",
   "source": "將 'label_pinyin_list' 裡的拼音標籤轉換成數字標籤放入 'label_int_list'",
   "id": "b555a33efebfffbe"
  },
  {
   "metadata": {
    "ExecuteTime": {
     "end_time": "2024-09-10T16:47:39.362819Z",
     "start_time": "2024-09-10T16:47:39.343800Z"
    }
   },
   "cell_type": "code",
   "source": [
    "label_int_list = []\n",
    "for label_pinyin in label_pinyin_list:\n",
    "    label_int = label_dic[label_pinyin]\n",
    "    label_int_list.append(label_int)\n",
    "\n",
    "label_int_list = np.array(label_int_list)\n",
    "print(f\"label_int_list.shape => {label_int_list.shape}\")\n",
    "# label_int_list"
   ],
   "id": "8cea599705f23af2",
   "outputs": [
    {
     "name": "stdout",
     "output_type": "stream",
     "text": [
      "label_int_list.shape => (32103,)\n"
     ]
    }
   ],
   "execution_count": 25
  },
  {
   "metadata": {},
   "cell_type": "markdown",
   "source": "定義CNN模型",
   "id": "cb5693b89a563ca4"
  },
  {
   "metadata": {
    "ExecuteTime": {
     "end_time": "2024-09-10T16:47:39.394354Z",
     "start_time": "2024-09-10T16:47:39.379842Z"
    }
   },
   "cell_type": "code",
   "source": [
    "def get_cnn_model(input_shape, num_classes, learning_rate=0.001, num_filters=32, dense_units=256):\n",
    "    cnn_model = Sequential()\n",
    "\n",
    "    # 第一層捲積層\n",
    "    cnn_model.add(Conv2D(num_filters, kernel_size=(3, 3), padding='same', input_shape=input_shape))\n",
    "    cnn_model.add(BatchNormalization())\n",
    "    cnn_model.add(Activation('relu'))\n",
    "    cnn_model.add(Conv2D(num_filters, kernel_size=(3, 3), padding='same'))\n",
    "    cnn_model.add(BatchNormalization())\n",
    "    cnn_model.add(Activation('relu'))\n",
    "    cnn_model.add(MaxPooling2D(pool_size=(2, 2)))\n",
    "    \n",
    "    # 第二層捲積層\n",
    "    cnn_model.add(Conv2D(num_filters * 2, kernel_size=(3, 3), padding='same'))\n",
    "    cnn_model.add(BatchNormalization())\n",
    "    cnn_model.add(Activation('relu'))\n",
    "    cnn_model.add(Conv2D(num_filters * 2, kernel_size=(3, 3), padding='same'))\n",
    "    cnn_model.add(BatchNormalization())\n",
    "    cnn_model.add(Activation('relu'))\n",
    "    cnn_model.add(MaxPooling2D(pool_size=(2, 2)))\n",
    "    \n",
    "    # 第三層捲積層\n",
    "    cnn_model.add(Conv2D(num_filters * 4, kernel_size=(3, 3), padding='same'))\n",
    "    cnn_model.add(BatchNormalization())\n",
    "    cnn_model.add(Activation('relu'))\n",
    "    cnn_model.add(Conv2D(num_filters * 4, kernel_size=(3, 3), padding='same'))\n",
    "    cnn_model.add(BatchNormalization())\n",
    "    cnn_model.add(Activation('relu'))\n",
    "    cnn_model.add(MaxPooling2D(pool_size=(2, 2)))\n",
    "    \n",
    "    # 展平\n",
    "    cnn_model.add(Flatten())\n",
    "    \n",
    "    # 第一層全連接層\n",
    "    cnn_model.add(Dense(dense_units))\n",
    "    cnn_model.add(BatchNormalization())\n",
    "    cnn_model.add(Activation('relu'))\n",
    "    \n",
    "    # 第二層全連接層\n",
    "    cnn_model.add(Dense(dense_units * 2))\n",
    "    cnn_model.add(BatchNormalization())\n",
    "    cnn_model.add(Activation('relu'))\n",
    "    \n",
    "    # 第三層全連接層(長度同為1467個label)\n",
    "    cnn_model.add(Dense(num_classes))\n",
    "    \n",
    "    # 表示為機率\n",
    "    cnn_model.add(Activation('softmax'))\n",
    "\n",
    "    cnn_model.compile(\n",
    "        loss=keras.losses.categorical_crossentropy,\n",
    "        optimizer=keras.optimizers.Adam(learning_rate=learning_rate),\n",
    "        metrics=['accuracy']\n",
    "    )\n",
    "\n",
    "    return cnn_model"
   ],
   "id": "88a18e515cf2b07",
   "outputs": [],
   "execution_count": 26
  },
  {
   "metadata": {},
   "cell_type": "markdown",
   "source": "參數設定",
   "id": "b19178096bf426da"
  },
  {
   "metadata": {
    "ExecuteTime": {
     "end_time": "2024-09-10T16:47:39.425402Z",
     "start_time": "2024-09-10T16:47:39.410895Z"
    }
   },
   "cell_type": "code",
   "source": [
    "channel = 1\n",
    "verbose = 2\n",
    "epochs = 100\n",
    "batch_size = 32\n",
    "num_classes = len(label_dic)\n",
    "test_size = 0.2\n",
    "mfcc_dim_1 = mfcc_list.shape[1]\n",
    "mfcc_dim_2 = mfcc_list.shape[2]\n",
    "print(f\"mfcc_dim_1: {mfcc_dim_1}\")\n",
    "print(f\"mfcc_dim_2: {mfcc_dim_2}\")"
   ],
   "id": "6264440e9e879735",
   "outputs": [
    {
     "name": "stdout",
     "output_type": "stream",
     "text": [
      "mfcc_dim_1: 13\n",
      "mfcc_dim_2: 44\n"
     ]
    }
   ],
   "execution_count": 27
  },
  {
   "metadata": {},
   "cell_type": "markdown",
   "source": "資料分割",
   "id": "cf35a8440e772114"
  },
  {
   "metadata": {
    "ExecuteTime": {
     "end_time": "2024-09-10T16:47:39.565605Z",
     "start_time": "2024-09-10T16:47:39.456932Z"
    }
   },
   "cell_type": "code",
   "source": [
    "X = mfcc_list_scaled\n",
    "y = label_int_list\n",
    "\n",
    "# 將int label轉換成二進制one hot標籤\n",
    "y_one_hot = to_categorical(y, num_classes=num_classes)\n",
    "\n",
    "X_train, X_test, y_train, y_test = train_test_split(X, y_one_hot, test_size=test_size, random_state=42)\n",
    "\n",
    "X_train = X_train.reshape(X_train.shape[0], mfcc_dim_1, mfcc_dim_2, channel)\n",
    "X_test = X_test.reshape(X_test.shape[0], mfcc_dim_1, mfcc_dim_2, channel)"
   ],
   "id": "c61c0d185ac285fb",
   "outputs": [],
   "execution_count": 28
  },
  {
   "metadata": {},
   "cell_type": "markdown",
   "source": "訓練模型",
   "id": "20bee65a7670a29"
  },
  {
   "metadata": {
    "ExecuteTime": {
     "end_time": "2024-09-10T16:55:58.899584Z",
     "start_time": "2024-09-10T16:47:39.582627Z"
    }
   },
   "cell_type": "code",
   "source": [
    "model = get_cnn_model(input_shape=(mfcc_dim_1, mfcc_dim_2, channel), num_classes=num_classes)\n",
    "model_train_info = model.fit(X_train, y_train, batch_size=batch_size, epochs=epochs, verbose=verbose, validation_data=(X_test, y_test))"
   ],
   "id": "8001633fcf9a59e1",
   "outputs": [
    {
     "name": "stdout",
     "output_type": "stream",
     "text": [
      "Epoch 1/100\n",
      "803/803 - 5s - loss: 4.8391 - accuracy: 0.1360 - val_loss: 4.0449 - val_accuracy: 0.1926 - 5s/epoch - 7ms/step\n",
      "Epoch 2/100\n",
      "803/803 - 4s - loss: 3.5352 - accuracy: 0.2458 - val_loss: 3.5186 - val_accuracy: 0.2577 - 4s/epoch - 6ms/step\n",
      "Epoch 3/100\n",
      "803/803 - 5s - loss: 3.0341 - accuracy: 0.3048 - val_loss: 3.2051 - val_accuracy: 0.3085 - 5s/epoch - 6ms/step\n",
      "Epoch 4/100\n",
      "803/803 - 5s - loss: 2.6907 - accuracy: 0.3565 - val_loss: 3.1118 - val_accuracy: 0.3285 - 5s/epoch - 6ms/step\n",
      "Epoch 5/100\n",
      "803/803 - 5s - loss: 2.4212 - accuracy: 0.3936 - val_loss: 2.9820 - val_accuracy: 0.3542 - 5s/epoch - 6ms/step\n",
      "Epoch 6/100\n",
      "803/803 - 5s - loss: 2.1857 - accuracy: 0.4314 - val_loss: 2.8846 - val_accuracy: 0.3861 - 5s/epoch - 6ms/step\n",
      "Epoch 7/100\n",
      "803/803 - 5s - loss: 1.9596 - accuracy: 0.4691 - val_loss: 2.9168 - val_accuracy: 0.3851 - 5s/epoch - 6ms/step\n",
      "Epoch 8/100\n",
      "803/803 - 5s - loss: 1.7673 - accuracy: 0.5014 - val_loss: 3.3367 - val_accuracy: 0.3812 - 5s/epoch - 6ms/step\n",
      "Epoch 9/100\n",
      "803/803 - 5s - loss: 1.5892 - accuracy: 0.5389 - val_loss: 3.0230 - val_accuracy: 0.4094 - 5s/epoch - 6ms/step\n",
      "Epoch 10/100\n",
      "803/803 - 5s - loss: 1.4228 - accuracy: 0.5780 - val_loss: 3.2344 - val_accuracy: 0.3897 - 5s/epoch - 7ms/step\n",
      "Epoch 11/100\n",
      "803/803 - 5s - loss: 1.2758 - accuracy: 0.6082 - val_loss: 3.3753 - val_accuracy: 0.3915 - 5s/epoch - 7ms/step\n",
      "Epoch 12/100\n",
      "803/803 - 5s - loss: 1.1595 - accuracy: 0.6423 - val_loss: 3.6741 - val_accuracy: 0.3842 - 5s/epoch - 6ms/step\n",
      "Epoch 13/100\n",
      "803/803 - 5s - loss: 1.0633 - accuracy: 0.6635 - val_loss: 3.3846 - val_accuracy: 0.4018 - 5s/epoch - 6ms/step\n",
      "Epoch 14/100\n",
      "803/803 - 5s - loss: 0.9625 - accuracy: 0.6927 - val_loss: 3.5053 - val_accuracy: 0.4055 - 5s/epoch - 6ms/step\n",
      "Epoch 15/100\n",
      "803/803 - 5s - loss: 0.8871 - accuracy: 0.7130 - val_loss: 3.7691 - val_accuracy: 0.3970 - 5s/epoch - 7ms/step\n",
      "Epoch 16/100\n",
      "803/803 - 5s - loss: 0.8075 - accuracy: 0.7349 - val_loss: 3.9095 - val_accuracy: 0.3942 - 5s/epoch - 6ms/step\n",
      "Epoch 17/100\n",
      "803/803 - 5s - loss: 0.7457 - accuracy: 0.7512 - val_loss: 3.3357 - val_accuracy: 0.4194 - 5s/epoch - 6ms/step\n",
      "Epoch 18/100\n",
      "803/803 - 5s - loss: 0.6949 - accuracy: 0.7675 - val_loss: 4.6097 - val_accuracy: 0.3906 - 5s/epoch - 6ms/step\n",
      "Epoch 19/100\n",
      "803/803 - 5s - loss: 0.6535 - accuracy: 0.7814 - val_loss: 3.5853 - val_accuracy: 0.4093 - 5s/epoch - 6ms/step\n",
      "Epoch 20/100\n",
      "803/803 - 5s - loss: 0.6024 - accuracy: 0.7961 - val_loss: 3.6749 - val_accuracy: 0.4221 - 5s/epoch - 6ms/step\n",
      "Epoch 21/100\n",
      "803/803 - 5s - loss: 0.5488 - accuracy: 0.8149 - val_loss: 4.0070 - val_accuracy: 0.4261 - 5s/epoch - 6ms/step\n",
      "Epoch 22/100\n",
      "803/803 - 5s - loss: 0.5252 - accuracy: 0.8220 - val_loss: 4.1166 - val_accuracy: 0.4132 - 5s/epoch - 6ms/step\n",
      "Epoch 23/100\n",
      "803/803 - 5s - loss: 0.4916 - accuracy: 0.8315 - val_loss: 3.8736 - val_accuracy: 0.4085 - 5s/epoch - 6ms/step\n",
      "Epoch 24/100\n",
      "803/803 - 5s - loss: 0.4678 - accuracy: 0.8396 - val_loss: 4.5279 - val_accuracy: 0.4141 - 5s/epoch - 6ms/step\n",
      "Epoch 25/100\n",
      "803/803 - 5s - loss: 0.4405 - accuracy: 0.8512 - val_loss: 4.6977 - val_accuracy: 0.4129 - 5s/epoch - 6ms/step\n",
      "Epoch 26/100\n",
      "803/803 - 5s - loss: 0.4006 - accuracy: 0.8616 - val_loss: 4.5296 - val_accuracy: 0.4051 - 5s/epoch - 6ms/step\n",
      "Epoch 27/100\n",
      "803/803 - 5s - loss: 0.3869 - accuracy: 0.8678 - val_loss: 4.5466 - val_accuracy: 0.4194 - 5s/epoch - 6ms/step\n",
      "Epoch 28/100\n",
      "803/803 - 5s - loss: 0.3706 - accuracy: 0.8731 - val_loss: 4.9761 - val_accuracy: 0.3993 - 5s/epoch - 6ms/step\n",
      "Epoch 29/100\n",
      "803/803 - 5s - loss: 0.3525 - accuracy: 0.8786 - val_loss: 5.2733 - val_accuracy: 0.3942 - 5s/epoch - 6ms/step\n",
      "Epoch 30/100\n",
      "803/803 - 5s - loss: 0.3398 - accuracy: 0.8854 - val_loss: 4.3742 - val_accuracy: 0.4219 - 5s/epoch - 6ms/step\n",
      "Epoch 31/100\n",
      "803/803 - 5s - loss: 0.3119 - accuracy: 0.8922 - val_loss: 5.1509 - val_accuracy: 0.4080 - 5s/epoch - 6ms/step\n",
      "Epoch 32/100\n",
      "803/803 - 5s - loss: 0.3022 - accuracy: 0.8974 - val_loss: 4.9798 - val_accuracy: 0.4169 - 5s/epoch - 6ms/step\n",
      "Epoch 33/100\n",
      "803/803 - 5s - loss: 0.2962 - accuracy: 0.8987 - val_loss: 4.4669 - val_accuracy: 0.4178 - 5s/epoch - 6ms/step\n",
      "Epoch 34/100\n",
      "803/803 - 5s - loss: 0.2754 - accuracy: 0.9034 - val_loss: 4.9413 - val_accuracy: 0.4097 - 5s/epoch - 6ms/step\n",
      "Epoch 35/100\n",
      "803/803 - 5s - loss: 0.2677 - accuracy: 0.9091 - val_loss: 5.2258 - val_accuracy: 0.4221 - 5s/epoch - 7ms/step\n",
      "Epoch 36/100\n",
      "803/803 - 5s - loss: 0.2635 - accuracy: 0.9102 - val_loss: 5.2571 - val_accuracy: 0.4091 - 5s/epoch - 7ms/step\n",
      "Epoch 37/100\n",
      "803/803 - 5s - loss: 0.2533 - accuracy: 0.9120 - val_loss: 4.7921 - val_accuracy: 0.4090 - 5s/epoch - 6ms/step\n",
      "Epoch 38/100\n",
      "803/803 - 5s - loss: 0.2425 - accuracy: 0.9156 - val_loss: 4.9391 - val_accuracy: 0.4207 - 5s/epoch - 6ms/step\n",
      "Epoch 39/100\n",
      "803/803 - 5s - loss: 0.2249 - accuracy: 0.9222 - val_loss: 5.1996 - val_accuracy: 0.4185 - 5s/epoch - 6ms/step\n",
      "Epoch 40/100\n",
      "803/803 - 5s - loss: 0.2377 - accuracy: 0.9179 - val_loss: 5.2146 - val_accuracy: 0.4155 - 5s/epoch - 6ms/step\n",
      "Epoch 41/100\n",
      "803/803 - 5s - loss: 0.2100 - accuracy: 0.9290 - val_loss: 4.9894 - val_accuracy: 0.4157 - 5s/epoch - 6ms/step\n",
      "Epoch 42/100\n",
      "803/803 - 5s - loss: 0.2051 - accuracy: 0.9316 - val_loss: 5.0492 - val_accuracy: 0.4250 - 5s/epoch - 6ms/step\n",
      "Epoch 43/100\n",
      "803/803 - 5s - loss: 0.2048 - accuracy: 0.9299 - val_loss: 5.7562 - val_accuracy: 0.4029 - 5s/epoch - 6ms/step\n",
      "Epoch 44/100\n",
      "803/803 - 5s - loss: 0.2038 - accuracy: 0.9325 - val_loss: 5.4281 - val_accuracy: 0.4166 - 5s/epoch - 6ms/step\n",
      "Epoch 45/100\n",
      "803/803 - 5s - loss: 0.1918 - accuracy: 0.9345 - val_loss: 5.8340 - val_accuracy: 0.4157 - 5s/epoch - 6ms/step\n",
      "Epoch 46/100\n",
      "803/803 - 5s - loss: 0.1805 - accuracy: 0.9382 - val_loss: 5.9031 - val_accuracy: 0.4222 - 5s/epoch - 6ms/step\n",
      "Epoch 47/100\n",
      "803/803 - 5s - loss: 0.1754 - accuracy: 0.9416 - val_loss: 5.5276 - val_accuracy: 0.4143 - 5s/epoch - 7ms/step\n",
      "Epoch 48/100\n",
      "803/803 - 5s - loss: 0.1887 - accuracy: 0.9359 - val_loss: 5.3810 - val_accuracy: 0.4225 - 5s/epoch - 7ms/step\n",
      "Epoch 49/100\n",
      "803/803 - 5s - loss: 0.1660 - accuracy: 0.9428 - val_loss: 5.4956 - val_accuracy: 0.4041 - 5s/epoch - 7ms/step\n",
      "Epoch 50/100\n",
      "803/803 - 5s - loss: 0.1667 - accuracy: 0.9431 - val_loss: 5.6333 - val_accuracy: 0.4144 - 5s/epoch - 6ms/step\n",
      "Epoch 51/100\n",
      "803/803 - 5s - loss: 0.1737 - accuracy: 0.9405 - val_loss: 5.7642 - val_accuracy: 0.4094 - 5s/epoch - 6ms/step\n",
      "Epoch 52/100\n",
      "803/803 - 5s - loss: 0.1526 - accuracy: 0.9465 - val_loss: 4.9757 - val_accuracy: 0.4224 - 5s/epoch - 6ms/step\n",
      "Epoch 53/100\n",
      "803/803 - 5s - loss: 0.1511 - accuracy: 0.9486 - val_loss: 6.4818 - val_accuracy: 0.4048 - 5s/epoch - 6ms/step\n",
      "Epoch 54/100\n",
      "803/803 - 5s - loss: 0.1594 - accuracy: 0.9474 - val_loss: 5.7857 - val_accuracy: 0.4249 - 5s/epoch - 6ms/step\n",
      "Epoch 55/100\n",
      "803/803 - 5s - loss: 0.1467 - accuracy: 0.9514 - val_loss: 5.6499 - val_accuracy: 0.4071 - 5s/epoch - 6ms/step\n",
      "Epoch 56/100\n",
      "803/803 - 5s - loss: 0.1393 - accuracy: 0.9535 - val_loss: 6.4376 - val_accuracy: 0.4147 - 5s/epoch - 6ms/step\n",
      "Epoch 57/100\n",
      "803/803 - 5s - loss: 0.1429 - accuracy: 0.9502 - val_loss: 6.3964 - val_accuracy: 0.4185 - 5s/epoch - 6ms/step\n",
      "Epoch 58/100\n",
      "803/803 - 5s - loss: 0.1296 - accuracy: 0.9555 - val_loss: 5.8047 - val_accuracy: 0.4175 - 5s/epoch - 6ms/step\n",
      "Epoch 59/100\n",
      "803/803 - 5s - loss: 0.1409 - accuracy: 0.9539 - val_loss: 5.7728 - val_accuracy: 0.4169 - 5s/epoch - 6ms/step\n",
      "Epoch 60/100\n",
      "803/803 - 5s - loss: 0.1498 - accuracy: 0.9494 - val_loss: 5.7629 - val_accuracy: 0.4169 - 5s/epoch - 6ms/step\n",
      "Epoch 61/100\n",
      "803/803 - 5s - loss: 0.1302 - accuracy: 0.9567 - val_loss: 5.7318 - val_accuracy: 0.4227 - 5s/epoch - 6ms/step\n",
      "Epoch 62/100\n",
      "803/803 - 5s - loss: 0.1317 - accuracy: 0.9546 - val_loss: 5.7387 - val_accuracy: 0.4168 - 5s/epoch - 6ms/step\n",
      "Epoch 63/100\n",
      "803/803 - 6s - loss: 0.1216 - accuracy: 0.9583 - val_loss: 5.6207 - val_accuracy: 0.4146 - 6s/epoch - 7ms/step\n",
      "Epoch 64/100\n",
      "803/803 - 5s - loss: 0.1197 - accuracy: 0.9598 - val_loss: 6.2571 - val_accuracy: 0.4272 - 5s/epoch - 6ms/step\n",
      "Epoch 65/100\n",
      "803/803 - 5s - loss: 0.1208 - accuracy: 0.9599 - val_loss: 6.8721 - val_accuracy: 0.4082 - 5s/epoch - 6ms/step\n",
      "Epoch 66/100\n",
      "803/803 - 5s - loss: 0.1307 - accuracy: 0.9556 - val_loss: 5.7695 - val_accuracy: 0.4224 - 5s/epoch - 6ms/step\n",
      "Epoch 67/100\n",
      "803/803 - 5s - loss: 0.1213 - accuracy: 0.9596 - val_loss: 5.9146 - val_accuracy: 0.4300 - 5s/epoch - 6ms/step\n",
      "Epoch 68/100\n",
      "803/803 - 5s - loss: 0.1216 - accuracy: 0.9595 - val_loss: 6.4346 - val_accuracy: 0.4107 - 5s/epoch - 6ms/step\n",
      "Epoch 69/100\n",
      "803/803 - 5s - loss: 0.1095 - accuracy: 0.9634 - val_loss: 6.0716 - val_accuracy: 0.4135 - 5s/epoch - 7ms/step\n",
      "Epoch 70/100\n",
      "803/803 - 5s - loss: 0.1160 - accuracy: 0.9609 - val_loss: 6.7095 - val_accuracy: 0.4161 - 5s/epoch - 6ms/step\n",
      "Epoch 71/100\n",
      "803/803 - 5s - loss: 0.1156 - accuracy: 0.9603 - val_loss: 6.6269 - val_accuracy: 0.4116 - 5s/epoch - 6ms/step\n",
      "Epoch 72/100\n",
      "803/803 - 5s - loss: 0.1109 - accuracy: 0.9609 - val_loss: 6.2360 - val_accuracy: 0.4207 - 5s/epoch - 6ms/step\n",
      "Epoch 73/100\n",
      "803/803 - 5s - loss: 0.1043 - accuracy: 0.9657 - val_loss: 6.6473 - val_accuracy: 0.4158 - 5s/epoch - 7ms/step\n",
      "Epoch 74/100\n",
      "803/803 - 5s - loss: 0.1109 - accuracy: 0.9624 - val_loss: 6.0145 - val_accuracy: 0.4280 - 5s/epoch - 6ms/step\n",
      "Epoch 75/100\n",
      "803/803 - 5s - loss: 0.1137 - accuracy: 0.9622 - val_loss: 5.5915 - val_accuracy: 0.4186 - 5s/epoch - 7ms/step\n",
      "Epoch 76/100\n",
      "803/803 - 5s - loss: 0.0982 - accuracy: 0.9668 - val_loss: 6.0498 - val_accuracy: 0.4239 - 5s/epoch - 6ms/step\n",
      "Epoch 77/100\n",
      "803/803 - 5s - loss: 0.0978 - accuracy: 0.9662 - val_loss: 6.4438 - val_accuracy: 0.4155 - 5s/epoch - 6ms/step\n",
      "Epoch 78/100\n",
      "803/803 - 5s - loss: 0.1109 - accuracy: 0.9628 - val_loss: 7.0849 - val_accuracy: 0.4035 - 5s/epoch - 6ms/step\n",
      "Epoch 79/100\n",
      "803/803 - 5s - loss: 0.0971 - accuracy: 0.9667 - val_loss: 5.9898 - val_accuracy: 0.4273 - 5s/epoch - 6ms/step\n",
      "Epoch 80/100\n",
      "803/803 - 5s - loss: 0.0981 - accuracy: 0.9672 - val_loss: 6.1672 - val_accuracy: 0.4199 - 5s/epoch - 6ms/step\n",
      "Epoch 81/100\n",
      "803/803 - 5s - loss: 0.0975 - accuracy: 0.9662 - val_loss: 6.9773 - val_accuracy: 0.4177 - 5s/epoch - 6ms/step\n",
      "Epoch 82/100\n",
      "803/803 - 5s - loss: 0.0988 - accuracy: 0.9684 - val_loss: 6.3642 - val_accuracy: 0.4202 - 5s/epoch - 7ms/step\n",
      "Epoch 83/100\n",
      "803/803 - 5s - loss: 0.0940 - accuracy: 0.9676 - val_loss: 6.6787 - val_accuracy: 0.3957 - 5s/epoch - 6ms/step\n",
      "Epoch 84/100\n",
      "803/803 - 5s - loss: 0.0931 - accuracy: 0.9682 - val_loss: 5.8319 - val_accuracy: 0.4147 - 5s/epoch - 6ms/step\n",
      "Epoch 85/100\n",
      "803/803 - 5s - loss: 0.0891 - accuracy: 0.9701 - val_loss: 6.2729 - val_accuracy: 0.4205 - 5s/epoch - 6ms/step\n",
      "Epoch 86/100\n",
      "803/803 - 5s - loss: 0.0896 - accuracy: 0.9697 - val_loss: 6.5181 - val_accuracy: 0.4116 - 5s/epoch - 6ms/step\n",
      "Epoch 87/100\n",
      "803/803 - 5s - loss: 0.0909 - accuracy: 0.9704 - val_loss: 6.1496 - val_accuracy: 0.4149 - 5s/epoch - 6ms/step\n",
      "Epoch 88/100\n",
      "803/803 - 5s - loss: 0.0912 - accuracy: 0.9701 - val_loss: 6.8299 - val_accuracy: 0.4140 - 5s/epoch - 6ms/step\n",
      "Epoch 89/100\n",
      "803/803 - 5s - loss: 0.0927 - accuracy: 0.9683 - val_loss: 6.5118 - val_accuracy: 0.4238 - 5s/epoch - 6ms/step\n",
      "Epoch 90/100\n",
      "803/803 - 5s - loss: 0.0849 - accuracy: 0.9713 - val_loss: 7.0695 - val_accuracy: 0.4024 - 5s/epoch - 6ms/step\n",
      "Epoch 91/100\n",
      "803/803 - 5s - loss: 0.0773 - accuracy: 0.9730 - val_loss: 6.4029 - val_accuracy: 0.4266 - 5s/epoch - 6ms/step\n",
      "Epoch 92/100\n",
      "803/803 - 5s - loss: 0.0849 - accuracy: 0.9711 - val_loss: 7.3611 - val_accuracy: 0.4175 - 5s/epoch - 6ms/step\n",
      "Epoch 93/100\n",
      "803/803 - 5s - loss: 0.0817 - accuracy: 0.9722 - val_loss: 6.8826 - val_accuracy: 0.4211 - 5s/epoch - 7ms/step\n",
      "Epoch 94/100\n",
      "803/803 - 5s - loss: 0.0829 - accuracy: 0.9722 - val_loss: 6.4611 - val_accuracy: 0.4149 - 5s/epoch - 6ms/step\n",
      "Epoch 95/100\n",
      "803/803 - 5s - loss: 0.0804 - accuracy: 0.9737 - val_loss: 6.8978 - val_accuracy: 0.4242 - 5s/epoch - 6ms/step\n",
      "Epoch 96/100\n",
      "803/803 - 5s - loss: 0.0813 - accuracy: 0.9729 - val_loss: 7.0000 - val_accuracy: 0.4245 - 5s/epoch - 6ms/step\n",
      "Epoch 97/100\n",
      "803/803 - 5s - loss: 0.0742 - accuracy: 0.9752 - val_loss: 6.8997 - val_accuracy: 0.4177 - 5s/epoch - 6ms/step\n",
      "Epoch 98/100\n",
      "803/803 - 5s - loss: 0.0777 - accuracy: 0.9745 - val_loss: 7.1833 - val_accuracy: 0.4140 - 5s/epoch - 6ms/step\n",
      "Epoch 99/100\n",
      "803/803 - 5s - loss: 0.0849 - accuracy: 0.9718 - val_loss: 7.0406 - val_accuracy: 0.4233 - 5s/epoch - 6ms/step\n",
      "Epoch 100/100\n",
      "803/803 - 5s - loss: 0.0843 - accuracy: 0.9720 - val_loss: 6.4857 - val_accuracy: 0.4087 - 5s/epoch - 6ms/step\n"
     ]
    }
   ],
   "execution_count": 29
  },
  {
   "metadata": {
    "ExecuteTime": {
     "end_time": "2024-09-10T16:55:59.055584Z",
     "start_time": "2024-09-10T16:55:58.932585Z"
    }
   },
   "cell_type": "code",
   "source": [
    "accuracies = model_train_info.history['accuracy']\n",
    "val_accuracies = model_train_info.history['val_accuracy']\n",
    "\n",
    "plt.plot(list(range(epochs)), accuracies, label = 'accuracy')\n",
    "plt.plot(list(range(epochs)), val_accuracies, label = 'val_accuracy')\n",
    "plt.legend()\n",
    "plt.grid()\n",
    "plt.xticks(ticks = list(range(1, epochs + 1))) \n",
    "plt.xlabel('Epoch')\n",
    "plt.ylabel('Accuracy')\n",
    "plt.xticks(ticks=list(range(0, epochs + 1, 10)))\n",
    "plt.show()"
   ],
   "id": "a8b6944fb6ee6017",
   "outputs": [
    {
     "data": {
      "text/plain": [
       "<Figure size 640x480 with 1 Axes>"
      ],
      "image/png": "[encoded data removed]"
     },
     "metadata": {},
     "output_type": "display_data"
    }
   ],
   "execution_count": 30
  },
  {
   "metadata": {},
   "cell_type": "markdown",
   "source": "準確度",
   "id": "432e34e37cedf37e"
  },
  {
   "metadata": {
    "ExecuteTime": {
     "end_time": "2024-09-10T16:55:59.086583Z",
     "start_time": "2024-09-10T16:55:59.074585Z"
    }
   },
   "cell_type": "code",
   "source": [
    "print(f\"資料: {mfcc_list_scaled.shape}\")\n",
    "print(f\"最高準確率: {max(val_accuracies)}\")"
   ],
   "id": "546b2de91c166fac",
   "outputs": [
    {
     "name": "stdout",
     "output_type": "stream",
     "text": [
      "資料: (32103, 13, 44)\n",
      "最高準確率: 0.4299953281879425\n"
     ]
    }
   ],
   "execution_count": 31
  },
  {
   "metadata": {
    "ExecuteTime": {
     "end_time": "2024-09-10T16:55:59.241890Z",
     "start_time": "2024-09-10T16:55:59.165586Z"
    }
   },
   "cell_type": "code",
   "source": "model.save(f\"{os.getcwd()}\\\\cnn_model.h5\")",
   "id": "e829f440a574764",
   "outputs": [],
   "execution_count": 32
  },
  {
   "metadata": {},
   "cell_type": "markdown",
   "source": "",
   "id": "c244861e383e27e4"
  }
 ],
 "metadata": {
  "kernelspec": {
   "display_name": "Python 3",
   "language": "python",
   "name": "python3"
  },
  "language_info": {
   "codemirror_mode": {
    "name": "ipython",
    "version": 2
   },
   "file_extension": ".py",
   "mimetype": "text/x-python",
   "name": "python",
   "nbconvert_exporter": "python",
   "pygments_lexer": "ipython2",
   "version": "2.7.6"
  }
 },
 "nbformat": 4,
 "nbformat_minor": 5
}
