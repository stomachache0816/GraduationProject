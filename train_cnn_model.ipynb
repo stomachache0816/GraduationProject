{
 "cells": [
  {
   "cell_type": "code",
   "id": "initial_id",
   "metadata": {
    "collapsed": true,
    "ExecuteTime": {
     "end_time": "2024-09-09T18:38:31.171662Z",
     "start_time": "2024-09-09T18:38:31.163152Z"
    }
   },
   "source": [
    "import platform\n",
    "print(f\"platform.python_version(): {platform.python_version()}\")\n",
    "\n",
    "import os\n",
    "import scipy\n",
    "import numpy as np\n",
    "from glob import glob\n",
    "from tqdm import tqdm\n",
    "\n",
    "from sklearn.preprocessing import StandardScaler\n",
    "from sklearn.model_selection import train_test_split\n",
    "\n",
    "print(np.__version__)\n",
    "\n",
    "import tensorflow as tf\n",
    "from tensorflow import keras\n",
    "from keras import Sequential\n",
    "from keras.utils import to_categorical\n",
    "from keras.layers import Dense, Flatten, Conv2D, MaxPooling2D, BatchNormalization, Activation\n",
    "\n",
    "import matplotlib.pyplot as plt\n",
    "\n",
    "# 在windows用gpu跑tensorflow 最多只支持到2.10.1並且conda沒有2.10.1 只能用pip\n",
    "# numpy和scipy也要配合安裝下列版本\n",
    "# pip install tensorflow==2.10.1\n",
    "# pip install numpy==1.20\n",
    "# pip install scipy==1.7.3\n",
    "print(f\"np.version.version: {np.version.version}\")\n",
    "print(f\"scipy.__version__: {scipy.__version__}\")\n",
    "print(f\"tf.__version__: {tf.__version__}\")\n",
    "# 確認GPU是否可用\n",
    "gpus = tf.config.experimental.list_physical_devices('GPU')\n",
    "print(f\"tf.config.list_physical_devices('GPU'): {tf.config.list_physical_devices('GPU')}\")"
   ],
   "outputs": [
    {
     "name": "stdout",
     "output_type": "stream",
     "text": [
      "platform.python_version(): 3.9.13\n",
      "1.22.4\n",
      "np.version.version: 1.22.4\n",
      "scipy.__version__: 1.7.3\n",
      "tf.__version__: 2.10.1\n",
      "tf.config.list_physical_devices('GPU'): [PhysicalDevice(name='/physical_device:GPU:0', device_type='GPU')]\n"
     ]
    }
   ],
   "execution_count": 2
  },
  {
   "metadata": {},
   "cell_type": "markdown",
   "source": "取得訓練資料npy檔路徑放入 'npy_file_list'",
   "id": "f6b667196b81feb6"
  },
  {
   "metadata": {
    "ExecuteTime": {
     "end_time": "2024-09-09T18:38:31.340472Z",
     "start_time": "2024-09-09T18:38:31.268062Z"
    }
   },
   "cell_type": "code",
   "source": [
    "npy_file_list = glob(f\"{os.getcwd()}\\\\mfcc\\\\*.npy\")\n",
    "print(f\"type(npy_file_list): {type(npy_file_list)}\")\n",
    "print(f\"len(npy_file_list): {len(npy_file_list)}\")\n",
    "# npy_file_list"
   ],
   "id": "f08d72fd52262764",
   "outputs": [
    {
     "name": "stdout",
     "output_type": "stream",
     "text": [
      "type(npy_file_list): <class 'list'>\n",
      "len(npy_file_list): 25523\n"
     ]
    }
   ],
   "execution_count": 3
  },
  {
   "metadata": {},
   "cell_type": "markdown",
   "source": "將 'npy_file_list' 內所有npy檔轉成陣列並放入 'mfcc_list'",
   "id": "3e042d3649311523"
  },
  {
   "metadata": {
    "ExecuteTime": {
     "end_time": "2024-09-09T18:40:04.173664Z",
     "start_time": "2024-09-09T18:38:31.450647Z"
    }
   },
   "cell_type": "code",
   "source": [
    "mfcc_list = []\n",
    "\n",
    "for npy_file in tqdm(npy_file_list):\n",
    "    mfcc = np.load(file=npy_file)\n",
    "    mfcc_list.append(mfcc)\n",
    "\n",
    "# 將list()轉換成np.array()\n",
    "mfcc_list = np.array(mfcc_list)\n",
    "print(f\"type(mfcc_list): {type(mfcc_list)}\")\n",
    "print(f\"mfcc_list.shape: {mfcc_list.shape}\")\n",
    "\n",
    "# 不要印出 ipynb會爆炸\n",
    "# mfcc_list"
   ],
   "id": "52f86134d8030a75",
   "outputs": [
    {
     "name": "stderr",
     "output_type": "stream",
     "text": [
      "100%|██████████| 25523/25523 [01:32<00:00, 275.38it/s]"
     ]
    },
    {
     "name": "stdout",
     "output_type": "stream",
     "text": [
      "type(mfcc_list): <class 'numpy.ndarray'>\n",
      "mfcc_list.shape: (25523, 13, 44)\n"
     ]
    },
    {
     "name": "stderr",
     "output_type": "stream",
     "text": [
      "\n"
     ]
    }
   ],
   "execution_count": 4
  },
  {
   "metadata": {},
   "cell_type": "markdown",
   "source": "mfcc資料集標準化",
   "id": "ed9c817786704b44"
  },
  {
   "metadata": {
    "ExecuteTime": {
     "end_time": "2024-09-09T18:40:05.328281Z",
     "start_time": "2024-09-09T18:40:04.344316Z"
    }
   },
   "cell_type": "code",
   "source": [
    "scaler = StandardScaler()\n",
    "# 因為標準器只能fit 2維的資料所以要將3維的mfcc資料集reshape成2維\n",
    "# mfcc_data_nums: k\n",
    "# mfcc_row: n\n",
    "# mfcc_column: m\n",
    "# (k, n, m) => (k * n, m)\n",
    "scaler.fit(mfcc_list.reshape((mfcc_list.shape[0] * mfcc_list.shape[1], mfcc_list.shape[2])))\n",
    "\n",
    "mfcc_list_scaled = []\n",
    "for mfcc in mfcc_list:\n",
    "    mfcc_list_scaled.append(scaler.transform(mfcc))\n",
    "\n",
    "# 將list()轉換成np.array()\n",
    "mfcc_list_scaled = np.array(mfcc_list_scaled)\n",
    "\n",
    "print(f\"type(mfcc_list_scaled): {type(mfcc_list_scaled)}\")\n",
    "print(f\"mfcc_list_scaled.shape: {mfcc_list_scaled.shape}\")\n",
    "\n",
    "# 不要印出 ipynb會爆炸\n",
    "# mfcc_scaled"
   ],
   "id": "436d88e3bc310614",
   "outputs": [
    {
     "name": "stdout",
     "output_type": "stream",
     "text": [
      "type(mfcc_list_scaled): <class 'numpy.ndarray'>\n",
      "mfcc_list_scaled.shape: (25523, 13, 44)\n"
     ]
    }
   ],
   "execution_count": 5
  },
  {
   "metadata": {},
   "cell_type": "markdown",
   "source": "讀取 'npy_file_list' 中所有資料檔名的拼音標籤",
   "id": "41eac106b5d7c567"
  },
  {
   "metadata": {
    "ExecuteTime": {
     "end_time": "2024-09-09T18:40:05.358543Z",
     "start_time": "2024-09-09T18:40:05.336522Z"
    }
   },
   "cell_type": "code",
   "source": [
    "label_pinyin_list = []\n",
    "\n",
    "for npy_file in npy_file_list:\n",
    "    label_pinyin = npy_file[npy_file.find(\"_\") + 1:npy_file.find(\".npy\")]\n",
    "    label_pinyin_list.append(label_pinyin)\n",
    "\n",
    "# 將list()轉換成np.array()\n",
    "label_pinyin_list = np.array(label_pinyin_list)\n",
    "\n",
    "print(f\"type(label_pinyin_list): {type(label_pinyin_list)}\")\n",
    "print(f\"label_pinyin_list.shape: {label_pinyin_list.shape}\")\n",
    "# label_pinyin_list"
   ],
   "id": "f6309e00816fb9d1",
   "outputs": [
    {
     "name": "stdout",
     "output_type": "stream",
     "text": [
      "type(label_pinyin_list): <class 'numpy.ndarray'>\n",
      "label_pinyin_list.shape: (25523,)\n"
     ]
    }
   ],
   "execution_count": 6
  },
  {
   "metadata": {},
   "cell_type": "markdown",
   "source": "dictionary 標籤轉換器<br>key => pinyin<br>value => int<br>(0 <= int <= 1466)",
   "id": "50a2afbe9c6cf5"
  },
  {
   "metadata": {
    "ExecuteTime": {
     "end_time": "2024-09-09T18:40:05.388717Z",
     "start_time": "2024-09-09T18:40:05.374210Z"
    }
   },
   "cell_type": "code",
   "source": [
    "sample_list = glob(f\"{os.getcwd()}\\\\samplePinyin\\\\Male\\\\*.wav\")\n",
    "\n",
    "label_dic: dict = {}\n",
    "for i in range(len(sample_list)):\n",
    "    label = sample_list[i][sample_list[i].find(\"_\") + 1:sample_list[i].find(\".wav\")]\n",
    "    label_dic[label] = i\n",
    "\n",
    "print(f\"type(label_dic): {type(label_dic)}\")\n",
    "print(f\"len(label_dic): {len(label_dic)}\")\n",
    "# label_dic"
   ],
   "id": "d5c83d64905fd11",
   "outputs": [
    {
     "name": "stdout",
     "output_type": "stream",
     "text": [
      "type(label_dic): <class 'dict'>\n",
      "len(label_dic): 1467\n"
     ]
    }
   ],
   "execution_count": 7
  },
  {
   "metadata": {},
   "cell_type": "markdown",
   "source": "將 'label_pinyin_list' 裡的拼音標籤轉換成數字標籤放入 'label_int_list'",
   "id": "b555a33efebfffbe"
  },
  {
   "metadata": {
    "ExecuteTime": {
     "end_time": "2024-09-09T18:40:05.435393Z",
     "start_time": "2024-09-09T18:40:05.406285Z"
    }
   },
   "cell_type": "code",
   "source": [
    "label_int_list = []\n",
    "for label_pinyin in label_pinyin_list:\n",
    "    label_int = label_dic[label_pinyin]\n",
    "    label_int_list.append(label_int)\n",
    "\n",
    "label_int_list = np.array(label_int_list)\n",
    "print(f\"label_int_list.shape => {label_int_list.shape}\")\n",
    "# label_int_list"
   ],
   "id": "8cea599705f23af2",
   "outputs": [
    {
     "name": "stdout",
     "output_type": "stream",
     "text": [
      "label_int_list.shape => (25523,)\n"
     ]
    }
   ],
   "execution_count": 8
  },
  {
   "metadata": {},
   "cell_type": "markdown",
   "source": "定義CNN模型",
   "id": "cb5693b89a563ca4"
  },
  {
   "metadata": {
    "ExecuteTime": {
     "end_time": "2024-09-09T18:40:05.466080Z",
     "start_time": "2024-09-09T18:40:05.451540Z"
    }
   },
   "cell_type": "code",
   "source": [
    "def get_cnn_model(input_shape, num_classes, learning_rate=0.001, num_filters=32, dense_units=256):\n",
    "    cnn_model = Sequential()\n",
    "\n",
    "    # 第一層捲積層\n",
    "    cnn_model.add(Conv2D(num_filters, kernel_size=(3, 3), padding='same', input_shape=input_shape))\n",
    "    cnn_model.add(BatchNormalization())\n",
    "    cnn_model.add(Activation('relu'))\n",
    "    cnn_model.add(Conv2D(num_filters, kernel_size=(3, 3), padding='same'))\n",
    "    cnn_model.add(BatchNormalization())\n",
    "    cnn_model.add(Activation('relu'))\n",
    "    cnn_model.add(MaxPooling2D(pool_size=(2, 2)))\n",
    "    \n",
    "    # 第二層捲積層\n",
    "    cnn_model.add(Conv2D(num_filters * 2, kernel_size=(3, 3), padding='same'))\n",
    "    cnn_model.add(BatchNormalization())\n",
    "    cnn_model.add(Activation('relu'))\n",
    "    cnn_model.add(Conv2D(num_filters * 2, kernel_size=(3, 3), padding='same'))\n",
    "    cnn_model.add(BatchNormalization())\n",
    "    cnn_model.add(Activation('relu'))\n",
    "    cnn_model.add(MaxPooling2D(pool_size=(2, 2)))\n",
    "    \n",
    "    # 第三層捲積層\n",
    "    cnn_model.add(Conv2D(num_filters * 4, kernel_size=(3, 3), padding='same'))\n",
    "    cnn_model.add(BatchNormalization())\n",
    "    cnn_model.add(Activation('relu'))\n",
    "    cnn_model.add(Conv2D(num_filters * 4, kernel_size=(3, 3), padding='same'))\n",
    "    cnn_model.add(BatchNormalization())\n",
    "    cnn_model.add(Activation('relu'))\n",
    "    cnn_model.add(MaxPooling2D(pool_size=(2, 2)))\n",
    "    \n",
    "    # 展平\n",
    "    cnn_model.add(Flatten())\n",
    "    \n",
    "    # 第一層全連接層\n",
    "    cnn_model.add(Dense(dense_units))\n",
    "    cnn_model.add(BatchNormalization())\n",
    "    cnn_model.add(Activation('relu'))\n",
    "    \n",
    "    # 第二層全連接層\n",
    "    cnn_model.add(Dense(dense_units * 2))\n",
    "    cnn_model.add(BatchNormalization())\n",
    "    cnn_model.add(Activation('relu'))\n",
    "    \n",
    "    # 第三層全連接層(長度同為1467個label)\n",
    "    cnn_model.add(Dense(num_classes))\n",
    "    \n",
    "    # 表示為機率\n",
    "    cnn_model.add(Activation('softmax'))\n",
    "\n",
    "    cnn_model.compile(\n",
    "        loss=keras.losses.categorical_crossentropy,\n",
    "        optimizer=keras.optimizers.Adam(learning_rate=learning_rate),\n",
    "        metrics=['accuracy']\n",
    "    )\n",
    "\n",
    "    return cnn_model"
   ],
   "id": "88a18e515cf2b07",
   "outputs": [],
   "execution_count": 9
  },
  {
   "metadata": {},
   "cell_type": "markdown",
   "source": "參數設定",
   "id": "b19178096bf426da"
  },
  {
   "metadata": {
    "ExecuteTime": {
     "end_time": "2024-09-09T18:40:05.496240Z",
     "start_time": "2024-09-09T18:40:05.482731Z"
    }
   },
   "cell_type": "code",
   "source": [
    "channel = 1\n",
    "verbose = 2\n",
    "epochs = 100\n",
    "batch_size = 32\n",
    "num_classes = len(label_dic)\n",
    "test_size = 0.2\n",
    "mfcc_dim_1 = mfcc_list.shape[1]\n",
    "mfcc_dim_2 = mfcc_list.shape[2]\n",
    "print(f\"mfcc_dim_1: {mfcc_dim_1}\")\n",
    "print(f\"mfcc_dim_2: {mfcc_dim_2}\")"
   ],
   "id": "6264440e9e879735",
   "outputs": [
    {
     "name": "stdout",
     "output_type": "stream",
     "text": [
      "mfcc_dim_1: 13\n",
      "mfcc_dim_2: 44\n"
     ]
    }
   ],
   "execution_count": 10
  },
  {
   "metadata": {},
   "cell_type": "markdown",
   "source": "資料分割",
   "id": "cf35a8440e772114"
  },
  {
   "metadata": {
    "ExecuteTime": {
     "end_time": "2024-09-09T18:40:05.681429Z",
     "start_time": "2024-09-09T18:40:05.512573Z"
    }
   },
   "cell_type": "code",
   "source": [
    "X = mfcc_list_scaled\n",
    "y = label_int_list\n",
    "\n",
    "# 將int label轉換成二進制one hot標籤\n",
    "y_one_hot = to_categorical(y, num_classes=num_classes)\n",
    "\n",
    "X_train, X_test, y_train, y_test = train_test_split(X, y_one_hot, test_size=test_size, random_state=42)\n",
    "\n",
    "X_train = X_train.reshape(X_train.shape[0], mfcc_dim_1, mfcc_dim_2, channel)\n",
    "X_test = X_test.reshape(X_test.shape[0], mfcc_dim_1, mfcc_dim_2, channel)"
   ],
   "id": "c61c0d185ac285fb",
   "outputs": [],
   "execution_count": 11
  },
  {
   "metadata": {},
   "cell_type": "markdown",
   "source": "訓練模型",
   "id": "20bee65a7670a29"
  },
  {
   "metadata": {
    "ExecuteTime": {
     "end_time": "2024-09-09T18:46:54.810787Z",
     "start_time": "2024-09-09T18:40:05.698413Z"
    }
   },
   "cell_type": "code",
   "source": [
    "model = get_cnn_model(input_shape=(mfcc_dim_1, mfcc_dim_2, channel), num_classes=num_classes)\n",
    "model_train_info = model.fit(X_train, y_train, batch_size=batch_size, epochs=epochs, verbose=verbose, validation_data=(X_test, y_test))"
   ],
   "id": "8001633fcf9a59e1",
   "outputs": [
    {
     "name": "stdout",
     "output_type": "stream",
     "text": [
      "Epoch 1/100\n",
      "639/639 - 6s - loss: 5.0474 - accuracy: 0.1244 - val_loss: 4.4451 - val_accuracy: 0.1643 - 6s/epoch - 9ms/step\n",
      "Epoch 2/100\n",
      "639/639 - 4s - loss: 3.8299 - accuracy: 0.2095 - val_loss: 4.0244 - val_accuracy: 0.2080 - 4s/epoch - 6ms/step\n",
      "Epoch 3/100\n",
      "639/639 - 4s - loss: 3.3233 - accuracy: 0.2734 - val_loss: 3.7515 - val_accuracy: 0.2333 - 4s/epoch - 6ms/step\n",
      "Epoch 4/100\n",
      "639/639 - 4s - loss: 3.0011 - accuracy: 0.3134 - val_loss: 3.2699 - val_accuracy: 0.3164 - 4s/epoch - 7ms/step\n",
      "Epoch 5/100\n",
      "639/639 - 4s - loss: 2.6975 - accuracy: 0.3530 - val_loss: 3.3109 - val_accuracy: 0.3191 - 4s/epoch - 6ms/step\n",
      "Epoch 6/100\n",
      "639/639 - 4s - loss: 2.4574 - accuracy: 0.3847 - val_loss: 3.3938 - val_accuracy: 0.2899 - 4s/epoch - 7ms/step\n",
      "Epoch 7/100\n",
      "639/639 - 4s - loss: 2.2446 - accuracy: 0.4117 - val_loss: 3.2153 - val_accuracy: 0.3381 - 4s/epoch - 6ms/step\n",
      "Epoch 8/100\n",
      "639/639 - 4s - loss: 2.0765 - accuracy: 0.4383 - val_loss: 3.3944 - val_accuracy: 0.3420 - 4s/epoch - 7ms/step\n",
      "Epoch 9/100\n",
      "639/639 - 4s - loss: 1.9591 - accuracy: 0.4571 - val_loss: 3.4121 - val_accuracy: 0.3440 - 4s/epoch - 7ms/step\n",
      "Epoch 10/100\n",
      "639/639 - 4s - loss: 1.7351 - accuracy: 0.5014 - val_loss: 3.2330 - val_accuracy: 0.3710 - 4s/epoch - 6ms/step\n",
      "Epoch 11/100\n",
      "639/639 - 4s - loss: 1.5940 - accuracy: 0.5311 - val_loss: 3.6805 - val_accuracy: 0.3538 - 4s/epoch - 6ms/step\n",
      "Epoch 12/100\n",
      "639/639 - 4s - loss: 1.6788 - accuracy: 0.5104 - val_loss: 3.4282 - val_accuracy: 0.3681 - 4s/epoch - 6ms/step\n",
      "Epoch 13/100\n",
      "639/639 - 4s - loss: 1.4522 - accuracy: 0.5632 - val_loss: 3.3047 - val_accuracy: 0.3845 - 4s/epoch - 7ms/step\n",
      "Epoch 14/100\n",
      "639/639 - 4s - loss: 1.2044 - accuracy: 0.6270 - val_loss: 3.5347 - val_accuracy: 0.3816 - 4s/epoch - 7ms/step\n",
      "Epoch 15/100\n",
      "639/639 - 4s - loss: 1.1901 - accuracy: 0.6281 - val_loss: 3.4002 - val_accuracy: 0.3861 - 4s/epoch - 7ms/step\n",
      "Epoch 16/100\n",
      "639/639 - 4s - loss: 1.1695 - accuracy: 0.6338 - val_loss: 3.4096 - val_accuracy: 0.4002 - 4s/epoch - 7ms/step\n",
      "Epoch 17/100\n",
      "639/639 - 4s - loss: 0.9845 - accuracy: 0.6869 - val_loss: 3.7336 - val_accuracy: 0.3677 - 4s/epoch - 7ms/step\n",
      "Epoch 18/100\n",
      "639/639 - 4s - loss: 1.3256 - accuracy: 0.5909 - val_loss: 3.6536 - val_accuracy: 0.3845 - 4s/epoch - 7ms/step\n",
      "Epoch 19/100\n",
      "639/639 - 4s - loss: 1.0635 - accuracy: 0.6594 - val_loss: 3.4491 - val_accuracy: 0.4118 - 4s/epoch - 7ms/step\n",
      "Epoch 20/100\n",
      "639/639 - 4s - loss: 0.8320 - accuracy: 0.7321 - val_loss: 3.8808 - val_accuracy: 0.3890 - 4s/epoch - 6ms/step\n",
      "Epoch 21/100\n",
      "639/639 - 4s - loss: 1.0395 - accuracy: 0.6646 - val_loss: 3.8712 - val_accuracy: 0.3847 - 4s/epoch - 6ms/step\n",
      "Epoch 22/100\n",
      "639/639 - 4s - loss: 0.7875 - accuracy: 0.7456 - val_loss: 4.0157 - val_accuracy: 0.3906 - 4s/epoch - 7ms/step\n",
      "Epoch 23/100\n",
      "639/639 - 4s - loss: 0.8678 - accuracy: 0.7171 - val_loss: 3.9742 - val_accuracy: 0.3914 - 4s/epoch - 6ms/step\n",
      "Epoch 24/100\n",
      "639/639 - 4s - loss: 0.8185 - accuracy: 0.7329 - val_loss: 3.8192 - val_accuracy: 0.4065 - 4s/epoch - 6ms/step\n",
      "Epoch 25/100\n",
      "639/639 - 4s - loss: 0.6710 - accuracy: 0.7823 - val_loss: 4.3384 - val_accuracy: 0.3863 - 4s/epoch - 7ms/step\n",
      "Epoch 26/100\n",
      "639/639 - 4s - loss: 0.9229 - accuracy: 0.7027 - val_loss: 4.1228 - val_accuracy: 0.4110 - 4s/epoch - 7ms/step\n",
      "Epoch 27/100\n",
      "639/639 - 4s - loss: 0.8324 - accuracy: 0.7278 - val_loss: 4.2087 - val_accuracy: 0.3818 - 4s/epoch - 7ms/step\n",
      "Epoch 28/100\n",
      "639/639 - 4s - loss: 0.8002 - accuracy: 0.7418 - val_loss: 4.0121 - val_accuracy: 0.4102 - 4s/epoch - 6ms/step\n",
      "Epoch 29/100\n",
      "639/639 - 4s - loss: 0.5914 - accuracy: 0.8047 - val_loss: 4.4544 - val_accuracy: 0.3926 - 4s/epoch - 6ms/step\n",
      "Epoch 30/100\n",
      "639/639 - 4s - loss: 0.9047 - accuracy: 0.7069 - val_loss: 3.9460 - val_accuracy: 0.3953 - 4s/epoch - 6ms/step\n",
      "Epoch 31/100\n",
      "639/639 - 4s - loss: 0.6664 - accuracy: 0.7805 - val_loss: 4.0045 - val_accuracy: 0.4059 - 4s/epoch - 7ms/step\n",
      "Epoch 32/100\n",
      "639/639 - 4s - loss: 0.5332 - accuracy: 0.8232 - val_loss: 4.1016 - val_accuracy: 0.3920 - 4s/epoch - 7ms/step\n",
      "Epoch 33/100\n",
      "639/639 - 4s - loss: 0.5857 - accuracy: 0.8037 - val_loss: 4.2469 - val_accuracy: 0.3986 - 4s/epoch - 6ms/step\n",
      "Epoch 34/100\n",
      "639/639 - 4s - loss: 0.6752 - accuracy: 0.7793 - val_loss: 4.3279 - val_accuracy: 0.4123 - 4s/epoch - 6ms/step\n",
      "Epoch 35/100\n",
      "639/639 - 4s - loss: 0.4479 - accuracy: 0.8500 - val_loss: 4.2758 - val_accuracy: 0.3939 - 4s/epoch - 6ms/step\n",
      "Epoch 36/100\n",
      "639/639 - 4s - loss: 0.6317 - accuracy: 0.7867 - val_loss: 4.6157 - val_accuracy: 0.3689 - 4s/epoch - 6ms/step\n",
      "Epoch 37/100\n",
      "639/639 - 4s - loss: 0.8201 - accuracy: 0.7400 - val_loss: 4.2994 - val_accuracy: 0.4112 - 4s/epoch - 6ms/step\n",
      "Epoch 38/100\n",
      "639/639 - 4s - loss: 0.5382 - accuracy: 0.8232 - val_loss: 4.1679 - val_accuracy: 0.4163 - 4s/epoch - 6ms/step\n",
      "Epoch 39/100\n",
      "639/639 - 4s - loss: 0.5268 - accuracy: 0.8235 - val_loss: 4.2483 - val_accuracy: 0.4180 - 4s/epoch - 6ms/step\n",
      "Epoch 40/100\n",
      "639/639 - 4s - loss: 0.4105 - accuracy: 0.8617 - val_loss: 4.3255 - val_accuracy: 0.4024 - 4s/epoch - 6ms/step\n",
      "Epoch 41/100\n",
      "639/639 - 4s - loss: 0.4689 - accuracy: 0.8447 - val_loss: 4.3651 - val_accuracy: 0.4137 - 4s/epoch - 6ms/step\n",
      "Epoch 42/100\n",
      "639/639 - 4s - loss: 0.3991 - accuracy: 0.8640 - val_loss: 4.4259 - val_accuracy: 0.4082 - 4s/epoch - 7ms/step\n",
      "Epoch 43/100\n",
      "639/639 - 4s - loss: 0.3314 - accuracy: 0.8894 - val_loss: 4.5110 - val_accuracy: 0.3971 - 4s/epoch - 7ms/step\n",
      "Epoch 44/100\n",
      "639/639 - 4s - loss: 0.5687 - accuracy: 0.8134 - val_loss: 4.7903 - val_accuracy: 0.3988 - 4s/epoch - 7ms/step\n",
      "Epoch 45/100\n",
      "639/639 - 4s - loss: 0.6439 - accuracy: 0.7892 - val_loss: 4.5553 - val_accuracy: 0.4024 - 4s/epoch - 7ms/step\n",
      "Epoch 46/100\n",
      "639/639 - 4s - loss: 0.5608 - accuracy: 0.8136 - val_loss: 4.4621 - val_accuracy: 0.4118 - 4s/epoch - 6ms/step\n",
      "Epoch 47/100\n",
      "639/639 - 4s - loss: 0.3652 - accuracy: 0.8766 - val_loss: 4.4862 - val_accuracy: 0.4141 - 4s/epoch - 6ms/step\n",
      "Epoch 48/100\n",
      "639/639 - 4s - loss: 0.3341 - accuracy: 0.8872 - val_loss: 4.8229 - val_accuracy: 0.3967 - 4s/epoch - 6ms/step\n",
      "Epoch 49/100\n",
      "639/639 - 4s - loss: 0.6399 - accuracy: 0.7904 - val_loss: 4.5725 - val_accuracy: 0.3894 - 4s/epoch - 6ms/step\n",
      "Epoch 50/100\n",
      "639/639 - 4s - loss: 0.4564 - accuracy: 0.8468 - val_loss: 4.7387 - val_accuracy: 0.3980 - 4s/epoch - 6ms/step\n",
      "Epoch 51/100\n",
      "639/639 - 4s - loss: 0.7141 - accuracy: 0.7711 - val_loss: 4.5545 - val_accuracy: 0.4024 - 4s/epoch - 6ms/step\n",
      "Epoch 52/100\n",
      "639/639 - 4s - loss: 0.4387 - accuracy: 0.8511 - val_loss: 4.6512 - val_accuracy: 0.4069 - 4s/epoch - 6ms/step\n",
      "Epoch 53/100\n",
      "639/639 - 4s - loss: 0.3702 - accuracy: 0.8741 - val_loss: 4.7355 - val_accuracy: 0.4053 - 4s/epoch - 6ms/step\n",
      "Epoch 54/100\n",
      "639/639 - 4s - loss: 0.4047 - accuracy: 0.8624 - val_loss: 5.0229 - val_accuracy: 0.3914 - 4s/epoch - 6ms/step\n",
      "Epoch 55/100\n",
      "639/639 - 4s - loss: 0.6731 - accuracy: 0.7851 - val_loss: 4.6818 - val_accuracy: 0.3986 - 4s/epoch - 6ms/step\n",
      "Epoch 56/100\n",
      "639/639 - 4s - loss: 0.6931 - accuracy: 0.7779 - val_loss: 4.6394 - val_accuracy: 0.4072 - 4s/epoch - 6ms/step\n",
      "Epoch 57/100\n",
      "639/639 - 4s - loss: 0.4247 - accuracy: 0.8558 - val_loss: 4.7611 - val_accuracy: 0.3896 - 4s/epoch - 7ms/step\n",
      "Epoch 58/100\n",
      "639/639 - 4s - loss: 0.8073 - accuracy: 0.7466 - val_loss: 4.8601 - val_accuracy: 0.4002 - 4s/epoch - 7ms/step\n",
      "Epoch 59/100\n",
      "639/639 - 4s - loss: 0.5322 - accuracy: 0.8213 - val_loss: 4.6560 - val_accuracy: 0.4114 - 4s/epoch - 6ms/step\n",
      "Epoch 60/100\n",
      "639/639 - 4s - loss: 0.3504 - accuracy: 0.8827 - val_loss: 4.6895 - val_accuracy: 0.4188 - 4s/epoch - 6ms/step\n",
      "Epoch 61/100\n",
      "639/639 - 4s - loss: 0.3053 - accuracy: 0.8982 - val_loss: 4.8136 - val_accuracy: 0.4051 - 4s/epoch - 7ms/step\n",
      "Epoch 62/100\n",
      "639/639 - 4s - loss: 0.4904 - accuracy: 0.8373 - val_loss: 4.7490 - val_accuracy: 0.4078 - 4s/epoch - 7ms/step\n",
      "Epoch 63/100\n",
      "639/639 - 4s - loss: 0.2737 - accuracy: 0.9084 - val_loss: 4.7848 - val_accuracy: 0.4131 - 4s/epoch - 6ms/step\n",
      "Epoch 64/100\n",
      "639/639 - 4s - loss: 0.2692 - accuracy: 0.9089 - val_loss: 4.9386 - val_accuracy: 0.4092 - 4s/epoch - 7ms/step\n",
      "Epoch 65/100\n",
      "639/639 - 4s - loss: 0.2578 - accuracy: 0.9113 - val_loss: 5.1467 - val_accuracy: 0.4074 - 4s/epoch - 7ms/step\n",
      "Epoch 66/100\n",
      "639/639 - 4s - loss: 0.2462 - accuracy: 0.9164 - val_loss: 5.2174 - val_accuracy: 0.3890 - 4s/epoch - 6ms/step\n",
      "Epoch 67/100\n",
      "639/639 - 4s - loss: 0.4058 - accuracy: 0.8660 - val_loss: 5.0105 - val_accuracy: 0.4071 - 4s/epoch - 6ms/step\n",
      "Epoch 68/100\n",
      "639/639 - 4s - loss: 0.5561 - accuracy: 0.8218 - val_loss: 4.9709 - val_accuracy: 0.4088 - 4s/epoch - 6ms/step\n",
      "Epoch 69/100\n",
      "639/639 - 4s - loss: 0.2470 - accuracy: 0.9177 - val_loss: 5.1379 - val_accuracy: 0.4129 - 4s/epoch - 7ms/step\n",
      "Epoch 70/100\n",
      "639/639 - 4s - loss: 0.5406 - accuracy: 0.8295 - val_loss: 4.9418 - val_accuracy: 0.3994 - 4s/epoch - 6ms/step\n",
      "Epoch 71/100\n",
      "639/639 - 4s - loss: 0.4718 - accuracy: 0.8439 - val_loss: 4.9312 - val_accuracy: 0.3984 - 4s/epoch - 6ms/step\n",
      "Epoch 72/100\n",
      "639/639 - 4s - loss: 0.2415 - accuracy: 0.9198 - val_loss: 4.9256 - val_accuracy: 0.4125 - 4s/epoch - 6ms/step\n",
      "Epoch 73/100\n",
      "639/639 - 4s - loss: 0.2759 - accuracy: 0.9075 - val_loss: 4.9611 - val_accuracy: 0.4172 - 4s/epoch - 6ms/step\n",
      "Epoch 74/100\n",
      "639/639 - 4s - loss: 0.1988 - accuracy: 0.9358 - val_loss: 5.2418 - val_accuracy: 0.4102 - 4s/epoch - 6ms/step\n",
      "Epoch 75/100\n",
      "639/639 - 4s - loss: 0.6255 - accuracy: 0.8072 - val_loss: 4.9685 - val_accuracy: 0.4039 - 4s/epoch - 6ms/step\n",
      "Epoch 76/100\n",
      "639/639 - 4s - loss: 0.2544 - accuracy: 0.9125 - val_loss: 5.0784 - val_accuracy: 0.4141 - 4s/epoch - 6ms/step\n",
      "Epoch 77/100\n",
      "639/639 - 4s - loss: 0.4237 - accuracy: 0.8597 - val_loss: 5.1045 - val_accuracy: 0.4033 - 4s/epoch - 7ms/step\n",
      "Epoch 78/100\n",
      "639/639 - 4s - loss: 0.3522 - accuracy: 0.8787 - val_loss: 5.2109 - val_accuracy: 0.3967 - 4s/epoch - 6ms/step\n",
      "Epoch 79/100\n",
      "639/639 - 4s - loss: 0.3644 - accuracy: 0.8820 - val_loss: 5.0638 - val_accuracy: 0.4121 - 4s/epoch - 6ms/step\n",
      "Epoch 80/100\n",
      "639/639 - 4s - loss: 0.2195 - accuracy: 0.9257 - val_loss: 5.3437 - val_accuracy: 0.3884 - 4s/epoch - 6ms/step\n",
      "Epoch 81/100\n",
      "639/639 - 4s - loss: 0.7012 - accuracy: 0.7889 - val_loss: 5.1064 - val_accuracy: 0.3998 - 4s/epoch - 6ms/step\n",
      "Epoch 82/100\n",
      "639/639 - 4s - loss: 0.3480 - accuracy: 0.8807 - val_loss: 5.1318 - val_accuracy: 0.4055 - 4s/epoch - 6ms/step\n",
      "Epoch 83/100\n",
      "639/639 - 4s - loss: 0.2146 - accuracy: 0.9255 - val_loss: 5.1803 - val_accuracy: 0.3959 - 4s/epoch - 6ms/step\n",
      "Epoch 84/100\n",
      "639/639 - 4s - loss: 0.4617 - accuracy: 0.8501 - val_loss: 5.2463 - val_accuracy: 0.4051 - 4s/epoch - 6ms/step\n",
      "Epoch 85/100\n",
      "639/639 - 4s - loss: 0.3212 - accuracy: 0.8918 - val_loss: 5.2934 - val_accuracy: 0.4063 - 4s/epoch - 6ms/step\n",
      "Epoch 86/100\n",
      "639/639 - 4s - loss: 0.2087 - accuracy: 0.9282 - val_loss: 5.4004 - val_accuracy: 0.4108 - 4s/epoch - 6ms/step\n",
      "Epoch 87/100\n",
      "639/639 - 4s - loss: 0.1778 - accuracy: 0.9413 - val_loss: 5.6094 - val_accuracy: 0.4071 - 4s/epoch - 6ms/step\n",
      "Epoch 88/100\n",
      "639/639 - 4s - loss: 0.2279 - accuracy: 0.9223 - val_loss: 5.6144 - val_accuracy: 0.4082 - 4s/epoch - 6ms/step\n",
      "Epoch 89/100\n",
      "639/639 - 4s - loss: 0.2661 - accuracy: 0.9102 - val_loss: 5.7849 - val_accuracy: 0.4072 - 4s/epoch - 6ms/step\n",
      "Epoch 90/100\n",
      "639/639 - 4s - loss: 0.4323 - accuracy: 0.8624 - val_loss: 5.7273 - val_accuracy: 0.3841 - 4s/epoch - 6ms/step\n",
      "Epoch 91/100\n",
      "639/639 - 4s - loss: 0.4674 - accuracy: 0.8495 - val_loss: 5.5731 - val_accuracy: 0.4041 - 4s/epoch - 7ms/step\n",
      "Epoch 92/100\n",
      "639/639 - 4s - loss: 0.2223 - accuracy: 0.9240 - val_loss: 5.5230 - val_accuracy: 0.4090 - 4s/epoch - 6ms/step\n",
      "Epoch 93/100\n",
      "639/639 - 4s - loss: 0.1763 - accuracy: 0.9410 - val_loss: 5.5866 - val_accuracy: 0.4059 - 4s/epoch - 6ms/step\n",
      "Epoch 94/100\n",
      "639/639 - 4s - loss: 0.2579 - accuracy: 0.9150 - val_loss: 5.4254 - val_accuracy: 0.4033 - 4s/epoch - 6ms/step\n",
      "Epoch 95/100\n",
      "639/639 - 4s - loss: 0.1650 - accuracy: 0.9445 - val_loss: 5.6413 - val_accuracy: 0.3955 - 4s/epoch - 6ms/step\n",
      "Epoch 96/100\n",
      "639/639 - 4s - loss: 0.3729 - accuracy: 0.8770 - val_loss: 5.6114 - val_accuracy: 0.4027 - 4s/epoch - 6ms/step\n",
      "Epoch 97/100\n",
      "639/639 - 4s - loss: 0.3119 - accuracy: 0.8965 - val_loss: 5.7280 - val_accuracy: 0.4012 - 4s/epoch - 6ms/step\n",
      "Epoch 98/100\n",
      "639/639 - 4s - loss: 0.7628 - accuracy: 0.7729 - val_loss: 5.3621 - val_accuracy: 0.4000 - 4s/epoch - 6ms/step\n",
      "Epoch 99/100\n",
      "639/639 - 4s - loss: 0.4127 - accuracy: 0.8598 - val_loss: 5.4827 - val_accuracy: 0.3980 - 4s/epoch - 7ms/step\n",
      "Epoch 100/100\n",
      "639/639 - 4s - loss: 0.3106 - accuracy: 0.8944 - val_loss: 5.4392 - val_accuracy: 0.4078 - 4s/epoch - 7ms/step\n"
     ]
    }
   ],
   "execution_count": 12
  },
  {
   "metadata": {
    "ExecuteTime": {
     "end_time": "2024-09-09T18:46:55.106801Z",
     "start_time": "2024-09-09T18:46:54.967858Z"
    }
   },
   "cell_type": "code",
   "source": [
    "accuracies = model_train_info.history['accuracy']\n",
    "val_accuracies = model_train_info.history['val_accuracy']\n",
    "\n",
    "plt.plot(list(range(epochs)), accuracies, label = 'accuracy')\n",
    "plt.plot(list(range(epochs)), val_accuracies, label = 'val_accuracy')\n",
    "plt.legend()\n",
    "plt.grid()\n",
    "plt.xticks(ticks = list(range(1, epochs + 1))) \n",
    "plt.xlabel('Epoch')\n",
    "plt.ylabel('Accuracy')\n",
    "plt.xticks(ticks=list(range(0, epochs + 1, 10)))\n",
    "plt.show()"
   ],
   "id": "a8b6944fb6ee6017",
   "outputs": [
    {
     "data": {
      "text/plain": [
       "<Figure size 640x480 with 1 Axes>"
      ],
      "image/png": "[encoded data removed]"
     },
     "metadata": {},
     "output_type": "display_data"
    }
   ],
   "execution_count": 13
  },
  {
   "metadata": {},
   "cell_type": "markdown",
   "source": "準確度",
   "id": "432e34e37cedf37e"
  },
  {
   "metadata": {
    "ExecuteTime": {
     "end_time": "2024-09-09T18:46:55.153910Z",
     "start_time": "2024-09-09T18:46:55.139338Z"
    }
   },
   "cell_type": "code",
   "source": [
    "print(f\"資料: {mfcc_list_scaled.shape}\")\n",
    "print(f\"最高準確率: {max(val_accuracies)}\")"
   ],
   "id": "546b2de91c166fac",
   "outputs": [
    {
     "name": "stdout",
     "output_type": "stream",
     "text": [
      "資料: (25523, 13, 44)\n",
      "最高準確率: 0.4188050925731659\n"
     ]
    }
   ],
   "execution_count": 14
  },
  {
   "metadata": {
    "ExecuteTime": {
     "end_time": "2024-09-09T18:46:55.262808Z",
     "start_time": "2024-09-09T18:46:55.187289Z"
    }
   },
   "cell_type": "code",
   "source": "model.save(f\"{os.getcwd()}\\\\cnn_model.h5\")",
   "id": "e829f440a574764",
   "outputs": [],
   "execution_count": 15
  },
  {
   "metadata": {},
   "cell_type": "markdown",
   "source": "",
   "id": "c244861e383e27e4"
  }
 ],
 "metadata": {
  "kernelspec": {
   "display_name": "Python 3",
   "language": "python",
   "name": "python3"
  },
  "language_info": {
   "codemirror_mode": {
    "name": "ipython",
    "version": 2
   },
   "file_extension": ".py",
   "mimetype": "text/x-python",
   "name": "python",
   "nbconvert_exporter": "python",
   "pygments_lexer": "ipython2",
   "version": "2.7.6"
  }
 },
 "nbformat": 4,
 "nbformat_minor": 5
}
