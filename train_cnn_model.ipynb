{
 "cells": [
  {
   "cell_type": "code",
   "id": "initial_id",
   "metadata": {
    "collapsed": true,
    "ExecuteTime": {
     "end_time": "2024-09-17T14:50:22.305262Z",
     "start_time": "2024-09-17T14:50:22.285265Z"
    }
   },
   "source": [
    "import platform\n",
    "print(f\"platform.python_version(): {platform.python_version()}\")\n",
    "\n",
    "import os\n",
    "import scipy\n",
    "import numpy as np\n",
    "from glob import glob\n",
    "from tqdm import tqdm\n",
    "import json\n",
    "\n",
    "from sklearn.preprocessing import StandardScaler\n",
    "from sklearn.model_selection import train_test_split\n",
    "\n",
    "import tensorflow as tf\n",
    "from tensorflow import keras\n",
    "from keras import Sequential\n",
    "from keras.utils import to_categorical\n",
    "from keras.layers import Dense, Flatten, Conv2D, MaxPooling2D, BatchNormalization, Activation\n",
    "\n",
    "import matplotlib.pyplot as plt\n",
    "\n",
    "# 在windows用gpu跑tensorflow 最多只支持到2.10.1並且conda沒有2.10.1 只能用pip\n",
    "# numpy和scipy也要配合安裝下列版本\n",
    "# pip install tensorflow==2.10.1\n",
    "# pip install numpy==1.22.4\n",
    "# pip install scipy==1.7.3\n",
    "print(f\"np.version.version: {np.version.version}\")\n",
    "print(f\"scipy.__version__: {scipy.__version__}\")\n",
    "print(f\"tf.__version__: {tf.__version__}\")\n",
    "# 確認GPU是否可用\n",
    "gpus = tf.config.experimental.list_physical_devices('GPU')\n",
    "print(f\"tf.config.list_physical_devices('GPU'): {tf.config.list_physical_devices('GPU')}\")"
   ],
   "outputs": [
    {
     "name": "stdout",
     "output_type": "stream",
     "text": [
      "platform.python_version(): 3.9.13\n",
      "np.version.version: 1.22.4\n",
      "scipy.__version__: 1.7.3\n",
      "tf.__version__: 2.10.1\n",
      "tf.config.list_physical_devices('GPU'): [PhysicalDevice(name='/physical_device:GPU:0', device_type='GPU')]\n"
     ]
    }
   ],
   "execution_count": 5
  },
  {
   "metadata": {},
   "cell_type": "markdown",
   "source": "取得訓練資料npy檔路徑放入 'npy_file_list'",
   "id": "f6b667196b81feb6"
  },
  {
   "metadata": {
    "ExecuteTime": {
     "end_time": "2024-09-17T14:50:22.444263Z",
     "start_time": "2024-09-17T14:50:22.320267Z"
    }
   },
   "cell_type": "code",
   "source": [
    "npy_file_list = glob(f\"{os.getcwd()}\\\\mfcc\\\\*.npy\")\n",
    "print(f\"type(npy_file_list): {type(npy_file_list)}\")\n",
    "print(f\"len(npy_file_list): {len(npy_file_list)}\")\n",
    "# npy_file_list"
   ],
   "id": "f08d72fd52262764",
   "outputs": [
    {
     "name": "stdout",
     "output_type": "stream",
     "text": [
      "type(npy_file_list): <class 'list'>\n",
      "len(npy_file_list): 37240\n"
     ]
    }
   ],
   "execution_count": 6
  },
  {
   "metadata": {},
   "cell_type": "markdown",
   "source": "將 'npy_file_list' 內所有npy檔轉成陣列並放入 'mfcc_list'",
   "id": "3e042d3649311523"
  },
  {
   "metadata": {
    "ExecuteTime": {
     "end_time": "2024-09-17T14:50:28.571539Z",
     "start_time": "2024-09-17T14:50:22.460264Z"
    }
   },
   "cell_type": "code",
   "source": [
    "mfcc_list = []\n",
    "\n",
    "for npy_file in tqdm(npy_file_list):\n",
    "    mfcc = np.load(file=npy_file)\n",
    "    mfcc_list.append(mfcc)\n",
    "\n",
    "# 將list()轉換成np.array()\n",
    "mfcc_list = np.array(mfcc_list)\n",
    "print(f\"type(mfcc_list): {type(mfcc_list)}\")\n",
    "print(f\"mfcc_list.shape: {mfcc_list.shape}\")\n",
    "\n",
    "# 不要印出 ipynb會爆炸\n",
    "# mfcc_list"
   ],
   "id": "52f86134d8030a75",
   "outputs": [
    {
     "name": "stderr",
     "output_type": "stream",
     "text": [
      "100%|██████████| 37240/37240 [00:06<00:00, 6147.98it/s]"
     ]
    },
    {
     "name": "stdout",
     "output_type": "stream",
     "text": [
      "type(mfcc_list): <class 'numpy.ndarray'>\n",
      "mfcc_list.shape: (37240, 13, 44)\n"
     ]
    },
    {
     "name": "stderr",
     "output_type": "stream",
     "text": [
      "\n"
     ]
    }
   ],
   "execution_count": 7
  },
  {
   "metadata": {},
   "cell_type": "markdown",
   "source": "mfcc資料集標準化",
   "id": "ed9c817786704b44"
  },
  {
   "metadata": {
    "ExecuteTime": {
     "end_time": "2024-09-17T14:50:30.273226Z",
     "start_time": "2024-09-17T14:50:28.737036Z"
    }
   },
   "cell_type": "code",
   "source": [
    "scaler = StandardScaler()\n",
    "# 因為標準器只能fit 2維的資料所以要將3維的mfcc資料集reshape成2維\n",
    "# mfcc_data_nums: k\n",
    "# mfcc_row: n\n",
    "# mfcc_column: m\n",
    "# (k, n, m) => (k * n, m)\n",
    "scaler.fit(mfcc_list.reshape((mfcc_list.shape[0] * mfcc_list.shape[1], mfcc_list.shape[2])))\n",
    "\n",
    "mfcc_list_scaled = []\n",
    "for mfcc in mfcc_list:\n",
    "    mfcc_list_scaled.append(scaler.transform(mfcc))\n",
    "\n",
    "# 將list()轉換成np.array()\n",
    "mfcc_list_scaled = np.array(mfcc_list_scaled)\n",
    "\n",
    "print(f\"type(mfcc_list_scaled): {type(mfcc_list_scaled)}\")\n",
    "print(f\"mfcc_list_scaled.shape: {mfcc_list_scaled.shape}\")\n",
    "\n",
    "# 不要印出 ipynb會爆炸\n",
    "# mfcc_scaled"
   ],
   "id": "436d88e3bc310614",
   "outputs": [
    {
     "name": "stdout",
     "output_type": "stream",
     "text": [
      "type(mfcc_list_scaled): <class 'numpy.ndarray'>\n",
      "mfcc_list_scaled.shape: (37240, 13, 44)\n"
     ]
    }
   ],
   "execution_count": 8
  },
  {
   "metadata": {},
   "cell_type": "markdown",
   "source": "讀取 'npy_file_list' 中所有資料檔名的拼音標籤",
   "id": "41eac106b5d7c567"
  },
  {
   "metadata": {
    "ExecuteTime": {
     "end_time": "2024-09-17T14:50:30.320226Z",
     "start_time": "2024-09-17T14:50:30.291227Z"
    }
   },
   "cell_type": "code",
   "source": [
    "label_pinyin_list = []\n",
    "\n",
    "for npy_file in npy_file_list:\n",
    "    label_pinyin = npy_file[npy_file.find(\"_\") + 1:npy_file.find(\".npy\")]\n",
    "    label_pinyin_list.append(label_pinyin)\n",
    "\n",
    "# 將list()轉換成np.array()\n",
    "label_pinyin_list = np.array(label_pinyin_list)\n",
    "\n",
    "print(f\"type(label_pinyin_list): {type(label_pinyin_list)}\")\n",
    "print(f\"label_pinyin_list.shape: {label_pinyin_list.shape}\")\n",
    "# label_pinyin_list"
   ],
   "id": "f6309e00816fb9d1",
   "outputs": [
    {
     "name": "stdout",
     "output_type": "stream",
     "text": [
      "type(label_pinyin_list): <class 'numpy.ndarray'>\n",
      "label_pinyin_list.shape: (37240,)\n"
     ]
    }
   ],
   "execution_count": 9
  },
  {
   "metadata": {},
   "cell_type": "markdown",
   "source": "dictionary 標籤轉換器<br>key => pinyin<br>value => int<br>(0 <= int <= 1466)",
   "id": "50a2afbe9c6cf5"
  },
  {
   "metadata": {
    "ExecuteTime": {
     "end_time": "2024-09-17T14:50:30.630480Z",
     "start_time": "2024-09-17T14:50:30.613484Z"
    }
   },
   "cell_type": "code",
   "source": [
    "sample_list = glob(f\"{os.getcwd()}\\\\samplePinyin\\\\Male\\\\*.wav\")\n",
    "\n",
    "label_dic: dict = {}\n",
    "for i in range(len(sample_list)):\n",
    "    label = sample_list[i][sample_list[i].find(\"_\") + 1:sample_list[i].find(\".wav\")]\n",
    "    label_dic[label] = i\n",
    "\n",
    "print(f\"type(label_dic): {type(label_dic)}\")\n",
    "print(f\"len(label_dic): {len(label_dic)}\")\n",
    "# label_dic"
   ],
   "id": "d5c83d64905fd11",
   "outputs": [
    {
     "name": "stdout",
     "output_type": "stream",
     "text": [
      "type(label_dic): <class 'dict'>\n",
      "len(label_dic): 1467\n"
     ]
    }
   ],
   "execution_count": 10
  },
  {
   "metadata": {},
   "cell_type": "markdown",
   "source": "將 'label_pinyin_list' 裡的拼音標籤轉換成數字標籤放入 'label_int_list'",
   "id": "b555a33efebfffbe"
  },
  {
   "metadata": {
    "ExecuteTime": {
     "end_time": "2024-09-17T14:50:31.020249Z",
     "start_time": "2024-09-17T14:50:30.992248Z"
    }
   },
   "cell_type": "code",
   "source": [
    "label_int_list = []\n",
    "for label_pinyin in label_pinyin_list:\n",
    "    label_int = label_dic[label_pinyin]\n",
    "    label_int_list.append(label_int)\n",
    "\n",
    "label_int_list = np.array(label_int_list)\n",
    "print(f\"label_int_list.shape => {label_int_list.shape}\")\n",
    "# label_int_list"
   ],
   "id": "8cea599705f23af2",
   "outputs": [
    {
     "name": "stdout",
     "output_type": "stream",
     "text": [
      "label_int_list.shape => (37240,)\n"
     ]
    }
   ],
   "execution_count": 11
  },
  {
   "metadata": {},
   "cell_type": "markdown",
   "source": "定義CNN模型",
   "id": "cb5693b89a563ca4"
  },
  {
   "metadata": {
    "ExecuteTime": {
     "end_time": "2024-09-17T14:50:31.315247Z",
     "start_time": "2024-09-17T14:50:31.301250Z"
    }
   },
   "cell_type": "code",
   "source": [
    "def get_cnn_model(input_shape, num_classes, learning_rate=0.001, num_filters=32, dense_units=256):\n",
    "    cnn_model = Sequential()\n",
    "\n",
    "    # 第一層捲積層\n",
    "    cnn_model.add(Conv2D(num_filters, kernel_size=(3, 3), padding='same', input_shape=input_shape))\n",
    "    cnn_model.add(BatchNormalization())\n",
    "    cnn_model.add(Activation('relu'))\n",
    "    cnn_model.add(Conv2D(num_filters, kernel_size=(3, 3), padding='same'))\n",
    "    cnn_model.add(BatchNormalization())\n",
    "    cnn_model.add(Activation('relu'))\n",
    "    cnn_model.add(MaxPooling2D(pool_size=(2, 2)))\n",
    "    \n",
    "    # 第二層捲積層\n",
    "    cnn_model.add(Conv2D(num_filters * 2, kernel_size=(3, 3), padding='same'))\n",
    "    cnn_model.add(BatchNormalization())\n",
    "    cnn_model.add(Activation('relu'))\n",
    "    cnn_model.add(Conv2D(num_filters * 2, kernel_size=(3, 3), padding='same'))\n",
    "    cnn_model.add(BatchNormalization())\n",
    "    cnn_model.add(Activation('relu'))\n",
    "    cnn_model.add(MaxPooling2D(pool_size=(2, 2)))\n",
    "    \n",
    "    # 第三層捲積層\n",
    "    cnn_model.add(Conv2D(num_filters * 4, kernel_size=(3, 3), padding='same'))\n",
    "    cnn_model.add(BatchNormalization())\n",
    "    cnn_model.add(Activation('relu'))\n",
    "    cnn_model.add(Conv2D(num_filters * 4, kernel_size=(3, 3), padding='same'))\n",
    "    cnn_model.add(BatchNormalization())\n",
    "    cnn_model.add(Activation('relu'))\n",
    "    cnn_model.add(MaxPooling2D(pool_size=(2, 2)))\n",
    "    \n",
    "    # 展平\n",
    "    cnn_model.add(Flatten())\n",
    "    \n",
    "    # 第一層全連接層\n",
    "    cnn_model.add(Dense(dense_units))\n",
    "    cnn_model.add(BatchNormalization())\n",
    "    cnn_model.add(Activation('relu'))\n",
    "    \n",
    "    # 第二層全連接層\n",
    "    cnn_model.add(Dense(dense_units * 2))\n",
    "    cnn_model.add(BatchNormalization())\n",
    "    cnn_model.add(Activation('relu'))\n",
    "    \n",
    "    # 第三層全連接層(長度同為1467個label)\n",
    "    cnn_model.add(Dense(num_classes))\n",
    "    \n",
    "    # 表示為機率\n",
    "    cnn_model.add(Activation('softmax'))\n",
    "\n",
    "    cnn_model.compile(\n",
    "        loss=keras.losses.categorical_crossentropy,\n",
    "        optimizer=keras.optimizers.Adam(learning_rate=learning_rate),\n",
    "        metrics=['accuracy']\n",
    "    )\n",
    "\n",
    "    return cnn_model"
   ],
   "id": "88a18e515cf2b07",
   "outputs": [],
   "execution_count": 12
  },
  {
   "metadata": {},
   "cell_type": "markdown",
   "source": "最佳超參數",
   "id": "b19178096bf426da"
  },
  {
   "metadata": {
    "ExecuteTime": {
     "end_time": "2024-09-17T14:50:31.331247Z",
     "start_time": "2024-09-17T14:50:31.318248Z"
    }
   },
   "cell_type": "code",
   "source": [
    "best_params = json.load(open(f\"{os.getcwd()}\\\\best_params.json\", \"r\"))\n",
    "\n",
    "learning_rate = best_params[\"learning_rate\"]\n",
    "num_filters = best_params[\"num_filters\"]\n",
    "dense_units = best_params[\"dense_unit\"]\n",
    "batch_size = best_params[\"batch_size\"]\n",
    "epochs = best_params[\"epochs\"]"
   ],
   "id": "75607b1be4458da5",
   "outputs": [],
   "execution_count": 13
  },
  {
   "metadata": {},
   "cell_type": "markdown",
   "source": "基本參數",
   "id": "27926fb5667f3562"
  },
  {
   "metadata": {
    "ExecuteTime": {
     "end_time": "2024-09-17T14:50:31.578391Z",
     "start_time": "2024-09-17T14:50:31.563391Z"
    }
   },
   "cell_type": "code",
   "source": [
    "channel = 1\n",
    "verbose = 2\n",
    "num_classes = len(label_dic)\n",
    "test_size = 0.2\n",
    "mfcc_dim_1 = mfcc_list.shape[1]\n",
    "mfcc_dim_2 = mfcc_list.shape[2]\n",
    "print(f\"mfcc_dim_1: {mfcc_dim_1}\")\n",
    "print(f\"mfcc_dim_2: {mfcc_dim_2}\")"
   ],
   "id": "6264440e9e879735",
   "outputs": [
    {
     "name": "stdout",
     "output_type": "stream",
     "text": [
      "mfcc_dim_1: 13\n",
      "mfcc_dim_2: 44\n"
     ]
    }
   ],
   "execution_count": 14
  },
  {
   "metadata": {},
   "cell_type": "markdown",
   "source": "資料分割",
   "id": "cf35a8440e772114"
  },
  {
   "metadata": {
    "ExecuteTime": {
     "end_time": "2024-09-17T14:50:31.994389Z",
     "start_time": "2024-09-17T14:50:31.873391Z"
    }
   },
   "cell_type": "code",
   "source": [
    "X = mfcc_list_scaled\n",
    "y = label_int_list\n",
    "\n",
    "# 將int label轉換成二進制one hot標籤\n",
    "y_one_hot = to_categorical(y, num_classes=num_classes)\n",
    "\n",
    "X_train, X_test, y_train, y_test = train_test_split(X, y_one_hot, test_size=test_size, random_state=42)\n",
    "\n",
    "X_train = X_train.reshape(X_train.shape[0], mfcc_dim_1, mfcc_dim_2, channel)\n",
    "X_test = X_test.reshape(X_test.shape[0], mfcc_dim_1, mfcc_dim_2, channel)"
   ],
   "id": "c61c0d185ac285fb",
   "outputs": [],
   "execution_count": 15
  },
  {
   "metadata": {},
   "cell_type": "markdown",
   "source": "訓練模型",
   "id": "20bee65a7670a29"
  },
  {
   "metadata": {
    "jupyter": {
     "is_executing": true
    },
    "ExecuteTime": {
     "start_time": "2024-09-17T14:50:32.026391Z"
    }
   },
   "cell_type": "code",
   "source": [
    "model = get_cnn_model(input_shape=(mfcc_dim_1, mfcc_dim_2, channel), num_classes=num_classes, learning_rate=learning_rate, num_filters=num_filters, dense_units=dense_units)\n",
    "model_train_info = model.fit(X_train, y_train, batch_size=batch_size, epochs=epochs, verbose=verbose, validation_data=(X_test, y_test))"
   ],
   "id": "8001633fcf9a59e1",
   "outputs": [
    {
     "name": "stdout",
     "output_type": "stream",
     "text": [
      "Epoch 1/300\n",
      "233/233 - 8s - loss: 5.3882 - accuracy: 0.1245 - val_loss: 6.6759 - val_accuracy: 0.0314 - 8s/epoch - 33ms/step\n",
      "Epoch 2/300\n",
      "233/233 - 5s - loss: 3.8935 - accuracy: 0.2538 - val_loss: 4.4638 - val_accuracy: 0.1717 - 5s/epoch - 20ms/step\n",
      "Epoch 3/300\n",
      "233/233 - 5s - loss: 3.2290 - accuracy: 0.3393 - val_loss: 3.4134 - val_accuracy: 0.3099 - 5s/epoch - 20ms/step\n",
      "Epoch 4/300\n"
     ]
    }
   ],
   "execution_count": null
  },
  {
   "metadata": {
    "ExecuteTime": {
     "end_time": "2024-09-15T06:34:36.359654Z",
     "start_time": "2024-09-15T06:34:35.929460Z"
    }
   },
   "cell_type": "code",
   "source": [
    "accuracies = model_train_info.history['accuracy']\n",
    "val_accuracies = model_train_info.history['val_accuracy']\n",
    "\n",
    "plt.plot(list(range(epochs)), accuracies, label = 'accuracy')\n",
    "plt.plot(list(range(epochs)), val_accuracies, label = 'val_accuracy')\n",
    "plt.legend()\n",
    "plt.grid()\n",
    "plt.xticks(ticks = list(range(1, epochs + 1))) \n",
    "plt.xlabel('Epoch')\n",
    "plt.ylabel('Accuracy')\n",
    "plt.xticks(ticks=list(range(0, epochs + 1, 10)))\n",
    "plt.show()"
   ],
   "id": "a8b6944fb6ee6017",
   "outputs": [
    {
     "data": {
      "text/plain": [
       "<Figure size 640x480 with 1 Axes>"
      ],
      "image/png": "[encoded data removed]"
     },
     "metadata": {},
     "output_type": "display_data"
    }
   ],
   "execution_count": 20
  },
  {
   "metadata": {},
   "cell_type": "markdown",
   "source": "準確度",
   "id": "432e34e37cedf37e"
  },
  {
   "metadata": {
    "ExecuteTime": {
     "end_time": "2024-09-15T06:34:36.391190Z",
     "start_time": "2024-09-15T06:34:36.376664Z"
    }
   },
   "cell_type": "code",
   "source": [
    "print(f\"資料: {mfcc_list_scaled.shape}\")\n",
    "print(f\"最高準確率: {max(val_accuracies)}\")"
   ],
   "id": "546b2de91c166fac",
   "outputs": [
    {
     "name": "stdout",
     "output_type": "stream",
     "text": [
      "資料: (32103, 13, 44)\n",
      "最高準確率: 0.4812334477901459\n"
     ]
    }
   ],
   "execution_count": 21
  },
  {
   "metadata": {
    "ExecuteTime": {
     "end_time": "2024-09-15T06:34:36.621922Z",
     "start_time": "2024-09-15T06:34:36.423478Z"
    }
   },
   "cell_type": "code",
   "source": "model.save(f\"{os.getcwd()}\\\\cnn_model.h5\")",
   "id": "e829f440a574764",
   "outputs": [],
   "execution_count": 22
  },
  {
   "metadata": {},
   "cell_type": "markdown",
   "source": "",
   "id": "c244861e383e27e4"
  }
 ],
 "metadata": {
  "kernelspec": {
   "display_name": "Python 3",
   "language": "python",
   "name": "python3"
  },
  "language_info": {
   "codemirror_mode": {
    "name": "ipython",
    "version": 2
   },
   "file_extension": ".py",
   "mimetype": "text/x-python",
   "name": "python",
   "nbconvert_exporter": "python",
   "pygments_lexer": "ipython2",
   "version": "2.7.6"
  }
 },
 "nbformat": 4,
 "nbformat_minor": 5
}
