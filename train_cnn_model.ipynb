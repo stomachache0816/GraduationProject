{
 "cells": [
  {
   "cell_type": "code",
   "id": "initial_id",
   "metadata": {
    "collapsed": true,
    "ExecuteTime": {
     "end_time": "2024-09-13T03:46:50.758331Z",
     "start_time": "2024-09-13T03:46:50.752333Z"
    }
   },
   "source": [
    "import platform\n",
    "print(f\"platform.python_version(): {platform.python_version()}\")\n",
    "\n",
    "import os\n",
    "import scipy\n",
    "import numpy as np\n",
    "from glob import glob\n",
    "from tqdm import tqdm\n",
    "\n",
    "from sklearn.preprocessing import StandardScaler\n",
    "from sklearn.model_selection import train_test_split\n",
    "\n",
    "import tensorflow as tf\n",
    "from tensorflow import keras\n",
    "from keras import Sequential\n",
    "from keras.utils import to_categorical\n",
    "from keras.layers import Dense, Flatten, Conv2D, MaxPooling2D, BatchNormalization, Activation\n",
    "\n",
    "import matplotlib.pyplot as plt\n",
    "\n",
    "# 在windows用gpu跑tensorflow 最多只支持到2.10.1並且conda沒有2.10.1 只能用pip\n",
    "# numpy和scipy也要配合安裝下列版本\n",
    "# pip install tensorflow==2.10.1\n",
    "# pip install numpy==1.22.4\n",
    "# pip install scipy==1.7.3\n",
    "print(f\"np.version.version: {np.version.version}\")\n",
    "print(f\"scipy.__version__: {scipy.__version__}\")\n",
    "print(f\"tf.__version__: {tf.__version__}\")\n",
    "# 確認GPU是否可用\n",
    "gpus = tf.config.experimental.list_physical_devices('GPU')\n",
    "print(f\"tf.config.list_physical_devices('GPU'): {tf.config.list_physical_devices('GPU')}\")"
   ],
   "outputs": [
    {
     "name": "stdout",
     "output_type": "stream",
     "text": [
      "platform.python_version(): 3.9.13\n",
      "np.version.version: 1.22.4\n",
      "scipy.__version__: 1.7.3\n",
      "tf.__version__: 2.10.1\n",
      "tf.config.list_physical_devices('GPU'): [PhysicalDevice(name='/physical_device:GPU:0', device_type='GPU')]\n"
     ]
    }
   ],
   "execution_count": 15
  },
  {
   "metadata": {},
   "cell_type": "markdown",
   "source": "取得訓練資料npy檔路徑放入 'npy_file_list'",
   "id": "f6b667196b81feb6"
  },
  {
   "metadata": {
    "ExecuteTime": {
     "end_time": "2024-09-13T03:46:50.914856Z",
     "start_time": "2024-09-13T03:46:50.795335Z"
    }
   },
   "cell_type": "code",
   "source": [
    "npy_file_list = glob(f\"{os.getcwd()}\\\\mfcc\\\\*.npy\")\n",
    "print(f\"type(npy_file_list): {type(npy_file_list)}\")\n",
    "print(f\"len(npy_file_list): {len(npy_file_list)}\")\n",
    "# npy_file_list"
   ],
   "id": "f08d72fd52262764",
   "outputs": [
    {
     "name": "stdout",
     "output_type": "stream",
     "text": [
      "type(npy_file_list): <class 'list'>\n",
      "len(npy_file_list): 32103\n"
     ]
    }
   ],
   "execution_count": 16
  },
  {
   "metadata": {},
   "cell_type": "markdown",
   "source": "將 'npy_file_list' 內所有npy檔轉成陣列並放入 'mfcc_list'",
   "id": "3e042d3649311523"
  },
  {
   "metadata": {
    "ExecuteTime": {
     "end_time": "2024-09-13T03:46:56.236761Z",
     "start_time": "2024-09-13T03:46:50.946522Z"
    }
   },
   "cell_type": "code",
   "source": [
    "mfcc_list = []\n",
    "\n",
    "for npy_file in tqdm(npy_file_list):\n",
    "    mfcc = np.load(file=npy_file)\n",
    "    mfcc_list.append(mfcc)\n",
    "\n",
    "# 將list()轉換成np.array()\n",
    "mfcc_list = np.array(mfcc_list)\n",
    "print(f\"type(mfcc_list): {type(mfcc_list)}\")\n",
    "print(f\"mfcc_list.shape: {mfcc_list.shape}\")\n",
    "\n",
    "# 不要印出 ipynb會爆炸\n",
    "# mfcc_list"
   ],
   "id": "52f86134d8030a75",
   "outputs": [
    {
     "name": "stderr",
     "output_type": "stream",
     "text": [
      "100%|██████████| 32103/32103 [00:05<00:00, 6113.42it/s]"
     ]
    },
    {
     "name": "stdout",
     "output_type": "stream",
     "text": [
      "type(mfcc_list): <class 'numpy.ndarray'>\n",
      "mfcc_list.shape: (32103, 13, 44)\n"
     ]
    },
    {
     "name": "stderr",
     "output_type": "stream",
     "text": [
      "\n"
     ]
    }
   ],
   "execution_count": 17
  },
  {
   "metadata": {},
   "cell_type": "markdown",
   "source": "mfcc資料集標準化",
   "id": "ed9c817786704b44"
  },
  {
   "metadata": {
    "ExecuteTime": {
     "end_time": "2024-09-13T03:46:57.427430Z",
     "start_time": "2024-09-13T03:46:56.270274Z"
    }
   },
   "cell_type": "code",
   "source": [
    "scaler = StandardScaler()\n",
    "# 因為標準器只能fit 2維的資料所以要將3維的mfcc資料集reshape成2維\n",
    "# mfcc_data_nums: k\n",
    "# mfcc_row: n\n",
    "# mfcc_column: m\n",
    "# (k, n, m) => (k * n, m)\n",
    "scaler.fit(mfcc_list.reshape((mfcc_list.shape[0] * mfcc_list.shape[1], mfcc_list.shape[2])))\n",
    "\n",
    "mfcc_list_scaled = []\n",
    "for mfcc in mfcc_list:\n",
    "    mfcc_list_scaled.append(scaler.transform(mfcc))\n",
    "\n",
    "# 將list()轉換成np.array()\n",
    "mfcc_list_scaled = np.array(mfcc_list_scaled)\n",
    "\n",
    "print(f\"type(mfcc_list_scaled): {type(mfcc_list_scaled)}\")\n",
    "print(f\"mfcc_list_scaled.shape: {mfcc_list_scaled.shape}\")\n",
    "\n",
    "# 不要印出 ipynb會爆炸\n",
    "# mfcc_scaled"
   ],
   "id": "436d88e3bc310614",
   "outputs": [
    {
     "name": "stdout",
     "output_type": "stream",
     "text": [
      "type(mfcc_list_scaled): <class 'numpy.ndarray'>\n",
      "mfcc_list_scaled.shape: (32103, 13, 44)\n"
     ]
    }
   ],
   "execution_count": 18
  },
  {
   "metadata": {},
   "cell_type": "markdown",
   "source": "讀取 'npy_file_list' 中所有資料檔名的拼音標籤",
   "id": "41eac106b5d7c567"
  },
  {
   "metadata": {
    "ExecuteTime": {
     "end_time": "2024-09-13T03:46:57.472942Z",
     "start_time": "2024-09-13T03:46:57.449941Z"
    }
   },
   "cell_type": "code",
   "source": [
    "label_pinyin_list = []\n",
    "\n",
    "for npy_file in npy_file_list:\n",
    "    label_pinyin = npy_file[npy_file.find(\"_\") + 1:npy_file.find(\".npy\")]\n",
    "    label_pinyin_list.append(label_pinyin)\n",
    "\n",
    "# 將list()轉換成np.array()\n",
    "label_pinyin_list = np.array(label_pinyin_list)\n",
    "\n",
    "print(f\"type(label_pinyin_list): {type(label_pinyin_list)}\")\n",
    "print(f\"label_pinyin_list.shape: {label_pinyin_list.shape}\")\n",
    "# label_pinyin_list"
   ],
   "id": "f6309e00816fb9d1",
   "outputs": [
    {
     "name": "stdout",
     "output_type": "stream",
     "text": [
      "type(label_pinyin_list): <class 'numpy.ndarray'>\n",
      "label_pinyin_list.shape: (32103,)\n"
     ]
    }
   ],
   "execution_count": 19
  },
  {
   "metadata": {},
   "cell_type": "markdown",
   "source": "dictionary 標籤轉換器<br>key => pinyin<br>value => int<br>(0 <= int <= 1466)",
   "id": "50a2afbe9c6cf5"
  },
  {
   "metadata": {
    "ExecuteTime": {
     "end_time": "2024-09-13T03:46:57.502940Z",
     "start_time": "2024-09-13T03:46:57.492941Z"
    }
   },
   "cell_type": "code",
   "source": [
    "sample_list = glob(f\"{os.getcwd()}\\\\samplePinyin\\\\Male\\\\*.wav\")\n",
    "\n",
    "label_dic: dict = {}\n",
    "for i in range(len(sample_list)):\n",
    "    label = sample_list[i][sample_list[i].find(\"_\") + 1:sample_list[i].find(\".wav\")]\n",
    "    label_dic[label] = i\n",
    "\n",
    "print(f\"type(label_dic): {type(label_dic)}\")\n",
    "print(f\"len(label_dic): {len(label_dic)}\")\n",
    "# label_dic"
   ],
   "id": "d5c83d64905fd11",
   "outputs": [
    {
     "name": "stdout",
     "output_type": "stream",
     "text": [
      "type(label_dic): <class 'dict'>\n",
      "len(label_dic): 1467\n"
     ]
    }
   ],
   "execution_count": 20
  },
  {
   "metadata": {},
   "cell_type": "markdown",
   "source": "將 'label_pinyin_list' 裡的拼音標籤轉換成數字標籤放入 'label_int_list'",
   "id": "b555a33efebfffbe"
  },
  {
   "metadata": {
    "ExecuteTime": {
     "end_time": "2024-09-13T03:46:57.565448Z",
     "start_time": "2024-09-13T03:46:57.538945Z"
    }
   },
   "cell_type": "code",
   "source": [
    "label_int_list = []\n",
    "for label_pinyin in label_pinyin_list:\n",
    "    label_int = label_dic[label_pinyin]\n",
    "    label_int_list.append(label_int)\n",
    "\n",
    "label_int_list = np.array(label_int_list)\n",
    "print(f\"label_int_list.shape => {label_int_list.shape}\")\n",
    "# label_int_list"
   ],
   "id": "8cea599705f23af2",
   "outputs": [
    {
     "name": "stdout",
     "output_type": "stream",
     "text": [
      "label_int_list.shape => (32103,)\n"
     ]
    }
   ],
   "execution_count": 21
  },
  {
   "metadata": {},
   "cell_type": "markdown",
   "source": "定義CNN模型",
   "id": "cb5693b89a563ca4"
  },
  {
   "metadata": {
    "ExecuteTime": {
     "end_time": "2024-09-13T03:46:57.596449Z",
     "start_time": "2024-09-13T03:46:57.581450Z"
    }
   },
   "cell_type": "code",
   "source": [
    "def get_cnn_model(input_shape, num_classes, learning_rate=0.001, num_filters=32, dense_units=256):\n",
    "    cnn_model = Sequential()\n",
    "\n",
    "    # 第一層捲積層\n",
    "    cnn_model.add(Conv2D(num_filters, kernel_size=(3, 3), padding='same', input_shape=input_shape))\n",
    "    cnn_model.add(BatchNormalization())\n",
    "    cnn_model.add(Activation('relu'))\n",
    "    cnn_model.add(Conv2D(num_filters, kernel_size=(3, 3), padding='same'))\n",
    "    cnn_model.add(BatchNormalization())\n",
    "    cnn_model.add(Activation('relu'))\n",
    "    cnn_model.add(MaxPooling2D(pool_size=(2, 2)))\n",
    "    \n",
    "    # 第二層捲積層\n",
    "    cnn_model.add(Conv2D(num_filters * 2, kernel_size=(3, 3), padding='same'))\n",
    "    cnn_model.add(BatchNormalization())\n",
    "    cnn_model.add(Activation('relu'))\n",
    "    cnn_model.add(Conv2D(num_filters * 2, kernel_size=(3, 3), padding='same'))\n",
    "    cnn_model.add(BatchNormalization())\n",
    "    cnn_model.add(Activation('relu'))\n",
    "    cnn_model.add(MaxPooling2D(pool_size=(2, 2)))\n",
    "    \n",
    "    # 第三層捲積層\n",
    "    cnn_model.add(Conv2D(num_filters * 4, kernel_size=(3, 3), padding='same'))\n",
    "    cnn_model.add(BatchNormalization())\n",
    "    cnn_model.add(Activation('relu'))\n",
    "    cnn_model.add(Conv2D(num_filters * 4, kernel_size=(3, 3), padding='same'))\n",
    "    cnn_model.add(BatchNormalization())\n",
    "    cnn_model.add(Activation('relu'))\n",
    "    cnn_model.add(MaxPooling2D(pool_size=(2, 2)))\n",
    "    \n",
    "    # 展平\n",
    "    cnn_model.add(Flatten())\n",
    "    \n",
    "    # 第一層全連接層\n",
    "    cnn_model.add(Dense(dense_units))\n",
    "    cnn_model.add(BatchNormalization())\n",
    "    cnn_model.add(Activation('relu'))\n",
    "    \n",
    "    # 第二層全連接層\n",
    "    cnn_model.add(Dense(dense_units * 2))\n",
    "    cnn_model.add(BatchNormalization())\n",
    "    cnn_model.add(Activation('relu'))\n",
    "    \n",
    "    # 第三層全連接層(長度同為1467個label)\n",
    "    cnn_model.add(Dense(num_classes))\n",
    "    \n",
    "    # 表示為機率\n",
    "    cnn_model.add(Activation('softmax'))\n",
    "\n",
    "    cnn_model.compile(\n",
    "        loss=keras.losses.categorical_crossentropy,\n",
    "        optimizer=keras.optimizers.Adam(learning_rate=learning_rate),\n",
    "        metrics=['accuracy']\n",
    "    )\n",
    "\n",
    "    return cnn_model"
   ],
   "id": "88a18e515cf2b07",
   "outputs": [],
   "execution_count": 22
  },
  {
   "metadata": {},
   "cell_type": "markdown",
   "source": "參數設定",
   "id": "b19178096bf426da"
  },
  {
   "metadata": {
    "ExecuteTime": {
     "end_time": "2024-09-13T03:46:57.627450Z",
     "start_time": "2024-09-13T03:46:57.613450Z"
    }
   },
   "cell_type": "code",
   "source": [
    "channel = 1\n",
    "verbose = 2\n",
    "num_classes = len(label_dic)\n",
    "learning_rate = 0.0001\n",
    "num_filters = 128\n",
    "dense_units = 512\n",
    "batch_size = 128\n",
    "epochs = 200\n",
    "test_size = 0.2\n",
    "mfcc_dim_1 = mfcc_list.shape[1]\n",
    "mfcc_dim_2 = mfcc_list.shape[2]\n",
    "print(f\"mfcc_dim_1: {mfcc_dim_1}\")\n",
    "print(f\"mfcc_dim_2: {mfcc_dim_2}\")"
   ],
   "id": "6264440e9e879735",
   "outputs": [
    {
     "name": "stdout",
     "output_type": "stream",
     "text": [
      "mfcc_dim_1: 13\n",
      "mfcc_dim_2: 44\n"
     ]
    }
   ],
   "execution_count": 23
  },
  {
   "metadata": {},
   "cell_type": "markdown",
   "source": "資料分割",
   "id": "cf35a8440e772114"
  },
  {
   "metadata": {
    "ExecuteTime": {
     "end_time": "2024-09-13T03:46:57.863884Z",
     "start_time": "2024-09-13T03:46:57.738863Z"
    }
   },
   "cell_type": "code",
   "source": [
    "X = mfcc_list_scaled\n",
    "y = label_int_list\n",
    "\n",
    "# 將int label轉換成二進制one hot標籤\n",
    "y_one_hot = to_categorical(y, num_classes=num_classes)\n",
    "\n",
    "X_train, X_test, y_train, y_test = train_test_split(X, y_one_hot, test_size=test_size, random_state=42)\n",
    "\n",
    "X_train = X_train.reshape(X_train.shape[0], mfcc_dim_1, mfcc_dim_2, channel)\n",
    "X_test = X_test.reshape(X_test.shape[0], mfcc_dim_1, mfcc_dim_2, channel)"
   ],
   "id": "c61c0d185ac285fb",
   "outputs": [],
   "execution_count": 24
  },
  {
   "metadata": {},
   "cell_type": "markdown",
   "source": "訓練模型",
   "id": "20bee65a7670a29"
  },
  {
   "metadata": {
    "ExecuteTime": {
     "end_time": "2024-09-13T04:00:29.273471Z",
     "start_time": "2024-09-13T03:46:57.869883Z"
    }
   },
   "cell_type": "code",
   "source": [
    "model = get_cnn_model(input_shape=(mfcc_dim_1, mfcc_dim_2, channel), num_classes=num_classes, learning_rate=learning_rate, num_filters=num_filters, dense_units=dense_units)\n",
    "model_train_info = model.fit(X_train, y_train, batch_size=batch_size, epochs=epochs, verbose=verbose, validation_data=(X_test, y_test))"
   ],
   "id": "8001633fcf9a59e1",
   "outputs": [
    {
     "name": "stdout",
     "output_type": "stream",
     "text": [
      "Epoch 1/200\n",
      "201/201 - 5s - loss: 5.5710 - accuracy: 0.1159 - val_loss: 6.7028 - val_accuracy: 0.0321 - 5s/epoch - 24ms/step\n",
      "Epoch 2/200\n",
      "201/201 - 4s - loss: 4.0558 - accuracy: 0.2406 - val_loss: 5.0472 - val_accuracy: 0.1040 - 4s/epoch - 21ms/step\n",
      "Epoch 3/200\n",
      "201/201 - 4s - loss: 3.3826 - accuracy: 0.3233 - val_loss: 3.6883 - val_accuracy: 0.2767 - 4s/epoch - 21ms/step\n",
      "Epoch 4/200\n",
      "201/201 - 4s - loss: 2.9342 - accuracy: 0.3906 - val_loss: 3.2371 - val_accuracy: 0.3471 - 4s/epoch - 21ms/step\n",
      "Epoch 5/200\n",
      "201/201 - 4s - loss: 2.5775 - accuracy: 0.4468 - val_loss: 2.9948 - val_accuracy: 0.3806 - 4s/epoch - 22ms/step\n",
      "Epoch 6/200\n",
      "201/201 - 4s - loss: 2.2719 - accuracy: 0.5011 - val_loss: 2.8695 - val_accuracy: 0.3973 - 4s/epoch - 21ms/step\n",
      "Epoch 7/200\n",
      "201/201 - 4s - loss: 1.9759 - accuracy: 0.5612 - val_loss: 2.7519 - val_accuracy: 0.4185 - 4s/epoch - 21ms/step\n",
      "Epoch 8/200\n",
      "201/201 - 4s - loss: 1.6793 - accuracy: 0.6231 - val_loss: 2.7492 - val_accuracy: 0.4099 - 4s/epoch - 20ms/step\n",
      "Epoch 9/200\n",
      "201/201 - 4s - loss: 1.3868 - accuracy: 0.6920 - val_loss: 2.6315 - val_accuracy: 0.4442 - 4s/epoch - 20ms/step\n",
      "Epoch 10/200\n",
      "201/201 - 4s - loss: 1.1039 - accuracy: 0.7615 - val_loss: 2.5712 - val_accuracy: 0.4462 - 4s/epoch - 20ms/step\n",
      "Epoch 11/200\n",
      "201/201 - 4s - loss: 0.8308 - accuracy: 0.8308 - val_loss: 2.5430 - val_accuracy: 0.4443 - 4s/epoch - 20ms/step\n",
      "Epoch 12/200\n",
      "201/201 - 4s - loss: 0.6018 - accuracy: 0.8859 - val_loss: 2.5622 - val_accuracy: 0.4502 - 4s/epoch - 20ms/step\n",
      "Epoch 13/200\n",
      "201/201 - 4s - loss: 0.4402 - accuracy: 0.9236 - val_loss: 2.5242 - val_accuracy: 0.4487 - 4s/epoch - 20ms/step\n",
      "Epoch 14/200\n",
      "201/201 - 4s - loss: 0.3126 - accuracy: 0.9511 - val_loss: 2.5217 - val_accuracy: 0.4577 - 4s/epoch - 20ms/step\n",
      "Epoch 15/200\n",
      "201/201 - 4s - loss: 0.2227 - accuracy: 0.9712 - val_loss: 2.5264 - val_accuracy: 0.4527 - 4s/epoch - 20ms/step\n",
      "Epoch 16/200\n",
      "201/201 - 4s - loss: 0.1615 - accuracy: 0.9806 - val_loss: 2.5231 - val_accuracy: 0.4597 - 4s/epoch - 20ms/step\n",
      "Epoch 17/200\n",
      "201/201 - 4s - loss: 0.1217 - accuracy: 0.9856 - val_loss: 2.5731 - val_accuracy: 0.4562 - 4s/epoch - 20ms/step\n",
      "Epoch 18/200\n",
      "201/201 - 4s - loss: 0.0873 - accuracy: 0.9922 - val_loss: 2.6064 - val_accuracy: 0.4574 - 4s/epoch - 20ms/step\n",
      "Epoch 19/200\n",
      "201/201 - 4s - loss: 0.0651 - accuracy: 0.9945 - val_loss: 2.5963 - val_accuracy: 0.4593 - 4s/epoch - 20ms/step\n",
      "Epoch 20/200\n",
      "201/201 - 4s - loss: 0.0487 - accuracy: 0.9957 - val_loss: 2.6133 - val_accuracy: 0.4624 - 4s/epoch - 20ms/step\n",
      "Epoch 21/200\n",
      "201/201 - 4s - loss: 0.0365 - accuracy: 0.9975 - val_loss: 2.6052 - val_accuracy: 0.4613 - 4s/epoch - 20ms/step\n",
      "Epoch 22/200\n",
      "201/201 - 4s - loss: 0.0367 - accuracy: 0.9965 - val_loss: 2.6912 - val_accuracy: 0.4604 - 4s/epoch - 20ms/step\n",
      "Epoch 23/200\n",
      "201/201 - 4s - loss: 0.0401 - accuracy: 0.9959 - val_loss: 2.7699 - val_accuracy: 0.4429 - 4s/epoch - 20ms/step\n",
      "Epoch 24/200\n",
      "201/201 - 4s - loss: 0.1064 - accuracy: 0.9829 - val_loss: 2.9032 - val_accuracy: 0.4192 - 4s/epoch - 20ms/step\n",
      "Epoch 25/200\n",
      "201/201 - 4s - loss: 0.1325 - accuracy: 0.9780 - val_loss: 2.8954 - val_accuracy: 0.4140 - 4s/epoch - 20ms/step\n",
      "Epoch 26/200\n",
      "201/201 - 4s - loss: 0.0675 - accuracy: 0.9917 - val_loss: 2.7726 - val_accuracy: 0.4482 - 4s/epoch - 20ms/step\n",
      "Epoch 27/200\n",
      "201/201 - 4s - loss: 0.0307 - accuracy: 0.9967 - val_loss: 2.7151 - val_accuracy: 0.4649 - 4s/epoch - 20ms/step\n",
      "Epoch 28/200\n",
      "201/201 - 4s - loss: 0.0210 - accuracy: 0.9970 - val_loss: 2.7246 - val_accuracy: 0.4663 - 4s/epoch - 20ms/step\n",
      "Epoch 29/200\n",
      "201/201 - 4s - loss: 0.0296 - accuracy: 0.9950 - val_loss: 2.8687 - val_accuracy: 0.4415 - 4s/epoch - 20ms/step\n",
      "Epoch 30/200\n",
      "201/201 - 4s - loss: 0.0832 - accuracy: 0.9847 - val_loss: 3.2025 - val_accuracy: 0.3842 - 4s/epoch - 20ms/step\n",
      "Epoch 31/200\n",
      "201/201 - 4s - loss: 0.1065 - accuracy: 0.9842 - val_loss: 3.1236 - val_accuracy: 0.4099 - 4s/epoch - 20ms/step\n",
      "Epoch 32/200\n",
      "201/201 - 4s - loss: 0.0348 - accuracy: 0.9955 - val_loss: 2.8842 - val_accuracy: 0.4501 - 4s/epoch - 20ms/step\n",
      "Epoch 33/200\n",
      "201/201 - 4s - loss: 0.0156 - accuracy: 0.9978 - val_loss: 2.8090 - val_accuracy: 0.4602 - 4s/epoch - 20ms/step\n",
      "Epoch 34/200\n",
      "201/201 - 4s - loss: 0.0121 - accuracy: 0.9983 - val_loss: 2.8053 - val_accuracy: 0.4666 - 4s/epoch - 20ms/step\n",
      "Epoch 35/200\n",
      "201/201 - 4s - loss: 0.0094 - accuracy: 0.9984 - val_loss: 2.9337 - val_accuracy: 0.4572 - 4s/epoch - 20ms/step\n",
      "Epoch 36/200\n",
      "201/201 - 4s - loss: 0.0507 - accuracy: 0.9896 - val_loss: 3.4768 - val_accuracy: 0.3660 - 4s/epoch - 20ms/step\n",
      "Epoch 37/200\n",
      "201/201 - 4s - loss: 0.2004 - accuracy: 0.9521 - val_loss: 3.4448 - val_accuracy: 0.3780 - 4s/epoch - 20ms/step\n",
      "Epoch 38/200\n",
      "201/201 - 4s - loss: 0.0723 - accuracy: 0.9878 - val_loss: 3.0084 - val_accuracy: 0.4445 - 4s/epoch - 20ms/step\n",
      "Epoch 39/200\n",
      "201/201 - 4s - loss: 0.0141 - accuracy: 0.9983 - val_loss: 2.9608 - val_accuracy: 0.4560 - 4s/epoch - 20ms/step\n",
      "Epoch 40/200\n",
      "201/201 - 4s - loss: 0.0071 - accuracy: 0.9991 - val_loss: 2.9190 - val_accuracy: 0.4689 - 4s/epoch - 20ms/step\n",
      "Epoch 41/200\n",
      "201/201 - 4s - loss: 0.0052 - accuracy: 0.9991 - val_loss: 2.9278 - val_accuracy: 0.4727 - 4s/epoch - 20ms/step\n",
      "Epoch 42/200\n",
      "201/201 - 4s - loss: 0.0072 - accuracy: 0.9988 - val_loss: 2.9541 - val_accuracy: 0.4686 - 4s/epoch - 20ms/step\n",
      "Epoch 43/200\n",
      "201/201 - 4s - loss: 0.0074 - accuracy: 0.9986 - val_loss: 2.9749 - val_accuracy: 0.4521 - 4s/epoch - 20ms/step\n",
      "Epoch 44/200\n",
      "201/201 - 4s - loss: 0.0350 - accuracy: 0.9916 - val_loss: 3.6739 - val_accuracy: 0.3613 - 4s/epoch - 20ms/step\n",
      "Epoch 45/200\n",
      "201/201 - 4s - loss: 0.1929 - accuracy: 0.9495 - val_loss: 3.5629 - val_accuracy: 0.3752 - 4s/epoch - 20ms/step\n",
      "Epoch 46/200\n",
      "201/201 - 4s - loss: 0.0611 - accuracy: 0.9883 - val_loss: 3.1560 - val_accuracy: 0.4404 - 4s/epoch - 20ms/step\n",
      "Epoch 47/200\n",
      "201/201 - 4s - loss: 0.0151 - accuracy: 0.9977 - val_loss: 3.0478 - val_accuracy: 0.4632 - 4s/epoch - 20ms/step\n",
      "Epoch 48/200\n",
      "201/201 - 4s - loss: 0.0049 - accuracy: 0.9993 - val_loss: 3.0189 - val_accuracy: 0.4706 - 4s/epoch - 21ms/step\n",
      "Epoch 49/200\n",
      "201/201 - 4s - loss: 0.0041 - accuracy: 0.9992 - val_loss: 3.0304 - val_accuracy: 0.4714 - 4s/epoch - 20ms/step\n",
      "Epoch 50/200\n",
      "201/201 - 4s - loss: 0.0040 - accuracy: 0.9992 - val_loss: 3.0370 - val_accuracy: 0.4713 - 4s/epoch - 20ms/step\n",
      "Epoch 51/200\n",
      "201/201 - 4s - loss: 0.0029 - accuracy: 0.9993 - val_loss: 3.0664 - val_accuracy: 0.4738 - 4s/epoch - 20ms/step\n",
      "Epoch 52/200\n",
      "201/201 - 4s - loss: 0.0044 - accuracy: 0.9989 - val_loss: 3.1008 - val_accuracy: 0.4699 - 4s/epoch - 20ms/step\n",
      "Epoch 53/200\n",
      "201/201 - 4s - loss: 0.0137 - accuracy: 0.9967 - val_loss: 3.1652 - val_accuracy: 0.4465 - 4s/epoch - 20ms/step\n",
      "Epoch 54/200\n",
      "201/201 - 4s - loss: 0.1545 - accuracy: 0.9565 - val_loss: 3.9250 - val_accuracy: 0.3408 - 4s/epoch - 20ms/step\n",
      "Epoch 55/200\n",
      "201/201 - 4s - loss: 0.1265 - accuracy: 0.9694 - val_loss: 3.2780 - val_accuracy: 0.4233 - 4s/epoch - 20ms/step\n",
      "Epoch 56/200\n",
      "201/201 - 4s - loss: 0.0221 - accuracy: 0.9963 - val_loss: 3.1860 - val_accuracy: 0.4484 - 4s/epoch - 20ms/step\n",
      "Epoch 57/200\n",
      "201/201 - 4s - loss: 0.0070 - accuracy: 0.9989 - val_loss: 3.0812 - val_accuracy: 0.4678 - 4s/epoch - 20ms/step\n",
      "Epoch 58/200\n",
      "201/201 - 4s - loss: 0.0038 - accuracy: 0.9994 - val_loss: 3.0898 - val_accuracy: 0.4720 - 4s/epoch - 20ms/step\n",
      "Epoch 59/200\n",
      "201/201 - 4s - loss: 0.0030 - accuracy: 0.9993 - val_loss: 3.1092 - val_accuracy: 0.4733 - 4s/epoch - 20ms/step\n",
      "Epoch 60/200\n",
      "201/201 - 4s - loss: 0.0029 - accuracy: 0.9993 - val_loss: 3.1219 - val_accuracy: 0.4733 - 4s/epoch - 20ms/step\n",
      "Epoch 61/200\n",
      "201/201 - 4s - loss: 0.0026 - accuracy: 0.9993 - val_loss: 3.1212 - val_accuracy: 0.4745 - 4s/epoch - 20ms/step\n",
      "Epoch 62/200\n",
      "201/201 - 4s - loss: 0.0023 - accuracy: 0.9993 - val_loss: 3.1219 - val_accuracy: 0.4752 - 4s/epoch - 20ms/step\n",
      "Epoch 63/200\n",
      "201/201 - 4s - loss: 0.0022 - accuracy: 0.9994 - val_loss: 3.1670 - val_accuracy: 0.4741 - 4s/epoch - 20ms/step\n",
      "Epoch 64/200\n",
      "201/201 - 4s - loss: 0.0172 - accuracy: 0.9955 - val_loss: 3.7042 - val_accuracy: 0.3646 - 4s/epoch - 20ms/step\n",
      "Epoch 65/200\n",
      "201/201 - 4s - loss: 0.2445 - accuracy: 0.9298 - val_loss: 3.5961 - val_accuracy: 0.4013 - 4s/epoch - 20ms/step\n",
      "Epoch 66/200\n",
      "201/201 - 4s - loss: 0.0557 - accuracy: 0.9871 - val_loss: 3.1911 - val_accuracy: 0.4506 - 4s/epoch - 20ms/step\n",
      "Epoch 67/200\n",
      "201/201 - 4s - loss: 0.0106 - accuracy: 0.9986 - val_loss: 3.1686 - val_accuracy: 0.4660 - 4s/epoch - 20ms/step\n",
      "Epoch 68/200\n",
      "201/201 - 4s - loss: 0.0047 - accuracy: 0.9992 - val_loss: 3.1815 - val_accuracy: 0.4719 - 4s/epoch - 20ms/step\n",
      "Epoch 69/200\n",
      "201/201 - 4s - loss: 0.0032 - accuracy: 0.9993 - val_loss: 3.1747 - val_accuracy: 0.4769 - 4s/epoch - 21ms/step\n",
      "Epoch 70/200\n",
      "201/201 - 4s - loss: 0.0025 - accuracy: 0.9994 - val_loss: 3.1651 - val_accuracy: 0.4769 - 4s/epoch - 21ms/step\n",
      "Epoch 71/200\n",
      "201/201 - 4s - loss: 0.0023 - accuracy: 0.9993 - val_loss: 3.1930 - val_accuracy: 0.4777 - 4s/epoch - 20ms/step\n",
      "Epoch 72/200\n",
      "201/201 - 4s - loss: 0.0024 - accuracy: 0.9993 - val_loss: 3.1831 - val_accuracy: 0.4767 - 4s/epoch - 21ms/step\n",
      "Epoch 73/200\n",
      "201/201 - 4s - loss: 0.0022 - accuracy: 0.9993 - val_loss: 3.2041 - val_accuracy: 0.4780 - 4s/epoch - 20ms/step\n",
      "Epoch 74/200\n",
      "201/201 - 4s - loss: 0.0022 - accuracy: 0.9993 - val_loss: 3.2017 - val_accuracy: 0.4766 - 4s/epoch - 20ms/step\n",
      "Epoch 75/200\n",
      "201/201 - 4s - loss: 0.0021 - accuracy: 0.9992 - val_loss: 3.2306 - val_accuracy: 0.4805 - 4s/epoch - 20ms/step\n",
      "Epoch 76/200\n",
      "201/201 - 4s - loss: 0.0021 - accuracy: 0.9994 - val_loss: 3.2079 - val_accuracy: 0.4781 - 4s/epoch - 20ms/step\n",
      "Epoch 77/200\n",
      "201/201 - 4s - loss: 0.0022 - accuracy: 0.9993 - val_loss: 3.2426 - val_accuracy: 0.4706 - 4s/epoch - 20ms/step\n",
      "Epoch 78/200\n",
      "201/201 - 4s - loss: 0.0025 - accuracy: 0.9992 - val_loss: 3.2385 - val_accuracy: 0.4733 - 4s/epoch - 20ms/step\n",
      "Epoch 79/200\n",
      "201/201 - 4s - loss: 0.0024 - accuracy: 0.9993 - val_loss: 3.1954 - val_accuracy: 0.4756 - 4s/epoch - 20ms/step\n",
      "Epoch 80/200\n",
      "201/201 - 4s - loss: 0.0027 - accuracy: 0.9993 - val_loss: 3.3435 - val_accuracy: 0.4658 - 4s/epoch - 20ms/step\n",
      "Epoch 81/200\n",
      "201/201 - 4s - loss: 0.2303 - accuracy: 0.9306 - val_loss: 5.5234 - val_accuracy: 0.2274 - 4s/epoch - 20ms/step\n",
      "Epoch 82/200\n",
      "201/201 - 4s - loss: 0.2187 - accuracy: 0.9349 - val_loss: 3.3508 - val_accuracy: 0.4309 - 4s/epoch - 20ms/step\n",
      "Epoch 83/200\n",
      "201/201 - 4s - loss: 0.0214 - accuracy: 0.9965 - val_loss: 3.1621 - val_accuracy: 0.4641 - 4s/epoch - 20ms/step\n",
      "Epoch 84/200\n",
      "201/201 - 4s - loss: 0.0066 - accuracy: 0.9989 - val_loss: 3.1658 - val_accuracy: 0.4725 - 4s/epoch - 20ms/step\n",
      "Epoch 85/200\n",
      "201/201 - 4s - loss: 0.0035 - accuracy: 0.9994 - val_loss: 3.2190 - val_accuracy: 0.4759 - 4s/epoch - 20ms/step\n",
      "Epoch 86/200\n",
      "201/201 - 4s - loss: 0.0029 - accuracy: 0.9994 - val_loss: 3.2150 - val_accuracy: 0.4767 - 4s/epoch - 20ms/step\n",
      "Epoch 87/200\n",
      "201/201 - 4s - loss: 0.0025 - accuracy: 0.9993 - val_loss: 3.2386 - val_accuracy: 0.4758 - 4s/epoch - 20ms/step\n",
      "Epoch 88/200\n",
      "201/201 - 4s - loss: 0.0024 - accuracy: 0.9993 - val_loss: 3.2438 - val_accuracy: 0.4734 - 4s/epoch - 20ms/step\n",
      "Epoch 89/200\n",
      "201/201 - 4s - loss: 0.0022 - accuracy: 0.9993 - val_loss: 3.2531 - val_accuracy: 0.4766 - 4s/epoch - 20ms/step\n",
      "Epoch 90/200\n",
      "201/201 - 4s - loss: 0.0022 - accuracy: 0.9992 - val_loss: 3.2647 - val_accuracy: 0.4789 - 4s/epoch - 20ms/step\n",
      "Epoch 91/200\n",
      "201/201 - 4s - loss: 0.0020 - accuracy: 0.9993 - val_loss: 3.2584 - val_accuracy: 0.4777 - 4s/epoch - 20ms/step\n",
      "Epoch 92/200\n",
      "201/201 - 4s - loss: 0.0020 - accuracy: 0.9992 - val_loss: 3.2813 - val_accuracy: 0.4773 - 4s/epoch - 20ms/step\n",
      "Epoch 93/200\n",
      "201/201 - 4s - loss: 0.0018 - accuracy: 0.9993 - val_loss: 3.2956 - val_accuracy: 0.4791 - 4s/epoch - 20ms/step\n",
      "Epoch 94/200\n",
      "201/201 - 4s - loss: 0.0019 - accuracy: 0.9993 - val_loss: 3.3116 - val_accuracy: 0.4794 - 4s/epoch - 20ms/step\n",
      "Epoch 95/200\n",
      "201/201 - 4s - loss: 0.0019 - accuracy: 0.9994 - val_loss: 3.3121 - val_accuracy: 0.4784 - 4s/epoch - 20ms/step\n",
      "Epoch 96/200\n",
      "201/201 - 4s - loss: 0.0018 - accuracy: 0.9994 - val_loss: 3.3266 - val_accuracy: 0.4784 - 4s/epoch - 20ms/step\n",
      "Epoch 97/200\n",
      "201/201 - 4s - loss: 0.0020 - accuracy: 0.9992 - val_loss: 3.3392 - val_accuracy: 0.4809 - 4s/epoch - 20ms/step\n",
      "Epoch 98/200\n",
      "201/201 - 4s - loss: 0.0019 - accuracy: 0.9993 - val_loss: 3.3907 - val_accuracy: 0.4758 - 4s/epoch - 20ms/step\n",
      "Epoch 99/200\n",
      "201/201 - 4s - loss: 0.0019 - accuracy: 0.9994 - val_loss: 3.3600 - val_accuracy: 0.4736 - 4s/epoch - 20ms/step\n",
      "Epoch 100/200\n",
      "201/201 - 4s - loss: 0.0023 - accuracy: 0.9993 - val_loss: 3.3715 - val_accuracy: 0.4756 - 4s/epoch - 20ms/step\n",
      "Epoch 101/200\n",
      "201/201 - 4s - loss: 0.0023 - accuracy: 0.9993 - val_loss: 3.2973 - val_accuracy: 0.4677 - 4s/epoch - 20ms/step\n",
      "Epoch 102/200\n",
      "201/201 - 4s - loss: 0.0027 - accuracy: 0.9992 - val_loss: 3.4646 - val_accuracy: 0.4646 - 4s/epoch - 20ms/step\n",
      "Epoch 103/200\n",
      "201/201 - 4s - loss: 0.4229 - accuracy: 0.8720 - val_loss: 3.7397 - val_accuracy: 0.3844 - 4s/epoch - 20ms/step\n",
      "Epoch 104/200\n",
      "201/201 - 4s - loss: 0.0615 - accuracy: 0.9858 - val_loss: 3.2782 - val_accuracy: 0.4397 - 4s/epoch - 20ms/step\n",
      "Epoch 105/200\n",
      "201/201 - 4s - loss: 0.0117 - accuracy: 0.9983 - val_loss: 3.3009 - val_accuracy: 0.4664 - 4s/epoch - 20ms/step\n",
      "Epoch 106/200\n",
      "201/201 - 4s - loss: 0.0045 - accuracy: 0.9992 - val_loss: 3.2859 - val_accuracy: 0.4710 - 4s/epoch - 20ms/step\n",
      "Epoch 107/200\n",
      "201/201 - 4s - loss: 0.0030 - accuracy: 0.9993 - val_loss: 3.2926 - val_accuracy: 0.4736 - 4s/epoch - 20ms/step\n",
      "Epoch 108/200\n",
      "201/201 - 4s - loss: 0.0026 - accuracy: 0.9993 - val_loss: 3.2982 - val_accuracy: 0.4759 - 4s/epoch - 20ms/step\n",
      "Epoch 109/200\n",
      "201/201 - 4s - loss: 0.0023 - accuracy: 0.9995 - val_loss: 3.3164 - val_accuracy: 0.4767 - 4s/epoch - 20ms/step\n",
      "Epoch 110/200\n",
      "201/201 - 4s - loss: 0.0021 - accuracy: 0.9993 - val_loss: 3.3276 - val_accuracy: 0.4766 - 4s/epoch - 20ms/step\n",
      "Epoch 111/200\n",
      "201/201 - 4s - loss: 0.0020 - accuracy: 0.9993 - val_loss: 3.3389 - val_accuracy: 0.4748 - 4s/epoch - 21ms/step\n",
      "Epoch 112/200\n",
      "201/201 - 4s - loss: 0.0018 - accuracy: 0.9993 - val_loss: 3.3553 - val_accuracy: 0.4758 - 4s/epoch - 21ms/step\n",
      "Epoch 113/200\n",
      "201/201 - 4s - loss: 0.0018 - accuracy: 0.9991 - val_loss: 3.3644 - val_accuracy: 0.4772 - 4s/epoch - 21ms/step\n",
      "Epoch 114/200\n",
      "201/201 - 4s - loss: 0.0017 - accuracy: 0.9993 - val_loss: 3.3544 - val_accuracy: 0.4739 - 4s/epoch - 21ms/step\n",
      "Epoch 115/200\n",
      "201/201 - 4s - loss: 0.0017 - accuracy: 0.9994 - val_loss: 3.3589 - val_accuracy: 0.4769 - 4s/epoch - 21ms/step\n",
      "Epoch 116/200\n",
      "201/201 - 4s - loss: 0.0017 - accuracy: 0.9992 - val_loss: 3.3603 - val_accuracy: 0.4731 - 4s/epoch - 21ms/step\n",
      "Epoch 117/200\n",
      "201/201 - 4s - loss: 0.0016 - accuracy: 0.9993 - val_loss: 3.4075 - val_accuracy: 0.4759 - 4s/epoch - 21ms/step\n",
      "Epoch 118/200\n",
      "201/201 - 4s - loss: 0.0017 - accuracy: 0.9993 - val_loss: 3.4171 - val_accuracy: 0.4745 - 4s/epoch - 21ms/step\n",
      "Epoch 119/200\n",
      "201/201 - 4s - loss: 0.0017 - accuracy: 0.9993 - val_loss: 3.3650 - val_accuracy: 0.4766 - 4s/epoch - 21ms/step\n",
      "Epoch 120/200\n",
      "201/201 - 4s - loss: 0.0016 - accuracy: 0.9994 - val_loss: 3.3979 - val_accuracy: 0.4778 - 4s/epoch - 21ms/step\n",
      "Epoch 121/200\n",
      "201/201 - 4s - loss: 0.0017 - accuracy: 0.9993 - val_loss: 3.4590 - val_accuracy: 0.4772 - 4s/epoch - 20ms/step\n",
      "Epoch 122/200\n",
      "201/201 - 4s - loss: 0.0015 - accuracy: 0.9995 - val_loss: 3.4938 - val_accuracy: 0.4724 - 4s/epoch - 21ms/step\n",
      "Epoch 123/200\n",
      "201/201 - 4s - loss: 0.0016 - accuracy: 0.9993 - val_loss: 3.4048 - val_accuracy: 0.4781 - 4s/epoch - 20ms/step\n",
      "Epoch 124/200\n",
      "201/201 - 4s - loss: 0.0018 - accuracy: 0.9993 - val_loss: 3.4322 - val_accuracy: 0.4811 - 4s/epoch - 21ms/step\n",
      "Epoch 125/200\n",
      "201/201 - 4s - loss: 0.0020 - accuracy: 0.9994 - val_loss: 3.5589 - val_accuracy: 0.4660 - 4s/epoch - 21ms/step\n",
      "Epoch 126/200\n",
      "201/201 - 5s - loss: 0.0063 - accuracy: 0.9985 - val_loss: 5.1649 - val_accuracy: 0.3207 - 5s/epoch - 23ms/step\n",
      "Epoch 127/200\n",
      "201/201 - 4s - loss: 0.3563 - accuracy: 0.8884 - val_loss: 3.5957 - val_accuracy: 0.4107 - 4s/epoch - 21ms/step\n",
      "Epoch 128/200\n",
      "201/201 - 4s - loss: 0.0347 - accuracy: 0.9919 - val_loss: 3.3222 - val_accuracy: 0.4580 - 4s/epoch - 21ms/step\n",
      "Epoch 129/200\n",
      "201/201 - 4s - loss: 0.0085 - accuracy: 0.9984 - val_loss: 3.4238 - val_accuracy: 0.4660 - 4s/epoch - 20ms/step\n",
      "Epoch 130/200\n",
      "201/201 - 4s - loss: 0.0049 - accuracy: 0.9989 - val_loss: 3.4291 - val_accuracy: 0.4739 - 4s/epoch - 20ms/step\n",
      "Epoch 131/200\n",
      "201/201 - 4s - loss: 0.0026 - accuracy: 0.9994 - val_loss: 3.4112 - val_accuracy: 0.4759 - 4s/epoch - 20ms/step\n",
      "Epoch 132/200\n",
      "201/201 - 4s - loss: 0.0022 - accuracy: 0.9994 - val_loss: 3.4140 - val_accuracy: 0.4767 - 4s/epoch - 20ms/step\n",
      "Epoch 133/200\n",
      "201/201 - 4s - loss: 0.0020 - accuracy: 0.9992 - val_loss: 3.4254 - val_accuracy: 0.4756 - 4s/epoch - 20ms/step\n",
      "Epoch 134/200\n",
      "201/201 - 4s - loss: 0.0018 - accuracy: 0.9993 - val_loss: 3.4402 - val_accuracy: 0.4778 - 4s/epoch - 20ms/step\n",
      "Epoch 135/200\n",
      "201/201 - 4s - loss: 0.0018 - accuracy: 0.9994 - val_loss: 3.4405 - val_accuracy: 0.4762 - 4s/epoch - 20ms/step\n",
      "Epoch 136/200\n",
      "201/201 - 4s - loss: 0.0017 - accuracy: 0.9992 - val_loss: 3.4542 - val_accuracy: 0.4759 - 4s/epoch - 20ms/step\n",
      "Epoch 137/200\n",
      "201/201 - 4s - loss: 0.0016 - accuracy: 0.9992 - val_loss: 3.4561 - val_accuracy: 0.4772 - 4s/epoch - 20ms/step\n",
      "Epoch 138/200\n",
      "201/201 - 4s - loss: 0.0015 - accuracy: 0.9994 - val_loss: 3.4677 - val_accuracy: 0.4752 - 4s/epoch - 20ms/step\n",
      "Epoch 139/200\n",
      "201/201 - 4s - loss: 0.0015 - accuracy: 0.9993 - val_loss: 3.4558 - val_accuracy: 0.4783 - 4s/epoch - 20ms/step\n",
      "Epoch 140/200\n",
      "201/201 - 4s - loss: 0.0014 - accuracy: 0.9993 - val_loss: 3.4797 - val_accuracy: 0.4783 - 4s/epoch - 20ms/step\n",
      "Epoch 141/200\n",
      "201/201 - 4s - loss: 0.0014 - accuracy: 0.9992 - val_loss: 3.5349 - val_accuracy: 0.4767 - 4s/epoch - 20ms/step\n",
      "Epoch 142/200\n",
      "201/201 - 4s - loss: 0.0014 - accuracy: 0.9993 - val_loss: 3.4703 - val_accuracy: 0.4792 - 4s/epoch - 20ms/step\n",
      "Epoch 143/200\n",
      "201/201 - 4s - loss: 0.0014 - accuracy: 0.9993 - val_loss: 3.5441 - val_accuracy: 0.4794 - 4s/epoch - 20ms/step\n",
      "Epoch 144/200\n",
      "201/201 - 4s - loss: 0.0014 - accuracy: 0.9993 - val_loss: 3.5194 - val_accuracy: 0.4773 - 4s/epoch - 20ms/step\n",
      "Epoch 145/200\n",
      "201/201 - 4s - loss: 0.0013 - accuracy: 0.9995 - val_loss: 3.5473 - val_accuracy: 0.4783 - 4s/epoch - 20ms/step\n",
      "Epoch 146/200\n",
      "201/201 - 4s - loss: 0.0013 - accuracy: 0.9994 - val_loss: 3.4695 - val_accuracy: 0.4789 - 4s/epoch - 20ms/step\n",
      "Epoch 147/200\n",
      "201/201 - 4s - loss: 0.0015 - accuracy: 0.9993 - val_loss: 3.5709 - val_accuracy: 0.4831 - 4s/epoch - 20ms/step\n",
      "Epoch 148/200\n",
      "201/201 - 4s - loss: 0.0016 - accuracy: 0.9992 - val_loss: 3.5985 - val_accuracy: 0.4766 - 4s/epoch - 20ms/step\n",
      "Epoch 149/200\n",
      "201/201 - 4s - loss: 0.0018 - accuracy: 0.9993 - val_loss: 3.6092 - val_accuracy: 0.4784 - 4s/epoch - 20ms/step\n",
      "Epoch 150/200\n",
      "201/201 - 4s - loss: 0.0016 - accuracy: 0.9993 - val_loss: 3.5518 - val_accuracy: 0.4773 - 4s/epoch - 20ms/step\n",
      "Epoch 151/200\n",
      "201/201 - 4s - loss: 0.0018 - accuracy: 0.9993 - val_loss: 3.5672 - val_accuracy: 0.4762 - 4s/epoch - 20ms/step\n",
      "Epoch 152/200\n",
      "201/201 - 4s - loss: 0.0015 - accuracy: 0.9994 - val_loss: 3.7554 - val_accuracy: 0.4717 - 4s/epoch - 20ms/step\n",
      "Epoch 153/200\n",
      "201/201 - 4s - loss: 0.0015 - accuracy: 0.9993 - val_loss: 3.5316 - val_accuracy: 0.4775 - 4s/epoch - 20ms/step\n",
      "Epoch 154/200\n",
      "201/201 - 4s - loss: 0.0016 - accuracy: 0.9993 - val_loss: 3.6926 - val_accuracy: 0.4742 - 4s/epoch - 20ms/step\n",
      "Epoch 155/200\n",
      "201/201 - 4s - loss: 0.0016 - accuracy: 0.9993 - val_loss: 3.7344 - val_accuracy: 0.4646 - 4s/epoch - 20ms/step\n",
      "Epoch 156/200\n",
      "201/201 - 4s - loss: 0.3253 - accuracy: 0.9021 - val_loss: 3.8957 - val_accuracy: 0.3984 - 4s/epoch - 20ms/step\n",
      "Epoch 157/200\n",
      "201/201 - 4s - loss: 0.0588 - accuracy: 0.9848 - val_loss: 3.4137 - val_accuracy: 0.4524 - 4s/epoch - 20ms/step\n",
      "Epoch 158/200\n",
      "201/201 - 4s - loss: 0.0090 - accuracy: 0.9986 - val_loss: 3.4385 - val_accuracy: 0.4610 - 4s/epoch - 20ms/step\n",
      "Epoch 159/200\n",
      "201/201 - 4s - loss: 0.0032 - accuracy: 0.9993 - val_loss: 3.5026 - val_accuracy: 0.4675 - 4s/epoch - 20ms/step\n",
      "Epoch 160/200\n",
      "201/201 - 4s - loss: 0.0024 - accuracy: 0.9993 - val_loss: 3.4949 - val_accuracy: 0.4694 - 4s/epoch - 20ms/step\n",
      "Epoch 161/200\n",
      "201/201 - 4s - loss: 0.0020 - accuracy: 0.9992 - val_loss: 3.5130 - val_accuracy: 0.4714 - 4s/epoch - 20ms/step\n",
      "Epoch 162/200\n",
      "201/201 - 4s - loss: 0.0018 - accuracy: 0.9993 - val_loss: 3.5305 - val_accuracy: 0.4699 - 4s/epoch - 20ms/step\n",
      "Epoch 163/200\n",
      "201/201 - 4s - loss: 0.0017 - accuracy: 0.9994 - val_loss: 3.5350 - val_accuracy: 0.4713 - 4s/epoch - 20ms/step\n",
      "Epoch 164/200\n",
      "201/201 - 4s - loss: 0.0015 - accuracy: 0.9994 - val_loss: 3.5463 - val_accuracy: 0.4725 - 4s/epoch - 20ms/step\n",
      "Epoch 165/200\n",
      "201/201 - 4s - loss: 0.0015 - accuracy: 0.9992 - val_loss: 3.5623 - val_accuracy: 0.4717 - 4s/epoch - 20ms/step\n",
      "Epoch 166/200\n",
      "201/201 - 4s - loss: 0.0014 - accuracy: 0.9993 - val_loss: 3.5471 - val_accuracy: 0.4747 - 4s/epoch - 20ms/step\n",
      "Epoch 167/200\n",
      "201/201 - 4s - loss: 0.0014 - accuracy: 0.9994 - val_loss: 3.5715 - val_accuracy: 0.4720 - 4s/epoch - 20ms/step\n",
      "Epoch 168/200\n",
      "201/201 - 4s - loss: 0.0014 - accuracy: 0.9993 - val_loss: 3.5769 - val_accuracy: 0.4724 - 4s/epoch - 20ms/step\n",
      "Epoch 169/200\n",
      "201/201 - 4s - loss: 0.0013 - accuracy: 0.9994 - val_loss: 3.5965 - val_accuracy: 0.4724 - 4s/epoch - 20ms/step\n",
      "Epoch 170/200\n",
      "201/201 - 4s - loss: 0.0013 - accuracy: 0.9994 - val_loss: 3.5935 - val_accuracy: 0.4736 - 4s/epoch - 20ms/step\n",
      "Epoch 171/200\n",
      "201/201 - 4s - loss: 0.0012 - accuracy: 0.9993 - val_loss: 3.6020 - val_accuracy: 0.4738 - 4s/epoch - 20ms/step\n",
      "Epoch 172/200\n",
      "201/201 - 4s - loss: 0.0012 - accuracy: 0.9993 - val_loss: 3.5977 - val_accuracy: 0.4733 - 4s/epoch - 20ms/step\n",
      "Epoch 173/200\n",
      "201/201 - 4s - loss: 0.0012 - accuracy: 0.9994 - val_loss: 3.6065 - val_accuracy: 0.4742 - 4s/epoch - 20ms/step\n",
      "Epoch 174/200\n",
      "201/201 - 4s - loss: 0.0012 - accuracy: 0.9994 - val_loss: 3.6629 - val_accuracy: 0.4748 - 4s/epoch - 20ms/step\n",
      "Epoch 175/200\n",
      "201/201 - 4s - loss: 0.0011 - accuracy: 0.9995 - val_loss: 3.6350 - val_accuracy: 0.4738 - 4s/epoch - 20ms/step\n",
      "Epoch 176/200\n",
      "201/201 - 4s - loss: 0.0012 - accuracy: 0.9993 - val_loss: 3.6157 - val_accuracy: 0.4724 - 4s/epoch - 20ms/step\n",
      "Epoch 177/200\n",
      "201/201 - 4s - loss: 0.0012 - accuracy: 0.9994 - val_loss: 3.6731 - val_accuracy: 0.4731 - 4s/epoch - 20ms/step\n",
      "Epoch 178/200\n",
      "201/201 - 4s - loss: 0.0012 - accuracy: 0.9993 - val_loss: 3.6059 - val_accuracy: 0.4741 - 4s/epoch - 20ms/step\n",
      "Epoch 179/200\n",
      "201/201 - 4s - loss: 0.0012 - accuracy: 0.9993 - val_loss: 3.7246 - val_accuracy: 0.4708 - 4s/epoch - 20ms/step\n",
      "Epoch 180/200\n",
      "201/201 - 4s - loss: 0.0012 - accuracy: 0.9993 - val_loss: 3.7108 - val_accuracy: 0.4717 - 4s/epoch - 20ms/step\n",
      "Epoch 181/200\n",
      "201/201 - 4s - loss: 0.0013 - accuracy: 0.9993 - val_loss: 3.7885 - val_accuracy: 0.4652 - 4s/epoch - 20ms/step\n",
      "Epoch 182/200\n",
      "201/201 - 4s - loss: 0.2245 - accuracy: 0.9310 - val_loss: 5.0705 - val_accuracy: 0.3593 - 4s/epoch - 19ms/step\n",
      "Epoch 183/200\n",
      "201/201 - 4s - loss: 0.1104 - accuracy: 0.9671 - val_loss: 3.6071 - val_accuracy: 0.4378 - 4s/epoch - 20ms/step\n",
      "Epoch 184/200\n",
      "201/201 - 4s - loss: 0.0122 - accuracy: 0.9975 - val_loss: 3.5772 - val_accuracy: 0.4579 - 4s/epoch - 20ms/step\n",
      "Epoch 185/200\n",
      "201/201 - 4s - loss: 0.0041 - accuracy: 0.9993 - val_loss: 3.6074 - val_accuracy: 0.4627 - 4s/epoch - 20ms/step\n",
      "Epoch 186/200\n",
      "201/201 - 4s - loss: 0.0024 - accuracy: 0.9993 - val_loss: 3.5733 - val_accuracy: 0.4672 - 4s/epoch - 20ms/step\n",
      "Epoch 187/200\n",
      "201/201 - 4s - loss: 0.0019 - accuracy: 0.9993 - val_loss: 3.5968 - val_accuracy: 0.4680 - 4s/epoch - 20ms/step\n",
      "Epoch 188/200\n",
      "201/201 - 4s - loss: 0.0017 - accuracy: 0.9993 - val_loss: 3.6109 - val_accuracy: 0.4682 - 4s/epoch - 20ms/step\n",
      "Epoch 189/200\n",
      "201/201 - 4s - loss: 0.0016 - accuracy: 0.9993 - val_loss: 3.6187 - val_accuracy: 0.4685 - 4s/epoch - 20ms/step\n",
      "Epoch 190/200\n",
      "201/201 - 4s - loss: 0.0015 - accuracy: 0.9993 - val_loss: 3.6330 - val_accuracy: 0.4669 - 4s/epoch - 20ms/step\n",
      "Epoch 191/200\n",
      "201/201 - 4s - loss: 0.0014 - accuracy: 0.9993 - val_loss: 3.6411 - val_accuracy: 0.4664 - 4s/epoch - 20ms/step\n",
      "Epoch 192/200\n",
      "201/201 - 4s - loss: 0.0014 - accuracy: 0.9993 - val_loss: 3.6448 - val_accuracy: 0.4674 - 4s/epoch - 20ms/step\n",
      "Epoch 193/200\n",
      "201/201 - 4s - loss: 0.0013 - accuracy: 0.9995 - val_loss: 3.6448 - val_accuracy: 0.4680 - 4s/epoch - 20ms/step\n",
      "Epoch 194/200\n",
      "201/201 - 4s - loss: 0.0013 - accuracy: 0.9993 - val_loss: 3.6669 - val_accuracy: 0.4691 - 4s/epoch - 20ms/step\n",
      "Epoch 195/200\n",
      "201/201 - 4s - loss: 0.0016 - accuracy: 0.9992 - val_loss: 3.7909 - val_accuracy: 0.4608 - 4s/epoch - 20ms/step\n",
      "Epoch 196/200\n",
      "201/201 - 4s - loss: 0.1452 - accuracy: 0.9576 - val_loss: 4.2883 - val_accuracy: 0.3802 - 4s/epoch - 20ms/step\n",
      "Epoch 197/200\n",
      "201/201 - 4s - loss: 0.0621 - accuracy: 0.9807 - val_loss: 3.6655 - val_accuracy: 0.4306 - 4s/epoch - 20ms/step\n",
      "Epoch 198/200\n",
      "201/201 - 4s - loss: 0.0144 - accuracy: 0.9968 - val_loss: 3.5763 - val_accuracy: 0.4537 - 4s/epoch - 20ms/step\n",
      "Epoch 199/200\n",
      "201/201 - 4s - loss: 0.0085 - accuracy: 0.9980 - val_loss: 3.6876 - val_accuracy: 0.4541 - 4s/epoch - 20ms/step\n",
      "Epoch 200/200\n",
      "201/201 - 4s - loss: 0.0031 - accuracy: 0.9990 - val_loss: 3.7260 - val_accuracy: 0.4574 - 4s/epoch - 20ms/step\n"
     ]
    }
   ],
   "execution_count": 25
  },
  {
   "metadata": {
    "ExecuteTime": {
     "end_time": "2024-09-13T04:00:29.461470Z",
     "start_time": "2024-09-13T04:00:29.290470Z"
    }
   },
   "cell_type": "code",
   "source": [
    "accuracies = model_train_info.history['accuracy']\n",
    "val_accuracies = model_train_info.history['val_accuracy']\n",
    "\n",
    "plt.plot(list(range(epochs)), accuracies, label = 'accuracy')\n",
    "plt.plot(list(range(epochs)), val_accuracies, label = 'val_accuracy')\n",
    "plt.legend()\n",
    "plt.grid()\n",
    "plt.xticks(ticks = list(range(1, epochs + 1))) \n",
    "plt.xlabel('Epoch')\n",
    "plt.ylabel('Accuracy')\n",
    "plt.xticks(ticks=list(range(0, epochs + 1, 10)))\n",
    "plt.show()"
   ],
   "id": "a8b6944fb6ee6017",
   "outputs": [
    {
     "data": {
      "text/plain": [
       "<Figure size 640x480 with 1 Axes>"
      ],
      "image/png": "[encoded data removed]"
     },
     "metadata": {},
     "output_type": "display_data"
    }
   ],
   "execution_count": 26
  },
  {
   "metadata": {},
   "cell_type": "markdown",
   "source": "準確度",
   "id": "432e34e37cedf37e"
  },
  {
   "metadata": {
    "ExecuteTime": {
     "end_time": "2024-09-13T04:00:29.492469Z",
     "start_time": "2024-09-13T04:00:29.478472Z"
    }
   },
   "cell_type": "code",
   "source": [
    "print(f\"資料: {mfcc_list_scaled.shape}\")\n",
    "print(f\"最高準確率: {max(val_accuracies)}\")"
   ],
   "id": "546b2de91c166fac",
   "outputs": [
    {
     "name": "stdout",
     "output_type": "stream",
     "text": [
      "資料: (32103, 13, 44)\n",
      "最高準確率: 0.48310232162475586\n"
     ]
    }
   ],
   "execution_count": 27
  },
  {
   "metadata": {
    "ExecuteTime": {
     "end_time": "2024-09-13T04:00:29.618055Z",
     "start_time": "2024-09-13T04:00:29.509471Z"
    }
   },
   "cell_type": "code",
   "source": "model.save(f\"{os.getcwd()}\\\\cnn_model.h5\")",
   "id": "e829f440a574764",
   "outputs": [],
   "execution_count": 28
  },
  {
   "metadata": {},
   "cell_type": "markdown",
   "source": "",
   "id": "c244861e383e27e4"
  }
 ],
 "metadata": {
  "kernelspec": {
   "display_name": "Python 3",
   "language": "python",
   "name": "python3"
  },
  "language_info": {
   "codemirror_mode": {
    "name": "ipython",
    "version": 2
   },
   "file_extension": ".py",
   "mimetype": "text/x-python",
   "name": "python",
   "nbconvert_exporter": "python",
   "pygments_lexer": "ipython2",
   "version": "2.7.6"
  }
 },
 "nbformat": 4,
 "nbformat_minor": 5
}
