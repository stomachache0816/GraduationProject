{
 "cells": [
  {
   "cell_type": "code",
   "id": "initial_id",
   "metadata": {
    "collapsed": true,
    "ExecuteTime": {
     "end_time": "2024-09-24T18:29:10.886530Z",
     "start_time": "2024-09-24T18:29:02.388352Z"
    }
   },
   "source": [
    "\n",
    "import platform\n",
    "print(f\"platform.python_version(): {platform.python_version()}\")\n",
    "\n",
    "import os\n",
    "import scipy\n",
    "import numpy as np\n",
    "from glob import glob\n",
    "from tqdm import tqdm\n",
    "import pandas as pd\n",
    "\n",
    "\n",
    "from sklearn.preprocessing import StandardScaler\n",
    "from sklearn.model_selection import train_test_split\n",
    "\n",
    "import tensorflow as tf\n",
    "from tensorflow import keras\n",
    "from keras import Sequential\n",
    "from keras.utils import to_categorical\n",
    "from keras.layers import Dense, Flatten, Conv2D, MaxPooling2D, BatchNormalization, Activation\n",
    "\n",
    "import matplotlib.pyplot as plt\n",
    "\n",
    "print(f\"np.version.version: {np.version.version}\")\n",
    "print(f\"scipy.__version__: {scipy.__version__}\")\n",
    "print(f\"tf.__version__: {tf.__version__}\")\n",
    "# 確認GPU是否可用\n",
    "gpus = tf.config.experimental.list_physical_devices('GPU')\n",
    "print(f\"tf.config.list_physical_devices('GPU'): {tf.config.list_physical_devices('GPU')}\")"
   ],
   "outputs": [
    {
     "name": "stdout",
     "output_type": "stream",
     "text": [
      "platform.python_version(): 3.9.13\n",
      "np.version.version: 1.22.4\n",
      "scipy.__version__: 1.7.3\n",
      "tf.__version__: 2.10.1\n",
      "tf.config.list_physical_devices('GPU'): [PhysicalDevice(name='/physical_device:GPU:0', device_type='GPU')]\n"
     ]
    }
   ],
   "execution_count": 11
  },
  {
   "metadata": {
    "ExecuteTime": {
     "end_time": "2024-09-24T18:25:02.837429Z",
     "start_time": "2024-09-24T18:25:02.816228Z"
    }
   },
   "cell_type": "code",
   "source": [
    "df = pd.read_csv(filepath_or_buffer=f\".\\\\pinyin_classes_layer_1_table.csv\", encoding='utf-8')\n",
    "df"
   ],
   "id": "16557171bacfacfd",
   "outputs": [
    {
     "data": {
      "text/plain": [
       "    bopomofo pinyin hu_yin she2_yin  hu_yin_label  she2_yin_label  class_label\n",
       "0          ㄓ    zhi    純聲符      翹舌音             0               5            0\n",
       "1          ㄔ    chi    純聲符      翹舌音             0               5            0\n",
       "2          ㄕ    shi    純聲符      翹舌音             0               5            0\n",
       "3          ㄖ     ri    純聲符      翹舌音             0               5            0\n",
       "4          ㄗ     zi    純聲符      平舌音             0               6            1\n",
       "..       ...    ...    ...      ...           ...             ...          ...\n",
       "402      ㄒㄩㄣ    xun    撮口呼      舌面音             4               4           20\n",
       "403       ㄩㄥ   yong    撮口呼      純韻符             4               0           18\n",
       "404      ㄐㄩㄥ  jiong    撮口呼      舌面音             4               4           20\n",
       "405      ㄑㄩㄥ  qiong    撮口呼      舌面音             4               4           20\n",
       "406      ㄒㄩㄥ  xiong    撮口呼      舌面音             4               4           20\n",
       "\n",
       "[407 rows x 7 columns]"
      ],
      "text/html": [
       "<div>\n",
       "<style scoped>\n",
       "    .dataframe tbody tr th:only-of-type {\n",
       "        vertical-align: middle;\n",
       "    }\n",
       "\n",
       "    .dataframe tbody tr th {\n",
       "        vertical-align: top;\n",
       "    }\n",
       "\n",
       "    .dataframe thead th {\n",
       "        text-align: right;\n",
       "    }\n",
       "</style>\n",
       "<table border=\"1\" class=\"dataframe\">\n",
       "  <thead>\n",
       "    <tr style=\"text-align: right;\">\n",
       "      <th></th>\n",
       "      <th>bopomofo</th>\n",
       "      <th>pinyin</th>\n",
       "      <th>hu_yin</th>\n",
       "      <th>she2_yin</th>\n",
       "      <th>hu_yin_label</th>\n",
       "      <th>she2_yin_label</th>\n",
       "      <th>class_label</th>\n",
       "    </tr>\n",
       "  </thead>\n",
       "  <tbody>\n",
       "    <tr>\n",
       "      <th>0</th>\n",
       "      <td>ㄓ</td>\n",
       "      <td>zhi</td>\n",
       "      <td>純聲符</td>\n",
       "      <td>翹舌音</td>\n",
       "      <td>0</td>\n",
       "      <td>5</td>\n",
       "      <td>0</td>\n",
       "    </tr>\n",
       "    <tr>\n",
       "      <th>1</th>\n",
       "      <td>ㄔ</td>\n",
       "      <td>chi</td>\n",
       "      <td>純聲符</td>\n",
       "      <td>翹舌音</td>\n",
       "      <td>0</td>\n",
       "      <td>5</td>\n",
       "      <td>0</td>\n",
       "    </tr>\n",
       "    <tr>\n",
       "      <th>2</th>\n",
       "      <td>ㄕ</td>\n",
       "      <td>shi</td>\n",
       "      <td>純聲符</td>\n",
       "      <td>翹舌音</td>\n",
       "      <td>0</td>\n",
       "      <td>5</td>\n",
       "      <td>0</td>\n",
       "    </tr>\n",
       "    <tr>\n",
       "      <th>3</th>\n",
       "      <td>ㄖ</td>\n",
       "      <td>ri</td>\n",
       "      <td>純聲符</td>\n",
       "      <td>翹舌音</td>\n",
       "      <td>0</td>\n",
       "      <td>5</td>\n",
       "      <td>0</td>\n",
       "    </tr>\n",
       "    <tr>\n",
       "      <th>4</th>\n",
       "      <td>ㄗ</td>\n",
       "      <td>zi</td>\n",
       "      <td>純聲符</td>\n",
       "      <td>平舌音</td>\n",
       "      <td>0</td>\n",
       "      <td>6</td>\n",
       "      <td>1</td>\n",
       "    </tr>\n",
       "    <tr>\n",
       "      <th>...</th>\n",
       "      <td>...</td>\n",
       "      <td>...</td>\n",
       "      <td>...</td>\n",
       "      <td>...</td>\n",
       "      <td>...</td>\n",
       "      <td>...</td>\n",
       "      <td>...</td>\n",
       "    </tr>\n",
       "    <tr>\n",
       "      <th>402</th>\n",
       "      <td>ㄒㄩㄣ</td>\n",
       "      <td>xun</td>\n",
       "      <td>撮口呼</td>\n",
       "      <td>舌面音</td>\n",
       "      <td>4</td>\n",
       "      <td>4</td>\n",
       "      <td>20</td>\n",
       "    </tr>\n",
       "    <tr>\n",
       "      <th>403</th>\n",
       "      <td>ㄩㄥ</td>\n",
       "      <td>yong</td>\n",
       "      <td>撮口呼</td>\n",
       "      <td>純韻符</td>\n",
       "      <td>4</td>\n",
       "      <td>0</td>\n",
       "      <td>18</td>\n",
       "    </tr>\n",
       "    <tr>\n",
       "      <th>404</th>\n",
       "      <td>ㄐㄩㄥ</td>\n",
       "      <td>jiong</td>\n",
       "      <td>撮口呼</td>\n",
       "      <td>舌面音</td>\n",
       "      <td>4</td>\n",
       "      <td>4</td>\n",
       "      <td>20</td>\n",
       "    </tr>\n",
       "    <tr>\n",
       "      <th>405</th>\n",
       "      <td>ㄑㄩㄥ</td>\n",
       "      <td>qiong</td>\n",
       "      <td>撮口呼</td>\n",
       "      <td>舌面音</td>\n",
       "      <td>4</td>\n",
       "      <td>4</td>\n",
       "      <td>20</td>\n",
       "    </tr>\n",
       "    <tr>\n",
       "      <th>406</th>\n",
       "      <td>ㄒㄩㄥ</td>\n",
       "      <td>xiong</td>\n",
       "      <td>撮口呼</td>\n",
       "      <td>舌面音</td>\n",
       "      <td>4</td>\n",
       "      <td>4</td>\n",
       "      <td>20</td>\n",
       "    </tr>\n",
       "  </tbody>\n",
       "</table>\n",
       "<p>407 rows × 7 columns</p>\n",
       "</div>"
      ]
     },
     "execution_count": 7,
     "metadata": {},
     "output_type": "execute_result"
    }
   ],
   "execution_count": 7
  },
  {
   "metadata": {
    "ExecuteTime": {
     "end_time": "2024-09-24T18:25:03.006793Z",
     "start_time": "2024-09-24T18:25:02.884261Z"
    }
   },
   "cell_type": "code",
   "source": [
    "npy_file_list = glob(f\"..\\\\..\\\\data\\\\mfcc\\\\*.npy\")\n",
    "print(f\"type(npy_file_list): {type(npy_file_list)}\")\n",
    "print(f\"len(npy_file_list): {len(npy_file_list)}\")\n",
    "# npy_file_list"
   ],
   "id": "7f563023c083b305",
   "outputs": [
    {
     "name": "stdout",
     "output_type": "stream",
     "text": [
      "type(npy_file_list): <class 'list'>\n",
      "len(npy_file_list): 39423\n"
     ]
    }
   ],
   "execution_count": 8
  },
  {
   "metadata": {},
   "cell_type": "code",
   "outputs": [],
   "execution_count": null,
   "source": [
    "for npy_file in tqdm(npy_file_list):\n",
    "    pinyin = "
   ],
   "id": "e708d0b1a4d67f7b"
  },
  {
   "metadata": {
    "ExecuteTime": {
     "end_time": "2024-09-24T18:25:09.431108Z",
     "start_time": "2024-09-24T18:25:03.076946Z"
    }
   },
   "cell_type": "code",
   "source": [
    "mfcc_list = []\n",
    "\n",
    "for npy_file in tqdm(npy_file_list):\n",
    "    mfcc = np.load(file=npy_file)\n",
    "    mfcc_list.append(mfcc)\n",
    "\n",
    "# 將list()轉換成np.array()\n",
    "mfcc_list = np.array(mfcc_list)\n",
    "print(f\"type(mfcc_list): {type(mfcc_list)}\")\n",
    "print(f\"mfcc_list.shape: {mfcc_list.shape}\")\n",
    "\n",
    "# 不要印出 ipynb會爆炸\n",
    "# mfcc_list"
   ],
   "id": "2a0282d2c53c65ee",
   "outputs": [
    {
     "name": "stderr",
     "output_type": "stream",
     "text": [
      "100%|██████████| 39423/39423 [00:06<00:00, 6254.48it/s]"
     ]
    },
    {
     "name": "stdout",
     "output_type": "stream",
     "text": [
      "type(mfcc_list): <class 'numpy.ndarray'>\n",
      "mfcc_list.shape: (39423, 13, 44)\n"
     ]
    },
    {
     "name": "stderr",
     "output_type": "stream",
     "text": [
      "\n"
     ]
    }
   ],
   "execution_count": 9
  },
  {
   "metadata": {
    "ExecuteTime": {
     "end_time": "2024-09-24T18:29:22.564638Z",
     "start_time": "2024-09-24T18:29:21.088337Z"
    }
   },
   "cell_type": "code",
   "source": [
    "scaler = StandardScaler()\n",
    "# 因為標準器只能fit 2維的資料所以要將3維的mfcc資料集reshape成2維\n",
    "# mfcc_data_nums: k\n",
    "# mfcc_row: n\n",
    "# mfcc_column: m\n",
    "# (k, n, m) => (k * n, m)\n",
    "scaler.fit(mfcc_list.reshape((mfcc_list.shape[0] * mfcc_list.shape[1], mfcc_list.shape[2])))\n",
    "\n",
    "mfcc_list_scaled = []\n",
    "for mfcc in mfcc_list:\n",
    "    mfcc_list_scaled.append(scaler.transform(mfcc))\n",
    "\n",
    "# 將list()轉換成np.array()\n",
    "mfcc_list_scaled = np.array(mfcc_list_scaled)\n",
    "\n",
    "print(f\"type(mfcc_list_scaled): {type(mfcc_list_scaled)}\")\n",
    "print(f\"mfcc_list_scaled.shape: {mfcc_list_scaled.shape}\")\n",
    "\n",
    "# 不要印出 ipynb會爆炸\n",
    "# mfcc_scaled"
   ],
   "id": "b8aefa15972477b4",
   "outputs": [
    {
     "name": "stdout",
     "output_type": "stream",
     "text": [
      "type(mfcc_list_scaled): <class 'numpy.ndarray'>\n",
      "mfcc_list_scaled.shape: (39423, 13, 44)\n"
     ]
    }
   ],
   "execution_count": 12
  },
  {
   "metadata": {},
   "cell_type": "code",
   "outputs": [],
   "execution_count": null,
   "source": "",
   "id": "68b272fdbbe10f42"
  }
 ],
 "metadata": {
  "kernelspec": {
   "display_name": "Python 3",
   "language": "python",
   "name": "python3"
  },
  "language_info": {
   "codemirror_mode": {
    "name": "ipython",
    "version": 2
   },
   "file_extension": ".py",
   "mimetype": "text/x-python",
   "name": "python",
   "nbconvert_exporter": "python",
   "pygments_lexer": "ipython2",
   "version": "2.7.6"
  }
 },
 "nbformat": 4,
 "nbformat_minor": 5
}
