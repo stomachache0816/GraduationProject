{
 "cells": [
  {
   "cell_type": "code",
   "id": "initial_id",
   "metadata": {
    "collapsed": true,
    "ExecuteTime": {
     "end_time": "2024-09-30T13:02:41.890739Z",
     "start_time": "2024-09-30T13:02:40.079058Z"
    }
   },
   "source": [
    "import torch\n",
    "from torchaudio.pipelines import MMS_FA as bundle\n",
    "from typing import List\n",
    "import IPython\n",
    "import matplotlib.pyplot as plt\n",
    "from pypinyin import pinyin, lazy_pinyin, Style\n",
    "from pydub import AudioSegment\n",
    "import librosa\n",
    "from opencc import OpenCC\n",
    "import os\n",
    "import speech_recognition\n",
    "device = torch.device(\"cuda\" if torch.cuda.is_available() else \"cpu\")"
   ],
   "outputs": [],
   "execution_count": 1
  },
  {
   "metadata": {
    "ExecuteTime": {
     "end_time": "2024-09-30T13:02:42.369974Z",
     "start_time": "2024-09-30T13:02:41.906088Z"
    }
   },
   "cell_type": "code",
   "source": [
    "torch.cuda.empty_cache()\n",
    "torch.cuda.memory_summary(device=None, abbreviated=False)\n",
    "raw_data_path = f\".\\\\app_voice\\\\recorded.wav\"\n",
    "r = speech_recognition.Recognizer()\n",
    "raw_data = speech_recognition.AudioFile(raw_data_path)\n",
    "with raw_data as source:\n",
    "    audio = r.record(source)\n",
    "result = r.recognize_google(audio,language='zh-tw')\n",
    "result"
   ],
   "id": "1abb245323397b1b",
   "outputs": [
    {
     "data": {
      "text/plain": [
       "'我要吃香蕉'"
      ]
     },
     "execution_count": 2,
     "metadata": {},
     "output_type": "execute_result"
    }
   ],
   "execution_count": 2
  },
  {
   "metadata": {
    "ExecuteTime": {
     "end_time": "2024-09-30T13:02:42.493873Z",
     "start_time": "2024-09-30T13:02:42.479362Z"
    }
   },
   "cell_type": "code",
   "source": [
    "sentence = result.lower().replace('》','').replace('《','').replace('%','').replace('。','').replace('?','').replace('【','').replace('】','').replace('-','').replace('.','').replace(',', '').replace('6','六').replace('4','四').replace('2','二').replace('9','九').replace('8','八').replace('5','五').replace('3','三').replace('0','零').replace('1','一').replace('7','七').replace(' ','').replace('、','')\n",
    "sentence"
   ],
   "id": "dfbf1e2fb50e0654",
   "outputs": [
    {
     "data": {
      "text/plain": [
       "'我要吃香蕉'"
      ]
     },
     "execution_count": 3,
     "metadata": {},
     "output_type": "execute_result"
    }
   ],
   "execution_count": 3
  },
  {
   "metadata": {
    "ExecuteTime": {
     "end_time": "2024-09-30T13:02:42.540150Z",
     "start_time": "2024-09-30T13:02:42.533135Z"
    }
   },
   "cell_type": "code",
   "source": [
    "audio = AudioSegment.from_file(raw_data_path)\n",
    "audio.export(f\".\\\\sentences\\\\{(sentence.lower())}.wav\", format=\"wav\")"
   ],
   "id": "673939f0655417ed",
   "outputs": [
    {
     "data": {
      "text/plain": [
       "<_io.BufferedRandom name='.\\\\sentences\\\\我要吃香蕉.wav'>"
      ]
     },
     "execution_count": 4,
     "metadata": {},
     "output_type": "execute_result"
    }
   ],
   "execution_count": 4
  },
  {
   "metadata": {
    "ExecuteTime": {
     "end_time": "2024-09-30T13:03:08.459561Z",
     "start_time": "2024-09-30T13:03:06.220452Z"
    }
   },
   "cell_type": "code",
   "source": [
    "model = bundle.get_model()\n",
    "model.to(device)\n",
    "tokenizer = bundle.get_tokenizer()\n",
    "aligner = bundle.get_aligner()"
   ],
   "id": "dce1c430186b5fe9",
   "outputs": [],
   "execution_count": 5
  },
  {
   "metadata": {
    "ExecuteTime": {
     "end_time": "2024-09-30T13:03:14.364956Z",
     "start_time": "2024-09-30T13:03:14.350445Z"
    }
   },
   "cell_type": "code",
   "source": [
    "def compute_alignments(waveform: torch.Tensor, transcript: List[str]):\n",
    "    with torch.inference_mode():\n",
    "        emission, _ = model(waveform.to(device))\n",
    "        token_spans = aligner(emission[0], tokenizer(transcript))\n",
    "    return emission, token_spans\n",
    "\n",
    "def _score(spans):\n",
    "    return sum(s.score * len(s) for s in spans) / sum(len(s) for s in spans)\n",
    "\n",
    "def plot_alignments(waveform, token_spans, emission, transcript, sample_rate=bundle.sample_rate):\n",
    "    ratio = waveform.size(1) / emission.size(1) / sample_rate\n",
    "\n",
    "    fig, axes = plt.subplots(2, 1)\n",
    "    axes[0].imshow(emission[0].detach().cpu().T, aspect=\"auto\")\n",
    "    axes[0].set_title(\"Emission\")\n",
    "    axes[0].set_xticks([])\n",
    "\n",
    "    axes[1].specgram(waveform[0], Fs=sample_rate)\n",
    "    for t_spans, chars in zip(token_spans, transcript):\n",
    "        t0, t1 = t_spans[0].start, t_spans[-1].end\n",
    "        axes[0].axvspan(t0 - 0.5, t1 - 0.5, facecolor=\"None\", hatch=\"/\", edgecolor=\"white\")\n",
    "        axes[1].axvspan(ratio * t0, ratio * t1, facecolor=\"None\", hatch=\"/\", edgecolor=\"white\")\n",
    "        axes[1].annotate(f\"{_score(t_spans):.2f}\", (ratio * t0, sample_rate * 0.51), annotation_clip=False)\n",
    "\n",
    "        for span, char in zip(t_spans, chars):\n",
    "            t0 = span.start * ratio\n",
    "            axes[1].annotate(char, (t0, sample_rate * 0.55), annotation_clip=False)\n",
    "\n",
    "    axes[1].set_xlabel(\"time [second]\")\n",
    "    fig.tight_layout()\n",
    "\n",
    "def preview_word(waveform, spans, num_frames, transcript, sample_rate):\n",
    "    ratio = waveform.size(1) / num_frames\n",
    "    x0 = int(ratio * spans[0].start)\n",
    "    x1 = int(ratio * spans[-1].end)\n",
    "    #print(f\"{transcript} ({_score(spans):.2f}): {x0 / sample_rate:.3f} - {x1 / sample_rate:.3f} sec\")\n",
    "    time_StarAndEnd = [ x0 / sample_rate, x1/sample_rate] # 回傳單個字的起始時間與結束時間\n",
    "    segment = waveform[:, x0:x1]\n",
    "    #return IPython.display.Audio(segment.numpy(), rate=sample_rate)\n",
    "    return time_StarAndEnd"
   ],
   "id": "f5d387f2b6ef0856",
   "outputs": [],
   "execution_count": 6
  },
  {
   "metadata": {
    "ExecuteTime": {
     "end_time": "2024-09-30T13:07:19.939388Z",
     "start_time": "2024-09-30T13:07:19.700209Z"
    }
   },
   "cell_type": "code",
   "source": [
    "text_normalized = ' '.join(lazy_pinyin(sentence))#將文字轉為沒有音調的拼音，lazy_pinyin是陣列所以要再join成字串\n",
    "\n",
    "waveform, sample_rate = librosa.load(f\".\\\\sentences\\\\{sentence}.wav\")\n",
    "waveform_tensor = torch.tensor(waveform).unsqueeze(0)\n",
    "\n",
    "transcript = text_normalized.split()\n",
    "emission, token_spans = compute_alignments(waveform_tensor, transcript)\n",
    "num_frames = emission.size(1)\n",
    "\n",
    "\n",
    "    #plot_alignments(waveform, token_spans, emission, transcript)\n",
    "\n",
    "print(\"Raw Transcript: \", sentence)\n",
    "print(\"Normalized Transcript: \", text_normalized)\n",
    "IPython.display.Audio(waveform, rate=sample_rate)\n",
    "\n",
    "text_raw = sentence\n",
    "word_start_end = []\n",
    "pinyin_tone = pinyin(text_raw, style=Style.TONE3, heteronym=False)\n",
    "for j in range(len(transcript)):#len(transcript)\n",
    "    timeStartEnd = preview_word(waveform_tensor, token_spans[j], num_frames, transcript[j], sample_rate)\n",
    "    word_start_end.append([pinyin_tone[j][0], timeStartEnd[0], timeStartEnd[1]])\n",
    "    print(word_start_end)\n",
    "\n",
    "    audio = AudioSegment.from_file(f\".\\\\sentences\\\\{sentence}.wav\")\n",
    "    file_name = sentence\n",
    "for k in range(len(word_start_end)):\n",
    "    segment_audio = audio[word_start_end[k][1] *1000: word_start_end[k][2]*1000]\n",
    "    segment_audio.export(f\".\\\\data\\\\{file_name}-{k}_{word_start_end[k][0]}.wav\", format=\"wav\")\n",
    "print('------------------------------------------')"
   ],
   "id": "a363c6bd2dd4ca8a",
   "outputs": [
    {
     "name": "stdout",
     "output_type": "stream",
     "text": [
      "Raw Transcript:  我要吃香蕉\n",
      "Normalized Transcript:  wo yao chi xiang jiao\n",
      "[['wo3', 1.2686167800453514, 1.3561451247165532]]\n",
      "[['wo3', 1.2686167800453514, 1.3561451247165532], ['yao4', 1.5165532879818595, 1.6915192743764171]]\n",
      "[['wo3', 1.2686167800453514, 1.3561451247165532], ['yao4', 1.5165532879818595, 1.6915192743764171], ['chi1', 1.7498412698412698, 1.8810884353741497]]\n",
      "[['wo3', 1.2686167800453514, 1.3561451247165532], ['yao4', 1.5165532879818595, 1.6915192743764171], ['chi1', 1.7498412698412698, 1.8810884353741497], ['xiang1', 1.997732426303855, 2.201904761904762]]\n",
      "[['wo3', 1.2686167800453514, 1.3561451247165532], ['yao4', 1.5165532879818595, 1.6915192743764171], ['chi1', 1.7498412698412698, 1.8810884353741497], ['xiang1', 1.997732426303855, 2.201904761904762], ['jiao1', 2.2602267573696144, 2.581043083900227]]\n",
      "------------------------------------------\n"
     ]
    }
   ],
   "execution_count": 13
  }
 ],
 "metadata": {
  "kernelspec": {
   "display_name": "Python 3",
   "language": "python",
   "name": "python3"
  },
  "language_info": {
   "codemirror_mode": {
    "name": "ipython",
    "version": 2
   },
   "file_extension": ".py",
   "mimetype": "text/x-python",
   "name": "python",
   "nbconvert_exporter": "python",
   "pygments_lexer": "ipython2",
   "version": "2.7.6"
  }
 },
 "nbformat": 4,
 "nbformat_minor": 5
}
