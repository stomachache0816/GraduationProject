{
 "cells": [
  {
   "cell_type": "code",
   "id": "initial_id",
   "metadata": {
    "collapsed": true,
    "ExecuteTime": {
     "end_time": "2024-09-25T16:00:17.310576Z",
     "start_time": "2024-09-25T16:00:17.302065Z"
    }
   },
   "source": [
    "import platform\n",
    "print(f\"platform.python_version(): {platform.python_version()}\")\n",
    "\n",
    "import os\n",
    "import scipy\n",
    "import numpy as np\n",
    "from glob import glob\n",
    "from tqdm import tqdm\n",
    "import json\n",
    "import matplotlib.pyplot as plt\n",
    "\n",
    "from sklearn.preprocessing import StandardScaler\n",
    "from sklearn.model_selection import train_test_split\n",
    "\n",
    "import tensorflow as tf\n",
    "from tensorflow import keras\n",
    "from keras import Sequential\n",
    "from keras.utils import to_categorical\n",
    "from keras.layers import Dense, Flatten, Conv2D, MaxPooling2D, BatchNormalization, Activation\n",
    "\n",
    "# 確認GPU是否可用\n",
    "gpus = tf.config.experimental.list_physical_devices(\"GPU\")\n",
    "print(f\"tf.config.list_physical_devices('GPU'): {tf.config.list_physical_devices('GPU')}\")"
   ],
   "outputs": [
    {
     "name": "stdout",
     "output_type": "stream",
     "text": [
      "platform.python_version(): 3.9.13\n",
      "tf.config.list_physical_devices('GPU'): [PhysicalDevice(name='/physical_device:GPU:0', device_type='GPU')]\n"
     ]
    }
   ],
   "execution_count": 6
  },
  {
   "metadata": {
    "ExecuteTime": {
     "end_time": "2024-09-25T16:00:17.483211Z",
     "start_time": "2024-09-25T16:00:17.334480Z"
    }
   },
   "cell_type": "code",
   "source": [
    "npy_file_path_list: list = glob(f\"..\\\\data\\\\mfccEduVer\\\\*.npy\")\n",
    "print(f\"type(npy_file_path_list): {type(npy_file_path_list)}\")\n",
    "print(f\"len(npy_file_path_list): {len(npy_file_path_list)}\")\n",
    "# npy_file_path_list"
   ],
   "id": "f131c7cc5d197b26",
   "outputs": [
    {
     "name": "stdout",
     "output_type": "stream",
     "text": [
      "type(npy_file_path_list): <class 'list'>\n",
      "len(npy_file_path_list): 45167\n"
     ]
    }
   ],
   "execution_count": 7
  },
  {
   "metadata": {
    "ExecuteTime": {
     "end_time": "2024-09-25T16:09:08.437428Z",
     "start_time": "2024-09-25T16:09:01.022889Z"
    }
   },
   "cell_type": "code",
   "source": [
    "mfcc_matrix_list = list()\n",
    "\n",
    "for npy_file_path in tqdm(npy_file_path_list):\n",
    "    mfcc_matrix = np.load(file=npy_file_path)\n",
    "    mfcc_matrix_list.append(mfcc_matrix)\n",
    "\n",
    "mfcc_matrix_list = np.array(mfcc_matrix_list)\n",
    "print(f\"type(mfcc_matrix_list): {type(mfcc_matrix_list)}\")\n",
    "print(f\"mfcc_matrix_list.shape: {mfcc_matrix_list.shape}\")  \n",
    "# mfcc_matrix_list"
   ],
   "id": "15ba282f7aec5e39",
   "outputs": [
    {
     "name": "stderr",
     "output_type": "stream",
     "text": [
      "100%|██████████| 45167/45167 [00:07<00:00, 6157.03it/s]\n"
     ]
    },
    {
     "name": "stdout",
     "output_type": "stream",
     "text": [
      "type(mfcc_matrix_list): <class 'numpy.ndarray'>\n",
      "mfcc_matrix_list.shape: (45167, 13, 44)\n"
     ]
    }
   ],
   "execution_count": 10
  },
  {
   "metadata": {},
   "cell_type": "code",
   "outputs": [],
   "execution_count": null,
   "source": "",
   "id": "d7289166e46dcb99"
  }
 ],
 "metadata": {
  "kernelspec": {
   "display_name": "Python 3",
   "language": "python",
   "name": "python3"
  },
  "language_info": {
   "codemirror_mode": {
    "name": "ipython",
    "version": 2
   },
   "file_extension": ".py",
   "mimetype": "text/x-python",
   "name": "python",
   "nbconvert_exporter": "python",
   "pygments_lexer": "ipython2",
   "version": "2.7.6"
  }
 },
 "nbformat": 4,
 "nbformat_minor": 5
}
