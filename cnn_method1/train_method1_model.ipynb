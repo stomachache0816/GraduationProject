{
 "cells": [
  {
   "cell_type": "code",
   "id": "initial_id",
   "metadata": {
    "collapsed": true,
    "ExecuteTime": {
     "end_time": "2024-09-27T20:29:55.442607Z",
     "start_time": "2024-09-27T20:29:55.431607Z"
    }
   },
   "source": [
    "import platform\n",
    "print(f\"platform.python_version(): {platform.python_version()}\")\n",
    "\n",
    "import numpy as np\n",
    "from glob import glob\n",
    "from tqdm import tqdm\n",
    "import json\n",
    "import matplotlib.pyplot as plt\n",
    "import requests\n",
    "\n",
    "from sklearn.preprocessing import StandardScaler\n",
    "from sklearn.model_selection import train_test_split\n",
    "\n",
    "import tensorflow as tf\n",
    "from tensorflow import keras\n",
    "from keras import Sequential\n",
    "from keras.utils import to_categorical\n",
    "from keras.layers import Dense, Flatten, Conv2D, MaxPooling2D, BatchNormalization, Activation\n",
    "\n",
    "# 確認GPU是否可用\n",
    "gpus = tf.config.experimental.list_physical_devices(\"GPU\")\n",
    "print(f\"tf.config.list_physical_devices('GPU'): {tf.config.list_physical_devices('GPU')}\")"
   ],
   "outputs": [
    {
     "name": "stdout",
     "output_type": "stream",
     "text": [
      "platform.python_version(): 3.9.13\n",
      "tf.config.list_physical_devices('GPU'): [PhysicalDevice(name='/physical_device:GPU:0', device_type='GPU')]\n"
     ]
    }
   ],
   "execution_count": 13
  },
  {
   "metadata": {},
   "cell_type": "markdown",
   "source": "mfcc .npy檔案路徑陣列",
   "id": "1dad317aedc5dc67"
  },
  {
   "metadata": {
    "ExecuteTime": {
     "end_time": "2024-09-27T20:29:55.552786Z",
     "start_time": "2024-09-27T20:29:55.452607Z"
    }
   },
   "cell_type": "code",
   "source": [
    "npy_file_path_list: list = glob(f\"..\\\\data\\\\mfccEduVer\\\\*.npy\")\n",
    "print(f\"type(npy_file_path_list): {type(npy_file_path_list)}\")\n",
    "print(f\"len(npy_file_path_list): {len(npy_file_path_list)}\")\n",
    "# npy_file_path_list"
   ],
   "id": "f131c7cc5d197b26",
   "outputs": [
    {
     "name": "stdout",
     "output_type": "stream",
     "text": [
      "type(npy_file_path_list): <class 'list'>\n",
      "len(npy_file_path_list): 45167\n"
     ]
    }
   ],
   "execution_count": 14
  },
  {
   "metadata": {},
   "cell_type": "markdown",
   "source": "讀取npy_file_path_list裡面每一個npy_file_path 轉成mfcc 放入mfcc_matrix_list",
   "id": "6d7e247f52ededa6"
  },
  {
   "metadata": {
    "ExecuteTime": {
     "end_time": "2024-09-27T20:29:59.924595Z",
     "start_time": "2024-09-27T20:29:55.569745Z"
    }
   },
   "cell_type": "code",
   "source": [
    "mfcc_matrix_list = list()\n",
    "\n",
    "for npy_file_path in tqdm(npy_file_path_list):\n",
    "    mfcc_matrix = np.load(file=npy_file_path)\n",
    "    mfcc_matrix_list.append(mfcc_matrix)\n",
    "\n",
    "mfcc_matrix_list = np.array(mfcc_matrix_list)\n",
    "print(f\"type(mfcc_matrix_list): {type(mfcc_matrix_list)}\")\n",
    "print(f\"mfcc_matrix_list.shape: {mfcc_matrix_list.shape}\")  \n",
    "# mfcc_matrix_list"
   ],
   "id": "15ba282f7aec5e39",
   "outputs": [
    {
     "name": "stderr",
     "output_type": "stream",
     "text": [
      "100%|██████████| 45167/45167 [00:04<00:00, 10475.09it/s]"
     ]
    },
    {
     "name": "stdout",
     "output_type": "stream",
     "text": [
      "type(mfcc_matrix_list): <class 'numpy.ndarray'>\n",
      "mfcc_matrix_list.shape: (45167, 13, 44)\n"
     ]
    },
    {
     "name": "stderr",
     "output_type": "stream",
     "text": [
      "\n"
     ]
    }
   ],
   "execution_count": 15
  },
  {
   "metadata": {},
   "cell_type": "markdown",
   "source": "標準化",
   "id": "233c33b2c0f2ad90"
  },
  {
   "metadata": {
    "ExecuteTime": {
     "end_time": "2024-09-27T20:30:01.462166Z",
     "start_time": "2024-09-27T20:29:59.944595Z"
    }
   },
   "cell_type": "code",
   "source": [
    "scaler = StandardScaler()\n",
    "# 因為標準器只能fit 2維的資料所以要將3維的mfcc資料集reshape成2維\n",
    "# mfcc_data_nums: k\n",
    "# mfcc_row: n\n",
    "# mfcc_column: m\n",
    "# (k, n, m) => (k * n, m)\n",
    "scaler.fit(mfcc_matrix_list.reshape((mfcc_matrix_list.shape[0] * mfcc_matrix_list.shape[1], mfcc_matrix_list.shape[2])))\n",
    "\n",
    "mfcc_matrix_list_scaled = []\n",
    "for mfcc in mfcc_matrix_list:\n",
    "    mfcc_matrix_list_scaled.append(scaler.transform(mfcc))\n",
    "\n",
    "# 將list()轉換成np.array()\n",
    "mfcc_matrix_list_scaled = np.array(mfcc_matrix_list_scaled)\n",
    "\n",
    "print(f\"type(mfcc_matrix_list_scaled): {type(mfcc_matrix_list_scaled)}\")\n",
    "print(f\"mfcc_matrix_list_scaled.shape: {mfcc_matrix_list_scaled.shape}\")\n",
    "\n",
    "# 不要印出 ipynb會爆炸\n",
    "# mfcc_matrix_list_scaled"
   ],
   "id": "d7289166e46dcb99",
   "outputs": [
    {
     "name": "stdout",
     "output_type": "stream",
     "text": [
      "type(mfcc_matrix_list_scaled): <class 'numpy.ndarray'>\n",
      "mfcc_matrix_list_scaled.shape: (45167, 13, 44)\n"
     ]
    }
   ],
   "execution_count": 16
  },
  {
   "metadata": {},
   "cell_type": "markdown",
   "source": "資料拼音標籤",
   "id": "93cd9527d8567ecb"
  },
  {
   "metadata": {
    "ExecuteTime": {
     "end_time": "2024-09-27T20:30:01.492848Z",
     "start_time": "2024-09-27T20:30:01.477166Z"
    }
   },
   "cell_type": "code",
   "source": [
    "label_pinyin_list = []\n",
    "\n",
    "for npy_file_path in npy_file_path_list:\n",
    "    label_pinyin = npy_file_path.split(\"_\")[1]\n",
    "    label_pinyin_list.append(label_pinyin)\n",
    "\n",
    "# 將list()轉換成np.array()\n",
    "label_pinyin_list = np.array(label_pinyin_list)\n",
    "\n",
    "print(f\"type(label_pinyin_list): {type(label_pinyin_list)}\")\n",
    "print(f\"label_pinyin_list.shape: {label_pinyin_list.shape}\")\n",
    "# label_pinyin_list"
   ],
   "id": "9350dd4cc72bcfe3",
   "outputs": [
    {
     "name": "stdout",
     "output_type": "stream",
     "text": [
      "type(label_pinyin_list): <class 'numpy.ndarray'>\n",
      "label_pinyin_list.shape: (45167,)\n"
     ]
    }
   ],
   "execution_count": 17
  },
  {
   "metadata": {},
   "cell_type": "markdown",
   "source": "標籤轉換字典 key: pinyin key: int",
   "id": "a053320d057c7b30"
  },
  {
   "metadata": {
    "ExecuteTime": {
     "end_time": "2024-09-27T20:30:01.523572Z",
     "start_time": "2024-09-27T20:30:01.509572Z"
    }
   },
   "cell_type": "code",
   "source": [
    "sample_list = glob(f\"..\\\\data\\\\samplePinyinEdu\\\\MaleWav\\\\*.wav\")\n",
    "\n",
    "label_dic: dict = {}\n",
    "for i in range(len(sample_list)):\n",
    "    label = sample_list[i][sample_list[i].find(\"_\") + 1:sample_list[i].find(\".wav\")]\n",
    "    label_dic[label] = i\n",
    "\n",
    "print(f\"type(label_dic): {type(label_dic)}\")\n",
    "print(f\"len(label_dic): {len(label_dic)}\")\n",
    "# label_dic"
   ],
   "id": "6556d962dfe4ba49",
   "outputs": [
    {
     "name": "stdout",
     "output_type": "stream",
     "text": [
      "type(label_dic): <class 'dict'>\n",
      "len(label_dic): 1467\n"
     ]
    }
   ],
   "execution_count": 18
  },
  {
   "metadata": {},
   "cell_type": "markdown",
   "source": "轉換成int的標籤",
   "id": "f0321fbb22e371d5"
  },
  {
   "metadata": {
    "ExecuteTime": {
     "end_time": "2024-09-27T20:30:01.553963Z",
     "start_time": "2024-09-27T20:30:01.538572Z"
    }
   },
   "cell_type": "code",
   "source": [
    "label_int_list = []\n",
    "for label_pinyin in label_pinyin_list:\n",
    "    label_int = label_dic[label_pinyin]\n",
    "    label_int_list.append(label_int)\n",
    "\n",
    "label_int_list = np.array(label_int_list)\n",
    "print(f\"label_int_list.shape: {label_int_list.shape}\")\n",
    "# label_int_list"
   ],
   "id": "c17f7b0819482471",
   "outputs": [
    {
     "name": "stdout",
     "output_type": "stream",
     "text": [
      "label_int_list.shape: (45167,)\n"
     ]
    }
   ],
   "execution_count": 19
  },
  {
   "metadata": {},
   "cell_type": "markdown",
   "source": "模型",
   "id": "e2cc2aa0c56f5bdc"
  },
  {
   "metadata": {
    "ExecuteTime": {
     "end_time": "2024-09-27T20:30:01.600076Z",
     "start_time": "2024-09-27T20:30:01.585884Z"
    }
   },
   "cell_type": "code",
   "source": [
    "def get_cnn_model(input_shape, num_classes, learning_rate=0.001, num_filters=32, dense_units=256):\n",
    "    cnn_model = Sequential()\n",
    "\n",
    "    # 第一層捲積層\n",
    "    cnn_model.add(Conv2D(num_filters, kernel_size=(3, 3), padding='same', input_shape=input_shape))\n",
    "    cnn_model.add(BatchNormalization())\n",
    "    cnn_model.add(Activation('relu'))\n",
    "    cnn_model.add(Conv2D(num_filters, kernel_size=(3, 3), padding='same'))\n",
    "    cnn_model.add(BatchNormalization())\n",
    "    cnn_model.add(Activation('relu'))\n",
    "    cnn_model.add(MaxPooling2D(pool_size=(2, 2)))\n",
    "    \n",
    "    # 第二層捲積層\n",
    "    cnn_model.add(Conv2D(num_filters * 2, kernel_size=(3, 3), padding='same'))\n",
    "    cnn_model.add(BatchNormalization())\n",
    "    cnn_model.add(Activation('relu'))\n",
    "    cnn_model.add(Conv2D(num_filters * 2, kernel_size=(3, 3), padding='same'))\n",
    "    cnn_model.add(BatchNormalization())\n",
    "    cnn_model.add(Activation('relu'))\n",
    "    cnn_model.add(MaxPooling2D(pool_size=(2, 2)))\n",
    "    \n",
    "    # 第三層捲積層\n",
    "    cnn_model.add(Conv2D(num_filters * 4, kernel_size=(3, 3), padding='same'))\n",
    "    cnn_model.add(BatchNormalization())\n",
    "    cnn_model.add(Activation('relu'))\n",
    "    cnn_model.add(Conv2D(num_filters * 4, kernel_size=(3, 3), padding='same'))\n",
    "    cnn_model.add(BatchNormalization())\n",
    "    cnn_model.add(Activation('relu'))\n",
    "    cnn_model.add(MaxPooling2D(pool_size=(2, 2)))\n",
    "    \n",
    "    # 展平\n",
    "    cnn_model.add(Flatten())\n",
    "    \n",
    "    # 第一層全連接層\n",
    "    cnn_model.add(Dense(dense_units))\n",
    "    cnn_model.add(BatchNormalization())\n",
    "    cnn_model.add(Activation('relu'))\n",
    "    \n",
    "    # 第二層全連接層\n",
    "    cnn_model.add(Dense(dense_units * 2))\n",
    "    cnn_model.add(BatchNormalization())\n",
    "    cnn_model.add(Activation('relu'))\n",
    "    \n",
    "    # 第三層全連接層(長度同為1467個label)\n",
    "    cnn_model.add(Dense(num_classes))\n",
    "    \n",
    "    # 表示為機率\n",
    "    cnn_model.add(Activation('softmax'))\n",
    "\n",
    "    cnn_model.compile(\n",
    "        loss=keras.losses.categorical_crossentropy,\n",
    "        optimizer=keras.optimizers.Adam(learning_rate=learning_rate),\n",
    "        metrics=['accuracy']\n",
    "    )\n",
    "\n",
    "    return cnn_model"
   ],
   "id": "c2acde096f7f1096",
   "outputs": [],
   "execution_count": 20
  },
  {
   "metadata": {},
   "cell_type": "markdown",
   "source": "讀取最佳超參數",
   "id": "8f820271644fe39b"
  },
  {
   "metadata": {
    "ExecuteTime": {
     "end_time": "2024-09-27T20:30:01.632077Z",
     "start_time": "2024-09-27T20:30:01.617078Z"
    }
   },
   "cell_type": "code",
   "source": [
    "best_params = json.load(open(f\"..\\\\grid_search\\\\method1\\\\best_params.json\", \"r\"))\n",
    "\n",
    "learning_rate = best_params[\"learning_rate\"]\n",
    "num_filters = best_params[\"num_filters\"]\n",
    "dense_units = best_params[\"dense_unit\"]\n",
    "batch_size = best_params[\"batch_size\"]\n",
    "epochs = best_params[\"epochs\"]"
   ],
   "id": "1278cbf16699eb96",
   "outputs": [],
   "execution_count": 21
  },
  {
   "metadata": {},
   "cell_type": "markdown",
   "source": "基本參數",
   "id": "1819b68a9f370b23"
  },
  {
   "metadata": {
    "ExecuteTime": {
     "end_time": "2024-09-27T20:30:01.662792Z",
     "start_time": "2024-09-27T20:30:01.647899Z"
    }
   },
   "cell_type": "code",
   "source": [
    "channel = 1\n",
    "verbose = 2\n",
    "num_classes = len(label_dic)\n",
    "test_size = 0.2\n",
    "mfcc_dim_1 = mfcc_matrix_list.shape[1]\n",
    "mfcc_dim_2 = mfcc_matrix_list.shape[2]\n",
    "print(f\"mfcc_dim_1: {mfcc_dim_1}\")\n",
    "print(f\"mfcc_dim_2: {mfcc_dim_2}\")"
   ],
   "id": "1aecf8c19679087c",
   "outputs": [
    {
     "name": "stdout",
     "output_type": "stream",
     "text": [
      "mfcc_dim_1: 13\n",
      "mfcc_dim_2: 44\n"
     ]
    }
   ],
   "execution_count": 22
  },
  {
   "metadata": {},
   "cell_type": "markdown",
   "source": "資料切割",
   "id": "722f3164ee4c3719"
  },
  {
   "metadata": {
    "ExecuteTime": {
     "end_time": "2024-09-27T20:30:01.802882Z",
     "start_time": "2024-09-27T20:30:01.678799Z"
    }
   },
   "cell_type": "code",
   "source": [
    "X = mfcc_matrix_list_scaled\n",
    "y = label_int_list\n",
    "\n",
    "# 將int label轉換成二進制one hot標籤\n",
    "y_one_hot = to_categorical(y, num_classes=num_classes)\n",
    "\n",
    "X_train, X_test, y_train, y_test = train_test_split(X, y_one_hot, test_size=test_size, random_state=42)\n",
    "\n",
    "X_train = X_train.reshape(X_train.shape[0], mfcc_dim_1, mfcc_dim_2, channel)\n",
    "X_test = X_test.reshape(X_test.shape[0], mfcc_dim_1, mfcc_dim_2, channel)"
   ],
   "id": "72a523aa661f1435",
   "outputs": [],
   "execution_count": 23
  },
  {
   "metadata": {},
   "cell_type": "markdown",
   "source": "模型訓練",
   "id": "a9b741c2de0417b5"
  },
  {
   "metadata": {
    "ExecuteTime": {
     "end_time": "2024-09-27T20:45:51.617930Z",
     "start_time": "2024-09-27T20:30:01.818883Z"
    }
   },
   "cell_type": "code",
   "source": [
    "model = get_cnn_model(input_shape=(mfcc_dim_1, mfcc_dim_2, channel), num_classes=num_classes, learning_rate=learning_rate, num_filters=num_filters, dense_units=dense_units)\n",
    "model_train_info = model.fit(X_train, y_train, batch_size=batch_size, epochs=epochs, verbose=verbose, validation_data=(X_test, y_test))"
   ],
   "id": "17df480b88fd1583",
   "outputs": [
    {
     "name": "stdout",
     "output_type": "stream",
     "text": [
      "Epoch 1/300\n",
      "283/283 - 4s - loss: 5.1739 - accuracy: 0.1427 - val_loss: 6.0801 - val_accuracy: 0.0456 - 4s/epoch - 15ms/step\n",
      "Epoch 2/300\n",
      "283/283 - 3s - loss: 3.6123 - accuracy: 0.2850 - val_loss: 3.6616 - val_accuracy: 0.2700 - 3s/epoch - 11ms/step\n",
      "Epoch 3/300\n",
      "283/283 - 3s - loss: 2.9614 - accuracy: 0.3741 - val_loss: 3.0327 - val_accuracy: 0.3617 - 3s/epoch - 11ms/step\n",
      "Epoch 4/300\n",
      "283/283 - 3s - loss: 2.5355 - accuracy: 0.4406 - val_loss: 2.7920 - val_accuracy: 0.4122 - 3s/epoch - 11ms/step\n",
      "Epoch 5/300\n",
      "283/283 - 3s - loss: 2.2130 - accuracy: 0.4944 - val_loss: 2.6314 - val_accuracy: 0.4342 - 3s/epoch - 11ms/step\n",
      "Epoch 6/300\n",
      "283/283 - 3s - loss: 1.9263 - accuracy: 0.5512 - val_loss: 2.5272 - val_accuracy: 0.4464 - 3s/epoch - 11ms/step\n",
      "Epoch 7/300\n",
      "283/283 - 3s - loss: 1.6640 - accuracy: 0.6051 - val_loss: 2.4505 - val_accuracy: 0.4615 - 3s/epoch - 11ms/step\n",
      "Epoch 8/300\n",
      "283/283 - 3s - loss: 1.4059 - accuracy: 0.6590 - val_loss: 2.3908 - val_accuracy: 0.4729 - 3s/epoch - 11ms/step\n",
      "Epoch 9/300\n",
      "283/283 - 3s - loss: 1.1544 - accuracy: 0.7222 - val_loss: 2.3319 - val_accuracy: 0.4790 - 3s/epoch - 11ms/step\n",
      "Epoch 10/300\n",
      "283/283 - 3s - loss: 0.9128 - accuracy: 0.7837 - val_loss: 2.3005 - val_accuracy: 0.4928 - 3s/epoch - 11ms/step\n",
      "Epoch 11/300\n",
      "283/283 - 3s - loss: 0.6933 - accuracy: 0.8413 - val_loss: 2.2897 - val_accuracy: 0.4925 - 3s/epoch - 11ms/step\n",
      "Epoch 12/300\n",
      "283/283 - 3s - loss: 0.5180 - accuracy: 0.8870 - val_loss: 2.2755 - val_accuracy: 0.4892 - 3s/epoch - 11ms/step\n",
      "Epoch 13/300\n",
      "283/283 - 3s - loss: 0.3841 - accuracy: 0.9243 - val_loss: 2.2545 - val_accuracy: 0.4952 - 3s/epoch - 11ms/step\n",
      "Epoch 14/300\n",
      "283/283 - 3s - loss: 0.2856 - accuracy: 0.9468 - val_loss: 2.2426 - val_accuracy: 0.5051 - 3s/epoch - 11ms/step\n",
      "Epoch 15/300\n",
      "283/283 - 3s - loss: 0.2088 - accuracy: 0.9650 - val_loss: 2.2710 - val_accuracy: 0.5043 - 3s/epoch - 11ms/step\n",
      "Epoch 16/300\n",
      "283/283 - 3s - loss: 0.1519 - accuracy: 0.9767 - val_loss: 2.2881 - val_accuracy: 0.5027 - 3s/epoch - 11ms/step\n",
      "Epoch 17/300\n",
      "283/283 - 3s - loss: 0.1063 - accuracy: 0.9857 - val_loss: 2.3031 - val_accuracy: 0.5013 - 3s/epoch - 11ms/step\n",
      "Epoch 18/300\n",
      "283/283 - 3s - loss: 0.0855 - accuracy: 0.9881 - val_loss: 2.3876 - val_accuracy: 0.4948 - 3s/epoch - 11ms/step\n",
      "Epoch 19/300\n",
      "283/283 - 3s - loss: 0.0788 - accuracy: 0.9896 - val_loss: 2.4086 - val_accuracy: 0.5009 - 3s/epoch - 11ms/step\n",
      "Epoch 20/300\n",
      "283/283 - 3s - loss: 0.0800 - accuracy: 0.9888 - val_loss: 2.4449 - val_accuracy: 0.4947 - 3s/epoch - 11ms/step\n",
      "Epoch 21/300\n",
      "283/283 - 3s - loss: 0.0759 - accuracy: 0.9884 - val_loss: 2.5998 - val_accuracy: 0.4759 - 3s/epoch - 11ms/step\n",
      "Epoch 22/300\n",
      "283/283 - 3s - loss: 0.0540 - accuracy: 0.9928 - val_loss: 2.4993 - val_accuracy: 0.4940 - 3s/epoch - 11ms/step\n",
      "Epoch 23/300\n",
      "283/283 - 3s - loss: 0.0820 - accuracy: 0.9867 - val_loss: 2.7123 - val_accuracy: 0.4761 - 3s/epoch - 11ms/step\n",
      "Epoch 24/300\n",
      "283/283 - 3s - loss: 0.0841 - accuracy: 0.9863 - val_loss: 2.7930 - val_accuracy: 0.4615 - 3s/epoch - 11ms/step\n",
      "Epoch 25/300\n",
      "283/283 - 3s - loss: 0.0685 - accuracy: 0.9893 - val_loss: 2.6002 - val_accuracy: 0.4856 - 3s/epoch - 11ms/step\n",
      "Epoch 26/300\n",
      "283/283 - 3s - loss: 0.0429 - accuracy: 0.9936 - val_loss: 2.6884 - val_accuracy: 0.4822 - 3s/epoch - 11ms/step\n",
      "Epoch 27/300\n",
      "283/283 - 3s - loss: 0.0378 - accuracy: 0.9937 - val_loss: 2.6889 - val_accuracy: 0.4835 - 3s/epoch - 11ms/step\n",
      "Epoch 28/300\n",
      "283/283 - 3s - loss: 0.0522 - accuracy: 0.9900 - val_loss: 2.9054 - val_accuracy: 0.4634 - 3s/epoch - 11ms/step\n",
      "Epoch 29/300\n",
      "283/283 - 3s - loss: 0.0996 - accuracy: 0.9779 - val_loss: 3.0520 - val_accuracy: 0.4387 - 3s/epoch - 11ms/step\n",
      "Epoch 30/300\n",
      "283/283 - 3s - loss: 0.0703 - accuracy: 0.9866 - val_loss: 2.8875 - val_accuracy: 0.4671 - 3s/epoch - 11ms/step\n",
      "Epoch 31/300\n",
      "283/283 - 3s - loss: 0.0297 - accuracy: 0.9956 - val_loss: 2.7110 - val_accuracy: 0.5048 - 3s/epoch - 11ms/step\n",
      "Epoch 32/300\n",
      "283/283 - 3s - loss: 0.0152 - accuracy: 0.9981 - val_loss: 2.6698 - val_accuracy: 0.5086 - 3s/epoch - 11ms/step\n",
      "Epoch 33/300\n",
      "283/283 - 3s - loss: 0.0404 - accuracy: 0.9912 - val_loss: 2.9637 - val_accuracy: 0.4579 - 3s/epoch - 11ms/step\n",
      "Epoch 34/300\n",
      "283/283 - 3s - loss: 0.0957 - accuracy: 0.9781 - val_loss: 3.0616 - val_accuracy: 0.4444 - 3s/epoch - 11ms/step\n",
      "Epoch 35/300\n",
      "283/283 - 3s - loss: 0.0717 - accuracy: 0.9853 - val_loss: 2.8378 - val_accuracy: 0.4879 - 3s/epoch - 11ms/step\n",
      "Epoch 36/300\n",
      "283/283 - 3s - loss: 0.0178 - accuracy: 0.9976 - val_loss: 2.7852 - val_accuracy: 0.5073 - 3s/epoch - 11ms/step\n",
      "Epoch 37/300\n",
      "283/283 - 3s - loss: 0.0086 - accuracy: 0.9987 - val_loss: 2.7656 - val_accuracy: 0.5076 - 3s/epoch - 11ms/step\n",
      "Epoch 38/300\n",
      "283/283 - 3s - loss: 0.0073 - accuracy: 0.9988 - val_loss: 2.7442 - val_accuracy: 0.5168 - 3s/epoch - 11ms/step\n",
      "Epoch 39/300\n",
      "283/283 - 3s - loss: 0.0117 - accuracy: 0.9978 - val_loss: 2.8870 - val_accuracy: 0.4948 - 3s/epoch - 11ms/step\n",
      "Epoch 40/300\n",
      "283/283 - 3s - loss: 0.1117 - accuracy: 0.9684 - val_loss: 4.0398 - val_accuracy: 0.3402 - 3s/epoch - 11ms/step\n",
      "Epoch 41/300\n",
      "283/283 - 3s - loss: 0.1581 - accuracy: 0.9562 - val_loss: 3.0212 - val_accuracy: 0.4763 - 3s/epoch - 11ms/step\n",
      "Epoch 42/300\n",
      "283/283 - 3s - loss: 0.0213 - accuracy: 0.9970 - val_loss: 2.8548 - val_accuracy: 0.5089 - 3s/epoch - 11ms/step\n",
      "Epoch 43/300\n",
      "283/283 - 3s - loss: 0.0086 - accuracy: 0.9989 - val_loss: 2.7935 - val_accuracy: 0.5188 - 3s/epoch - 11ms/step\n",
      "Epoch 44/300\n",
      "283/283 - 3s - loss: 0.0040 - accuracy: 0.9994 - val_loss: 2.8012 - val_accuracy: 0.5227 - 3s/epoch - 11ms/step\n",
      "Epoch 45/300\n",
      "283/283 - 3s - loss: 0.0032 - accuracy: 0.9994 - val_loss: 2.8032 - val_accuracy: 0.5218 - 3s/epoch - 11ms/step\n",
      "Epoch 46/300\n",
      "283/283 - 3s - loss: 0.0031 - accuracy: 0.9993 - val_loss: 2.8044 - val_accuracy: 0.5200 - 3s/epoch - 11ms/step\n",
      "Epoch 47/300\n",
      "283/283 - 3s - loss: 0.0027 - accuracy: 0.9995 - val_loss: 2.8258 - val_accuracy: 0.5248 - 3s/epoch - 11ms/step\n",
      "Epoch 48/300\n",
      "283/283 - 3s - loss: 0.0026 - accuracy: 0.9994 - val_loss: 2.8337 - val_accuracy: 0.5216 - 3s/epoch - 11ms/step\n",
      "Epoch 49/300\n",
      "283/283 - 3s - loss: 0.0027 - accuracy: 0.9995 - val_loss: 2.8381 - val_accuracy: 0.5215 - 3s/epoch - 11ms/step\n",
      "Epoch 50/300\n",
      "283/283 - 3s - loss: 0.0029 - accuracy: 0.9994 - val_loss: 2.8977 - val_accuracy: 0.5138 - 3s/epoch - 11ms/step\n",
      "Epoch 51/300\n",
      "283/283 - 3s - loss: 0.0026 - accuracy: 0.9995 - val_loss: 2.8804 - val_accuracy: 0.5163 - 3s/epoch - 11ms/step\n",
      "Epoch 52/300\n",
      "283/283 - 3s - loss: 0.0037 - accuracy: 0.9994 - val_loss: 3.0745 - val_accuracy: 0.4799 - 3s/epoch - 11ms/step\n",
      "Epoch 53/300\n",
      "283/283 - 3s - loss: 0.4530 - accuracy: 0.8632 - val_loss: 3.2777 - val_accuracy: 0.4212 - 3s/epoch - 11ms/step\n",
      "Epoch 54/300\n",
      "283/283 - 3s - loss: 0.0394 - accuracy: 0.9925 - val_loss: 2.8100 - val_accuracy: 0.5079 - 3s/epoch - 11ms/step\n",
      "Epoch 55/300\n",
      "283/283 - 3s - loss: 0.0097 - accuracy: 0.9987 - val_loss: 2.8607 - val_accuracy: 0.5194 - 3s/epoch - 11ms/step\n",
      "Epoch 56/300\n",
      "283/283 - 3s - loss: 0.0045 - accuracy: 0.9994 - val_loss: 2.8029 - val_accuracy: 0.5224 - 3s/epoch - 11ms/step\n",
      "Epoch 57/300\n",
      "283/283 - 3s - loss: 0.0033 - accuracy: 0.9994 - val_loss: 2.8128 - val_accuracy: 0.5255 - 3s/epoch - 11ms/step\n",
      "Epoch 58/300\n",
      "283/283 - 3s - loss: 0.0028 - accuracy: 0.9995 - val_loss: 2.8267 - val_accuracy: 0.5252 - 3s/epoch - 11ms/step\n",
      "Epoch 59/300\n",
      "283/283 - 3s - loss: 0.0025 - accuracy: 0.9995 - val_loss: 2.8494 - val_accuracy: 0.5241 - 3s/epoch - 11ms/step\n",
      "Epoch 60/300\n",
      "283/283 - 3s - loss: 0.0023 - accuracy: 0.9995 - val_loss: 2.8501 - val_accuracy: 0.5258 - 3s/epoch - 11ms/step\n",
      "Epoch 61/300\n",
      "283/283 - 3s - loss: 0.0022 - accuracy: 0.9994 - val_loss: 2.8648 - val_accuracy: 0.5257 - 3s/epoch - 11ms/step\n",
      "Epoch 62/300\n",
      "283/283 - 3s - loss: 0.0023 - accuracy: 0.9994 - val_loss: 2.8686 - val_accuracy: 0.5265 - 3s/epoch - 11ms/step\n",
      "Epoch 63/300\n",
      "283/283 - 3s - loss: 0.0021 - accuracy: 0.9995 - val_loss: 2.8874 - val_accuracy: 0.5251 - 3s/epoch - 11ms/step\n",
      "Epoch 64/300\n",
      "283/283 - 3s - loss: 0.0021 - accuracy: 0.9995 - val_loss: 2.8775 - val_accuracy: 0.5247 - 3s/epoch - 11ms/step\n",
      "Epoch 65/300\n",
      "283/283 - 3s - loss: 0.3567 - accuracy: 0.8893 - val_loss: 3.1494 - val_accuracy: 0.4516 - 3s/epoch - 11ms/step\n",
      "Epoch 66/300\n",
      "283/283 - 3s - loss: 0.0613 - accuracy: 0.9844 - val_loss: 2.9733 - val_accuracy: 0.4996 - 3s/epoch - 11ms/step\n",
      "Epoch 67/300\n",
      "283/283 - 3s - loss: 0.0147 - accuracy: 0.9977 - val_loss: 2.8587 - val_accuracy: 0.5177 - 3s/epoch - 11ms/step\n",
      "Epoch 68/300\n",
      "283/283 - 3s - loss: 0.0053 - accuracy: 0.9993 - val_loss: 2.8678 - val_accuracy: 0.5230 - 3s/epoch - 11ms/step\n",
      "Epoch 69/300\n",
      "283/283 - 3s - loss: 0.0032 - accuracy: 0.9993 - val_loss: 2.8707 - val_accuracy: 0.5257 - 3s/epoch - 11ms/step\n",
      "Epoch 70/300\n",
      "283/283 - 3s - loss: 0.0025 - accuracy: 0.9995 - val_loss: 2.8754 - val_accuracy: 0.5250 - 3s/epoch - 11ms/step\n",
      "Epoch 71/300\n",
      "283/283 - 3s - loss: 0.0023 - accuracy: 0.9994 - val_loss: 2.8971 - val_accuracy: 0.5238 - 3s/epoch - 11ms/step\n",
      "Epoch 72/300\n",
      "283/283 - 3s - loss: 0.0022 - accuracy: 0.9994 - val_loss: 2.8968 - val_accuracy: 0.5246 - 3s/epoch - 11ms/step\n",
      "Epoch 73/300\n",
      "283/283 - 3s - loss: 0.0021 - accuracy: 0.9994 - val_loss: 2.9297 - val_accuracy: 0.5258 - 3s/epoch - 11ms/step\n",
      "Epoch 74/300\n",
      "283/283 - 3s - loss: 0.0060 - accuracy: 0.9985 - val_loss: 3.0594 - val_accuracy: 0.4848 - 3s/epoch - 11ms/step\n",
      "Epoch 75/300\n",
      "283/283 - 3s - loss: 0.2387 - accuracy: 0.9259 - val_loss: 3.2258 - val_accuracy: 0.4554 - 3s/epoch - 11ms/step\n",
      "Epoch 76/300\n",
      "283/283 - 3s - loss: 0.0470 - accuracy: 0.9888 - val_loss: 2.9777 - val_accuracy: 0.4941 - 3s/epoch - 11ms/step\n",
      "Epoch 77/300\n",
      "283/283 - 3s - loss: 0.0125 - accuracy: 0.9980 - val_loss: 3.0241 - val_accuracy: 0.5135 - 3s/epoch - 11ms/step\n",
      "Epoch 78/300\n",
      "283/283 - 3s - loss: 0.0064 - accuracy: 0.9988 - val_loss: 2.9825 - val_accuracy: 0.5213 - 3s/epoch - 11ms/step\n",
      "Epoch 79/300\n",
      "283/283 - 3s - loss: 0.0030 - accuracy: 0.9993 - val_loss: 2.9759 - val_accuracy: 0.5256 - 3s/epoch - 11ms/step\n",
      "Epoch 80/300\n",
      "283/283 - 3s - loss: 0.0023 - accuracy: 0.9994 - val_loss: 2.9650 - val_accuracy: 0.5256 - 3s/epoch - 11ms/step\n",
      "Epoch 81/300\n",
      "283/283 - 3s - loss: 0.0020 - accuracy: 0.9994 - val_loss: 2.9817 - val_accuracy: 0.5273 - 3s/epoch - 11ms/step\n",
      "Epoch 82/300\n",
      "283/283 - 3s - loss: 0.0018 - accuracy: 0.9994 - val_loss: 2.9827 - val_accuracy: 0.5263 - 3s/epoch - 11ms/step\n",
      "Epoch 83/300\n",
      "283/283 - 3s - loss: 0.0018 - accuracy: 0.9994 - val_loss: 2.9967 - val_accuracy: 0.5298 - 3s/epoch - 11ms/step\n",
      "Epoch 84/300\n",
      "283/283 - 3s - loss: 0.0017 - accuracy: 0.9995 - val_loss: 3.0029 - val_accuracy: 0.5302 - 3s/epoch - 11ms/step\n",
      "Epoch 85/300\n",
      "283/283 - 3s - loss: 0.0017 - accuracy: 0.9995 - val_loss: 3.0401 - val_accuracy: 0.5304 - 3s/epoch - 11ms/step\n",
      "Epoch 86/300\n",
      "283/283 - 3s - loss: 0.0018 - accuracy: 0.9993 - val_loss: 3.0852 - val_accuracy: 0.5294 - 3s/epoch - 11ms/step\n",
      "Epoch 87/300\n",
      "283/283 - 3s - loss: 0.0022 - accuracy: 0.9994 - val_loss: 3.0173 - val_accuracy: 0.5312 - 3s/epoch - 11ms/step\n",
      "Epoch 88/300\n",
      "283/283 - 3s - loss: 0.0020 - accuracy: 0.9994 - val_loss: 3.0525 - val_accuracy: 0.5293 - 3s/epoch - 11ms/step\n",
      "Epoch 89/300\n",
      "283/283 - 3s - loss: 0.0023 - accuracy: 0.9994 - val_loss: 3.1501 - val_accuracy: 0.5138 - 3s/epoch - 11ms/step\n",
      "Epoch 90/300\n",
      "283/283 - 3s - loss: 0.3369 - accuracy: 0.8936 - val_loss: 3.2251 - val_accuracy: 0.4586 - 3s/epoch - 11ms/step\n",
      "Epoch 91/300\n",
      "283/283 - 3s - loss: 0.0364 - accuracy: 0.9918 - val_loss: 2.9411 - val_accuracy: 0.5040 - 3s/epoch - 11ms/step\n",
      "Epoch 92/300\n",
      "283/283 - 3s - loss: 0.0093 - accuracy: 0.9986 - val_loss: 2.9712 - val_accuracy: 0.5159 - 3s/epoch - 11ms/step\n",
      "Epoch 93/300\n",
      "283/283 - 3s - loss: 0.0035 - accuracy: 0.9994 - val_loss: 2.9987 - val_accuracy: 0.5187 - 3s/epoch - 11ms/step\n",
      "Epoch 94/300\n",
      "283/283 - 3s - loss: 0.0025 - accuracy: 0.9995 - val_loss: 2.9844 - val_accuracy: 0.5217 - 3s/epoch - 11ms/step\n",
      "Epoch 95/300\n",
      "283/283 - 3s - loss: 0.0022 - accuracy: 0.9994 - val_loss: 3.0125 - val_accuracy: 0.5246 - 3s/epoch - 11ms/step\n",
      "Epoch 96/300\n",
      "283/283 - 3s - loss: 0.0019 - accuracy: 0.9994 - val_loss: 2.9983 - val_accuracy: 0.5239 - 3s/epoch - 11ms/step\n",
      "Epoch 97/300\n",
      "283/283 - 3s - loss: 0.0018 - accuracy: 0.9995 - val_loss: 3.0313 - val_accuracy: 0.5238 - 3s/epoch - 11ms/step\n",
      "Epoch 98/300\n",
      "283/283 - 3s - loss: 0.0017 - accuracy: 0.9994 - val_loss: 3.0176 - val_accuracy: 0.5261 - 3s/epoch - 11ms/step\n",
      "Epoch 99/300\n",
      "283/283 - 3s - loss: 0.0016 - accuracy: 0.9995 - val_loss: 3.0247 - val_accuracy: 0.5251 - 3s/epoch - 11ms/step\n",
      "Epoch 100/300\n",
      "283/283 - 3s - loss: 0.0015 - accuracy: 0.9994 - val_loss: 3.0452 - val_accuracy: 0.5255 - 3s/epoch - 11ms/step\n",
      "Epoch 101/300\n",
      "283/283 - 3s - loss: 0.0014 - accuracy: 0.9995 - val_loss: 3.0664 - val_accuracy: 0.5250 - 3s/epoch - 11ms/step\n",
      "Epoch 102/300\n",
      "283/283 - 3s - loss: 0.0014 - accuracy: 0.9995 - val_loss: 3.0534 - val_accuracy: 0.5222 - 3s/epoch - 11ms/step\n",
      "Epoch 103/300\n",
      "283/283 - 3s - loss: 0.0016 - accuracy: 0.9995 - val_loss: 3.0790 - val_accuracy: 0.5224 - 3s/epoch - 11ms/step\n",
      "Epoch 104/300\n",
      "283/283 - 3s - loss: 0.0015 - accuracy: 0.9994 - val_loss: 3.1291 - val_accuracy: 0.5252 - 3s/epoch - 11ms/step\n",
      "Epoch 105/300\n",
      "283/283 - 3s - loss: 0.0017 - accuracy: 0.9993 - val_loss: 3.0873 - val_accuracy: 0.5235 - 3s/epoch - 11ms/step\n",
      "Epoch 106/300\n",
      "283/283 - 3s - loss: 0.0018 - accuracy: 0.9994 - val_loss: 3.0562 - val_accuracy: 0.5224 - 3s/epoch - 11ms/step\n",
      "Epoch 107/300\n",
      "283/283 - 3s - loss: 0.1259 - accuracy: 0.9622 - val_loss: 6.0634 - val_accuracy: 0.2685 - 3s/epoch - 11ms/step\n",
      "Epoch 108/300\n",
      "283/283 - 3s - loss: 0.2059 - accuracy: 0.9359 - val_loss: 3.3202 - val_accuracy: 0.4802 - 3s/epoch - 11ms/step\n",
      "Epoch 109/300\n",
      "283/283 - 3s - loss: 0.0188 - accuracy: 0.9969 - val_loss: 3.0959 - val_accuracy: 0.5108 - 3s/epoch - 11ms/step\n",
      "Epoch 110/300\n",
      "283/283 - 3s - loss: 0.0050 - accuracy: 0.9992 - val_loss: 3.0769 - val_accuracy: 0.5218 - 3s/epoch - 11ms/step\n",
      "Epoch 111/300\n",
      "283/283 - 3s - loss: 0.0027 - accuracy: 0.9994 - val_loss: 3.0804 - val_accuracy: 0.5215 - 3s/epoch - 11ms/step\n",
      "Epoch 112/300\n",
      "283/283 - 3s - loss: 0.0022 - accuracy: 0.9994 - val_loss: 3.0911 - val_accuracy: 0.5230 - 3s/epoch - 11ms/step\n",
      "Epoch 113/300\n",
      "283/283 - 3s - loss: 0.0019 - accuracy: 0.9995 - val_loss: 3.1149 - val_accuracy: 0.5257 - 3s/epoch - 11ms/step\n",
      "Epoch 114/300\n",
      "283/283 - 3s - loss: 0.0018 - accuracy: 0.9994 - val_loss: 3.1105 - val_accuracy: 0.5256 - 3s/epoch - 11ms/step\n",
      "Epoch 115/300\n",
      "283/283 - 3s - loss: 0.0016 - accuracy: 0.9995 - val_loss: 3.1322 - val_accuracy: 0.5250 - 3s/epoch - 11ms/step\n",
      "Epoch 116/300\n",
      "283/283 - 3s - loss: 0.0015 - accuracy: 0.9994 - val_loss: 3.1360 - val_accuracy: 0.5225 - 3s/epoch - 11ms/step\n",
      "Epoch 117/300\n",
      "283/283 - 3s - loss: 0.0014 - accuracy: 0.9995 - val_loss: 3.1389 - val_accuracy: 0.5246 - 3s/epoch - 11ms/step\n",
      "Epoch 118/300\n",
      "283/283 - 3s - loss: 0.0014 - accuracy: 0.9994 - val_loss: 3.1688 - val_accuracy: 0.5263 - 3s/epoch - 11ms/step\n",
      "Epoch 119/300\n",
      "283/283 - 3s - loss: 0.0014 - accuracy: 0.9994 - val_loss: 3.1515 - val_accuracy: 0.5258 - 3s/epoch - 11ms/step\n",
      "Epoch 120/300\n",
      "283/283 - 3s - loss: 0.0013 - accuracy: 0.9994 - val_loss: 3.1968 - val_accuracy: 0.5257 - 3s/epoch - 11ms/step\n",
      "Epoch 121/300\n",
      "283/283 - 3s - loss: 0.0014 - accuracy: 0.9994 - val_loss: 3.2147 - val_accuracy: 0.5237 - 3s/epoch - 11ms/step\n",
      "Epoch 122/300\n",
      "283/283 - 3s - loss: 0.0013 - accuracy: 0.9994 - val_loss: 3.2178 - val_accuracy: 0.5262 - 3s/epoch - 11ms/step\n",
      "Epoch 123/300\n",
      "283/283 - 3s - loss: 0.0013 - accuracy: 0.9995 - val_loss: 3.2055 - val_accuracy: 0.5234 - 3s/epoch - 11ms/step\n",
      "Epoch 124/300\n",
      "283/283 - 3s - loss: 0.0014 - accuracy: 0.9994 - val_loss: 3.2089 - val_accuracy: 0.5259 - 3s/epoch - 11ms/step\n",
      "Epoch 125/300\n",
      "283/283 - 3s - loss: 0.0016 - accuracy: 0.9993 - val_loss: 3.2865 - val_accuracy: 0.5197 - 3s/epoch - 11ms/step\n",
      "Epoch 126/300\n",
      "283/283 - 3s - loss: 0.1665 - accuracy: 0.9516 - val_loss: 5.6162 - val_accuracy: 0.3127 - 3s/epoch - 11ms/step\n",
      "Epoch 127/300\n",
      "283/283 - 3s - loss: 0.1793 - accuracy: 0.9429 - val_loss: 3.1799 - val_accuracy: 0.4782 - 3s/epoch - 11ms/step\n",
      "Epoch 128/300\n",
      "283/283 - 3s - loss: 0.0164 - accuracy: 0.9970 - val_loss: 3.1497 - val_accuracy: 0.5130 - 3s/epoch - 11ms/step\n",
      "Epoch 129/300\n",
      "283/283 - 3s - loss: 0.0050 - accuracy: 0.9991 - val_loss: 3.1205 - val_accuracy: 0.5170 - 3s/epoch - 11ms/step\n",
      "Epoch 130/300\n",
      "283/283 - 3s - loss: 0.0026 - accuracy: 0.9994 - val_loss: 3.1047 - val_accuracy: 0.5214 - 3s/epoch - 11ms/step\n",
      "Epoch 131/300\n",
      "283/283 - 3s - loss: 0.0021 - accuracy: 0.9995 - val_loss: 3.1399 - val_accuracy: 0.5225 - 3s/epoch - 11ms/step\n",
      "Epoch 132/300\n",
      "283/283 - 3s - loss: 0.0018 - accuracy: 0.9994 - val_loss: 3.1289 - val_accuracy: 0.5210 - 3s/epoch - 11ms/step\n",
      "Epoch 133/300\n",
      "283/283 - 3s - loss: 0.0016 - accuracy: 0.9994 - val_loss: 3.1409 - val_accuracy: 0.5238 - 3s/epoch - 11ms/step\n",
      "Epoch 134/300\n",
      "283/283 - 3s - loss: 0.0015 - accuracy: 0.9995 - val_loss: 3.1367 - val_accuracy: 0.5225 - 3s/epoch - 11ms/step\n",
      "Epoch 135/300\n",
      "283/283 - 3s - loss: 0.0014 - accuracy: 0.9994 - val_loss: 3.1878 - val_accuracy: 0.5224 - 3s/epoch - 11ms/step\n",
      "Epoch 136/300\n",
      "283/283 - 3s - loss: 0.0013 - accuracy: 0.9994 - val_loss: 3.1735 - val_accuracy: 0.5242 - 3s/epoch - 11ms/step\n",
      "Epoch 137/300\n",
      "283/283 - 3s - loss: 0.0012 - accuracy: 0.9994 - val_loss: 3.1993 - val_accuracy: 0.5260 - 3s/epoch - 11ms/step\n",
      "Epoch 138/300\n",
      "283/283 - 3s - loss: 0.0012 - accuracy: 0.9994 - val_loss: 3.2067 - val_accuracy: 0.5251 - 3s/epoch - 11ms/step\n",
      "Epoch 139/300\n",
      "283/283 - 3s - loss: 0.0014 - accuracy: 0.9993 - val_loss: 3.1990 - val_accuracy: 0.5251 - 3s/epoch - 11ms/step\n",
      "Epoch 140/300\n",
      "283/283 - 3s - loss: 0.0013 - accuracy: 0.9994 - val_loss: 3.2362 - val_accuracy: 0.5229 - 3s/epoch - 11ms/step\n",
      "Epoch 141/300\n",
      "283/283 - 3s - loss: 0.0012 - accuracy: 0.9995 - val_loss: 3.2125 - val_accuracy: 0.5238 - 3s/epoch - 11ms/step\n",
      "Epoch 142/300\n",
      "283/283 - 3s - loss: 0.0012 - accuracy: 0.9994 - val_loss: 3.2476 - val_accuracy: 0.5249 - 3s/epoch - 11ms/step\n",
      "Epoch 143/300\n",
      "283/283 - 3s - loss: 0.0012 - accuracy: 0.9993 - val_loss: 3.3076 - val_accuracy: 0.5282 - 3s/epoch - 11ms/step\n",
      "Epoch 144/300\n",
      "283/283 - 3s - loss: 0.1807 - accuracy: 0.9458 - val_loss: 4.5538 - val_accuracy: 0.3718 - 3s/epoch - 11ms/step\n",
      "Epoch 145/300\n",
      "283/283 - 3s - loss: 0.1154 - accuracy: 0.9632 - val_loss: 3.2815 - val_accuracy: 0.4961 - 3s/epoch - 11ms/step\n",
      "Epoch 146/300\n",
      "283/283 - 3s - loss: 0.0115 - accuracy: 0.9979 - val_loss: 3.3524 - val_accuracy: 0.5077 - 3s/epoch - 11ms/step\n",
      "Epoch 147/300\n",
      "283/283 - 3s - loss: 0.0047 - accuracy: 0.9992 - val_loss: 3.2108 - val_accuracy: 0.5176 - 3s/epoch - 11ms/step\n",
      "Epoch 148/300\n",
      "283/283 - 3s - loss: 0.0028 - accuracy: 0.9993 - val_loss: 3.1420 - val_accuracy: 0.5189 - 3s/epoch - 11ms/step\n",
      "Epoch 149/300\n",
      "283/283 - 3s - loss: 0.0021 - accuracy: 0.9993 - val_loss: 3.1937 - val_accuracy: 0.5186 - 3s/epoch - 11ms/step\n",
      "Epoch 150/300\n",
      "283/283 - 3s - loss: 0.0017 - accuracy: 0.9994 - val_loss: 3.2038 - val_accuracy: 0.5183 - 3s/epoch - 11ms/step\n",
      "Epoch 151/300\n",
      "283/283 - 3s - loss: 0.0015 - accuracy: 0.9996 - val_loss: 3.2123 - val_accuracy: 0.5188 - 3s/epoch - 11ms/step\n",
      "Epoch 152/300\n",
      "283/283 - 3s - loss: 0.0014 - accuracy: 0.9994 - val_loss: 3.2274 - val_accuracy: 0.5203 - 3s/epoch - 11ms/step\n",
      "Epoch 153/300\n",
      "283/283 - 3s - loss: 0.0013 - accuracy: 0.9994 - val_loss: 3.2430 - val_accuracy: 0.5206 - 3s/epoch - 11ms/step\n",
      "Epoch 154/300\n",
      "283/283 - 3s - loss: 0.0012 - accuracy: 0.9995 - val_loss: 3.2473 - val_accuracy: 0.5222 - 3s/epoch - 11ms/step\n",
      "Epoch 155/300\n",
      "283/283 - 3s - loss: 0.0012 - accuracy: 0.9995 - val_loss: 3.2755 - val_accuracy: 0.5195 - 3s/epoch - 11ms/step\n",
      "Epoch 156/300\n",
      "283/283 - 3s - loss: 0.0011 - accuracy: 0.9994 - val_loss: 3.2599 - val_accuracy: 0.5205 - 3s/epoch - 11ms/step\n",
      "Epoch 157/300\n",
      "283/283 - 3s - loss: 0.0011 - accuracy: 0.9995 - val_loss: 3.2811 - val_accuracy: 0.5205 - 3s/epoch - 11ms/step\n",
      "Epoch 158/300\n",
      "283/283 - 3s - loss: 0.0011 - accuracy: 0.9994 - val_loss: 3.2557 - val_accuracy: 0.5201 - 3s/epoch - 11ms/step\n",
      "Epoch 159/300\n",
      "283/283 - 3s - loss: 0.0011 - accuracy: 0.9995 - val_loss: 3.3562 - val_accuracy: 0.5209 - 3s/epoch - 11ms/step\n",
      "Epoch 160/300\n",
      "283/283 - 3s - loss: 0.0011 - accuracy: 0.9995 - val_loss: 3.3309 - val_accuracy: 0.5226 - 3s/epoch - 11ms/step\n",
      "Epoch 161/300\n",
      "283/283 - 3s - loss: 0.0011 - accuracy: 0.9994 - val_loss: 3.3365 - val_accuracy: 0.5198 - 3s/epoch - 11ms/step\n",
      "Epoch 162/300\n",
      "283/283 - 3s - loss: 0.0013 - accuracy: 0.9994 - val_loss: 3.3657 - val_accuracy: 0.5219 - 3s/epoch - 11ms/step\n",
      "Epoch 163/300\n",
      "283/283 - 3s - loss: 0.2360 - accuracy: 0.9256 - val_loss: 4.0275 - val_accuracy: 0.4443 - 3s/epoch - 11ms/step\n",
      "Epoch 164/300\n",
      "283/283 - 3s - loss: 0.0569 - accuracy: 0.9828 - val_loss: 3.2124 - val_accuracy: 0.4935 - 3s/epoch - 11ms/step\n",
      "Epoch 165/300\n",
      "283/283 - 3s - loss: 0.0106 - accuracy: 0.9979 - val_loss: 3.2481 - val_accuracy: 0.5164 - 3s/epoch - 11ms/step\n",
      "Epoch 166/300\n",
      "283/283 - 3s - loss: 0.0035 - accuracy: 0.9993 - val_loss: 3.2047 - val_accuracy: 0.5240 - 3s/epoch - 11ms/step\n",
      "Epoch 167/300\n",
      "283/283 - 3s - loss: 0.0022 - accuracy: 0.9993 - val_loss: 3.2637 - val_accuracy: 0.5266 - 3s/epoch - 11ms/step\n",
      "Epoch 168/300\n",
      "283/283 - 3s - loss: 0.0017 - accuracy: 0.9994 - val_loss: 3.2602 - val_accuracy: 0.5269 - 3s/epoch - 11ms/step\n",
      "Epoch 169/300\n",
      "283/283 - 3s - loss: 0.0015 - accuracy: 0.9994 - val_loss: 3.2665 - val_accuracy: 0.5276 - 3s/epoch - 11ms/step\n",
      "Epoch 170/300\n",
      "283/283 - 3s - loss: 0.0023 - accuracy: 0.9995 - val_loss: 3.3126 - val_accuracy: 0.5232 - 3s/epoch - 11ms/step\n",
      "Epoch 171/300\n",
      "283/283 - 3s - loss: 0.0018 - accuracy: 0.9994 - val_loss: 3.2752 - val_accuracy: 0.5175 - 3s/epoch - 11ms/step\n",
      "Epoch 172/300\n",
      "283/283 - 3s - loss: 0.0024 - accuracy: 0.9992 - val_loss: 3.3973 - val_accuracy: 0.5132 - 3s/epoch - 11ms/step\n",
      "Epoch 173/300\n",
      "283/283 - 3s - loss: 0.0222 - accuracy: 0.9942 - val_loss: 4.3638 - val_accuracy: 0.4015 - 3s/epoch - 11ms/step\n",
      "Epoch 174/300\n",
      "283/283 - 3s - loss: 0.1245 - accuracy: 0.9590 - val_loss: 3.3830 - val_accuracy: 0.4796 - 3s/epoch - 11ms/step\n",
      "Epoch 175/300\n",
      "283/283 - 3s - loss: 0.0205 - accuracy: 0.9948 - val_loss: 3.4001 - val_accuracy: 0.4985 - 3s/epoch - 11ms/step\n",
      "Epoch 176/300\n",
      "283/283 - 3s - loss: 0.0064 - accuracy: 0.9984 - val_loss: 3.4039 - val_accuracy: 0.5178 - 3s/epoch - 11ms/step\n",
      "Epoch 177/300\n",
      "283/283 - 3s - loss: 0.0040 - accuracy: 0.9991 - val_loss: 3.2725 - val_accuracy: 0.5178 - 3s/epoch - 11ms/step\n",
      "Epoch 178/300\n",
      "283/283 - 3s - loss: 0.0022 - accuracy: 0.9993 - val_loss: 3.3196 - val_accuracy: 0.5203 - 3s/epoch - 11ms/step\n",
      "Epoch 179/300\n",
      "283/283 - 3s - loss: 0.0014 - accuracy: 0.9995 - val_loss: 3.3135 - val_accuracy: 0.5222 - 3s/epoch - 11ms/step\n",
      "Epoch 180/300\n",
      "283/283 - 3s - loss: 0.0014 - accuracy: 0.9993 - val_loss: 3.3481 - val_accuracy: 0.5239 - 3s/epoch - 11ms/step\n",
      "Epoch 181/300\n",
      "283/283 - 3s - loss: 0.0066 - accuracy: 0.9982 - val_loss: 3.7963 - val_accuracy: 0.4721 - 3s/epoch - 11ms/step\n",
      "Epoch 182/300\n",
      "283/283 - 3s - loss: 0.0875 - accuracy: 0.9738 - val_loss: 3.7312 - val_accuracy: 0.4511 - 3s/epoch - 11ms/step\n",
      "Epoch 183/300\n",
      "283/283 - 3s - loss: 0.0386 - accuracy: 0.9890 - val_loss: 3.6326 - val_accuracy: 0.4927 - 3s/epoch - 11ms/step\n",
      "Epoch 184/300\n",
      "283/283 - 3s - loss: 0.0108 - accuracy: 0.9975 - val_loss: 3.3803 - val_accuracy: 0.5035 - 3s/epoch - 11ms/step\n",
      "Epoch 185/300\n",
      "283/283 - 3s - loss: 0.0054 - accuracy: 0.9986 - val_loss: 3.3824 - val_accuracy: 0.5138 - 3s/epoch - 11ms/step\n",
      "Epoch 186/300\n",
      "283/283 - 3s - loss: 0.0027 - accuracy: 0.9993 - val_loss: 3.3792 - val_accuracy: 0.5187 - 3s/epoch - 11ms/step\n",
      "Epoch 187/300\n",
      "283/283 - 3s - loss: 0.0016 - accuracy: 0.9994 - val_loss: 3.4071 - val_accuracy: 0.5218 - 3s/epoch - 11ms/step\n",
      "Epoch 188/300\n",
      "283/283 - 3s - loss: 0.0012 - accuracy: 0.9994 - val_loss: 3.3897 - val_accuracy: 0.5232 - 3s/epoch - 11ms/step\n",
      "Epoch 189/300\n",
      "283/283 - 3s - loss: 0.0011 - accuracy: 0.9996 - val_loss: 3.3954 - val_accuracy: 0.5236 - 3s/epoch - 11ms/step\n",
      "Epoch 190/300\n",
      "283/283 - 3s - loss: 0.0010 - accuracy: 0.9994 - val_loss: 3.3955 - val_accuracy: 0.5257 - 3s/epoch - 11ms/step\n",
      "Epoch 191/300\n",
      "283/283 - 3s - loss: 9.9399e-04 - accuracy: 0.9994 - val_loss: 3.4023 - val_accuracy: 0.5251 - 3s/epoch - 11ms/step\n",
      "Epoch 192/300\n",
      "283/283 - 3s - loss: 0.0919 - accuracy: 0.9722 - val_loss: 4.9821 - val_accuracy: 0.3721 - 3s/epoch - 11ms/step\n",
      "Epoch 193/300\n",
      "283/283 - 3s - loss: 0.0549 - accuracy: 0.9832 - val_loss: 3.4723 - val_accuracy: 0.4863 - 3s/epoch - 11ms/step\n",
      "Epoch 194/300\n",
      "283/283 - 3s - loss: 0.0103 - accuracy: 0.9978 - val_loss: 3.5422 - val_accuracy: 0.5132 - 3s/epoch - 11ms/step\n",
      "Epoch 195/300\n",
      "283/283 - 3s - loss: 0.0038 - accuracy: 0.9991 - val_loss: 3.5039 - val_accuracy: 0.5116 - 3s/epoch - 11ms/step\n",
      "Epoch 196/300\n",
      "283/283 - 3s - loss: 0.0024 - accuracy: 0.9991 - val_loss: 3.4392 - val_accuracy: 0.5200 - 3s/epoch - 11ms/step\n",
      "Epoch 197/300\n",
      "283/283 - 3s - loss: 0.0016 - accuracy: 0.9994 - val_loss: 3.4456 - val_accuracy: 0.5236 - 3s/epoch - 11ms/step\n",
      "Epoch 198/300\n",
      "283/283 - 3s - loss: 0.0012 - accuracy: 0.9994 - val_loss: 3.4516 - val_accuracy: 0.5220 - 3s/epoch - 11ms/step\n",
      "Epoch 199/300\n",
      "283/283 - 3s - loss: 0.0011 - accuracy: 0.9994 - val_loss: 3.4484 - val_accuracy: 0.5252 - 3s/epoch - 11ms/step\n",
      "Epoch 200/300\n",
      "283/283 - 3s - loss: 0.0010 - accuracy: 0.9995 - val_loss: 3.4706 - val_accuracy: 0.5241 - 3s/epoch - 11ms/step\n",
      "Epoch 201/300\n",
      "283/283 - 3s - loss: 9.8339e-04 - accuracy: 0.9995 - val_loss: 3.4565 - val_accuracy: 0.5242 - 3s/epoch - 11ms/step\n",
      "Epoch 202/300\n",
      "283/283 - 3s - loss: 9.8068e-04 - accuracy: 0.9994 - val_loss: 3.4727 - val_accuracy: 0.5262 - 3s/epoch - 11ms/step\n",
      "Epoch 203/300\n",
      "283/283 - 3s - loss: 9.5314e-04 - accuracy: 0.9994 - val_loss: 3.4673 - val_accuracy: 0.5246 - 3s/epoch - 11ms/step\n",
      "Epoch 204/300\n",
      "283/283 - 3s - loss: 8.9784e-04 - accuracy: 0.9994 - val_loss: 3.4883 - val_accuracy: 0.5266 - 3s/epoch - 11ms/step\n",
      "Epoch 205/300\n",
      "283/283 - 3s - loss: 9.0797e-04 - accuracy: 0.9995 - val_loss: 3.4965 - val_accuracy: 0.5256 - 3s/epoch - 11ms/step\n",
      "Epoch 206/300\n",
      "283/283 - 3s - loss: 8.9527e-04 - accuracy: 0.9994 - val_loss: 3.5136 - val_accuracy: 0.5273 - 3s/epoch - 11ms/step\n",
      "Epoch 207/300\n",
      "283/283 - 3s - loss: 9.2136e-04 - accuracy: 0.9995 - val_loss: 3.4721 - val_accuracy: 0.5280 - 3s/epoch - 11ms/step\n",
      "Epoch 208/300\n",
      "283/283 - 3s - loss: 9.3908e-04 - accuracy: 0.9994 - val_loss: 3.5141 - val_accuracy: 0.5240 - 3s/epoch - 11ms/step\n",
      "Epoch 209/300\n",
      "283/283 - 3s - loss: 0.0136 - accuracy: 0.9962 - val_loss: 8.6181 - val_accuracy: 0.1615 - 3s/epoch - 11ms/step\n",
      "Epoch 210/300\n",
      "283/283 - 3s - loss: 0.1683 - accuracy: 0.9477 - val_loss: 3.5439 - val_accuracy: 0.4839 - 3s/epoch - 11ms/step\n",
      "Epoch 211/300\n",
      "283/283 - 3s - loss: 0.0108 - accuracy: 0.9977 - val_loss: 3.4824 - val_accuracy: 0.5134 - 3s/epoch - 11ms/step\n",
      "Epoch 212/300\n",
      "283/283 - 3s - loss: 0.0030 - accuracy: 0.9992 - val_loss: 3.5023 - val_accuracy: 0.5188 - 3s/epoch - 11ms/step\n",
      "Epoch 213/300\n",
      "283/283 - 3s - loss: 0.0019 - accuracy: 0.9993 - val_loss: 3.5030 - val_accuracy: 0.5210 - 3s/epoch - 11ms/step\n",
      "Epoch 214/300\n",
      "283/283 - 3s - loss: 0.0014 - accuracy: 0.9994 - val_loss: 3.4748 - val_accuracy: 0.5175 - 3s/epoch - 11ms/step\n",
      "Epoch 215/300\n",
      "283/283 - 3s - loss: 0.0013 - accuracy: 0.9995 - val_loss: 3.4927 - val_accuracy: 0.5197 - 3s/epoch - 11ms/step\n",
      "Epoch 216/300\n",
      "283/283 - 3s - loss: 0.0011 - accuracy: 0.9994 - val_loss: 3.4878 - val_accuracy: 0.5213 - 3s/epoch - 11ms/step\n",
      "Epoch 217/300\n",
      "283/283 - 3s - loss: 0.0011 - accuracy: 0.9995 - val_loss: 3.4961 - val_accuracy: 0.5204 - 3s/epoch - 11ms/step\n",
      "Epoch 218/300\n",
      "283/283 - 3s - loss: 0.0010 - accuracy: 0.9994 - val_loss: 3.5109 - val_accuracy: 0.5239 - 3s/epoch - 11ms/step\n",
      "Epoch 219/300\n",
      "283/283 - 3s - loss: 9.9290e-04 - accuracy: 0.9994 - val_loss: 3.5124 - val_accuracy: 0.5246 - 3s/epoch - 11ms/step\n",
      "Epoch 220/300\n",
      "283/283 - 3s - loss: 9.8527e-04 - accuracy: 0.9994 - val_loss: 3.5115 - val_accuracy: 0.5210 - 3s/epoch - 11ms/step\n",
      "Epoch 221/300\n",
      "283/283 - 3s - loss: 9.5349e-04 - accuracy: 0.9994 - val_loss: 3.5087 - val_accuracy: 0.5232 - 3s/epoch - 11ms/step\n",
      "Epoch 222/300\n",
      "283/283 - 3s - loss: 8.9538e-04 - accuracy: 0.9995 - val_loss: 3.5330 - val_accuracy: 0.5230 - 3s/epoch - 11ms/step\n",
      "Epoch 223/300\n",
      "283/283 - 3s - loss: 8.7970e-04 - accuracy: 0.9995 - val_loss: 3.5464 - val_accuracy: 0.5244 - 3s/epoch - 11ms/step\n",
      "Epoch 224/300\n",
      "283/283 - 3s - loss: 8.7595e-04 - accuracy: 0.9995 - val_loss: 3.5594 - val_accuracy: 0.5257 - 3s/epoch - 11ms/step\n",
      "Epoch 225/300\n",
      "283/283 - 3s - loss: 9.1908e-04 - accuracy: 0.9994 - val_loss: 3.5680 - val_accuracy: 0.5255 - 3s/epoch - 11ms/step\n",
      "Epoch 226/300\n",
      "283/283 - 3s - loss: 9.0443e-04 - accuracy: 0.9995 - val_loss: 3.5760 - val_accuracy: 0.5261 - 3s/epoch - 11ms/step\n",
      "Epoch 227/300\n",
      "283/283 - 3s - loss: 9.3272e-04 - accuracy: 0.9994 - val_loss: 3.5303 - val_accuracy: 0.5257 - 3s/epoch - 11ms/step\n",
      "Epoch 228/300\n",
      "283/283 - 3s - loss: 0.0011 - accuracy: 0.9994 - val_loss: 3.6791 - val_accuracy: 0.5229 - 3s/epoch - 11ms/step\n",
      "Epoch 229/300\n",
      "283/283 - 3s - loss: 0.0011 - accuracy: 0.9994 - val_loss: 3.7410 - val_accuracy: 0.5215 - 3s/epoch - 11ms/step\n",
      "Epoch 230/300\n",
      "283/283 - 3s - loss: 0.1554 - accuracy: 0.9532 - val_loss: 3.7854 - val_accuracy: 0.4620 - 3s/epoch - 11ms/step\n",
      "Epoch 231/300\n",
      "283/283 - 3s - loss: 0.0232 - accuracy: 0.9934 - val_loss: 3.7315 - val_accuracy: 0.4988 - 3s/epoch - 11ms/step\n",
      "Epoch 232/300\n",
      "283/283 - 3s - loss: 0.0052 - accuracy: 0.9987 - val_loss: 3.5506 - val_accuracy: 0.5174 - 3s/epoch - 11ms/step\n",
      "Epoch 233/300\n",
      "283/283 - 3s - loss: 0.0018 - accuracy: 0.9994 - val_loss: 3.5554 - val_accuracy: 0.5187 - 3s/epoch - 11ms/step\n",
      "Epoch 234/300\n",
      "283/283 - 3s - loss: 0.0014 - accuracy: 0.9994 - val_loss: 3.5433 - val_accuracy: 0.5196 - 3s/epoch - 11ms/step\n",
      "Epoch 235/300\n",
      "283/283 - 3s - loss: 0.0012 - accuracy: 0.9994 - val_loss: 3.5559 - val_accuracy: 0.5217 - 3s/epoch - 11ms/step\n",
      "Epoch 236/300\n",
      "283/283 - 3s - loss: 0.0011 - accuracy: 0.9994 - val_loss: 3.5517 - val_accuracy: 0.5238 - 3s/epoch - 11ms/step\n",
      "Epoch 237/300\n",
      "283/283 - 3s - loss: 0.0011 - accuracy: 0.9994 - val_loss: 3.5598 - val_accuracy: 0.5226 - 3s/epoch - 11ms/step\n",
      "Epoch 238/300\n",
      "283/283 - 3s - loss: 0.0010 - accuracy: 0.9994 - val_loss: 3.5700 - val_accuracy: 0.5244 - 3s/epoch - 11ms/step\n",
      "Epoch 239/300\n",
      "283/283 - 3s - loss: 9.6225e-04 - accuracy: 0.9995 - val_loss: 3.5701 - val_accuracy: 0.5271 - 3s/epoch - 11ms/step\n",
      "Epoch 240/300\n",
      "283/283 - 3s - loss: 9.1370e-04 - accuracy: 0.9994 - val_loss: 3.5757 - val_accuracy: 0.5263 - 3s/epoch - 11ms/step\n",
      "Epoch 241/300\n",
      "283/283 - 3s - loss: 9.0360e-04 - accuracy: 0.9994 - val_loss: 3.5939 - val_accuracy: 0.5277 - 3s/epoch - 11ms/step\n",
      "Epoch 242/300\n",
      "283/283 - 3s - loss: 8.6705e-04 - accuracy: 0.9994 - val_loss: 3.6054 - val_accuracy: 0.5257 - 3s/epoch - 11ms/step\n",
      "Epoch 243/300\n",
      "283/283 - 3s - loss: 8.4910e-04 - accuracy: 0.9994 - val_loss: 3.6050 - val_accuracy: 0.5263 - 3s/epoch - 11ms/step\n",
      "Epoch 244/300\n",
      "283/283 - 3s - loss: 8.5213e-04 - accuracy: 0.9994 - val_loss: 3.6122 - val_accuracy: 0.5251 - 3s/epoch - 11ms/step\n",
      "Epoch 245/300\n",
      "283/283 - 3s - loss: 8.6628e-04 - accuracy: 0.9994 - val_loss: 3.6377 - val_accuracy: 0.5275 - 3s/epoch - 11ms/step\n",
      "Epoch 246/300\n",
      "283/283 - 3s - loss: 8.4091e-04 - accuracy: 0.9993 - val_loss: 3.6053 - val_accuracy: 0.5286 - 3s/epoch - 11ms/step\n",
      "Epoch 247/300\n",
      "283/283 - 3s - loss: 8.2000e-04 - accuracy: 0.9994 - val_loss: 3.6332 - val_accuracy: 0.5292 - 3s/epoch - 11ms/step\n",
      "Epoch 248/300\n",
      "283/283 - 3s - loss: 8.0761e-04 - accuracy: 0.9995 - val_loss: 3.6261 - val_accuracy: 0.5273 - 3s/epoch - 11ms/step\n",
      "Epoch 249/300\n",
      "283/283 - 3s - loss: 8.1037e-04 - accuracy: 0.9994 - val_loss: 3.6465 - val_accuracy: 0.5292 - 3s/epoch - 11ms/step\n",
      "Epoch 250/300\n",
      "283/283 - 3s - loss: 0.1743 - accuracy: 0.9465 - val_loss: 3.9873 - val_accuracy: 0.4571 - 3s/epoch - 11ms/step\n",
      "Epoch 251/300\n",
      "283/283 - 3s - loss: 0.0289 - accuracy: 0.9919 - val_loss: 3.5089 - val_accuracy: 0.5006 - 3s/epoch - 11ms/step\n",
      "Epoch 252/300\n",
      "283/283 - 3s - loss: 0.0075 - accuracy: 0.9983 - val_loss: 3.5959 - val_accuracy: 0.5146 - 3s/epoch - 11ms/step\n",
      "Epoch 253/300\n",
      "283/283 - 3s - loss: 0.0023 - accuracy: 0.9993 - val_loss: 3.6020 - val_accuracy: 0.5215 - 3s/epoch - 11ms/step\n",
      "Epoch 254/300\n",
      "283/283 - 3s - loss: 0.0016 - accuracy: 0.9994 - val_loss: 3.5538 - val_accuracy: 0.5226 - 3s/epoch - 11ms/step\n",
      "Epoch 255/300\n",
      "283/283 - 3s - loss: 0.0012 - accuracy: 0.9994 - val_loss: 3.5653 - val_accuracy: 0.5244 - 3s/epoch - 11ms/step\n",
      "Epoch 256/300\n",
      "283/283 - 3s - loss: 0.0011 - accuracy: 0.9994 - val_loss: 3.5927 - val_accuracy: 0.5236 - 3s/epoch - 11ms/step\n",
      "Epoch 257/300\n",
      "283/283 - 3s - loss: 0.0010 - accuracy: 0.9993 - val_loss: 3.5789 - val_accuracy: 0.5229 - 3s/epoch - 11ms/step\n",
      "Epoch 258/300\n",
      "283/283 - 3s - loss: 9.7885e-04 - accuracy: 0.9994 - val_loss: 3.5985 - val_accuracy: 0.5232 - 3s/epoch - 11ms/step\n",
      "Epoch 259/300\n",
      "283/283 - 3s - loss: 9.4549e-04 - accuracy: 0.9994 - val_loss: 3.5957 - val_accuracy: 0.5234 - 3s/epoch - 11ms/step\n",
      "Epoch 260/300\n",
      "283/283 - 3s - loss: 9.0340e-04 - accuracy: 0.9994 - val_loss: 3.6135 - val_accuracy: 0.5234 - 3s/epoch - 11ms/step\n",
      "Epoch 261/300\n",
      "283/283 - 3s - loss: 8.7707e-04 - accuracy: 0.9994 - val_loss: 3.6061 - val_accuracy: 0.5237 - 3s/epoch - 11ms/step\n",
      "Epoch 262/300\n",
      "283/283 - 3s - loss: 8.6157e-04 - accuracy: 0.9994 - val_loss: 3.6068 - val_accuracy: 0.5236 - 3s/epoch - 11ms/step\n",
      "Epoch 263/300\n",
      "283/283 - 3s - loss: 0.0070 - accuracy: 0.9982 - val_loss: 5.7731 - val_accuracy: 0.3602 - 3s/epoch - 11ms/step\n",
      "Epoch 264/300\n",
      "283/283 - 3s - loss: 0.1405 - accuracy: 0.9562 - val_loss: 3.9132 - val_accuracy: 0.4797 - 3s/epoch - 11ms/step\n",
      "Epoch 265/300\n",
      "283/283 - 3s - loss: 0.0138 - accuracy: 0.9964 - val_loss: 3.5492 - val_accuracy: 0.5142 - 3s/epoch - 11ms/step\n",
      "Epoch 266/300\n",
      "283/283 - 3s - loss: 0.0048 - accuracy: 0.9986 - val_loss: 3.5867 - val_accuracy: 0.5186 - 3s/epoch - 11ms/step\n",
      "Epoch 267/300\n",
      "283/283 - 3s - loss: 0.0020 - accuracy: 0.9994 - val_loss: 3.6193 - val_accuracy: 0.5204 - 3s/epoch - 11ms/step\n",
      "Epoch 268/300\n",
      "283/283 - 3s - loss: 0.0013 - accuracy: 0.9994 - val_loss: 3.6216 - val_accuracy: 0.5229 - 3s/epoch - 11ms/step\n",
      "Epoch 269/300\n",
      "283/283 - 3s - loss: 0.0013 - accuracy: 0.9994 - val_loss: 3.8198 - val_accuracy: 0.5139 - 3s/epoch - 11ms/step\n",
      "Epoch 270/300\n",
      "283/283 - 3s - loss: 0.0027 - accuracy: 0.9991 - val_loss: 3.5499 - val_accuracy: 0.5113 - 3s/epoch - 11ms/step\n",
      "Epoch 271/300\n",
      "283/283 - 3s - loss: 0.0047 - accuracy: 0.9986 - val_loss: 3.7323 - val_accuracy: 0.5058 - 3s/epoch - 11ms/step\n",
      "Epoch 272/300\n",
      "283/283 - 3s - loss: 0.0345 - accuracy: 0.9903 - val_loss: 4.9015 - val_accuracy: 0.4311 - 3s/epoch - 11ms/step\n",
      "Epoch 273/300\n",
      "283/283 - 3s - loss: 0.0381 - accuracy: 0.9885 - val_loss: 3.8618 - val_accuracy: 0.4865 - 3s/epoch - 11ms/step\n",
      "Epoch 274/300\n",
      "283/283 - 3s - loss: 0.0161 - accuracy: 0.9959 - val_loss: 3.7478 - val_accuracy: 0.5027 - 3s/epoch - 11ms/step\n",
      "Epoch 275/300\n",
      "283/283 - 3s - loss: 0.0090 - accuracy: 0.9978 - val_loss: 3.9167 - val_accuracy: 0.5025 - 3s/epoch - 11ms/step\n",
      "Epoch 276/300\n",
      "283/283 - 3s - loss: 0.0049 - accuracy: 0.9986 - val_loss: 3.6893 - val_accuracy: 0.5143 - 3s/epoch - 11ms/step\n",
      "Epoch 277/300\n",
      "283/283 - 3s - loss: 0.0029 - accuracy: 0.9989 - val_loss: 3.7777 - val_accuracy: 0.5166 - 3s/epoch - 11ms/step\n",
      "Epoch 278/300\n",
      "283/283 - 3s - loss: 0.0061 - accuracy: 0.9982 - val_loss: 3.8641 - val_accuracy: 0.5104 - 3s/epoch - 11ms/step\n",
      "Epoch 279/300\n",
      "283/283 - 3s - loss: 0.0106 - accuracy: 0.9972 - val_loss: 3.8422 - val_accuracy: 0.5000 - 3s/epoch - 11ms/step\n",
      "Epoch 280/300\n",
      "283/283 - 3s - loss: 0.0202 - accuracy: 0.9946 - val_loss: 4.0620 - val_accuracy: 0.4794 - 3s/epoch - 11ms/step\n",
      "Epoch 281/300\n",
      "283/283 - 3s - loss: 0.0297 - accuracy: 0.9920 - val_loss: 3.9069 - val_accuracy: 0.4835 - 3s/epoch - 11ms/step\n",
      "Epoch 282/300\n",
      "283/283 - 3s - loss: 0.0138 - accuracy: 0.9964 - val_loss: 3.8848 - val_accuracy: 0.4987 - 3s/epoch - 11ms/step\n",
      "Epoch 283/300\n",
      "283/283 - 3s - loss: 0.0075 - accuracy: 0.9980 - val_loss: 3.9019 - val_accuracy: 0.5028 - 3s/epoch - 11ms/step\n",
      "Epoch 284/300\n",
      "283/283 - 3s - loss: 0.0036 - accuracy: 0.9990 - val_loss: 3.7003 - val_accuracy: 0.5056 - 3s/epoch - 11ms/step\n",
      "Epoch 285/300\n",
      "283/283 - 3s - loss: 0.0035 - accuracy: 0.9989 - val_loss: 3.8734 - val_accuracy: 0.5064 - 3s/epoch - 11ms/step\n",
      "Epoch 286/300\n",
      "283/283 - 3s - loss: 0.0020 - accuracy: 0.9992 - val_loss: 3.7967 - val_accuracy: 0.5094 - 3s/epoch - 11ms/step\n",
      "Epoch 287/300\n",
      "283/283 - 3s - loss: 0.0055 - accuracy: 0.9985 - val_loss: 3.9593 - val_accuracy: 0.4994 - 3s/epoch - 11ms/step\n",
      "Epoch 288/300\n",
      "283/283 - 3s - loss: 0.0186 - accuracy: 0.9951 - val_loss: 4.3778 - val_accuracy: 0.4573 - 3s/epoch - 11ms/step\n",
      "Epoch 289/300\n",
      "283/283 - 3s - loss: 0.0340 - accuracy: 0.9902 - val_loss: 4.3019 - val_accuracy: 0.4656 - 3s/epoch - 11ms/step\n",
      "Epoch 290/300\n",
      "283/283 - 3s - loss: 0.0178 - accuracy: 0.9948 - val_loss: 4.0047 - val_accuracy: 0.4887 - 3s/epoch - 11ms/step\n",
      "Epoch 291/300\n",
      "283/283 - 3s - loss: 0.0083 - accuracy: 0.9979 - val_loss: 3.8292 - val_accuracy: 0.4980 - 3s/epoch - 11ms/step\n",
      "Epoch 292/300\n",
      "283/283 - 3s - loss: 0.0094 - accuracy: 0.9977 - val_loss: 3.8287 - val_accuracy: 0.5085 - 3s/epoch - 11ms/step\n",
      "Epoch 293/300\n",
      "283/283 - 3s - loss: 0.0037 - accuracy: 0.9989 - val_loss: 3.9599 - val_accuracy: 0.5065 - 3s/epoch - 11ms/step\n",
      "Epoch 294/300\n",
      "283/283 - 3s - loss: 0.0028 - accuracy: 0.9990 - val_loss: 3.8629 - val_accuracy: 0.5104 - 3s/epoch - 11ms/step\n",
      "Epoch 295/300\n",
      "283/283 - 3s - loss: 0.0075 - accuracy: 0.9981 - val_loss: 4.0273 - val_accuracy: 0.4977 - 3s/epoch - 11ms/step\n",
      "Epoch 296/300\n",
      "283/283 - 3s - loss: 0.0155 - accuracy: 0.9957 - val_loss: 4.3740 - val_accuracy: 0.4675 - 3s/epoch - 11ms/step\n",
      "Epoch 297/300\n",
      "283/283 - 3s - loss: 0.0196 - accuracy: 0.9947 - val_loss: 3.9015 - val_accuracy: 0.4866 - 3s/epoch - 11ms/step\n",
      "Epoch 298/300\n",
      "283/283 - 3s - loss: 0.0143 - accuracy: 0.9957 - val_loss: 3.9745 - val_accuracy: 0.5046 - 3s/epoch - 11ms/step\n",
      "Epoch 299/300\n",
      "283/283 - 3s - loss: 0.0055 - accuracy: 0.9983 - val_loss: 3.6963 - val_accuracy: 0.5041 - 3s/epoch - 11ms/step\n",
      "Epoch 300/300\n",
      "283/283 - 3s - loss: 0.0128 - accuracy: 0.9961 - val_loss: 4.0390 - val_accuracy: 0.4983 - 3s/epoch - 11ms/step\n"
     ]
    }
   ],
   "execution_count": 24
  },
  {
   "metadata": {
    "ExecuteTime": {
     "end_time": "2024-09-27T20:45:51.990292Z",
     "start_time": "2024-09-27T20:45:51.633930Z"
    }
   },
   "cell_type": "code",
   "source": [
    "# DISCORD -> 設定 -> 整合 -> Webhook -> 新 Webhook > -> 複製 Webhook 網址\n",
    "DISCORD_WEBHOOK_URL = \"https://discord.com/api/webhooks/1287413088970346557/30gx7NdIfSxS1BRWk28IRkOHJeoET-ihIN_KAjYeXYkrpPeI0hBnE-68AHzhpTR4h3et\"\n",
    "requests.post(\n",
    "    url=DISCORD_WEBHOOK_URL,\n",
    "    data={\"content\": \"cnn 模型訓練已完成!\"}\n",
    ")"
   ],
   "id": "5886bfd8b11f958e",
   "outputs": [
    {
     "data": {
      "text/plain": [
       "<Response [204]>"
      ]
     },
     "execution_count": 25,
     "metadata": {},
     "output_type": "execute_result"
    }
   ],
   "execution_count": 25
  },
  {
   "metadata": {
    "ExecuteTime": {
     "end_time": "2024-09-27T20:45:52.226800Z",
     "start_time": "2024-09-27T20:45:52.046611Z"
    }
   },
   "cell_type": "code",
   "source": [
    "accuracies = model_train_info.history['accuracy']\n",
    "val_accuracies = model_train_info.history['val_accuracy']\n",
    "\n",
    "plt.plot(list(range(epochs)), accuracies, label = 'accuracy')\n",
    "plt.plot(list(range(epochs)), val_accuracies, label = 'val_accuracy')\n",
    "plt.legend()\n",
    "plt.grid()\n",
    "plt.xticks(ticks = list(range(1, epochs + 1))) \n",
    "plt.xlabel('Epoch')\n",
    "plt.ylabel('Accuracy')\n",
    "plt.xticks(ticks=list(range(0, epochs + 1, 50)))\n",
    "plt.yticks(ticks=list(np.arange(0, 1 + 0.1, 0.1)))\n",
    "plt.show()"
   ],
   "id": "9bb57d39fcd1b1e3",
   "outputs": [
    {
     "data": {
      "text/plain": [
       "<Figure size 640x480 with 1 Axes>"
      ],
      "image/png": "[encoded data removed]"
     },
     "metadata": {},
     "output_type": "display_data"
    }
   ],
   "execution_count": 26
  },
  {
   "metadata": {
    "ExecuteTime": {
     "end_time": "2024-09-27T20:45:52.257801Z",
     "start_time": "2024-09-27T20:45:52.241800Z"
    }
   },
   "cell_type": "code",
   "source": [
    "print(f\"資料: {mfcc_matrix_list_scaled.shape}\")\n",
    "print(f\"最高準確率: {max(val_accuracies)}\")"
   ],
   "id": "e085c303956a0412",
   "outputs": [
    {
     "name": "stdout",
     "output_type": "stream",
     "text": [
      "資料: (45167, 13, 44)\n",
      "最高準確率: 0.5312154293060303\n"
     ]
    }
   ],
   "execution_count": 27
  },
  {
   "metadata": {
    "ExecuteTime": {
     "end_time": "2024-09-27T20:45:52.383234Z",
     "start_time": "2024-09-27T20:45:52.274801Z"
    }
   },
   "cell_type": "code",
   "source": "model.save(f\".\\\\cnn_model.h5\")",
   "id": "159f4a26b7c27405",
   "outputs": [],
   "execution_count": 28
  }
 ],
 "metadata": {
  "kernelspec": {
   "display_name": "Python 3",
   "language": "python",
   "name": "python3"
  },
  "language_info": {
   "codemirror_mode": {
    "name": "ipython",
    "version": 2
   },
   "file_extension": ".py",
   "mimetype": "text/x-python",
   "name": "python",
   "nbconvert_exporter": "python",
   "pygments_lexer": "ipython2",
   "version": "2.7.6"
  }
 },
 "nbformat": 4,
 "nbformat_minor": 5
}
