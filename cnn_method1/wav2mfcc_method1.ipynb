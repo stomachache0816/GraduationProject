{
 "cells": [
  {
   "cell_type": "code",
   "id": "initial_id",
   "metadata": {
    "collapsed": true,
    "ExecuteTime": {
     "end_time": "2024-10-02T10:13:56.172382Z",
     "start_time": "2024-10-02T10:13:56.168389Z"
    }
   },
   "source": [
    "from glob import glob\n",
    "import numpy as np\n",
    "import librosa\n",
    "from tqdm import tqdm\n",
    "import os"
   ],
   "outputs": [],
   "execution_count": 6
  },
  {
   "metadata": {
    "ExecuteTime": {
     "end_time": "2024-10-02T10:13:58.198486Z",
     "start_time": "2024-10-02T10:13:58.072834Z"
    }
   },
   "cell_type": "code",
   "source": [
    "audio_wav_path_list: list = glob(pathname=\"..\\\\data\\\\audio\\\\*\\\\*.wav\", recursive=True)\n",
    "print(f\"type(audio_wav_path_list): {type(audio_wav_path_list)}\")\n",
    "print(f\"len(audio_wav_path_list): {len(audio_wav_path_list)}\")\n",
    "# wav_path_list"
   ],
   "id": "49bc2848d0cb3c58",
   "outputs": [
    {
     "name": "stdout",
     "output_type": "stream",
     "text": [
      "type(audio_wav_path_list): <class 'list'>\n",
      "len(audio_wav_path_list): 42142\n"
     ]
    }
   ],
   "execution_count": 7
  },
  {
   "metadata": {
    "ExecuteTime": {
     "end_time": "2024-10-02T10:13:59.830036Z",
     "start_time": "2024-10-02T10:13:59.819520Z"
    }
   },
   "cell_type": "code",
   "source": [
    "record_wav_path_list: list = glob(pathname=\"..\\\\data\\\\record\\\\*.wav\", recursive=True)\n",
    "print(f\"type(record_wav_path_list): {type(record_wav_path_list)}\")\n",
    "print(f\"len(record_wav_path_list): {len(record_wav_path_list)}\")\n",
    "# record_wav_path_list"
   ],
   "id": "5d29144b36a8ef0e",
   "outputs": [
    {
     "name": "stdout",
     "output_type": "stream",
     "text": [
      "type(record_wav_path_list): <class 'list'>\n",
      "len(record_wav_path_list): 110\n"
     ]
    }
   ],
   "execution_count": 8
  },
  {
   "metadata": {
    "ExecuteTime": {
     "end_time": "2024-10-02T10:14:20.120038Z",
     "start_time": "2024-10-02T10:14:20.099011Z"
    }
   },
   "cell_type": "code",
   "source": [
    "edu_wav_path_list = glob(pathname=\"..\\\\data\\\\samplePinyinEdu\\\\*Wav\\\\*.wav\", recursive=True)\n",
    "print(f\"type(edu_wav_path_list): {type(edu_wav_path_list)}\")\n",
    "print(f\"len(edu_wav_path_list): {len(edu_wav_path_list)}\")\n",
    "# edu_wav_path_list"
   ],
   "id": "64d528f1bc2a4781",
   "outputs": [
    {
     "name": "stdout",
     "output_type": "stream",
     "text": [
      "type(edu_wav_path_list): <class 'list'>\n",
      "len(edu_wav_path_list): 2934\n"
     ]
    }
   ],
   "execution_count": 10
  },
  {
   "metadata": {
    "ExecuteTime": {
     "end_time": "2024-10-02T10:14:30.569715Z",
     "start_time": "2024-10-02T10:14:30.552688Z"
    }
   },
   "cell_type": "code",
   "source": [
    "edu_male_wav_path_list: list = glob(pathname=\"..\\\\data\\\\samplePinyinEdu\\\\MaleWav\\\\*.wav\")\n",
    "edu_pinyin_list: list = [wav_path[wav_path.find(\"_\") + 1: wav_path.find(\".wav\")] for wav_path in edu_male_wav_path_list]\n",
    "\n",
    "print(f\"type(edu_pinyin_list): {type(edu_pinyin_list)}\")\n",
    "print(f\"len(edu_pinyin_list): {len(edu_pinyin_list)}\")\n",
    "# edu_pinyin_list"
   ],
   "id": "8269a044206ff489",
   "outputs": [
    {
     "name": "stdout",
     "output_type": "stream",
     "text": [
      "type(edu_pinyin_list): <class 'list'>\n",
      "len(edu_pinyin_list): 1467\n"
     ]
    }
   ],
   "execution_count": 11
  },
  {
   "metadata": {
    "ExecuteTime": {
     "end_time": "2024-10-02T10:15:02.082661Z",
     "start_time": "2024-10-02T10:15:01.815102Z"
    }
   },
   "cell_type": "code",
   "source": [
    "audio_wav_path_list_selected = list()\n",
    "\n",
    "for wav_path in audio_wav_path_list:\n",
    "    pinyin = wav_path[wav_path.find(\"_\") + 1: wav_path.find(\".wav\")]\n",
    "    modified_pinyin: str\n",
    "    if not pinyin[-1].isdigit():\n",
    "        modified_pinyin = pinyin + \"5\"\n",
    "    elif pinyin[-1] == \"1\":\n",
    "        modified_pinyin = pinyin[:-1]\n",
    "    else:\n",
    "        modified_pinyin = pinyin\n",
    "    \n",
    "    if modified_pinyin in edu_pinyin_list:\n",
    "        audio_wav_path_list_selected.append(wav_path)\n",
    "\n",
    "print(f\"type(audio_wav_path_list_selected): {type(audio_wav_path_list_selected)}\")\n",
    "print(f\"len(audio_wav_path_list_selected): {len(audio_wav_path_list_selected)}\")\n",
    "# audio_wav_path_list_selected"
   ],
   "id": "f293f44ccd022718",
   "outputs": [
    {
     "name": "stdout",
     "output_type": "stream",
     "text": [
      "type(audio_wav_path_list_selected): <class 'list'>\n",
      "len(audio_wav_path_list_selected): 42124\n"
     ]
    }
   ],
   "execution_count": 12
  },
  {
   "metadata": {
    "ExecuteTime": {
     "end_time": "2024-10-02T10:15:05.191157Z",
     "start_time": "2024-10-02T10:15:05.179554Z"
    }
   },
   "cell_type": "code",
   "source": [
    "wav_path_list = list()\n",
    "for path_list in [audio_wav_path_list_selected, record_wav_path_list, edu_wav_path_list]:\n",
    "    for wav_path in path_list:\n",
    "        wav_path_list.append(wav_path)\n",
    "\n",
    "print(f\"type(wav_path_list): {type(wav_path_list)}\")\n",
    "print(f\"len(wav_path_list): {len(wav_path_list)}\")\n",
    "# wav_path_list"
   ],
   "id": "260517bc97a474fa",
   "outputs": [
    {
     "name": "stdout",
     "output_type": "stream",
     "text": [
      "type(wav_path_list): <class 'list'>\n",
      "len(wav_path_list): 45168\n"
     ]
    }
   ],
   "execution_count": 13
  },
  {
   "metadata": {
    "ExecuteTime": {
     "end_time": "2024-10-02T10:15:08.922862Z",
     "start_time": "2024-10-02T10:15:08.858379Z"
    }
   },
   "cell_type": "code",
   "source": [
    "edu_mfcc_path_list = list()\n",
    "i = 0\n",
    "for wav_path in audio_wav_path_list_selected:\n",
    "    pinyin = wav_path[wav_path.find(\"_\") + 1: wav_path.find(\".wav\")]\n",
    "    modified_pinyin: str\n",
    "    if not pinyin[-1].isdigit():\n",
    "        modified_pinyin = pinyin + \"5\"\n",
    "    elif pinyin[-1] == \"1\":\n",
    "        modified_pinyin = pinyin[:-1]\n",
    "    else:\n",
    "        modified_pinyin = pinyin\n",
    "    \n",
    "    path = wav_path\n",
    "    path = path.replace(f\"_{pinyin}.wav\", f\"_{modified_pinyin}_{i}.npy\")\n",
    "    i += 1\n",
    "    path = path.replace(\n",
    "        path[\n",
    "            path.find(\"\\\\data\\\\audio\\\\\") + len(\"\\\\data\\\\\"):\n",
    "            path.find(\"\\\\\", (path.find(\"\\\\data\\\\audio\\\\\") + len(\"\\\\data\\\\audio\\\\\")))\n",
    "        ],\n",
    "        \"mfccEduVer\"\n",
    "    )\n",
    "    edu_mfcc_path_list.append(path)\n",
    "    \n",
    "for wav_path in record_wav_path_list:\n",
    "    path = wav_path\n",
    "    path = path.replace(f\".wav\", f\"_{i}.npy\")\n",
    "    i += 1\n",
    "    path = path.replace(\n",
    "        path[\n",
    "            path.find(\"record\\\\\"):\n",
    "            path.find(\"\\\\\", (path.find(\"record\\\\\")))\n",
    "        ],\n",
    "        \"mfccEduVer\"\n",
    "    )\n",
    "    edu_mfcc_path_list.append(path)\n",
    "    \n",
    "for wav_path in edu_wav_path_list:\n",
    "    path = wav_path\n",
    "    path = path.replace(f\".wav\", f\"_{i}.npy\")\n",
    "    i += 1\n",
    "    if \"samplePinyinEdu\\\\Female\\\\\" in wav_path:\n",
    "        path = path.replace(\n",
    "            path[\n",
    "                path.find(\"samplePinyinEdu\\\\\"):\n",
    "                path.find(\"\\\\\", (path.find(\"Female\\\\\")))\n",
    "            ],\n",
    "            \"mfccEduVer\"\n",
    "        )\n",
    "    elif \"samplePinyinEdu\\\\Male\\\\\" in path:\n",
    "        path = path.replace(\n",
    "            path[\n",
    "                path.find(\"samplePinyinEdu\\\\\"):\n",
    "                path.find(\"\\\\\", (path.find(\"Male\\\\\")))\n",
    "            ],\n",
    "            \"mfccEduVer\"\n",
    "        )\n",
    "    edu_mfcc_path_list.append(path)\n",
    "\n",
    "print(f\"type(edu_mfcc_path_list): {type(edu_mfcc_path_list)}\")\n",
    "print(f\"len(edu_mfcc_path_list): {len(edu_mfcc_path_list)}\")\n",
    "# edu_mfcc_path_list"
   ],
   "id": "92def962deba61d8",
   "outputs": [
    {
     "name": "stdout",
     "output_type": "stream",
     "text": [
      "type(edu_mfcc_path_list): <class 'list'>\n",
      "len(edu_mfcc_path_list): 45168\n"
     ]
    }
   ],
   "execution_count": 14
  },
  {
   "metadata": {
    "ExecuteTime": {
     "end_time": "2024-10-02T10:15:12.023585Z",
     "start_time": "2024-10-02T10:15:12.008817Z"
    }
   },
   "cell_type": "code",
   "source": [
    "def get_mfcc(file_path, n_mfcc=13, max_pad_len=44, n_fft=2048, sr=22050, fmax=None, n_mels=128):\n",
    "    # 讀取音檔，轉為單聲道\n",
    "    audio, sample_rate = librosa.load(file_path, mono=True, sr=sr)\n",
    "\n",
    "    # 確保 n_fft 小於或等於輸入信號的長度\n",
    "    n_fft = min(n_fft, len(audio))\n",
    "\n",
    "    # 計算梅爾頻率倒譜係數（MFCC）\n",
    "    mfccs = librosa.feature.mfcc(y=audio, sr=sample_rate, n_mfcc=n_mfcc, n_fft=n_fft, n_mels=n_mels, fmax=fmax)\n",
    "\n",
    "    # 計算填充或截斷的長度\n",
    "    pad_width = max_pad_len - mfccs.shape[1]\n",
    "    if pad_width < 0:\n",
    "        # 截斷\n",
    "        mfccs = mfccs[:, :max_pad_len]\n",
    "    else:\n",
    "        # 填充\n",
    "        mfccs = np.pad(mfccs, pad_width=((0, 0), (0, pad_width)), mode='constant')\n",
    "\n",
    "    return mfccs"
   ],
   "id": "80a137a101550582",
   "outputs": [],
   "execution_count": 15
  },
  {
   "metadata": {
    "ExecuteTime": {
     "end_time": "2024-10-02T10:23:29.289871Z",
     "start_time": "2024-10-02T10:21:46.079533Z"
    }
   },
   "cell_type": "code",
   "source": [
    "mfcc_matrix_list = list()\n",
    "\n",
    "for wav_path in tqdm(wav_path_list):\n",
    "    mfcc_matrix = get_mfcc(file_path=wav_path)\n",
    "    mfcc_matrix_list.append(mfcc_matrix)\n",
    "\n",
    "print(f\"type(mfcc_matrix_list): {type(mfcc_matrix_list)}\")\n",
    "print(f\"len(mfcc_matrix_list): {len(mfcc_matrix_list)}\")\n",
    "# mfcc_matrix_list"
   ],
   "id": "1205e89c131aab9c",
   "outputs": [
    {
     "name": "stderr",
     "output_type": "stream",
     "text": [
      "100%|██████████| 45168/45168 [01:43<00:00, 437.78it/s]"
     ]
    },
    {
     "name": "stdout",
     "output_type": "stream",
     "text": [
      "type(mfcc_matrix_list): <class 'list'>\n",
      "len(mfcc_matrix_list): 45168\n"
     ]
    },
    {
     "name": "stderr",
     "output_type": "stream",
     "text": [
      "\n"
     ]
    }
   ],
   "execution_count": 18
  },
  {
   "metadata": {
    "ExecuteTime": {
     "end_time": "2024-10-02T10:21:42.739704Z",
     "start_time": "2024-10-02T10:21:32.492516Z"
    }
   },
   "cell_type": "code",
   "source": [
    "mfcc_folder = \"..\\\\data\\\\mfccEduVer\\\\\"\n",
    "if not os.path.exists(mfcc_folder):\n",
    "    os.makedirs(mfcc_folder)\n",
    "\n",
    "for i in tqdm(range(len(edu_mfcc_path_list))):\n",
    "    npy_path = edu_mfcc_path_list[i]\n",
    "    mfcc_matrix = mfcc_matrix_list[i]\n",
    "    np.save(file=npy_path, arr=mfcc_matrix)"
   ],
   "id": "23930674a967e0d3",
   "outputs": [
    {
     "name": "stderr",
     "output_type": "stream",
     "text": [
      "100%|██████████| 45168/45168 [00:10<00:00, 4411.72it/s]\n"
     ]
    }
   ],
   "execution_count": 17
  }
 ],
 "metadata": {
  "kernelspec": {
   "display_name": "Python 3",
   "language": "python",
   "name": "python3"
  },
  "language_info": {
   "codemirror_mode": {
    "name": "ipython",
    "version": 2
   },
   "file_extension": ".py",
   "mimetype": "text/x-python",
   "name": "python",
   "nbconvert_exporter": "python",
   "pygments_lexer": "ipython2",
   "version": "2.7.6"
  }
 },
 "nbformat": 4,
 "nbformat_minor": 5
}
