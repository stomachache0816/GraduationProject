{
 "cells": [
  {
   "cell_type": "code",
   "id": "initial_id",
   "metadata": {
    "collapsed": true,
    "ExecuteTime": {
     "end_time": "2024-10-02T12:26:58.870601Z",
     "start_time": "2024-10-02T12:26:55.397968Z"
    }
   },
   "source": [
    "import platform\n",
    "print(f\"platform.python_version(): {platform.python_version()}\")\n",
    "\n",
    "import numpy as np\n",
    "from glob import glob\n",
    "from tqdm import tqdm\n",
    "import requests\n",
    "import json\n",
    "import matplotlib.pyplot as plt\n",
    "\n",
    "from sklearn.preprocessing import StandardScaler\n",
    "from sklearn.model_selection import train_test_split\n",
    "\n",
    "import tensorflow as tf\n",
    "from tensorflow import keras\n",
    "from keras import Sequential\n",
    "from keras.utils import to_categorical\n",
    "from keras.layers import Dense, Flatten, Conv2D, MaxPooling2D, BatchNormalization, Activation\n",
    "\n",
    "# 確認GPU是否可用\n",
    "gpus = tf.config.experimental.list_physical_devices(\"GPU\")\n",
    "print(f\"tf.config.list_physical_devices('GPU'): {tf.config.list_physical_devices('GPU')}\")"
   ],
   "outputs": [
    {
     "name": "stdout",
     "output_type": "stream",
     "text": [
      "platform.python_version(): 3.9.13\n",
      "tf.config.list_physical_devices('GPU'): [PhysicalDevice(name='/physical_device:GPU:0', device_type='GPU')]\n"
     ]
    }
   ],
   "execution_count": 1
  },
  {
   "metadata": {},
   "cell_type": "markdown",
   "source": "mfcc .npy檔案路徑陣列",
   "id": "1dad317aedc5dc67"
  },
  {
   "metadata": {
    "ExecuteTime": {
     "end_time": "2024-10-02T08:14:17.984552Z",
     "start_time": "2024-10-02T08:14:17.820740Z"
    }
   },
   "cell_type": "code",
   "source": [
    "npy_file_path_list: list = glob(f\"..\\\\data\\\\*EduVer\\\\*.npy\")\n",
    "print(f\"type(npy_file_path_list): {type(npy_file_path_list)}\")\n",
    "print(f\"len(npy_file_path_list): {len(npy_file_path_list)}\")\n",
    "# npy_file_path_list"
   ],
   "id": "f131c7cc5d197b26",
   "outputs": [
    {
     "name": "stdout",
     "output_type": "stream",
     "text": [
      "type(npy_file_path_list): <class 'list'>\n",
      "len(npy_file_path_list): 67172\n"
     ]
    }
   ],
   "execution_count": 18
  },
  {
   "metadata": {},
   "cell_type": "markdown",
   "source": "讀取npy_file_path_list裡面每一個npy_file_path 轉成mfcc 放入mfcc_matrix_list",
   "id": "6d7e247f52ededa6"
  },
  {
   "metadata": {
    "ExecuteTime": {
     "end_time": "2024-10-02T08:16:12.022396Z",
     "start_time": "2024-10-02T08:16:00.594450Z"
    }
   },
   "cell_type": "code",
   "source": [
    "mfcc_matrix_list = list()\n",
    "\n",
    "for npy_file_path in tqdm(npy_file_path_list):\n",
    "    mfcc_matrix = np.load(file=npy_file_path)\n",
    "    mfcc_matrix_list.append(mfcc_matrix)\n",
    "\n",
    "mfcc_matrix_list = np.array(mfcc_matrix_list)\n",
    "print(f\"type(mfcc_matrix_list): {type(mfcc_matrix_list)}\")\n",
    "print(f\"mfcc_matrix_list.shape: {mfcc_matrix_list.shape}\")\n",
    "# mfcc_matrix_list"
   ],
   "id": "15ba282f7aec5e39",
   "outputs": [
    {
     "name": "stderr",
     "output_type": "stream",
     "text": [
      "100%|██████████| 67172/67172 [00:11<00:00, 5922.77it/s]"
     ]
    },
    {
     "name": "stdout",
     "output_type": "stream",
     "text": [
      "type(mfcc_matrix_list): <class 'numpy.ndarray'>\n",
      "mfcc_matrix_list.shape: (67172, 13, 44)\n"
     ]
    },
    {
     "name": "stderr",
     "output_type": "stream",
     "text": [
      "\n"
     ]
    }
   ],
   "execution_count": 19
  },
  {
   "metadata": {},
   "cell_type": "markdown",
   "source": "標準化",
   "id": "233c33b2c0f2ad90"
  },
  {
   "metadata": {
    "ExecuteTime": {
     "end_time": "2024-10-02T08:16:20.877767Z",
     "start_time": "2024-10-02T08:16:18.260662Z"
    }
   },
   "cell_type": "code",
   "source": [
    "scaler = StandardScaler()\n",
    "# 因為標準器只能fit 2維的資料所以要將3維的mfcc資料集reshape成2維\n",
    "# mfcc_data_nums: k\n",
    "# mfcc_row: n\n",
    "# mfcc_column: m\n",
    "# (k, n, m) => (k * n, m)\n",
    "scaler.fit(mfcc_matrix_list.reshape((mfcc_matrix_list.shape[0] * mfcc_matrix_list.shape[1], mfcc_matrix_list.shape[2])))\n",
    "\n",
    "mfcc_matrix_list_scaled = []\n",
    "for mfcc in mfcc_matrix_list:\n",
    "    mfcc_matrix_list_scaled.append(scaler.transform(mfcc))\n",
    "\n",
    "# 將list()轉換成np.array()\n",
    "mfcc_matrix_list_scaled = np.array(mfcc_matrix_list_scaled)\n",
    "\n",
    "print(f\"type(mfcc_matrix_list_scaled): {type(mfcc_matrix_list_scaled)}\")\n",
    "print(f\"mfcc_matrix_list_scaled.shape: {mfcc_matrix_list_scaled.shape}\")\n",
    "\n",
    "# 不要印出 ipynb會爆炸\n",
    "# mfcc_matrix_list_scaled"
   ],
   "id": "d7289166e46dcb99",
   "outputs": [
    {
     "name": "stdout",
     "output_type": "stream",
     "text": [
      "type(mfcc_matrix_list_scaled): <class 'numpy.ndarray'>\n",
      "mfcc_matrix_list_scaled.shape: (67172, 13, 44)\n"
     ]
    }
   ],
   "execution_count": 20
  },
  {
   "metadata": {},
   "cell_type": "markdown",
   "source": "資料拼音標籤",
   "id": "93cd9527d8567ecb"
  },
  {
   "metadata": {
    "ExecuteTime": {
     "end_time": "2024-10-02T08:16:23.506316Z",
     "start_time": "2024-10-02T08:16:23.470759Z"
    }
   },
   "cell_type": "code",
   "source": [
    "label_pinyin_list = []\n",
    "\n",
    "for npy_file_path in npy_file_path_list:\n",
    "    label_pinyin = npy_file_path.split(\"_\")[1]\n",
    "    label_pinyin_list.append(label_pinyin)\n",
    "\n",
    "# 將list()轉換成np.array()\n",
    "label_pinyin_list = np.array(label_pinyin_list)\n",
    "\n",
    "print(f\"type(label_pinyin_list): {type(label_pinyin_list)}\")\n",
    "print(f\"label_pinyin_list.shape: {label_pinyin_list.shape}\")\n",
    "# label_pinyin_list"
   ],
   "id": "9350dd4cc72bcfe3",
   "outputs": [
    {
     "name": "stdout",
     "output_type": "stream",
     "text": [
      "type(label_pinyin_list): <class 'numpy.ndarray'>\n",
      "label_pinyin_list.shape: (67172,)\n"
     ]
    }
   ],
   "execution_count": 21
  },
  {
   "metadata": {},
   "cell_type": "markdown",
   "source": "標籤轉換字典 key: pinyin key: int",
   "id": "a053320d057c7b30"
  },
  {
   "metadata": {
    "ExecuteTime": {
     "end_time": "2024-10-02T08:16:28.239019Z",
     "start_time": "2024-10-02T08:16:28.221868Z"
    }
   },
   "cell_type": "code",
   "source": [
    "sample_list = glob(f\"..\\\\data\\\\samplePinyinEdu\\\\MaleWav\\\\*.wav\")\n",
    "\n",
    "label_dic: dict = {}\n",
    "for i in range(len(sample_list)):\n",
    "    label = sample_list[i][sample_list[i].find(\"_\") + 1:sample_list[i].find(\".wav\")]\n",
    "    label_dic[label] = i\n",
    "\n",
    "print(f\"type(label_dic): {type(label_dic)}\")\n",
    "print(f\"len(label_dic): {len(label_dic)}\")\n",
    "# label_dic"
   ],
   "id": "6556d962dfe4ba49",
   "outputs": [
    {
     "name": "stdout",
     "output_type": "stream",
     "text": [
      "type(label_dic): <class 'dict'>\n",
      "len(label_dic): 1467\n"
     ]
    }
   ],
   "execution_count": 22
  },
  {
   "metadata": {},
   "cell_type": "markdown",
   "source": "轉換成int的標籤",
   "id": "f0321fbb22e371d5"
  },
  {
   "metadata": {
    "ExecuteTime": {
     "end_time": "2024-10-02T08:16:31.167966Z",
     "start_time": "2024-10-02T08:16:31.124996Z"
    }
   },
   "cell_type": "code",
   "source": [
    "label_int_list = []\n",
    "for label_pinyin in label_pinyin_list:\n",
    "    label_int = label_dic[label_pinyin]\n",
    "    label_int_list.append(label_int)\n",
    "\n",
    "label_int_list = np.array(label_int_list)\n",
    "print(f\"label_int_list.shape: {label_int_list.shape}\")\n",
    "# label_int_list"
   ],
   "id": "c17f7b0819482471",
   "outputs": [
    {
     "name": "stdout",
     "output_type": "stream",
     "text": [
      "label_int_list.shape: (67172,)\n"
     ]
    }
   ],
   "execution_count": 23
  },
  {
   "metadata": {},
   "cell_type": "markdown",
   "source": "模型",
   "id": "e2cc2aa0c56f5bdc"
  },
  {
   "metadata": {
    "ExecuteTime": {
     "end_time": "2024-10-02T08:16:33.085337Z",
     "start_time": "2024-10-02T08:16:33.066215Z"
    }
   },
   "cell_type": "code",
   "source": [
    "def get_cnn_model(input_shape, num_classes, learning_rate=0.001, num_filters=32, dense_units=256):\n",
    "    cnn_model = Sequential()\n",
    "\n",
    "    # 第一層捲積層\n",
    "    cnn_model.add(Conv2D(num_filters, kernel_size=(3, 3), padding='same', input_shape=input_shape))\n",
    "    cnn_model.add(BatchNormalization())\n",
    "    cnn_model.add(Activation('relu'))\n",
    "    cnn_model.add(Conv2D(num_filters, kernel_size=(3, 3), padding='same'))\n",
    "    cnn_model.add(BatchNormalization())\n",
    "    cnn_model.add(Activation('relu'))\n",
    "    cnn_model.add(MaxPooling2D(pool_size=(2, 2)))\n",
    "    \n",
    "    # 第二層捲積層\n",
    "    cnn_model.add(Conv2D(num_filters * 2, kernel_size=(3, 3), padding='same'))\n",
    "    cnn_model.add(BatchNormalization())\n",
    "    cnn_model.add(Activation('relu'))\n",
    "    cnn_model.add(Conv2D(num_filters * 2, kernel_size=(3, 3), padding='same'))\n",
    "    cnn_model.add(BatchNormalization())\n",
    "    cnn_model.add(Activation('relu'))\n",
    "    cnn_model.add(MaxPooling2D(pool_size=(2, 2)))\n",
    "    \n",
    "    # 第三層捲積層\n",
    "    cnn_model.add(Conv2D(num_filters * 4, kernel_size=(3, 3), padding='same'))\n",
    "    cnn_model.add(BatchNormalization())\n",
    "    cnn_model.add(Activation('relu'))\n",
    "    cnn_model.add(Conv2D(num_filters * 4, kernel_size=(3, 3), padding='same'))\n",
    "    cnn_model.add(BatchNormalization())\n",
    "    cnn_model.add(Activation('relu'))\n",
    "    cnn_model.add(MaxPooling2D(pool_size=(2, 2)))\n",
    "    \n",
    "    # 展平\n",
    "    cnn_model.add(Flatten())\n",
    "    \n",
    "    # 第一層全連接層\n",
    "    cnn_model.add(Dense(dense_units))\n",
    "    cnn_model.add(BatchNormalization())\n",
    "    cnn_model.add(Activation('relu'))\n",
    "    \n",
    "    # 第二層全連接層\n",
    "    cnn_model.add(Dense(dense_units * 2))\n",
    "    cnn_model.add(BatchNormalization())\n",
    "    cnn_model.add(Activation('relu'))\n",
    "    \n",
    "    # 第三層全連接層(長度同為1467個label)\n",
    "    cnn_model.add(Dense(num_classes))\n",
    "    \n",
    "    # 表示為機率\n",
    "    cnn_model.add(Activation('softmax'))\n",
    "\n",
    "    cnn_model.compile(\n",
    "        loss=keras.losses.categorical_crossentropy,\n",
    "        optimizer=keras.optimizers.Adam(learning_rate=learning_rate),\n",
    "        metrics=['accuracy']\n",
    "    )\n",
    "\n",
    "    return cnn_model"
   ],
   "id": "c2acde096f7f1096",
   "outputs": [],
   "execution_count": 24
  },
  {
   "metadata": {},
   "cell_type": "markdown",
   "source": "讀取最佳超參數",
   "id": "8f820271644fe39b"
  },
  {
   "metadata": {
    "ExecuteTime": {
     "end_time": "2024-10-02T08:16:34.665208Z",
     "start_time": "2024-10-02T08:16:34.649920Z"
    }
   },
   "cell_type": "code",
   "source": [
    "best_params = json.load(open(f\"..\\\\grid_search\\\\method1_with_fake_data\\\\best_params.json\", \"r\"))\n",
    "\n",
    "learning_rate = best_params[\"learning_rate\"]\n",
    "num_filters = best_params[\"num_filters\"]\n",
    "dense_units = best_params[\"dense_unit\"]\n",
    "batch_size = best_params[\"batch_size\"]\n",
    "epochs = best_params[\"epochs\"]"
   ],
   "id": "1278cbf16699eb96",
   "outputs": [],
   "execution_count": 25
  },
  {
   "metadata": {},
   "cell_type": "markdown",
   "source": "基本參數",
   "id": "1819b68a9f370b23"
  },
  {
   "metadata": {
    "ExecuteTime": {
     "end_time": "2024-10-02T08:16:35.721119Z",
     "start_time": "2024-10-02T08:16:35.703607Z"
    }
   },
   "cell_type": "code",
   "source": [
    "channel = 1\n",
    "verbose = 2\n",
    "num_classes = len(label_dic)\n",
    "test_size = 0.2\n",
    "mfcc_dim_1 = mfcc_matrix_list.shape[1]\n",
    "mfcc_dim_2 = mfcc_matrix_list.shape[2]\n",
    "print(f\"mfcc_dim_1: {mfcc_dim_1}\")\n",
    "print(f\"mfcc_dim_2: {mfcc_dim_2}\")"
   ],
   "id": "1aecf8c19679087c",
   "outputs": [
    {
     "name": "stdout",
     "output_type": "stream",
     "text": [
      "mfcc_dim_1: 13\n",
      "mfcc_dim_2: 44\n"
     ]
    }
   ],
   "execution_count": 26
  },
  {
   "metadata": {},
   "cell_type": "markdown",
   "source": "資料切割",
   "id": "722f3164ee4c3719"
  },
  {
   "metadata": {
    "ExecuteTime": {
     "end_time": "2024-10-02T08:16:37.312003Z",
     "start_time": "2024-10-02T08:16:36.999256Z"
    }
   },
   "cell_type": "code",
   "source": [
    "X = mfcc_matrix_list_scaled\n",
    "y = label_int_list\n",
    "\n",
    "# 將int label轉換成二進制one hot標籤\n",
    "y_one_hot = to_categorical(y, num_classes=num_classes)\n",
    "\n",
    "X_train, X_test, y_train, y_test = train_test_split(X, y_one_hot, test_size=test_size, random_state=42)\n",
    "\n",
    "X_train = X_train.reshape(X_train.shape[0], mfcc_dim_1, mfcc_dim_2, channel)\n",
    "X_test = X_test.reshape(X_test.shape[0], mfcc_dim_1, mfcc_dim_2, channel)"
   ],
   "id": "72a523aa661f1435",
   "outputs": [],
   "execution_count": 27
  },
  {
   "metadata": {},
   "cell_type": "markdown",
   "source": "模型訓練",
   "id": "a9b741c2de0417b5"
  },
  {
   "metadata": {
    "ExecuteTime": {
     "end_time": "2024-10-02T08:59:28.092835Z",
     "start_time": "2024-10-02T08:16:41.006529Z"
    }
   },
   "cell_type": "code",
   "source": [
    "model = get_cnn_model(input_shape=(mfcc_dim_1, mfcc_dim_2, channel), num_classes=num_classes, learning_rate=learning_rate, num_filters=num_filters, dense_units=dense_units)\n",
    "model_train_info = model.fit(X_train, y_train, batch_size=batch_size, epochs=epochs, verbose=verbose, validation_data=(X_test, y_test))"
   ],
   "id": "17df480b88fd1583",
   "outputs": [
    {
     "name": "stdout",
     "output_type": "stream",
     "text": [
      "Epoch 1/300\n",
      "420/420 - 10s - loss: 5.7753 - accuracy: 0.1027 - val_loss: 5.7869 - val_accuracy: 0.0891 - 10s/epoch - 23ms/step\n",
      "Epoch 2/300\n",
      "420/420 - 9s - loss: 4.7090 - accuracy: 0.1993 - val_loss: 4.6909 - val_accuracy: 0.1958 - 9s/epoch - 20ms/step\n",
      "Epoch 3/300\n",
      "420/420 - 9s - loss: 4.2864 - accuracy: 0.2581 - val_loss: 4.3498 - val_accuracy: 0.2459 - 9s/epoch - 20ms/step\n",
      "Epoch 4/300\n",
      "420/420 - 9s - loss: 4.0094 - accuracy: 0.3031 - val_loss: 4.1845 - val_accuracy: 0.2654 - 9s/epoch - 21ms/step\n",
      "Epoch 5/300\n",
      "420/420 - 9s - loss: 3.7872 - accuracy: 0.3398 - val_loss: 4.0661 - val_accuracy: 0.2902 - 9s/epoch - 21ms/step\n",
      "Epoch 6/300\n",
      "420/420 - 9s - loss: 3.5739 - accuracy: 0.3783 - val_loss: 3.9575 - val_accuracy: 0.3090 - 9s/epoch - 20ms/step\n",
      "Epoch 7/300\n",
      "420/420 - 9s - loss: 3.2153 - accuracy: 0.4351 - val_loss: 4.0355 - val_accuracy: 0.3024 - 9s/epoch - 20ms/step\n",
      "Epoch 8/300\n",
      "420/420 - 9s - loss: 1.6364 - accuracy: 0.7277 - val_loss: 2.4363 - val_accuracy: 0.5862 - 9s/epoch - 20ms/step\n",
      "Epoch 9/300\n",
      "420/420 - 8s - loss: 0.7489 - accuracy: 0.8344 - val_loss: 1.8244 - val_accuracy: 0.6442 - 8s/epoch - 20ms/step\n",
      "Epoch 10/300\n",
      "420/420 - 8s - loss: 0.5101 - accuracy: 0.8875 - val_loss: 1.6333 - val_accuracy: 0.6488 - 8s/epoch - 20ms/step\n",
      "Epoch 11/300\n",
      "420/420 - 8s - loss: 0.3625 - accuracy: 0.9210 - val_loss: 1.6496 - val_accuracy: 0.6518 - 8s/epoch - 20ms/step\n",
      "Epoch 12/300\n",
      "420/420 - 9s - loss: 0.2440 - accuracy: 0.9511 - val_loss: 1.6384 - val_accuracy: 0.6501 - 9s/epoch - 20ms/step\n",
      "Epoch 13/300\n",
      "420/420 - 9s - loss: 0.1689 - accuracy: 0.9693 - val_loss: 1.6712 - val_accuracy: 0.6507 - 9s/epoch - 20ms/step\n",
      "Epoch 14/300\n",
      "420/420 - 9s - loss: 0.1196 - accuracy: 0.9806 - val_loss: 1.6838 - val_accuracy: 0.6463 - 9s/epoch - 20ms/step\n",
      "Epoch 15/300\n",
      "420/420 - 8s - loss: 0.0901 - accuracy: 0.9855 - val_loss: 1.7017 - val_accuracy: 0.6485 - 8s/epoch - 20ms/step\n",
      "Epoch 16/300\n",
      "420/420 - 8s - loss: 0.0686 - accuracy: 0.9893 - val_loss: 1.7577 - val_accuracy: 0.6429 - 8s/epoch - 20ms/step\n",
      "Epoch 17/300\n",
      "420/420 - 8s - loss: 0.0701 - accuracy: 0.9881 - val_loss: 2.2193 - val_accuracy: 0.5938 - 8s/epoch - 20ms/step\n",
      "Epoch 18/300\n",
      "420/420 - 8s - loss: 0.0683 - accuracy: 0.9888 - val_loss: 1.9458 - val_accuracy: 0.6402 - 8s/epoch - 20ms/step\n",
      "Epoch 19/300\n",
      "420/420 - 8s - loss: 0.0740 - accuracy: 0.9862 - val_loss: 2.2655 - val_accuracy: 0.5934 - 8s/epoch - 20ms/step\n",
      "Epoch 20/300\n",
      "420/420 - 8s - loss: 0.0617 - accuracy: 0.9888 - val_loss: 2.0688 - val_accuracy: 0.6303 - 8s/epoch - 20ms/step\n",
      "Epoch 21/300\n",
      "420/420 - 8s - loss: 0.0703 - accuracy: 0.9862 - val_loss: 2.2539 - val_accuracy: 0.6159 - 8s/epoch - 20ms/step\n",
      "Epoch 22/300\n",
      "420/420 - 8s - loss: 0.0532 - accuracy: 0.9904 - val_loss: 2.2845 - val_accuracy: 0.5898 - 8s/epoch - 20ms/step\n",
      "Epoch 23/300\n",
      "420/420 - 8s - loss: 0.0441 - accuracy: 0.9915 - val_loss: 1.9938 - val_accuracy: 0.6379 - 8s/epoch - 20ms/step\n",
      "Epoch 24/300\n",
      "420/420 - 8s - loss: 0.0350 - accuracy: 0.9933 - val_loss: 2.1419 - val_accuracy: 0.6272 - 8s/epoch - 20ms/step\n",
      "Epoch 25/300\n",
      "420/420 - 8s - loss: 0.0442 - accuracy: 0.9905 - val_loss: 2.8480 - val_accuracy: 0.4909 - 8s/epoch - 20ms/step\n",
      "Epoch 26/300\n",
      "420/420 - 8s - loss: 0.0824 - accuracy: 0.9797 - val_loss: 2.1914 - val_accuracy: 0.6223 - 8s/epoch - 20ms/step\n",
      "Epoch 27/300\n",
      "420/420 - 8s - loss: 0.0405 - accuracy: 0.9918 - val_loss: 2.0020 - val_accuracy: 0.6345 - 8s/epoch - 20ms/step\n",
      "Epoch 28/300\n",
      "420/420 - 8s - loss: 0.0208 - accuracy: 0.9963 - val_loss: 1.9956 - val_accuracy: 0.6495 - 8s/epoch - 20ms/step\n",
      "Epoch 29/300\n",
      "420/420 - 8s - loss: 0.0347 - accuracy: 0.9920 - val_loss: 2.6493 - val_accuracy: 0.5421 - 8s/epoch - 20ms/step\n",
      "Epoch 30/300\n",
      "420/420 - 8s - loss: 0.0729 - accuracy: 0.9818 - val_loss: 2.3121 - val_accuracy: 0.6139 - 8s/epoch - 20ms/step\n",
      "Epoch 31/300\n",
      "420/420 - 8s - loss: 0.0317 - accuracy: 0.9934 - val_loss: 2.2003 - val_accuracy: 0.6241 - 8s/epoch - 20ms/step\n",
      "Epoch 32/300\n",
      "420/420 - 8s - loss: 0.0141 - accuracy: 0.9980 - val_loss: 1.9943 - val_accuracy: 0.6506 - 8s/epoch - 20ms/step\n",
      "Epoch 33/300\n",
      "420/420 - 8s - loss: 0.0165 - accuracy: 0.9965 - val_loss: 2.1263 - val_accuracy: 0.6352 - 8s/epoch - 20ms/step\n",
      "Epoch 34/300\n",
      "420/420 - 8s - loss: 0.0766 - accuracy: 0.9793 - val_loss: 3.2836 - val_accuracy: 0.3734 - 8s/epoch - 20ms/step\n",
      "Epoch 35/300\n",
      "420/420 - 9s - loss: 0.0510 - accuracy: 0.9871 - val_loss: 2.2018 - val_accuracy: 0.6307 - 9s/epoch - 20ms/step\n",
      "Epoch 36/300\n",
      "420/420 - 9s - loss: 0.0182 - accuracy: 0.9965 - val_loss: 1.9984 - val_accuracy: 0.6557 - 9s/epoch - 21ms/step\n",
      "Epoch 37/300\n",
      "420/420 - 9s - loss: 0.0092 - accuracy: 0.9983 - val_loss: 2.0930 - val_accuracy: 0.6450 - 9s/epoch - 21ms/step\n",
      "Epoch 38/300\n",
      "420/420 - 9s - loss: 0.0305 - accuracy: 0.9929 - val_loss: 2.5492 - val_accuracy: 0.5798 - 9s/epoch - 21ms/step\n",
      "Epoch 39/300\n",
      "420/420 - 9s - loss: 0.0740 - accuracy: 0.9792 - val_loss: 2.4426 - val_accuracy: 0.6044 - 9s/epoch - 20ms/step\n",
      "Epoch 40/300\n",
      "420/420 - 8s - loss: 0.0264 - accuracy: 0.9940 - val_loss: 2.2034 - val_accuracy: 0.6476 - 8s/epoch - 20ms/step\n",
      "Epoch 41/300\n",
      "420/420 - 8s - loss: 0.0123 - accuracy: 0.9976 - val_loss: 2.1478 - val_accuracy: 0.6581 - 8s/epoch - 20ms/step\n",
      "Epoch 42/300\n",
      "420/420 - 8s - loss: 0.0123 - accuracy: 0.9974 - val_loss: 2.1312 - val_accuracy: 0.6451 - 8s/epoch - 20ms/step\n",
      "Epoch 43/300\n",
      "420/420 - 8s - loss: 0.0493 - accuracy: 0.9864 - val_loss: 3.1487 - val_accuracy: 0.4786 - 8s/epoch - 20ms/step\n",
      "Epoch 44/300\n",
      "420/420 - 9s - loss: 0.0577 - accuracy: 0.9841 - val_loss: 2.3300 - val_accuracy: 0.6231 - 9s/epoch - 21ms/step\n",
      "Epoch 45/300\n",
      "420/420 - 9s - loss: 0.0171 - accuracy: 0.9960 - val_loss: 2.0892 - val_accuracy: 0.6458 - 9s/epoch - 20ms/step\n",
      "Epoch 46/300\n",
      "420/420 - 8s - loss: 0.0150 - accuracy: 0.9972 - val_loss: 2.1445 - val_accuracy: 0.6479 - 8s/epoch - 20ms/step\n",
      "Epoch 47/300\n",
      "420/420 - 9s - loss: 0.0162 - accuracy: 0.9965 - val_loss: 2.2333 - val_accuracy: 0.6499 - 9s/epoch - 21ms/step\n",
      "Epoch 48/300\n",
      "420/420 - 9s - loss: 0.0284 - accuracy: 0.9932 - val_loss: 3.1446 - val_accuracy: 0.4523 - 9s/epoch - 21ms/step\n",
      "Epoch 49/300\n",
      "420/420 - 9s - loss: 0.0539 - accuracy: 0.9851 - val_loss: 2.4626 - val_accuracy: 0.6055 - 9s/epoch - 20ms/step\n",
      "Epoch 50/300\n",
      "420/420 - 8s - loss: 0.0235 - accuracy: 0.9943 - val_loss: 2.5351 - val_accuracy: 0.6006 - 8s/epoch - 20ms/step\n",
      "Epoch 51/300\n",
      "420/420 - 8s - loss: 0.0169 - accuracy: 0.9958 - val_loss: 2.3154 - val_accuracy: 0.6398 - 8s/epoch - 20ms/step\n",
      "Epoch 52/300\n",
      "420/420 - 8s - loss: 0.0181 - accuracy: 0.9956 - val_loss: 2.3019 - val_accuracy: 0.6414 - 8s/epoch - 20ms/step\n",
      "Epoch 53/300\n",
      "420/420 - 9s - loss: 0.0212 - accuracy: 0.9946 - val_loss: 2.7027 - val_accuracy: 0.5631 - 9s/epoch - 21ms/step\n",
      "Epoch 54/300\n",
      "420/420 - 9s - loss: 0.0487 - accuracy: 0.9869 - val_loss: 2.7472 - val_accuracy: 0.5836 - 9s/epoch - 20ms/step\n",
      "Epoch 55/300\n",
      "420/420 - 9s - loss: 0.0262 - accuracy: 0.9929 - val_loss: 2.3197 - val_accuracy: 0.6431 - 9s/epoch - 21ms/step\n",
      "Epoch 56/300\n",
      "420/420 - 9s - loss: 0.0093 - accuracy: 0.9981 - val_loss: 2.2461 - val_accuracy: 0.6587 - 9s/epoch - 21ms/step\n",
      "Epoch 57/300\n",
      "420/420 - 9s - loss: 0.0081 - accuracy: 0.9983 - val_loss: 2.2339 - val_accuracy: 0.6540 - 9s/epoch - 21ms/step\n",
      "Epoch 58/300\n",
      "420/420 - 8s - loss: 0.0119 - accuracy: 0.9975 - val_loss: 2.4192 - val_accuracy: 0.6429 - 8s/epoch - 20ms/step\n",
      "Epoch 59/300\n",
      "420/420 - 8s - loss: 0.0616 - accuracy: 0.9827 - val_loss: 3.4292 - val_accuracy: 0.4226 - 8s/epoch - 20ms/step\n",
      "Epoch 60/300\n",
      "420/420 - 9s - loss: 0.0276 - accuracy: 0.9928 - val_loss: 2.2815 - val_accuracy: 0.6456 - 9s/epoch - 20ms/step\n",
      "Epoch 61/300\n",
      "420/420 - 9s - loss: 0.0085 - accuracy: 0.9981 - val_loss: 2.3184 - val_accuracy: 0.6583 - 9s/epoch - 20ms/step\n",
      "Epoch 62/300\n",
      "420/420 - 8s - loss: 0.0061 - accuracy: 0.9988 - val_loss: 2.2230 - val_accuracy: 0.6537 - 8s/epoch - 20ms/step\n",
      "Epoch 63/300\n",
      "420/420 - 9s - loss: 0.0111 - accuracy: 0.9971 - val_loss: 2.7013 - val_accuracy: 0.6021 - 9s/epoch - 20ms/step\n",
      "Epoch 64/300\n",
      "420/420 - 9s - loss: 0.0698 - accuracy: 0.9793 - val_loss: 2.5830 - val_accuracy: 0.5914 - 9s/epoch - 20ms/step\n",
      "Epoch 65/300\n",
      "420/420 - 8s - loss: 0.0254 - accuracy: 0.9933 - val_loss: 2.3472 - val_accuracy: 0.6425 - 8s/epoch - 20ms/step\n",
      "Epoch 66/300\n",
      "420/420 - 8s - loss: 0.0121 - accuracy: 0.9971 - val_loss: 2.4268 - val_accuracy: 0.6488 - 8s/epoch - 20ms/step\n",
      "Epoch 67/300\n",
      "420/420 - 8s - loss: 0.0041 - accuracy: 0.9992 - val_loss: 2.3132 - val_accuracy: 0.6666 - 8s/epoch - 20ms/step\n",
      "Epoch 68/300\n",
      "420/420 - 8s - loss: 0.0021 - accuracy: 0.9995 - val_loss: 2.3110 - val_accuracy: 0.6725 - 8s/epoch - 20ms/step\n",
      "Epoch 69/300\n",
      "420/420 - 8s - loss: 0.0013 - accuracy: 0.9996 - val_loss: 2.2866 - val_accuracy: 0.6726 - 8s/epoch - 20ms/step\n",
      "Epoch 70/300\n",
      "420/420 - 8s - loss: 0.0013 - accuracy: 0.9996 - val_loss: 2.3234 - val_accuracy: 0.6742 - 8s/epoch - 20ms/step\n",
      "Epoch 71/300\n",
      "420/420 - 8s - loss: 0.0014 - accuracy: 0.9996 - val_loss: 2.2883 - val_accuracy: 0.6727 - 8s/epoch - 20ms/step\n",
      "Epoch 72/300\n",
      "420/420 - 8s - loss: 0.0026 - accuracy: 0.9994 - val_loss: 2.7728 - val_accuracy: 0.5626 - 8s/epoch - 20ms/step\n",
      "Epoch 73/300\n",
      "420/420 - 8s - loss: 0.1435 - accuracy: 0.9580 - val_loss: 2.3985 - val_accuracy: 0.6351 - 8s/epoch - 20ms/step\n",
      "Epoch 74/300\n",
      "420/420 - 8s - loss: 0.0112 - accuracy: 0.9976 - val_loss: 2.3138 - val_accuracy: 0.6608 - 8s/epoch - 20ms/step\n",
      "Epoch 75/300\n",
      "420/420 - 8s - loss: 0.0042 - accuracy: 0.9990 - val_loss: 2.2950 - val_accuracy: 0.6677 - 8s/epoch - 20ms/step\n",
      "Epoch 76/300\n",
      "420/420 - 8s - loss: 0.0019 - accuracy: 0.9995 - val_loss: 2.2758 - val_accuracy: 0.6718 - 8s/epoch - 20ms/step\n",
      "Epoch 77/300\n",
      "420/420 - 8s - loss: 0.0026 - accuracy: 0.9993 - val_loss: 2.2563 - val_accuracy: 0.6651 - 8s/epoch - 20ms/step\n",
      "Epoch 78/300\n",
      "420/420 - 9s - loss: 0.0050 - accuracy: 0.9989 - val_loss: 2.3714 - val_accuracy: 0.6576 - 9s/epoch - 20ms/step\n",
      "Epoch 79/300\n",
      "420/420 - 9s - loss: 0.0864 - accuracy: 0.9740 - val_loss: 2.5983 - val_accuracy: 0.6030 - 9s/epoch - 20ms/step\n",
      "Epoch 80/300\n",
      "420/420 - 9s - loss: 0.0266 - accuracy: 0.9922 - val_loss: 2.4296 - val_accuracy: 0.6445 - 9s/epoch - 20ms/step\n",
      "Epoch 81/300\n",
      "420/420 - 9s - loss: 0.0081 - accuracy: 0.9982 - val_loss: 2.4133 - val_accuracy: 0.6635 - 9s/epoch - 20ms/step\n",
      "Epoch 82/300\n",
      "420/420 - 9s - loss: 0.0025 - accuracy: 0.9994 - val_loss: 2.3429 - val_accuracy: 0.6657 - 9s/epoch - 20ms/step\n",
      "Epoch 83/300\n",
      "420/420 - 8s - loss: 0.0015 - accuracy: 0.9996 - val_loss: 2.3453 - val_accuracy: 0.6723 - 8s/epoch - 20ms/step\n",
      "Epoch 84/300\n",
      "420/420 - 8s - loss: 0.0015 - accuracy: 0.9996 - val_loss: 2.4013 - val_accuracy: 0.6689 - 8s/epoch - 20ms/step\n",
      "Epoch 85/300\n",
      "420/420 - 8s - loss: 0.0701 - accuracy: 0.9803 - val_loss: 3.3176 - val_accuracy: 0.4385 - 8s/epoch - 20ms/step\n",
      "Epoch 86/300\n",
      "420/420 - 9s - loss: 0.0374 - accuracy: 0.9885 - val_loss: 2.4023 - val_accuracy: 0.6432 - 9s/epoch - 21ms/step\n",
      "Epoch 87/300\n",
      "420/420 - 9s - loss: 0.0089 - accuracy: 0.9980 - val_loss: 2.4347 - val_accuracy: 0.6547 - 9s/epoch - 20ms/step\n",
      "Epoch 88/300\n",
      "420/420 - 9s - loss: 0.0028 - accuracy: 0.9994 - val_loss: 2.4027 - val_accuracy: 0.6642 - 9s/epoch - 20ms/step\n",
      "Epoch 89/300\n",
      "420/420 - 9s - loss: 0.0014 - accuracy: 0.9996 - val_loss: 2.3796 - val_accuracy: 0.6706 - 9s/epoch - 20ms/step\n",
      "Epoch 90/300\n",
      "420/420 - 8s - loss: 0.0011 - accuracy: 0.9996 - val_loss: 2.3768 - val_accuracy: 0.6716 - 8s/epoch - 20ms/step\n",
      "Epoch 91/300\n",
      "420/420 - 8s - loss: 0.0088 - accuracy: 0.9980 - val_loss: 4.0608 - val_accuracy: 0.3649 - 8s/epoch - 20ms/step\n",
      "Epoch 92/300\n",
      "420/420 - 8s - loss: 0.0815 - accuracy: 0.9761 - val_loss: 2.4647 - val_accuracy: 0.6345 - 8s/epoch - 20ms/step\n",
      "Epoch 93/300\n",
      "420/420 - 8s - loss: 0.0139 - accuracy: 0.9962 - val_loss: 2.4693 - val_accuracy: 0.6581 - 8s/epoch - 20ms/step\n",
      "Epoch 94/300\n",
      "420/420 - 8s - loss: 0.0075 - accuracy: 0.9982 - val_loss: 2.4314 - val_accuracy: 0.6607 - 8s/epoch - 20ms/step\n",
      "Epoch 95/300\n",
      "420/420 - 8s - loss: 0.0055 - accuracy: 0.9988 - val_loss: 2.4330 - val_accuracy: 0.6613 - 8s/epoch - 20ms/step\n",
      "Epoch 96/300\n",
      "420/420 - 8s - loss: 0.0117 - accuracy: 0.9974 - val_loss: 2.6846 - val_accuracy: 0.6241 - 8s/epoch - 20ms/step\n",
      "Epoch 97/300\n",
      "420/420 - 8s - loss: 0.0381 - accuracy: 0.9890 - val_loss: 2.5952 - val_accuracy: 0.6071 - 8s/epoch - 20ms/step\n",
      "Epoch 98/300\n",
      "420/420 - 8s - loss: 0.0183 - accuracy: 0.9951 - val_loss: 2.4677 - val_accuracy: 0.6468 - 8s/epoch - 20ms/step\n",
      "Epoch 99/300\n",
      "420/420 - 8s - loss: 0.0114 - accuracy: 0.9971 - val_loss: 2.5279 - val_accuracy: 0.6505 - 8s/epoch - 20ms/step\n",
      "Epoch 100/300\n",
      "420/420 - 9s - loss: 0.0153 - accuracy: 0.9959 - val_loss: 2.5051 - val_accuracy: 0.6453 - 9s/epoch - 21ms/step\n",
      "Epoch 104/300\n",
      "420/420 - 9s - loss: 0.0094 - accuracy: 0.9976 - val_loss: 2.4600 - val_accuracy: 0.6542 - 9s/epoch - 21ms/step\n",
      "Epoch 105/300\n",
      "420/420 - 9s - loss: 0.0124 - accuracy: 0.9971 - val_loss: 2.6489 - val_accuracy: 0.6319 - 9s/epoch - 21ms/step\n",
      "Epoch 106/300\n",
      "420/420 - 8s - loss: 0.0105 - accuracy: 0.9975 - val_loss: 2.4635 - val_accuracy: 0.6510 - 8s/epoch - 20ms/step\n",
      "Epoch 107/300\n",
      "420/420 - 8s - loss: 0.0261 - accuracy: 0.9929 - val_loss: 2.7037 - val_accuracy: 0.6150 - 8s/epoch - 20ms/step\n",
      "Epoch 108/300\n",
      "420/420 - 8s - loss: 0.0230 - accuracy: 0.9933 - val_loss: 2.6202 - val_accuracy: 0.6406 - 8s/epoch - 20ms/step\n",
      "Epoch 109/300\n",
      "420/420 - 9s - loss: 0.0122 - accuracy: 0.9969 - val_loss: 2.5843 - val_accuracy: 0.6489 - 9s/epoch - 21ms/step\n",
      "Epoch 101/300\n",
      "420/420 - 8s - loss: 0.0121 - accuracy: 0.9968 - val_loss: 2.9009 - val_accuracy: 0.6079 - 8s/epoch - 20ms/step\n",
      "Epoch 102/300\n",
      "420/420 - 8s - loss: 0.0304 - accuracy: 0.9918 - val_loss: 2.7099 - val_accuracy: 0.6195 - 8s/epoch - 20ms/step\n",
      "Epoch 103/300\n",
      "420/420 - 9s - loss: 0.0096 - accuracy: 0.9975 - val_loss: 2.6559 - val_accuracy: 0.6480 - 9s/epoch - 21ms/step\n",
      "Epoch 110/300\n",
      "420/420 - 9s - loss: 0.0056 - accuracy: 0.9986 - val_loss: 2.5654 - val_accuracy: 0.6605 - 9s/epoch - 20ms/step\n",
      "Epoch 111/300\n",
      "420/420 - 8s - loss: 0.0022 - accuracy: 0.9994 - val_loss: 2.5499 - val_accuracy: 0.6672 - 8s/epoch - 20ms/step\n",
      "Epoch 112/300\n",
      "420/420 - 8s - loss: 0.0024 - accuracy: 0.9993 - val_loss: 2.5226 - val_accuracy: 0.6688 - 8s/epoch - 20ms/step\n",
      "Epoch 113/300\n",
      "420/420 - 8s - loss: 0.0394 - accuracy: 0.9886 - val_loss: 3.5983 - val_accuracy: 0.4323 - 8s/epoch - 20ms/step\n",
      "Epoch 114/300\n",
      "420/420 - 8s - loss: 0.0452 - accuracy: 0.9861 - val_loss: 2.6651 - val_accuracy: 0.6484 - 8s/epoch - 20ms/step\n",
      "Epoch 115/300\n",
      "420/420 - 8s - loss: 0.0065 - accuracy: 0.9985 - val_loss: 2.5893 - val_accuracy: 0.6592 - 8s/epoch - 20ms/step\n",
      "Epoch 116/300\n",
      "420/420 - 8s - loss: 0.0026 - accuracy: 0.9993 - val_loss: 2.6563 - val_accuracy: 0.6634 - 8s/epoch - 20ms/step\n",
      "Epoch 117/300\n",
      "420/420 - 8s - loss: 0.0020 - accuracy: 0.9996 - val_loss: 2.5233 - val_accuracy: 0.6578 - 8s/epoch - 20ms/step\n",
      "Epoch 118/300\n",
      "420/420 - 8s - loss: 0.0027 - accuracy: 0.9992 - val_loss: 2.6853 - val_accuracy: 0.6526 - 8s/epoch - 20ms/step\n",
      "Epoch 119/300\n",
      "420/420 - 8s - loss: 0.0289 - accuracy: 0.9917 - val_loss: 3.2006 - val_accuracy: 0.5016 - 8s/epoch - 20ms/step\n",
      "Epoch 120/300\n",
      "420/420 - 9s - loss: 0.0325 - accuracy: 0.9903 - val_loss: 2.6344 - val_accuracy: 0.6482 - 9s/epoch - 20ms/step\n",
      "Epoch 121/300\n",
      "420/420 - 9s - loss: 0.0074 - accuracy: 0.9980 - val_loss: 2.6529 - val_accuracy: 0.6543 - 9s/epoch - 20ms/step\n",
      "Epoch 122/300\n",
      "420/420 - 8s - loss: 0.0026 - accuracy: 0.9994 - val_loss: 2.5852 - val_accuracy: 0.6652 - 8s/epoch - 20ms/step\n",
      "Epoch 123/300\n",
      "420/420 - 9s - loss: 0.0018 - accuracy: 0.9994 - val_loss: 2.6026 - val_accuracy: 0.6631 - 9s/epoch - 20ms/step\n",
      "Epoch 124/300\n",
      "420/420 - 9s - loss: 0.0044 - accuracy: 0.9988 - val_loss: 2.6404 - val_accuracy: 0.6487 - 9s/epoch - 21ms/step\n",
      "Epoch 125/300\n",
      "420/420 - 9s - loss: 0.0418 - accuracy: 0.9878 - val_loss: 3.0770 - val_accuracy: 0.5604 - 9s/epoch - 21ms/step\n",
      "Epoch 126/300\n",
      "420/420 - 9s - loss: 0.0290 - accuracy: 0.9917 - val_loss: 2.6924 - val_accuracy: 0.6461 - 9s/epoch - 21ms/step\n",
      "Epoch 127/300\n",
      "420/420 - 9s - loss: 0.0071 - accuracy: 0.9983 - val_loss: 2.6221 - val_accuracy: 0.6601 - 9s/epoch - 21ms/step\n",
      "Epoch 128/300\n",
      "420/420 - 9s - loss: 0.0018 - accuracy: 0.9994 - val_loss: 2.5777 - val_accuracy: 0.6666 - 9s/epoch - 20ms/step\n",
      "Epoch 129/300\n",
      "420/420 - 9s - loss: 0.0011 - accuracy: 0.9996 - val_loss: 2.6085 - val_accuracy: 0.6672 - 9s/epoch - 20ms/step\n",
      "Epoch 130/300\n",
      "420/420 - 9s - loss: 8.6022e-04 - accuracy: 0.9996 - val_loss: 2.6066 - val_accuracy: 0.6684 - 9s/epoch - 20ms/step\n",
      "Epoch 131/300\n",
      "420/420 - 9s - loss: 8.3096e-04 - accuracy: 0.9995 - val_loss: 2.6087 - val_accuracy: 0.6689 - 9s/epoch - 20ms/step\n",
      "Epoch 132/300\n",
      "420/420 - 8s - loss: 8.2698e-04 - accuracy: 0.9996 - val_loss: 2.5903 - val_accuracy: 0.6702 - 8s/epoch - 20ms/step\n",
      "Epoch 133/300\n",
      "420/420 - 8s - loss: 8.4684e-04 - accuracy: 0.9996 - val_loss: 2.6083 - val_accuracy: 0.6702 - 8s/epoch - 20ms/step\n",
      "Epoch 134/300\n",
      "420/420 - 8s - loss: 0.0010 - accuracy: 0.9996 - val_loss: 2.5581 - val_accuracy: 0.6688 - 8s/epoch - 20ms/step\n",
      "Epoch 135/300\n",
      "420/420 - 9s - loss: 0.0060 - accuracy: 0.9985 - val_loss: 6.6067 - val_accuracy: 0.2016 - 9s/epoch - 21ms/step\n",
      "Epoch 136/300\n",
      "420/420 - 9s - loss: 0.0957 - accuracy: 0.9713 - val_loss: 2.6176 - val_accuracy: 0.6435 - 9s/epoch - 21ms/step\n",
      "Epoch 137/300\n",
      "420/420 - 9s - loss: 0.0074 - accuracy: 0.9981 - val_loss: 2.6271 - val_accuracy: 0.6642 - 9s/epoch - 21ms/step\n",
      "Epoch 138/300\n",
      "420/420 - 9s - loss: 0.0028 - accuracy: 0.9993 - val_loss: 2.6378 - val_accuracy: 0.6666 - 9s/epoch - 21ms/step\n",
      "Epoch 139/300\n",
      "420/420 - 9s - loss: 0.0012 - accuracy: 0.9996 - val_loss: 2.6077 - val_accuracy: 0.6671 - 9s/epoch - 21ms/step\n",
      "Epoch 140/300\n",
      "420/420 - 9s - loss: 9.4385e-04 - accuracy: 0.9996 - val_loss: 2.6061 - val_accuracy: 0.6679 - 9s/epoch - 21ms/step\n",
      "Epoch 141/300\n",
      "420/420 - 9s - loss: 8.7167e-04 - accuracy: 0.9997 - val_loss: 2.6159 - val_accuracy: 0.6680 - 9s/epoch - 20ms/step\n",
      "Epoch 142/300\n",
      "420/420 - 9s - loss: 7.9955e-04 - accuracy: 0.9996 - val_loss: 2.5949 - val_accuracy: 0.6671 - 9s/epoch - 20ms/step\n",
      "Epoch 143/300\n",
      "420/420 - 9s - loss: 7.6890e-04 - accuracy: 0.9996 - val_loss: 2.6184 - val_accuracy: 0.6691 - 9s/epoch - 21ms/step\n",
      "Epoch 144/300\n",
      "420/420 - 9s - loss: 8.1423e-04 - accuracy: 0.9996 - val_loss: 2.6033 - val_accuracy: 0.6704 - 9s/epoch - 20ms/step\n",
      "Epoch 145/300\n",
      "420/420 - 8s - loss: 8.1496e-04 - accuracy: 0.9996 - val_loss: 2.6308 - val_accuracy: 0.6709 - 8s/epoch - 20ms/step\n",
      "Epoch 146/300\n",
      "420/420 - 9s - loss: 8.7625e-04 - accuracy: 0.9996 - val_loss: 2.6038 - val_accuracy: 0.6703 - 9s/epoch - 21ms/step\n",
      "Epoch 147/300\n",
      "420/420 - 8s - loss: 9.8811e-04 - accuracy: 0.9996 - val_loss: 2.5105 - val_accuracy: 0.6641 - 8s/epoch - 20ms/step\n",
      "Epoch 148/300\n",
      "420/420 - 9s - loss: 0.0937 - accuracy: 0.9724 - val_loss: 2.7345 - val_accuracy: 0.6279 - 9s/epoch - 21ms/step\n",
      "Epoch 149/300\n",
      "420/420 - 9s - loss: 0.0202 - accuracy: 0.9941 - val_loss: 2.7405 - val_accuracy: 0.6493 - 9s/epoch - 21ms/step\n",
      "Epoch 150/300\n",
      "420/420 - 9s - loss: 0.0046 - accuracy: 0.9989 - val_loss: 2.5746 - val_accuracy: 0.6588 - 9s/epoch - 21ms/step\n",
      "Epoch 151/300\n",
      "420/420 - 9s - loss: 0.0020 - accuracy: 0.9994 - val_loss: 2.6435 - val_accuracy: 0.6651 - 9s/epoch - 21ms/step\n",
      "Epoch 152/300\n",
      "420/420 - 9s - loss: 0.0012 - accuracy: 0.9995 - val_loss: 2.6355 - val_accuracy: 0.6658 - 9s/epoch - 21ms/step\n",
      "Epoch 153/300\n",
      "420/420 - 9s - loss: 0.0011 - accuracy: 0.9996 - val_loss: 2.6406 - val_accuracy: 0.6679 - 9s/epoch - 21ms/step\n",
      "Epoch 154/300\n",
      "420/420 - 9s - loss: 7.9978e-04 - accuracy: 0.9995 - val_loss: 2.6381 - val_accuracy: 0.6675 - 9s/epoch - 21ms/step\n",
      "Epoch 155/300\n",
      "420/420 - 9s - loss: 7.5490e-04 - accuracy: 0.9996 - val_loss: 2.6435 - val_accuracy: 0.6691 - 9s/epoch - 20ms/step\n",
      "Epoch 156/300\n",
      "420/420 - 9s - loss: 7.5234e-04 - accuracy: 0.9996 - val_loss: 2.6347 - val_accuracy: 0.6692 - 9s/epoch - 21ms/step\n",
      "Epoch 157/300\n",
      "420/420 - 9s - loss: 7.4634e-04 - accuracy: 0.9996 - val_loss: 2.6662 - val_accuracy: 0.6687 - 9s/epoch - 21ms/step\n",
      "Epoch 158/300\n",
      "420/420 - 9s - loss: 7.3747e-04 - accuracy: 0.9996 - val_loss: 2.6286 - val_accuracy: 0.6683 - 9s/epoch - 21ms/step\n",
      "Epoch 159/300\n",
      "420/420 - 9s - loss: 8.3896e-04 - accuracy: 0.9996 - val_loss: 2.6789 - val_accuracy: 0.6706 - 9s/epoch - 20ms/step\n",
      "Epoch 160/300\n",
      "420/420 - 9s - loss: 0.0097 - accuracy: 0.9976 - val_loss: 8.1199 - val_accuracy: 0.1926 - 9s/epoch - 21ms/step\n",
      "Epoch 161/300\n",
      "420/420 - 9s - loss: 0.1078 - accuracy: 0.9669 - val_loss: 2.6471 - val_accuracy: 0.6319 - 9s/epoch - 21ms/step\n",
      "Epoch 162/300\n",
      "420/420 - 9s - loss: 0.0085 - accuracy: 0.9976 - val_loss: 2.5800 - val_accuracy: 0.6593 - 9s/epoch - 21ms/step\n",
      "Epoch 163/300\n",
      "420/420 - 9s - loss: 0.0023 - accuracy: 0.9993 - val_loss: 2.7029 - val_accuracy: 0.6660 - 9s/epoch - 21ms/step\n",
      "Epoch 164/300\n",
      "420/420 - 9s - loss: 0.0011 - accuracy: 0.9996 - val_loss: 2.6494 - val_accuracy: 0.6667 - 9s/epoch - 21ms/step\n",
      "Epoch 165/300\n",
      "420/420 - 9s - loss: 8.7357e-04 - accuracy: 0.9996 - val_loss: 2.6467 - val_accuracy: 0.6668 - 9s/epoch - 21ms/step\n",
      "Epoch 166/300\n",
      "420/420 - 9s - loss: 8.1849e-04 - accuracy: 0.9996 - val_loss: 2.6548 - val_accuracy: 0.6684 - 9s/epoch - 21ms/step\n",
      "Epoch 167/300\n",
      "420/420 - 9s - loss: 7.6230e-04 - accuracy: 0.9996 - val_loss: 2.6621 - val_accuracy: 0.6695 - 9s/epoch - 21ms/step\n",
      "Epoch 168/300\n",
      "420/420 - 9s - loss: 7.5233e-04 - accuracy: 0.9996 - val_loss: 2.6630 - val_accuracy: 0.6687 - 9s/epoch - 21ms/step\n",
      "Epoch 169/300\n",
      "420/420 - 9s - loss: 7.3710e-04 - accuracy: 0.9996 - val_loss: 2.6739 - val_accuracy: 0.6697 - 9s/epoch - 21ms/step\n",
      "Epoch 170/300\n",
      "420/420 - 9s - loss: 7.1764e-04 - accuracy: 0.9996 - val_loss: 2.6297 - val_accuracy: 0.6675 - 9s/epoch - 20ms/step\n",
      "Epoch 171/300\n",
      "420/420 - 9s - loss: 7.0239e-04 - accuracy: 0.9996 - val_loss: 2.6752 - val_accuracy: 0.6689 - 9s/epoch - 20ms/step\n",
      "Epoch 172/300\n",
      "420/420 - 9s - loss: 7.8923e-04 - accuracy: 0.9996 - val_loss: 2.6918 - val_accuracy: 0.6680 - 9s/epoch - 20ms/step\n",
      "Epoch 173/300\n",
      "420/420 - 9s - loss: 9.1093e-04 - accuracy: 0.9996 - val_loss: 2.6250 - val_accuracy: 0.6681 - 9s/epoch - 20ms/step\n",
      "Epoch 174/300\n",
      "420/420 - 9s - loss: 0.0012 - accuracy: 0.9996 - val_loss: 2.8523 - val_accuracy: 0.6633 - 9s/epoch - 20ms/step\n",
      "Epoch 175/300\n",
      "420/420 - 9s - loss: 0.0964 - accuracy: 0.9709 - val_loss: 2.8959 - val_accuracy: 0.6355 - 9s/epoch - 20ms/step\n",
      "Epoch 176/300\n",
      "420/420 - 9s - loss: 0.0110 - accuracy: 0.9967 - val_loss: 2.7421 - val_accuracy: 0.6552 - 9s/epoch - 20ms/step\n",
      "Epoch 177/300\n",
      "420/420 - 9s - loss: 0.0026 - accuracy: 0.9994 - val_loss: 2.7194 - val_accuracy: 0.6643 - 9s/epoch - 20ms/step\n",
      "Epoch 178/300\n",
      "420/420 - 9s - loss: 0.0011 - accuracy: 0.9996 - val_loss: 2.7127 - val_accuracy: 0.6656 - 9s/epoch - 20ms/step\n",
      "Epoch 179/300\n",
      "420/420 - 9s - loss: 8.8197e-04 - accuracy: 0.9996 - val_loss: 2.7215 - val_accuracy: 0.6674 - 9s/epoch - 20ms/step\n",
      "Epoch 180/300\n",
      "420/420 - 9s - loss: 8.0431e-04 - accuracy: 0.9995 - val_loss: 2.7225 - val_accuracy: 0.6677 - 9s/epoch - 20ms/step\n",
      "Epoch 181/300\n",
      "420/420 - 9s - loss: 7.3422e-04 - accuracy: 0.9996 - val_loss: 2.7185 - val_accuracy: 0.6682 - 9s/epoch - 20ms/step\n",
      "Epoch 182/300\n",
      "420/420 - 9s - loss: 7.0133e-04 - accuracy: 0.9996 - val_loss: 2.7196 - val_accuracy: 0.6689 - 9s/epoch - 20ms/step\n",
      "Epoch 183/300\n",
      "420/420 - 9s - loss: 6.8096e-04 - accuracy: 0.9996 - val_loss: 2.7244 - val_accuracy: 0.6685 - 9s/epoch - 21ms/step\n",
      "Epoch 184/300\n",
      "420/420 - 9s - loss: 6.7211e-04 - accuracy: 0.9996 - val_loss: 2.7270 - val_accuracy: 0.6700 - 9s/epoch - 21ms/step\n",
      "Epoch 185/300\n",
      "420/420 - 9s - loss: 6.9797e-04 - accuracy: 0.9996 - val_loss: 2.7339 - val_accuracy: 0.6700 - 9s/epoch - 21ms/step\n",
      "Epoch 186/300\n",
      "420/420 - 9s - loss: 7.3373e-04 - accuracy: 0.9996 - val_loss: 2.7713 - val_accuracy: 0.6697 - 9s/epoch - 21ms/step\n",
      "Epoch 187/300\n",
      "420/420 - 9s - loss: 8.3028e-04 - accuracy: 0.9996 - val_loss: 2.7292 - val_accuracy: 0.6674 - 9s/epoch - 21ms/step\n",
      "Epoch 188/300\n",
      "420/420 - 9s - loss: 7.7423e-04 - accuracy: 0.9996 - val_loss: 2.8424 - val_accuracy: 0.6700 - 9s/epoch - 21ms/step\n",
      "Epoch 189/300\n",
      "420/420 - 9s - loss: 0.1048 - accuracy: 0.9688 - val_loss: 2.5500 - val_accuracy: 0.6422 - 9s/epoch - 21ms/step\n",
      "Epoch 190/300\n",
      "420/420 - 9s - loss: 0.0159 - accuracy: 0.9950 - val_loss: 2.7595 - val_accuracy: 0.6564 - 9s/epoch - 21ms/step\n",
      "Epoch 191/300\n",
      "420/420 - 9s - loss: 0.0054 - accuracy: 0.9987 - val_loss: 2.7079 - val_accuracy: 0.6587 - 9s/epoch - 21ms/step\n",
      "Epoch 192/300\n",
      "420/420 - 9s - loss: 0.0021 - accuracy: 0.9993 - val_loss: 2.7214 - val_accuracy: 0.6622 - 9s/epoch - 21ms/step\n",
      "Epoch 193/300\n",
      "420/420 - 9s - loss: 9.5993e-04 - accuracy: 0.9996 - val_loss: 2.7874 - val_accuracy: 0.6638 - 9s/epoch - 20ms/step\n",
      "Epoch 194/300\n",
      "420/420 - 9s - loss: 7.4136e-04 - accuracy: 0.9996 - val_loss: 2.7523 - val_accuracy: 0.6656 - 9s/epoch - 20ms/step\n",
      "Epoch 195/300\n",
      "420/420 - 9s - loss: 7.1649e-04 - accuracy: 0.9996 - val_loss: 2.7899 - val_accuracy: 0.6654 - 9s/epoch - 21ms/step\n",
      "Epoch 196/300\n",
      "420/420 - 9s - loss: 6.5958e-04 - accuracy: 0.9996 - val_loss: 2.7564 - val_accuracy: 0.6671 - 9s/epoch - 22ms/step\n",
      "Epoch 197/300\n",
      "420/420 - 9s - loss: 6.5519e-04 - accuracy: 0.9996 - val_loss: 2.7703 - val_accuracy: 0.6682 - 9s/epoch - 21ms/step\n",
      "Epoch 198/300\n",
      "420/420 - 8s - loss: 6.8488e-04 - accuracy: 0.9996 - val_loss: 2.7639 - val_accuracy: 0.6668 - 8s/epoch - 20ms/step\n",
      "Epoch 199/300\n",
      "420/420 - 8s - loss: 6.3915e-04 - accuracy: 0.9995 - val_loss: 2.7807 - val_accuracy: 0.6683 - 8s/epoch - 20ms/step\n",
      "Epoch 200/300\n",
      "420/420 - 8s - loss: 6.1529e-04 - accuracy: 0.9996 - val_loss: 2.7733 - val_accuracy: 0.6695 - 8s/epoch - 20ms/step\n",
      "Epoch 201/300\n",
      "420/420 - 8s - loss: 6.1618e-04 - accuracy: 0.9996 - val_loss: 2.8239 - val_accuracy: 0.6665 - 8s/epoch - 20ms/step\n",
      "Epoch 202/300\n",
      "420/420 - 8s - loss: 6.4161e-04 - accuracy: 0.9996 - val_loss: 2.8044 - val_accuracy: 0.6681 - 8s/epoch - 20ms/step\n",
      "Epoch 203/300\n",
      "420/420 - 8s - loss: 7.0396e-04 - accuracy: 0.9996 - val_loss: 2.6994 - val_accuracy: 0.6607 - 8s/epoch - 20ms/step\n",
      "Epoch 204/300\n",
      "420/420 - 8s - loss: 0.0856 - accuracy: 0.9742 - val_loss: 2.6928 - val_accuracy: 0.6325 - 8s/epoch - 20ms/step\n",
      "Epoch 205/300\n",
      "420/420 - 8s - loss: 0.0209 - accuracy: 0.9932 - val_loss: 2.6577 - val_accuracy: 0.6374 - 8s/epoch - 20ms/step\n",
      "Epoch 206/300\n",
      "420/420 - 8s - loss: 0.0038 - accuracy: 0.9988 - val_loss: 2.8308 - val_accuracy: 0.6613 - 8s/epoch - 20ms/step\n",
      "Epoch 207/300\n",
      "420/420 - 8s - loss: 0.0022 - accuracy: 0.9994 - val_loss: 2.8365 - val_accuracy: 0.6635 - 8s/epoch - 20ms/step\n",
      "Epoch 208/300\n",
      "420/420 - 8s - loss: 9.8459e-04 - accuracy: 0.9995 - val_loss: 2.8074 - val_accuracy: 0.6644 - 8s/epoch - 20ms/step\n",
      "Epoch 209/300\n",
      "420/420 - 8s - loss: 8.0238e-04 - accuracy: 0.9996 - val_loss: 2.8071 - val_accuracy: 0.6659 - 8s/epoch - 20ms/step\n",
      "Epoch 210/300\n",
      "420/420 - 8s - loss: 7.2741e-04 - accuracy: 0.9996 - val_loss: 2.8070 - val_accuracy: 0.6651 - 8s/epoch - 20ms/step\n",
      "Epoch 211/300\n",
      "420/420 - 8s - loss: 6.9874e-04 - accuracy: 0.9996 - val_loss: 2.8096 - val_accuracy: 0.6667 - 8s/epoch - 20ms/step\n",
      "Epoch 212/300\n",
      "420/420 - 8s - loss: 6.5851e-04 - accuracy: 0.9996 - val_loss: 2.8254 - val_accuracy: 0.6659 - 8s/epoch - 20ms/step\n",
      "Epoch 213/300\n",
      "420/420 - 8s - loss: 6.4301e-04 - accuracy: 0.9996 - val_loss: 2.8198 - val_accuracy: 0.6677 - 8s/epoch - 20ms/step\n",
      "Epoch 214/300\n",
      "420/420 - 8s - loss: 6.5883e-04 - accuracy: 0.9995 - val_loss: 2.8153 - val_accuracy: 0.6689 - 8s/epoch - 20ms/step\n",
      "Epoch 215/300\n",
      "420/420 - 9s - loss: 6.2120e-04 - accuracy: 0.9996 - val_loss: 2.8366 - val_accuracy: 0.6686 - 9s/epoch - 20ms/step\n",
      "Epoch 216/300\n",
      "420/420 - 8s - loss: 6.0602e-04 - accuracy: 0.9996 - val_loss: 2.8244 - val_accuracy: 0.6684 - 8s/epoch - 20ms/step\n",
      "Epoch 217/300\n",
      "420/420 - 8s - loss: 6.0747e-04 - accuracy: 0.9996 - val_loss: 2.8275 - val_accuracy: 0.6702 - 8s/epoch - 20ms/step\n",
      "Epoch 218/300\n",
      "420/420 - 8s - loss: 6.4193e-04 - accuracy: 0.9996 - val_loss: 2.6566 - val_accuracy: 0.6659 - 8s/epoch - 20ms/step\n",
      "Epoch 219/300\n",
      "420/420 - 8s - loss: 0.0896 - accuracy: 0.9734 - val_loss: 2.6146 - val_accuracy: 0.6438 - 8s/epoch - 20ms/step\n",
      "Epoch 220/300\n",
      "420/420 - 8s - loss: 0.0128 - accuracy: 0.9963 - val_loss: 2.7339 - val_accuracy: 0.6540 - 8s/epoch - 20ms/step\n",
      "Epoch 221/300\n",
      "420/420 - 8s - loss: 0.0036 - accuracy: 0.9989 - val_loss: 2.7434 - val_accuracy: 0.6604 - 8s/epoch - 20ms/step\n",
      "Epoch 222/300\n",
      "420/420 - 8s - loss: 0.0023 - accuracy: 0.9992 - val_loss: 2.8302 - val_accuracy: 0.6684 - 8s/epoch - 20ms/step\n",
      "Epoch 223/300\n",
      "420/420 - 8s - loss: 0.0016 - accuracy: 0.9994 - val_loss: 2.7839 - val_accuracy: 0.6632 - 8s/epoch - 20ms/step\n",
      "Epoch 224/300\n",
      "420/420 - 8s - loss: 8.3261e-04 - accuracy: 0.9996 - val_loss: 2.8142 - val_accuracy: 0.6662 - 8s/epoch - 20ms/step\n",
      "Epoch 225/300\n",
      "420/420 - 8s - loss: 6.9959e-04 - accuracy: 0.9996 - val_loss: 2.8112 - val_accuracy: 0.6677 - 8s/epoch - 20ms/step\n",
      "Epoch 226/300\n",
      "420/420 - 8s - loss: 6.5801e-04 - accuracy: 0.9996 - val_loss: 2.8063 - val_accuracy: 0.6686 - 8s/epoch - 20ms/step\n",
      "Epoch 227/300\n",
      "420/420 - 8s - loss: 6.0752e-04 - accuracy: 0.9996 - val_loss: 2.8262 - val_accuracy: 0.6684 - 8s/epoch - 20ms/step\n",
      "Epoch 228/300\n",
      "420/420 - 9s - loss: 6.1408e-04 - accuracy: 0.9996 - val_loss: 2.8277 - val_accuracy: 0.6697 - 9s/epoch - 21ms/step\n",
      "Epoch 229/300\n",
      "420/420 - 9s - loss: 6.1274e-04 - accuracy: 0.9996 - val_loss: 2.8507 - val_accuracy: 0.6688 - 9s/epoch - 21ms/step\n",
      "Epoch 230/300\n",
      "420/420 - 9s - loss: 5.9819e-04 - accuracy: 0.9996 - val_loss: 2.8292 - val_accuracy: 0.6702 - 9s/epoch - 21ms/step\n",
      "Epoch 231/300\n",
      "420/420 - 9s - loss: 5.8341e-04 - accuracy: 0.9996 - val_loss: 2.8251 - val_accuracy: 0.6691 - 9s/epoch - 21ms/step\n",
      "Epoch 232/300\n",
      "420/420 - 9s - loss: 0.0860 - accuracy: 0.9738 - val_loss: 2.7247 - val_accuracy: 0.6371 - 9s/epoch - 21ms/step\n",
      "Epoch 233/300\n",
      "420/420 - 9s - loss: 0.0155 - accuracy: 0.9952 - val_loss: 2.9294 - val_accuracy: 0.6493 - 9s/epoch - 21ms/step\n",
      "Epoch 234/300\n",
      "420/420 - 9s - loss: 0.0045 - accuracy: 0.9988 - val_loss: 2.8955 - val_accuracy: 0.6598 - 9s/epoch - 20ms/step\n",
      "Epoch 235/300\n",
      "420/420 - 9s - loss: 0.0019 - accuracy: 0.9993 - val_loss: 2.9378 - val_accuracy: 0.6606 - 9s/epoch - 21ms/step\n",
      "Epoch 236/300\n",
      "420/420 - 8s - loss: 8.7722e-04 - accuracy: 0.9996 - val_loss: 2.9055 - val_accuracy: 0.6652 - 8s/epoch - 20ms/step\n",
      "Epoch 237/300\n",
      "420/420 - 8s - loss: 7.2065e-04 - accuracy: 0.9996 - val_loss: 2.8917 - val_accuracy: 0.6665 - 8s/epoch - 20ms/step\n",
      "Epoch 238/300\n",
      "420/420 - 8s - loss: 6.3917e-04 - accuracy: 0.9996 - val_loss: 2.9008 - val_accuracy: 0.6659 - 8s/epoch - 20ms/step\n",
      "Epoch 239/300\n",
      "420/420 - 8s - loss: 6.1427e-04 - accuracy: 0.9996 - val_loss: 2.8901 - val_accuracy: 0.6672 - 8s/epoch - 20ms/step\n",
      "Epoch 240/300\n",
      "420/420 - 8s - loss: 5.9513e-04 - accuracy: 0.9996 - val_loss: 2.9024 - val_accuracy: 0.6665 - 8s/epoch - 20ms/step\n",
      "Epoch 241/300\n",
      "420/420 - 9s - loss: 5.8151e-04 - accuracy: 0.9996 - val_loss: 2.9280 - val_accuracy: 0.6671 - 9s/epoch - 21ms/step\n",
      "Epoch 242/300\n",
      "420/420 - 9s - loss: 5.7250e-04 - accuracy: 0.9995 - val_loss: 2.9129 - val_accuracy: 0.6686 - 9s/epoch - 21ms/step\n",
      "Epoch 243/300\n",
      "420/420 - 9s - loss: 5.8291e-04 - accuracy: 0.9996 - val_loss: 2.9273 - val_accuracy: 0.6671 - 9s/epoch - 21ms/step\n",
      "Epoch 244/300\n",
      "420/420 - 9s - loss: 5.9726e-04 - accuracy: 0.9996 - val_loss: 2.8746 - val_accuracy: 0.6667 - 9s/epoch - 20ms/step\n",
      "Epoch 245/300\n",
      "420/420 - 8s - loss: 5.8411e-04 - accuracy: 0.9996 - val_loss: 2.9324 - val_accuracy: 0.6691 - 8s/epoch - 20ms/step\n",
      "Epoch 246/300\n",
      "420/420 - 8s - loss: 7.2879e-04 - accuracy: 0.9996 - val_loss: 2.9371 - val_accuracy: 0.6655 - 8s/epoch - 20ms/step\n",
      "Epoch 247/300\n",
      "420/420 - 9s - loss: 0.0791 - accuracy: 0.9770 - val_loss: 2.8165 - val_accuracy: 0.6386 - 9s/epoch - 20ms/step\n",
      "Epoch 248/300\n",
      "420/420 - 9s - loss: 0.0142 - accuracy: 0.9958 - val_loss: 2.9500 - val_accuracy: 0.6585 - 9s/epoch - 21ms/step\n",
      "Epoch 249/300\n",
      "420/420 - 9s - loss: 0.0045 - accuracy: 0.9987 - val_loss: 2.9275 - val_accuracy: 0.6668 - 9s/epoch - 20ms/step\n",
      "Epoch 250/300\n",
      "420/420 - 9s - loss: 0.0011 - accuracy: 0.9996 - val_loss: 2.8572 - val_accuracy: 0.6687 - 9s/epoch - 21ms/step\n",
      "Epoch 251/300\n",
      "420/420 - 9s - loss: 7.9978e-04 - accuracy: 0.9996 - val_loss: 2.8746 - val_accuracy: 0.6701 - 9s/epoch - 21ms/step\n",
      "Epoch 252/300\n",
      "420/420 - 9s - loss: 7.2918e-04 - accuracy: 0.9996 - val_loss: 2.8596 - val_accuracy: 0.6706 - 9s/epoch - 20ms/step\n",
      "Epoch 253/300\n",
      "420/420 - 9s - loss: 6.6505e-04 - accuracy: 0.9995 - val_loss: 2.8765 - val_accuracy: 0.6715 - 9s/epoch - 20ms/step\n",
      "Epoch 254/300\n",
      "420/420 - 9s - loss: 6.1382e-04 - accuracy: 0.9996 - val_loss: 2.8601 - val_accuracy: 0.6723 - 9s/epoch - 20ms/step\n",
      "Epoch 255/300\n",
      "420/420 - 9s - loss: 6.0219e-04 - accuracy: 0.9996 - val_loss: 2.8812 - val_accuracy: 0.6727 - 9s/epoch - 21ms/step\n",
      "Epoch 256/300\n",
      "420/420 - 9s - loss: 5.7399e-04 - accuracy: 0.9996 - val_loss: 2.8750 - val_accuracy: 0.6735 - 9s/epoch - 21ms/step\n",
      "Epoch 257/300\n",
      "420/420 - 9s - loss: 5.6456e-04 - accuracy: 0.9996 - val_loss: 2.8825 - val_accuracy: 0.6729 - 9s/epoch - 20ms/step\n",
      "Epoch 258/300\n",
      "420/420 - 9s - loss: 5.6725e-04 - accuracy: 0.9996 - val_loss: 2.8863 - val_accuracy: 0.6743 - 9s/epoch - 21ms/step\n",
      "Epoch 259/300\n",
      "420/420 - 9s - loss: 5.6480e-04 - accuracy: 0.9996 - val_loss: 2.9191 - val_accuracy: 0.6732 - 9s/epoch - 21ms/step\n",
      "Epoch 260/300\n",
      "420/420 - 9s - loss: 6.2045e-04 - accuracy: 0.9996 - val_loss: 2.9043 - val_accuracy: 0.6744 - 9s/epoch - 21ms/step\n",
      "Epoch 261/300\n",
      "420/420 - 9s - loss: 6.3291e-04 - accuracy: 0.9997 - val_loss: 3.0178 - val_accuracy: 0.6709 - 9s/epoch - 21ms/step\n",
      "Epoch 262/300\n",
      "420/420 - 9s - loss: 0.0781 - accuracy: 0.9770 - val_loss: 2.7508 - val_accuracy: 0.6245 - 9s/epoch - 21ms/step\n",
      "Epoch 263/300\n",
      "420/420 - 8s - loss: 0.0208 - accuracy: 0.9935 - val_loss: 3.0107 - val_accuracy: 0.6531 - 8s/epoch - 20ms/step\n",
      "Epoch 264/300\n",
      "420/420 - 8s - loss: 0.0051 - accuracy: 0.9984 - val_loss: 2.8448 - val_accuracy: 0.6624 - 8s/epoch - 20ms/step\n",
      "Epoch 265/300\n",
      "420/420 - 8s - loss: 0.0018 - accuracy: 0.9993 - val_loss: 2.9367 - val_accuracy: 0.6671 - 8s/epoch - 20ms/step\n",
      "Epoch 266/300\n",
      "420/420 - 9s - loss: 0.0011 - accuracy: 0.9995 - val_loss: 2.9272 - val_accuracy: 0.6683 - 9s/epoch - 20ms/step\n",
      "Epoch 267/300\n",
      "420/420 - 8s - loss: 7.3505e-04 - accuracy: 0.9996 - val_loss: 2.9127 - val_accuracy: 0.6681 - 8s/epoch - 20ms/step\n",
      "Epoch 268/300\n",
      "420/420 - 9s - loss: 6.5223e-04 - accuracy: 0.9996 - val_loss: 2.9157 - val_accuracy: 0.6689 - 9s/epoch - 20ms/step\n",
      "Epoch 269/300\n",
      "420/420 - 9s - loss: 6.2559e-04 - accuracy: 0.9996 - val_loss: 2.9188 - val_accuracy: 0.6695 - 9s/epoch - 20ms/step\n",
      "Epoch 270/300\n",
      "420/420 - 9s - loss: 6.0155e-04 - accuracy: 0.9996 - val_loss: 2.9326 - val_accuracy: 0.6709 - 9s/epoch - 20ms/step\n",
      "Epoch 271/300\n",
      "420/420 - 8s - loss: 5.8033e-04 - accuracy: 0.9996 - val_loss: 2.9213 - val_accuracy: 0.6709 - 8s/epoch - 20ms/step\n",
      "Epoch 272/300\n",
      "420/420 - 8s - loss: 5.7879e-04 - accuracy: 0.9996 - val_loss: 2.9328 - val_accuracy: 0.6711 - 8s/epoch - 20ms/step\n",
      "Epoch 273/300\n",
      "420/420 - 8s - loss: 5.5754e-04 - accuracy: 0.9996 - val_loss: 2.9321 - val_accuracy: 0.6705 - 8s/epoch - 20ms/step\n",
      "Epoch 274/300\n",
      "420/420 - 8s - loss: 5.5609e-04 - accuracy: 0.9996 - val_loss: 2.9264 - val_accuracy: 0.6711 - 8s/epoch - 20ms/step\n",
      "Epoch 275/300\n",
      "420/420 - 8s - loss: 5.7010e-04 - accuracy: 0.9995 - val_loss: 2.9360 - val_accuracy: 0.6697 - 8s/epoch - 20ms/step\n",
      "Epoch 276/300\n",
      "420/420 - 9s - loss: 6.1236e-04 - accuracy: 0.9995 - val_loss: 2.9747 - val_accuracy: 0.6719 - 9s/epoch - 20ms/step\n",
      "Epoch 277/300\n",
      "420/420 - 9s - loss: 6.2890e-04 - accuracy: 0.9996 - val_loss: 3.0567 - val_accuracy: 0.6683 - 9s/epoch - 20ms/step\n",
      "Epoch 278/300\n",
      "420/420 - 8s - loss: 0.0623 - accuracy: 0.9820 - val_loss: 2.9789 - val_accuracy: 0.5788 - 8s/epoch - 20ms/step\n",
      "Epoch 279/300\n",
      "420/420 - 8s - loss: 0.0380 - accuracy: 0.9884 - val_loss: 3.0079 - val_accuracy: 0.6446 - 8s/epoch - 20ms/step\n",
      "Epoch 280/300\n",
      "420/420 - 8s - loss: 0.0059 - accuracy: 0.9983 - val_loss: 2.9351 - val_accuracy: 0.6591 - 8s/epoch - 20ms/step\n",
      "Epoch 281/300\n",
      "420/420 - 9s - loss: 0.0016 - accuracy: 0.9994 - val_loss: 2.9633 - val_accuracy: 0.6664 - 9s/epoch - 20ms/step\n",
      "Epoch 282/300\n",
      "420/420 - 8s - loss: 8.5813e-04 - accuracy: 0.9996 - val_loss: 2.9570 - val_accuracy: 0.6684 - 8s/epoch - 20ms/step\n",
      "Epoch 283/300\n",
      "420/420 - 8s - loss: 7.2318e-04 - accuracy: 0.9996 - val_loss: 2.9540 - val_accuracy: 0.6694 - 8s/epoch - 20ms/step\n",
      "Epoch 284/300\n",
      "420/420 - 8s - loss: 6.4768e-04 - accuracy: 0.9996 - val_loss: 2.9540 - val_accuracy: 0.6702 - 8s/epoch - 20ms/step\n",
      "Epoch 285/300\n",
      "420/420 - 9s - loss: 6.1049e-04 - accuracy: 0.9996 - val_loss: 2.9617 - val_accuracy: 0.6712 - 9s/epoch - 20ms/step\n",
      "Epoch 286/300\n",
      "420/420 - 8s - loss: 5.9661e-04 - accuracy: 0.9995 - val_loss: 2.9599 - val_accuracy: 0.6706 - 8s/epoch - 20ms/step\n",
      "Epoch 287/300\n",
      "420/420 - 9s - loss: 5.8176e-04 - accuracy: 0.9995 - val_loss: 2.9817 - val_accuracy: 0.6705 - 9s/epoch - 20ms/step\n",
      "Epoch 288/300\n",
      "420/420 - 9s - loss: 5.5021e-04 - accuracy: 0.9996 - val_loss: 2.9912 - val_accuracy: 0.6716 - 9s/epoch - 20ms/step\n",
      "Epoch 289/300\n",
      "420/420 - 9s - loss: 5.4129e-04 - accuracy: 0.9996 - val_loss: 2.9960 - val_accuracy: 0.6723 - 9s/epoch - 20ms/step\n",
      "Epoch 290/300\n",
      "420/420 - 9s - loss: 5.3090e-04 - accuracy: 0.9996 - val_loss: 2.9661 - val_accuracy: 0.6712 - 9s/epoch - 21ms/step\n",
      "Epoch 291/300\n",
      "420/420 - 9s - loss: 5.3367e-04 - accuracy: 0.9996 - val_loss: 3.0141 - val_accuracy: 0.6708 - 9s/epoch - 21ms/step\n",
      "Epoch 292/300\n",
      "420/420 - 9s - loss: 5.3403e-04 - accuracy: 0.9996 - val_loss: 2.9967 - val_accuracy: 0.6706 - 9s/epoch - 21ms/step\n",
      "Epoch 293/300\n",
      "420/420 - 9s - loss: 5.6404e-04 - accuracy: 0.9996 - val_loss: 3.0245 - val_accuracy: 0.6713 - 9s/epoch - 20ms/step\n",
      "Epoch 294/300\n",
      "420/420 - 9s - loss: 0.0485 - accuracy: 0.9863 - val_loss: 3.5552 - val_accuracy: 0.5186 - 9s/epoch - 21ms/step\n",
      "Epoch 295/300\n",
      "420/420 - 9s - loss: 0.0360 - accuracy: 0.9884 - val_loss: 3.0674 - val_accuracy: 0.6539 - 9s/epoch - 21ms/step\n",
      "Epoch 296/300\n",
      "420/420 - 9s - loss: 0.0053 - accuracy: 0.9986 - val_loss: 2.9499 - val_accuracy: 0.6617 - 9s/epoch - 21ms/step\n",
      "Epoch 297/300\n",
      "420/420 - 9s - loss: 0.0019 - accuracy: 0.9993 - val_loss: 3.0180 - val_accuracy: 0.6668 - 9s/epoch - 21ms/step\n",
      "Epoch 298/300\n",
      "420/420 - 9s - loss: 0.0011 - accuracy: 0.9996 - val_loss: 2.9792 - val_accuracy: 0.6690 - 9s/epoch - 21ms/step\n",
      "Epoch 299/300\n",
      "420/420 - 9s - loss: 7.0167e-04 - accuracy: 0.9996 - val_loss: 2.9792 - val_accuracy: 0.6708 - 9s/epoch - 21ms/step\n",
      "Epoch 300/300\n",
      "420/420 - 9s - loss: 6.6204e-04 - accuracy: 0.9996 - val_loss: 3.0104 - val_accuracy: 0.6700 - 9s/epoch - 20ms/step\n"
     ]
    }
   ],
   "execution_count": 28
  },
  {
   "metadata": {
    "ExecuteTime": {
     "end_time": "2024-10-02T08:59:33.628267Z",
     "start_time": "2024-10-02T08:59:33.202531Z"
    }
   },
   "cell_type": "code",
   "source": [
    "# DISCORD -> 設定 -> 整合 -> Webhook -> 新 Webhook > -> 複製 Webhook 網址\n",
    "DISCORD_WEBHOOK_URL = \"https://discord.com/api/webhooks/1287413088970346557/30gx7NdIfSxS1BRWk28IRkOHJeoET-ihIN_KAjYeXYkrpPeI0hBnE-68AHzhpTR4h3et\"\n",
    "requests.post(\n",
    "    url=DISCORD_WEBHOOK_URL,\n",
    "    data={\"content\": \"cnn with fake data模型訓練已完成!\"}\n",
    ")"
   ],
   "id": "e50ecb138fbe6aaa",
   "outputs": [
    {
     "data": {
      "text/plain": [
       "<Response [204]>"
      ]
     },
     "execution_count": 29,
     "metadata": {},
     "output_type": "execute_result"
    }
   ],
   "execution_count": 29
  },
  {
   "metadata": {
    "ExecuteTime": {
     "end_time": "2024-10-02T08:59:41.031484Z",
     "start_time": "2024-10-02T08:59:40.285544Z"
    }
   },
   "cell_type": "code",
   "source": [
    "accuracies = model_train_info.history['accuracy']\n",
    "val_accuracies = model_train_info.history['val_accuracy']\n",
    "\n",
    "plt.plot(list(range(epochs)), accuracies, label = 'accuracy')\n",
    "plt.plot(list(range(epochs)), val_accuracies, label = 'val_accuracy')\n",
    "plt.legend()\n",
    "plt.grid()\n",
    "plt.xticks(ticks = list(range(1, epochs + 1))) \n",
    "plt.xlabel('Epoch')\n",
    "plt.ylabel('Accuracy')\n",
    "plt.xticks(ticks=list(range(0, epochs + 1, 50)))\n",
    "plt.yticks(ticks=list(np.arange(0, 1 + 0.1, 0.1)))\n",
    "plt.show()"
   ],
   "id": "9bb57d39fcd1b1e3",
   "outputs": [
    {
     "data": {
      "text/plain": [
       "<Figure size 640x480 with 1 Axes>"
      ],
      "image/png": "[encoded data removed]"
     },
     "metadata": {},
     "output_type": "display_data"
    }
   ],
   "execution_count": 30
  },
  {
   "metadata": {
    "ExecuteTime": {
     "end_time": "2024-10-02T08:59:52.687089Z",
     "start_time": "2024-10-02T08:59:52.682730Z"
    }
   },
   "cell_type": "code",
   "source": [
    "print(f\"資料: {mfcc_matrix_list_scaled.shape}\")\n",
    "print(f\"最高準確率: {max(val_accuracies)}\")"
   ],
   "id": "e085c303956a0412",
   "outputs": [
    {
     "name": "stdout",
     "output_type": "stream",
     "text": [
      "資料: (67172, 13, 44)\n",
      "最高準確率: 0.6743580102920532\n"
     ]
    }
   ],
   "execution_count": 31
  },
  {
   "metadata": {
    "ExecuteTime": {
     "end_time": "2024-10-02T08:59:55.160371Z",
     "start_time": "2024-10-02T08:59:55.019991Z"
    }
   },
   "cell_type": "code",
   "source": "model.save(f\".\\\\cnn_edu_with_fake_model.h5\")",
   "id": "159f4a26b7c27405",
   "outputs": [],
   "execution_count": 32
  }
 ],
 "metadata": {
  "kernelspec": {
   "display_name": "Python 3",
   "language": "python",
   "name": "python3"
  },
  "language_info": {
   "codemirror_mode": {
    "name": "ipython",
    "version": 2
   },
   "file_extension": ".py",
   "mimetype": "text/x-python",
   "name": "python",
   "nbconvert_exporter": "python",
   "pygments_lexer": "ipython2",
   "version": "2.7.6"
  }
 },
 "nbformat": 4,
 "nbformat_minor": 5
}
