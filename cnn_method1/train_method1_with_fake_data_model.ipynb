{
 "cells": [
  {
   "cell_type": "code",
   "id": "initial_id",
   "metadata": {
    "collapsed": true,
    "ExecuteTime": {
     "end_time": "2024-10-02T15:10:27.509657Z",
     "start_time": "2024-10-02T15:10:25.948969Z"
    }
   },
   "source": [
    "import platform\n",
    "print(f\"platform.python_version(): {platform.python_version()}\")\n",
    "\n",
    "import numpy as np\n",
    "from glob import glob\n",
    "from tqdm import tqdm\n",
    "import requests\n",
    "import json\n",
    "import matplotlib.pyplot as plt\n",
    "\n",
    "from sklearn.preprocessing import StandardScaler\n",
    "from sklearn.model_selection import train_test_split\n",
    "\n",
    "import tensorflow as tf\n",
    "from tensorflow import keras\n",
    "from keras import Sequential\n",
    "from keras.utils import to_categorical\n",
    "from keras.layers import Dense, Flatten, Conv2D, MaxPooling2D, BatchNormalization, Activation\n",
    "\n",
    "# 確認GPU是否可用\n",
    "gpus = tf.config.experimental.list_physical_devices(\"GPU\")\n",
    "print(f\"tf.config.list_physical_devices('GPU'): {tf.config.list_physical_devices('GPU')}\")"
   ],
   "outputs": [
    {
     "name": "stdout",
     "output_type": "stream",
     "text": [
      "platform.python_version(): 3.9.13\n",
      "tf.config.list_physical_devices('GPU'): [PhysicalDevice(name='/physical_device:GPU:0', device_type='GPU')]\n"
     ]
    }
   ],
   "execution_count": 1
  },
  {
   "metadata": {},
   "cell_type": "markdown",
   "source": "mfcc .npy檔案路徑陣列",
   "id": "1dad317aedc5dc67"
  },
  {
   "metadata": {
    "ExecuteTime": {
     "end_time": "2024-10-02T15:10:29.375025Z",
     "start_time": "2024-10-02T15:10:29.246025Z"
    }
   },
   "cell_type": "code",
   "source": [
    "npy_file_path_list: list = glob(f\"..\\\\data\\\\*EduVer\\\\*.npy\")\n",
    "print(f\"type(npy_file_path_list): {type(npy_file_path_list)}\")\n",
    "print(f\"len(npy_file_path_list): {len(npy_file_path_list)}\")\n",
    "# npy_file_path_list"
   ],
   "id": "f131c7cc5d197b26",
   "outputs": [
    {
     "name": "stdout",
     "output_type": "stream",
     "text": [
      "type(npy_file_path_list): <class 'list'>\n",
      "len(npy_file_path_list): 67173\n"
     ]
    }
   ],
   "execution_count": 2
  },
  {
   "metadata": {},
   "cell_type": "markdown",
   "source": "讀取npy_file_path_list裡面每一個npy_file_path 轉成mfcc 放入mfcc_matrix_list",
   "id": "6d7e247f52ededa6"
  },
  {
   "metadata": {
    "ExecuteTime": {
     "end_time": "2024-10-02T15:10:39.022259Z",
     "start_time": "2024-10-02T15:10:32.739443Z"
    }
   },
   "cell_type": "code",
   "source": [
    "mfcc_matrix_list = list()\n",
    "\n",
    "for npy_file_path in tqdm(npy_file_path_list):\n",
    "    mfcc_matrix = np.load(file=npy_file_path)\n",
    "    mfcc_matrix_list.append(mfcc_matrix)\n",
    "\n",
    "mfcc_matrix_list = np.array(mfcc_matrix_list)\n",
    "print(f\"type(mfcc_matrix_list): {type(mfcc_matrix_list)}\")\n",
    "print(f\"mfcc_matrix_list.shape: {mfcc_matrix_list.shape}\")\n",
    "# mfcc_matrix_list"
   ],
   "id": "15ba282f7aec5e39",
   "outputs": [
    {
     "name": "stderr",
     "output_type": "stream",
     "text": [
      "100%|██████████| 67173/67173 [00:06<00:00, 10806.79it/s]"
     ]
    },
    {
     "name": "stdout",
     "output_type": "stream",
     "text": [
      "type(mfcc_matrix_list): <class 'numpy.ndarray'>\n",
      "mfcc_matrix_list.shape: (67173, 13, 44)\n"
     ]
    },
    {
     "name": "stderr",
     "output_type": "stream",
     "text": [
      "\n"
     ]
    }
   ],
   "execution_count": 3
  },
  {
   "metadata": {},
   "cell_type": "markdown",
   "source": "標準化",
   "id": "233c33b2c0f2ad90"
  },
  {
   "metadata": {
    "ExecuteTime": {
     "end_time": "2024-10-02T15:10:53.726526Z",
     "start_time": "2024-10-02T15:10:51.599096Z"
    }
   },
   "cell_type": "code",
   "source": [
    "scaler = StandardScaler()\n",
    "# 因為標準器只能fit 2維的資料所以要將3維的mfcc資料集reshape成2維\n",
    "# mfcc_data_nums: k\n",
    "# mfcc_row: n\n",
    "# mfcc_column: m\n",
    "# (k, n, m) => (k * n, m)\n",
    "scaler.fit(mfcc_matrix_list.reshape((mfcc_matrix_list.shape[0] * mfcc_matrix_list.shape[1], mfcc_matrix_list.shape[2])))\n",
    "\n",
    "mfcc_matrix_list_scaled = []\n",
    "for mfcc in mfcc_matrix_list:\n",
    "    mfcc_matrix_list_scaled.append(scaler.transform(mfcc))\n",
    "\n",
    "# 將list()轉換成np.array()\n",
    "mfcc_matrix_list_scaled = np.array(mfcc_matrix_list_scaled)\n",
    "\n",
    "print(f\"type(mfcc_matrix_list_scaled): {type(mfcc_matrix_list_scaled)}\")\n",
    "print(f\"mfcc_matrix_list_scaled.shape: {mfcc_matrix_list_scaled.shape}\")\n",
    "\n",
    "# 不要印出 ipynb會爆炸\n",
    "# mfcc_matrix_list_scaled"
   ],
   "id": "d7289166e46dcb99",
   "outputs": [
    {
     "name": "stdout",
     "output_type": "stream",
     "text": [
      "type(mfcc_matrix_list_scaled): <class 'numpy.ndarray'>\n",
      "mfcc_matrix_list_scaled.shape: (67173, 13, 44)\n"
     ]
    }
   ],
   "execution_count": 4
  },
  {
   "metadata": {},
   "cell_type": "markdown",
   "source": "資料拼音標籤",
   "id": "93cd9527d8567ecb"
  },
  {
   "metadata": {
    "ExecuteTime": {
     "end_time": "2024-10-02T15:10:56.954335Z",
     "start_time": "2024-10-02T15:10:56.932335Z"
    }
   },
   "cell_type": "code",
   "source": [
    "label_pinyin_list = []\n",
    "\n",
    "for npy_file_path in npy_file_path_list:\n",
    "    label_pinyin = npy_file_path.split(\"_\")[1]\n",
    "    label_pinyin_list.append(label_pinyin)\n",
    "\n",
    "# 將list()轉換成np.array()\n",
    "label_pinyin_list = np.array(label_pinyin_list)\n",
    "\n",
    "print(f\"type(label_pinyin_list): {type(label_pinyin_list)}\")\n",
    "print(f\"label_pinyin_list.shape: {label_pinyin_list.shape}\")\n",
    "# label_pinyin_list"
   ],
   "id": "9350dd4cc72bcfe3",
   "outputs": [
    {
     "name": "stdout",
     "output_type": "stream",
     "text": [
      "type(label_pinyin_list): <class 'numpy.ndarray'>\n",
      "label_pinyin_list.shape: (67173,)\n"
     ]
    }
   ],
   "execution_count": 5
  },
  {
   "metadata": {},
   "cell_type": "markdown",
   "source": "標籤轉換字典 key: pinyin key: int",
   "id": "a053320d057c7b30"
  },
  {
   "metadata": {
    "ExecuteTime": {
     "end_time": "2024-10-02T15:11:00.823354Z",
     "start_time": "2024-10-02T15:11:00.807354Z"
    }
   },
   "cell_type": "code",
   "source": [
    "sample_list = glob(f\"..\\\\data\\\\samplePinyinEdu\\\\MaleWav\\\\*.wav\")\n",
    "\n",
    "label_dic: dict = {}\n",
    "for i in range(len(sample_list)):\n",
    "    label = sample_list[i][sample_list[i].find(\"_\") + 1:sample_list[i].find(\".wav\")]\n",
    "    label_dic[label] = i\n",
    "\n",
    "print(f\"type(label_dic): {type(label_dic)}\")\n",
    "print(f\"len(label_dic): {len(label_dic)}\")\n",
    "# label_dic"
   ],
   "id": "6556d962dfe4ba49",
   "outputs": [
    {
     "name": "stdout",
     "output_type": "stream",
     "text": [
      "type(label_dic): <class 'dict'>\n",
      "len(label_dic): 1467\n"
     ]
    }
   ],
   "execution_count": 6
  },
  {
   "metadata": {},
   "cell_type": "markdown",
   "source": "轉換成int的標籤",
   "id": "f0321fbb22e371d5"
  },
  {
   "metadata": {
    "ExecuteTime": {
     "end_time": "2024-10-02T15:11:03.301521Z",
     "start_time": "2024-10-02T15:11:03.276521Z"
    }
   },
   "cell_type": "code",
   "source": [
    "label_int_list = []\n",
    "for label_pinyin in label_pinyin_list:\n",
    "    label_int = label_dic[label_pinyin]\n",
    "    label_int_list.append(label_int)\n",
    "\n",
    "label_int_list = np.array(label_int_list)\n",
    "print(f\"label_int_list.shape: {label_int_list.shape}\")\n",
    "# label_int_list"
   ],
   "id": "c17f7b0819482471",
   "outputs": [
    {
     "name": "stdout",
     "output_type": "stream",
     "text": [
      "label_int_list.shape: (67173,)\n"
     ]
    }
   ],
   "execution_count": 7
  },
  {
   "metadata": {},
   "cell_type": "markdown",
   "source": "模型",
   "id": "e2cc2aa0c56f5bdc"
  },
  {
   "metadata": {
    "ExecuteTime": {
     "end_time": "2024-10-02T15:11:04.744734Z",
     "start_time": "2024-10-02T15:11:04.731735Z"
    }
   },
   "cell_type": "code",
   "source": [
    "def get_cnn_model(input_shape, num_classes, learning_rate=0.001, num_filters=32, dense_units=256):\n",
    "    cnn_model = Sequential()\n",
    "\n",
    "    # 第一層捲積層\n",
    "    cnn_model.add(Conv2D(num_filters, kernel_size=(3, 3), padding='same', input_shape=input_shape))\n",
    "    cnn_model.add(BatchNormalization())\n",
    "    cnn_model.add(Activation('relu'))\n",
    "    cnn_model.add(Conv2D(num_filters, kernel_size=(3, 3), padding='same'))\n",
    "    cnn_model.add(BatchNormalization())\n",
    "    cnn_model.add(Activation('relu'))\n",
    "    cnn_model.add(MaxPooling2D(pool_size=(2, 2)))\n",
    "    \n",
    "    # 第二層捲積層\n",
    "    cnn_model.add(Conv2D(num_filters * 2, kernel_size=(3, 3), padding='same'))\n",
    "    cnn_model.add(BatchNormalization())\n",
    "    cnn_model.add(Activation('relu'))\n",
    "    cnn_model.add(Conv2D(num_filters * 2, kernel_size=(3, 3), padding='same'))\n",
    "    cnn_model.add(BatchNormalization())\n",
    "    cnn_model.add(Activation('relu'))\n",
    "    cnn_model.add(MaxPooling2D(pool_size=(2, 2)))\n",
    "    \n",
    "    # 第三層捲積層\n",
    "    cnn_model.add(Conv2D(num_filters * 4, kernel_size=(3, 3), padding='same'))\n",
    "    cnn_model.add(BatchNormalization())\n",
    "    cnn_model.add(Activation('relu'))\n",
    "    cnn_model.add(Conv2D(num_filters * 4, kernel_size=(3, 3), padding='same'))\n",
    "    cnn_model.add(BatchNormalization())\n",
    "    cnn_model.add(Activation('relu'))\n",
    "    cnn_model.add(MaxPooling2D(pool_size=(2, 2)))\n",
    "    \n",
    "    # 展平\n",
    "    cnn_model.add(Flatten())\n",
    "    \n",
    "    # 第一層全連接層\n",
    "    cnn_model.add(Dense(dense_units))\n",
    "    cnn_model.add(BatchNormalization())\n",
    "    cnn_model.add(Activation('relu'))\n",
    "    \n",
    "    # 第二層全連接層\n",
    "    cnn_model.add(Dense(dense_units * 2))\n",
    "    cnn_model.add(BatchNormalization())\n",
    "    cnn_model.add(Activation('relu'))\n",
    "    \n",
    "    # 第三層全連接層(長度同為1467個label)\n",
    "    cnn_model.add(Dense(num_classes))\n",
    "    \n",
    "    # 表示為機率\n",
    "    cnn_model.add(Activation('softmax'))\n",
    "\n",
    "    cnn_model.compile(\n",
    "        loss=keras.losses.categorical_crossentropy,\n",
    "        optimizer=keras.optimizers.Adam(learning_rate=learning_rate),\n",
    "        metrics=['accuracy']\n",
    "    )\n",
    "\n",
    "    return cnn_model"
   ],
   "id": "c2acde096f7f1096",
   "outputs": [],
   "execution_count": 8
  },
  {
   "metadata": {},
   "cell_type": "markdown",
   "source": "讀取最佳超參數",
   "id": "8f820271644fe39b"
  },
  {
   "metadata": {
    "ExecuteTime": {
     "end_time": "2024-10-02T15:11:06.866114Z",
     "start_time": "2024-10-02T15:11:06.852105Z"
    }
   },
   "cell_type": "code",
   "source": [
    "best_params = json.load(open(f\"..\\\\grid_search\\\\method1_with_fake_data\\\\best_params.json\", \"r\"))\n",
    "\n",
    "learning_rate = best_params[\"learning_rate\"]\n",
    "num_filters = best_params[\"num_filters\"]\n",
    "dense_units = best_params[\"dense_unit\"]\n",
    "batch_size = best_params[\"batch_size\"]\n",
    "epochs = best_params[\"epochs\"]"
   ],
   "id": "1278cbf16699eb96",
   "outputs": [],
   "execution_count": 9
  },
  {
   "metadata": {},
   "cell_type": "markdown",
   "source": "基本參數",
   "id": "1819b68a9f370b23"
  },
  {
   "metadata": {
    "ExecuteTime": {
     "end_time": "2024-10-02T15:11:08.296213Z",
     "start_time": "2024-10-02T15:11:08.289213Z"
    }
   },
   "cell_type": "code",
   "source": [
    "channel = 1\n",
    "verbose = 2\n",
    "num_classes = len(label_dic)\n",
    "test_size = 0.2\n",
    "mfcc_dim_1 = mfcc_matrix_list.shape[1]\n",
    "mfcc_dim_2 = mfcc_matrix_list.shape[2]\n",
    "print(f\"mfcc_dim_1: {mfcc_dim_1}\")\n",
    "print(f\"mfcc_dim_2: {mfcc_dim_2}\")"
   ],
   "id": "1aecf8c19679087c",
   "outputs": [
    {
     "name": "stdout",
     "output_type": "stream",
     "text": [
      "mfcc_dim_1: 13\n",
      "mfcc_dim_2: 44\n"
     ]
    }
   ],
   "execution_count": 10
  },
  {
   "metadata": {},
   "cell_type": "markdown",
   "source": "資料切割",
   "id": "722f3164ee4c3719"
  },
  {
   "metadata": {
    "ExecuteTime": {
     "end_time": "2024-10-02T15:11:10.150951Z",
     "start_time": "2024-10-02T15:11:09.989947Z"
    }
   },
   "cell_type": "code",
   "source": [
    "X = mfcc_matrix_list_scaled\n",
    "y = label_int_list\n",
    "\n",
    "# 將int label轉換成二進制one hot標籤\n",
    "y_one_hot = to_categorical(y, num_classes=num_classes)\n",
    "\n",
    "X_train, X_test, y_train, y_test = train_test_split(X, y_one_hot, test_size=test_size, random_state=42)\n",
    "\n",
    "X_train = X_train.reshape(X_train.shape[0], mfcc_dim_1, mfcc_dim_2, channel)\n",
    "X_test = X_test.reshape(X_test.shape[0], mfcc_dim_1, mfcc_dim_2, channel)"
   ],
   "id": "72a523aa661f1435",
   "outputs": [],
   "execution_count": 11
  },
  {
   "metadata": {},
   "cell_type": "markdown",
   "source": "模型訓練",
   "id": "a9b741c2de0417b5"
  },
  {
   "metadata": {
    "ExecuteTime": {
     "end_time": "2024-10-02T15:33:47.042256Z",
     "start_time": "2024-10-02T15:11:14.135966Z"
    }
   },
   "cell_type": "code",
   "source": [
    "model = get_cnn_model(input_shape=(mfcc_dim_1, mfcc_dim_2, channel), num_classes=num_classes, learning_rate=learning_rate, num_filters=num_filters, dense_units=dense_units)\n",
    "model_train_info = model.fit(X_train, y_train, batch_size=batch_size, epochs=epochs, verbose=verbose, validation_data=(X_test, y_test))"
   ],
   "id": "17df480b88fd1583",
   "outputs": [
    {
     "name": "stdout",
     "output_type": "stream",
     "text": [
      "Epoch 1/300\n",
      "420/420 - 6s - loss: 5.7736 - accuracy: 0.1018 - val_loss: 5.8330 - val_accuracy: 0.0854 - 6s/epoch - 14ms/step\n",
      "Epoch 2/300\n",
      "420/420 - 5s - loss: 4.6973 - accuracy: 0.2026 - val_loss: 4.5833 - val_accuracy: 0.2153 - 5s/epoch - 11ms/step\n",
      "Epoch 3/300\n",
      "420/420 - 5s - loss: 4.2763 - accuracy: 0.2588 - val_loss: 4.2916 - val_accuracy: 0.2587 - 5s/epoch - 11ms/step\n",
      "Epoch 4/300\n",
      "420/420 - 4s - loss: 3.9962 - accuracy: 0.3060 - val_loss: 4.1469 - val_accuracy: 0.2770 - 4s/epoch - 11ms/step\n",
      "Epoch 5/300\n",
      "420/420 - 5s - loss: 3.7686 - accuracy: 0.3454 - val_loss: 4.0342 - val_accuracy: 0.2914 - 5s/epoch - 11ms/step\n",
      "Epoch 6/300\n",
      "420/420 - 4s - loss: 3.5255 - accuracy: 0.3867 - val_loss: 3.9629 - val_accuracy: 0.3062 - 4s/epoch - 11ms/step\n",
      "Epoch 7/300\n",
      "420/420 - 4s - loss: 2.4414 - accuracy: 0.5935 - val_loss: 2.7464 - val_accuracy: 0.5204 - 4s/epoch - 11ms/step\n",
      "Epoch 8/300\n",
      "420/420 - 4s - loss: 0.9645 - accuracy: 0.7936 - val_loss: 1.7717 - val_accuracy: 0.6456 - 4s/epoch - 11ms/step\n",
      "Epoch 9/300\n",
      "420/420 - 5s - loss: 0.6538 - accuracy: 0.8489 - val_loss: 1.6525 - val_accuracy: 0.6536 - 5s/epoch - 11ms/step\n",
      "Epoch 10/300\n",
      "420/420 - 4s - loss: 0.4589 - accuracy: 0.8960 - val_loss: 1.6595 - val_accuracy: 0.6578 - 4s/epoch - 11ms/step\n",
      "Epoch 11/300\n",
      "420/420 - 4s - loss: 0.3158 - accuracy: 0.9327 - val_loss: 1.7136 - val_accuracy: 0.6525 - 4s/epoch - 11ms/step\n",
      "Epoch 12/300\n",
      "420/420 - 5s - loss: 0.2186 - accuracy: 0.9564 - val_loss: 1.6973 - val_accuracy: 0.6477 - 5s/epoch - 11ms/step\n",
      "Epoch 13/300\n",
      "420/420 - 5s - loss: 0.1485 - accuracy: 0.9741 - val_loss: 1.5904 - val_accuracy: 0.6575 - 5s/epoch - 11ms/step\n",
      "Epoch 14/300\n",
      "420/420 - 4s - loss: 0.1016 - accuracy: 0.9839 - val_loss: 1.6412 - val_accuracy: 0.6521 - 4s/epoch - 11ms/step\n",
      "Epoch 15/300\n",
      "420/420 - 4s - loss: 0.0860 - accuracy: 0.9854 - val_loss: 1.7053 - val_accuracy: 0.6459 - 4s/epoch - 11ms/step\n",
      "Epoch 16/300\n",
      "420/420 - 4s - loss: 0.0747 - accuracy: 0.9874 - val_loss: 1.9322 - val_accuracy: 0.6371 - 4s/epoch - 11ms/step\n",
      "Epoch 17/300\n",
      "420/420 - 4s - loss: 0.0570 - accuracy: 0.9916 - val_loss: 1.8518 - val_accuracy: 0.6383 - 4s/epoch - 11ms/step\n",
      "Epoch 18/300\n",
      "420/420 - 4s - loss: 0.0587 - accuracy: 0.9905 - val_loss: 1.9901 - val_accuracy: 0.6307 - 4s/epoch - 11ms/step\n",
      "Epoch 19/300\n",
      "420/420 - 4s - loss: 0.1080 - accuracy: 0.9769 - val_loss: 2.5017 - val_accuracy: 0.5318 - 4s/epoch - 11ms/step\n",
      "Epoch 20/300\n",
      "420/420 - 4s - loss: 0.0886 - accuracy: 0.9831 - val_loss: 1.9121 - val_accuracy: 0.6461 - 4s/epoch - 11ms/step\n",
      "Epoch 21/300\n",
      "420/420 - 4s - loss: 0.0280 - accuracy: 0.9962 - val_loss: 1.7514 - val_accuracy: 0.6598 - 4s/epoch - 11ms/step\n",
      "Epoch 22/300\n",
      "420/420 - 5s - loss: 0.0168 - accuracy: 0.9977 - val_loss: 1.7809 - val_accuracy: 0.6595 - 5s/epoch - 11ms/step\n",
      "Epoch 23/300\n",
      "420/420 - 4s - loss: 0.0546 - accuracy: 0.9881 - val_loss: 2.5420 - val_accuracy: 0.5679 - 4s/epoch - 11ms/step\n",
      "Epoch 24/300\n",
      "420/420 - 4s - loss: 0.0980 - accuracy: 0.9763 - val_loss: 2.3546 - val_accuracy: 0.5961 - 4s/epoch - 11ms/step\n",
      "Epoch 25/300\n",
      "420/420 - 4s - loss: 0.0490 - accuracy: 0.9899 - val_loss: 1.8968 - val_accuracy: 0.6534 - 4s/epoch - 11ms/step\n",
      "Epoch 26/300\n",
      "420/420 - 4s - loss: 0.0230 - accuracy: 0.9961 - val_loss: 1.9353 - val_accuracy: 0.6493 - 4s/epoch - 11ms/step\n",
      "Epoch 27/300\n",
      "420/420 - 4s - loss: 0.0229 - accuracy: 0.9956 - val_loss: 1.9937 - val_accuracy: 0.6449 - 4s/epoch - 11ms/step\n",
      "Epoch 28/300\n",
      "420/420 - 4s - loss: 0.0744 - accuracy: 0.9806 - val_loss: 2.5081 - val_accuracy: 0.5756 - 4s/epoch - 11ms/step\n",
      "Epoch 29/300\n",
      "420/420 - 4s - loss: 0.0579 - accuracy: 0.9858 - val_loss: 2.0794 - val_accuracy: 0.6433 - 4s/epoch - 11ms/step\n",
      "Epoch 30/300\n",
      "420/420 - 5s - loss: 0.0178 - accuracy: 0.9968 - val_loss: 1.8967 - val_accuracy: 0.6636 - 5s/epoch - 11ms/step\n",
      "Epoch 31/300\n",
      "420/420 - 5s - loss: 0.0115 - accuracy: 0.9979 - val_loss: 1.9677 - val_accuracy: 0.6572 - 5s/epoch - 11ms/step\n",
      "Epoch 32/300\n",
      "420/420 - 5s - loss: 0.0420 - accuracy: 0.9900 - val_loss: 3.1766 - val_accuracy: 0.4224 - 5s/epoch - 11ms/step\n",
      "Epoch 33/300\n",
      "420/420 - 5s - loss: 0.0911 - accuracy: 0.9754 - val_loss: 2.4960 - val_accuracy: 0.5745 - 5s/epoch - 11ms/step\n",
      "Epoch 34/300\n",
      "420/420 - 5s - loss: 0.0226 - accuracy: 0.9958 - val_loss: 2.0079 - val_accuracy: 0.6584 - 5s/epoch - 11ms/step\n",
      "Epoch 35/300\n",
      "420/420 - 4s - loss: 0.0093 - accuracy: 0.9986 - val_loss: 1.9892 - val_accuracy: 0.6671 - 4s/epoch - 11ms/step\n",
      "Epoch 36/300\n",
      "420/420 - 4s - loss: 0.0056 - accuracy: 0.9991 - val_loss: 1.9836 - val_accuracy: 0.6700 - 4s/epoch - 11ms/step\n",
      "Epoch 37/300\n",
      "420/420 - 4s - loss: 0.0200 - accuracy: 0.9953 - val_loss: 2.8178 - val_accuracy: 0.5064 - 4s/epoch - 11ms/step\n",
      "Epoch 38/300\n",
      "420/420 - 4s - loss: 0.1252 - accuracy: 0.9633 - val_loss: 2.2447 - val_accuracy: 0.6304 - 4s/epoch - 11ms/step\n",
      "Epoch 39/300\n",
      "420/420 - 5s - loss: 0.0242 - accuracy: 0.9950 - val_loss: 2.0515 - val_accuracy: 0.6607 - 5s/epoch - 11ms/step\n",
      "Epoch 40/300\n",
      "420/420 - 4s - loss: 0.0071 - accuracy: 0.9988 - val_loss: 2.0467 - val_accuracy: 0.6697 - 4s/epoch - 11ms/step\n",
      "Epoch 41/300\n",
      "420/420 - 4s - loss: 0.0051 - accuracy: 0.9991 - val_loss: 1.9884 - val_accuracy: 0.6726 - 4s/epoch - 11ms/step\n",
      "Epoch 42/300\n",
      "420/420 - 4s - loss: 0.0039 - accuracy: 0.9992 - val_loss: 2.0644 - val_accuracy: 0.6706 - 4s/epoch - 11ms/step\n",
      "Epoch 43/300\n",
      "420/420 - 4s - loss: 0.0718 - accuracy: 0.9801 - val_loss: 4.1116 - val_accuracy: 0.3035 - 4s/epoch - 11ms/step\n",
      "Epoch 44/300\n",
      "420/420 - 4s - loss: 0.0856 - accuracy: 0.9753 - val_loss: 2.1842 - val_accuracy: 0.6371 - 4s/epoch - 11ms/step\n",
      "Epoch 45/300\n",
      "420/420 - 4s - loss: 0.0163 - accuracy: 0.9966 - val_loss: 2.1337 - val_accuracy: 0.6611 - 4s/epoch - 11ms/step\n",
      "Epoch 46/300\n",
      "420/420 - 4s - loss: 0.0058 - accuracy: 0.9990 - val_loss: 2.0898 - val_accuracy: 0.6715 - 4s/epoch - 11ms/step\n",
      "Epoch 47/300\n",
      "420/420 - 4s - loss: 0.0033 - accuracy: 0.9994 - val_loss: 2.0958 - val_accuracy: 0.6703 - 4s/epoch - 11ms/step\n",
      "Epoch 48/300\n",
      "420/420 - 4s - loss: 0.0106 - accuracy: 0.9976 - val_loss: 2.3984 - val_accuracy: 0.6263 - 4s/epoch - 11ms/step\n",
      "Epoch 49/300\n",
      "420/420 - 4s - loss: 0.1075 - accuracy: 0.9683 - val_loss: 2.5493 - val_accuracy: 0.6063 - 4s/epoch - 11ms/step\n",
      "Epoch 50/300\n",
      "420/420 - 4s - loss: 0.0267 - accuracy: 0.9930 - val_loss: 2.2363 - val_accuracy: 0.6449 - 4s/epoch - 11ms/step\n",
      "Epoch 51/300\n",
      "420/420 - 4s - loss: 0.0095 - accuracy: 0.9982 - val_loss: 2.1594 - val_accuracy: 0.6674 - 4s/epoch - 11ms/step\n",
      "Epoch 52/300\n",
      "420/420 - 4s - loss: 0.0073 - accuracy: 0.9985 - val_loss: 2.1391 - val_accuracy: 0.6657 - 4s/epoch - 11ms/step\n",
      "Epoch 53/300\n",
      "420/420 - 4s - loss: 0.0049 - accuracy: 0.9989 - val_loss: 2.4813 - val_accuracy: 0.6208 - 4s/epoch - 11ms/step\n",
      "Epoch 54/300\n",
      "420/420 - 4s - loss: 0.0668 - accuracy: 0.9813 - val_loss: 3.1823 - val_accuracy: 0.4573 - 4s/epoch - 11ms/step\n",
      "Epoch 55/300\n",
      "420/420 - 5s - loss: 0.0393 - accuracy: 0.9892 - val_loss: 2.2329 - val_accuracy: 0.6514 - 5s/epoch - 11ms/step\n",
      "Epoch 56/300\n",
      "420/420 - 5s - loss: 0.0154 - accuracy: 0.9966 - val_loss: 2.2542 - val_accuracy: 0.6541 - 5s/epoch - 11ms/step\n",
      "Epoch 57/300\n",
      "420/420 - 4s - loss: 0.0088 - accuracy: 0.9981 - val_loss: 2.2323 - val_accuracy: 0.6635 - 4s/epoch - 11ms/step\n",
      "Epoch 58/300\n",
      "420/420 - 4s - loss: 0.0083 - accuracy: 0.9981 - val_loss: 2.3030 - val_accuracy: 0.6475 - 4s/epoch - 11ms/step\n",
      "Epoch 59/300\n",
      "420/420 - 4s - loss: 0.0558 - accuracy: 0.9845 - val_loss: 2.5210 - val_accuracy: 0.6171 - 4s/epoch - 11ms/step\n",
      "Epoch 60/300\n",
      "420/420 - 4s - loss: 0.0261 - accuracy: 0.9932 - val_loss: 2.3714 - val_accuracy: 0.6298 - 4s/epoch - 11ms/step\n",
      "Epoch 61/300\n",
      "420/420 - 4s - loss: 0.0130 - accuracy: 0.9970 - val_loss: 2.3414 - val_accuracy: 0.6479 - 4s/epoch - 11ms/step\n",
      "Epoch 62/300\n",
      "420/420 - 4s - loss: 0.0150 - accuracy: 0.9962 - val_loss: 2.3746 - val_accuracy: 0.6481 - 4s/epoch - 11ms/step\n",
      "Epoch 63/300\n",
      "420/420 - 5s - loss: 0.0311 - accuracy: 0.9918 - val_loss: 2.6527 - val_accuracy: 0.6155 - 5s/epoch - 11ms/step\n",
      "Epoch 64/300\n",
      "420/420 - 5s - loss: 0.0337 - accuracy: 0.9911 - val_loss: 2.4446 - val_accuracy: 0.6332 - 5s/epoch - 11ms/step\n",
      "Epoch 65/300\n",
      "420/420 - 3s - loss: 0.0181 - accuracy: 0.9957 - val_loss: 2.4014 - val_accuracy: 0.6459 - 3s/epoch - 8ms/step\n",
      "Epoch 66/300\n",
      "420/420 - 4s - loss: 0.0188 - accuracy: 0.9955 - val_loss: 2.4408 - val_accuracy: 0.6478 - 4s/epoch - 11ms/step\n",
      "Epoch 67/300\n",
      "420/420 - 4s - loss: 0.0201 - accuracy: 0.9952 - val_loss: 2.6533 - val_accuracy: 0.6240 - 4s/epoch - 11ms/step\n",
      "Epoch 68/300\n",
      "420/420 - 4s - loss: 0.0253 - accuracy: 0.9938 - val_loss: 2.4516 - val_accuracy: 0.6456 - 4s/epoch - 11ms/step\n",
      "Epoch 69/300\n",
      "420/420 - 5s - loss: 0.0165 - accuracy: 0.9963 - val_loss: 2.5700 - val_accuracy: 0.6441 - 5s/epoch - 11ms/step\n",
      "Epoch 70/300\n",
      "420/420 - 4s - loss: 0.0215 - accuracy: 0.9945 - val_loss: 2.6311 - val_accuracy: 0.6231 - 4s/epoch - 11ms/step\n",
      "Epoch 71/300\n",
      "420/420 - 4s - loss: 0.0263 - accuracy: 0.9930 - val_loss: 2.4837 - val_accuracy: 0.6368 - 4s/epoch - 11ms/step\n",
      "Epoch 72/300\n",
      "420/420 - 4s - loss: 0.0208 - accuracy: 0.9944 - val_loss: 2.5229 - val_accuracy: 0.6426 - 4s/epoch - 11ms/step\n",
      "Epoch 73/300\n",
      "420/420 - 5s - loss: 0.0182 - accuracy: 0.9952 - val_loss: 2.4362 - val_accuracy: 0.6510 - 5s/epoch - 11ms/step\n",
      "Epoch 74/300\n",
      "420/420 - 4s - loss: 0.0254 - accuracy: 0.9938 - val_loss: 2.6609 - val_accuracy: 0.6249 - 4s/epoch - 11ms/step\n",
      "Epoch 75/300\n",
      "420/420 - 5s - loss: 0.0224 - accuracy: 0.9942 - val_loss: 2.4273 - val_accuracy: 0.6557 - 5s/epoch - 11ms/step\n",
      "Epoch 76/300\n",
      "420/420 - 5s - loss: 0.0167 - accuracy: 0.9961 - val_loss: 2.4920 - val_accuracy: 0.6460 - 5s/epoch - 11ms/step\n",
      "Epoch 77/300\n",
      "420/420 - 5s - loss: 0.0198 - accuracy: 0.9948 - val_loss: 2.4584 - val_accuracy: 0.6391 - 5s/epoch - 11ms/step\n",
      "Epoch 78/300\n",
      "420/420 - 5s - loss: 0.0121 - accuracy: 0.9970 - val_loss: 2.4624 - val_accuracy: 0.6536 - 5s/epoch - 11ms/step\n",
      "Epoch 79/300\n",
      "420/420 - 4s - loss: 0.0176 - accuracy: 0.9957 - val_loss: 2.8207 - val_accuracy: 0.5701 - 4s/epoch - 11ms/step\n",
      "Epoch 80/300\n",
      "420/420 - 5s - loss: 0.0261 - accuracy: 0.9929 - val_loss: 2.7270 - val_accuracy: 0.6081 - 5s/epoch - 11ms/step\n",
      "Epoch 81/300\n",
      "420/420 - 5s - loss: 0.0178 - accuracy: 0.9954 - val_loss: 2.5671 - val_accuracy: 0.6377 - 5s/epoch - 11ms/step\n",
      "Epoch 82/300\n",
      "420/420 - 5s - loss: 0.0127 - accuracy: 0.9967 - val_loss: 2.4545 - val_accuracy: 0.6552 - 5s/epoch - 11ms/step\n",
      "Epoch 83/300\n",
      "420/420 - 5s - loss: 0.0125 - accuracy: 0.9969 - val_loss: 2.5891 - val_accuracy: 0.6428 - 5s/epoch - 11ms/step\n",
      "Epoch 84/300\n",
      "420/420 - 5s - loss: 0.0205 - accuracy: 0.9944 - val_loss: 2.7703 - val_accuracy: 0.6039 - 5s/epoch - 11ms/step\n",
      "Epoch 85/300\n",
      "420/420 - 5s - loss: 0.0276 - accuracy: 0.9927 - val_loss: 2.6479 - val_accuracy: 0.6421 - 5s/epoch - 11ms/step\n",
      "Epoch 86/300\n",
      "420/420 - 4s - loss: 0.0144 - accuracy: 0.9962 - val_loss: 2.5558 - val_accuracy: 0.6576 - 4s/epoch - 11ms/step\n",
      "Epoch 87/300\n",
      "420/420 - 5s - loss: 0.0105 - accuracy: 0.9976 - val_loss: 3.1103 - val_accuracy: 0.4780 - 5s/epoch - 11ms/step\n",
      "Epoch 88/300\n",
      "420/420 - 5s - loss: 0.0138 - accuracy: 0.9966 - val_loss: 2.5296 - val_accuracy: 0.6519 - 5s/epoch - 11ms/step\n",
      "Epoch 89/300\n",
      "420/420 - 4s - loss: 0.0183 - accuracy: 0.9951 - val_loss: 2.7717 - val_accuracy: 0.6347 - 4s/epoch - 11ms/step\n",
      "Epoch 90/300\n",
      "420/420 - 5s - loss: 0.0174 - accuracy: 0.9956 - val_loss: 2.7004 - val_accuracy: 0.6199 - 5s/epoch - 11ms/step\n",
      "Epoch 91/300\n",
      "420/420 - 4s - loss: 0.0186 - accuracy: 0.9955 - val_loss: 2.6879 - val_accuracy: 0.6339 - 4s/epoch - 11ms/step\n",
      "Epoch 92/300\n",
      "420/420 - 5s - loss: 0.0163 - accuracy: 0.9957 - val_loss: 2.6892 - val_accuracy: 0.6488 - 5s/epoch - 11ms/step\n",
      "Epoch 93/300\n",
      "420/420 - 5s - loss: 0.0175 - accuracy: 0.9952 - val_loss: 2.6419 - val_accuracy: 0.6338 - 5s/epoch - 11ms/step\n",
      "Epoch 94/300\n",
      "420/420 - 4s - loss: 0.0182 - accuracy: 0.9948 - val_loss: 2.9649 - val_accuracy: 0.5533 - 4s/epoch - 11ms/step\n",
      "Epoch 95/300\n",
      "420/420 - 4s - loss: 0.0214 - accuracy: 0.9942 - val_loss: 2.5570 - val_accuracy: 0.6459 - 4s/epoch - 11ms/step\n",
      "Epoch 96/300\n",
      "420/420 - 4s - loss: 0.0091 - accuracy: 0.9976 - val_loss: 2.5846 - val_accuracy: 0.6607 - 4s/epoch - 11ms/step\n",
      "Epoch 97/300\n",
      "420/420 - 4s - loss: 0.0069 - accuracy: 0.9981 - val_loss: 2.6745 - val_accuracy: 0.6540 - 4s/epoch - 11ms/step\n",
      "Epoch 98/300\n",
      "420/420 - 4s - loss: 0.0134 - accuracy: 0.9971 - val_loss: 2.7661 - val_accuracy: 0.6149 - 4s/epoch - 11ms/step\n",
      "Epoch 99/300\n",
      "420/420 - 4s - loss: 0.0300 - accuracy: 0.9918 - val_loss: 2.7706 - val_accuracy: 0.6328 - 4s/epoch - 11ms/step\n",
      "Epoch 100/300\n",
      "420/420 - 4s - loss: 0.0152 - accuracy: 0.9956 - val_loss: 2.6821 - val_accuracy: 0.6491 - 4s/epoch - 11ms/step\n",
      "Epoch 101/300\n",
      "420/420 - 5s - loss: 0.0147 - accuracy: 0.9961 - val_loss: 2.5997 - val_accuracy: 0.6502 - 5s/epoch - 11ms/step\n",
      "Epoch 102/300\n",
      "420/420 - 4s - loss: 0.0097 - accuracy: 0.9977 - val_loss: 2.6884 - val_accuracy: 0.6554 - 4s/epoch - 11ms/step\n",
      "Epoch 103/300\n",
      "420/420 - 5s - loss: 0.0087 - accuracy: 0.9976 - val_loss: 2.7012 - val_accuracy: 0.6504 - 5s/epoch - 11ms/step\n",
      "Epoch 104/300\n",
      "420/420 - 4s - loss: 0.0183 - accuracy: 0.9952 - val_loss: 2.9635 - val_accuracy: 0.5818 - 4s/epoch - 11ms/step\n",
      "Epoch 105/300\n",
      "420/420 - 4s - loss: 0.0214 - accuracy: 0.9940 - val_loss: 2.9095 - val_accuracy: 0.5975 - 4s/epoch - 11ms/step\n",
      "Epoch 106/300\n",
      "420/420 - 4s - loss: 0.0143 - accuracy: 0.9961 - val_loss: 2.6397 - val_accuracy: 0.6505 - 4s/epoch - 11ms/step\n",
      "Epoch 107/300\n",
      "420/420 - 4s - loss: 0.0088 - accuracy: 0.9976 - val_loss: 2.6600 - val_accuracy: 0.6519 - 4s/epoch - 11ms/step\n",
      "Epoch 108/300\n",
      "420/420 - 4s - loss: 0.0102 - accuracy: 0.9974 - val_loss: 2.7084 - val_accuracy: 0.6513 - 4s/epoch - 11ms/step\n",
      "Epoch 109/300\n",
      "420/420 - 4s - loss: 0.0136 - accuracy: 0.9961 - val_loss: 2.7163 - val_accuracy: 0.6365 - 4s/epoch - 11ms/step\n",
      "Epoch 110/300\n",
      "420/420 - 4s - loss: 0.0195 - accuracy: 0.9948 - val_loss: 2.9980 - val_accuracy: 0.5998 - 4s/epoch - 11ms/step\n",
      "Epoch 111/300\n",
      "420/420 - 4s - loss: 0.0154 - accuracy: 0.9960 - val_loss: 2.7223 - val_accuracy: 0.6421 - 4s/epoch - 11ms/step\n",
      "Epoch 112/300\n",
      "420/420 - 4s - loss: 0.0103 - accuracy: 0.9973 - val_loss: 2.6815 - val_accuracy: 0.6522 - 4s/epoch - 11ms/step\n",
      "Epoch 113/300\n",
      "420/420 - 4s - loss: 0.0098 - accuracy: 0.9975 - val_loss: 2.9308 - val_accuracy: 0.6278 - 4s/epoch - 11ms/step\n",
      "Epoch 114/300\n",
      "420/420 - 5s - loss: 0.0134 - accuracy: 0.9968 - val_loss: 2.6806 - val_accuracy: 0.6421 - 5s/epoch - 11ms/step\n",
      "Epoch 115/300\n",
      "420/420 - 4s - loss: 0.0143 - accuracy: 0.9962 - val_loss: 2.7277 - val_accuracy: 0.6400 - 4s/epoch - 11ms/step\n",
      "Epoch 116/300\n",
      "420/420 - 4s - loss: 0.0145 - accuracy: 0.9960 - val_loss: 2.8632 - val_accuracy: 0.6360 - 4s/epoch - 11ms/step\n",
      "Epoch 117/300\n",
      "420/420 - 4s - loss: 0.0143 - accuracy: 0.9962 - val_loss: 2.8994 - val_accuracy: 0.6325 - 4s/epoch - 11ms/step\n",
      "Epoch 118/300\n",
      "420/420 - 4s - loss: 0.0182 - accuracy: 0.9952 - val_loss: 2.7950 - val_accuracy: 0.6456 - 4s/epoch - 11ms/step\n",
      "Epoch 119/300\n",
      "420/420 - 4s - loss: 0.0107 - accuracy: 0.9971 - val_loss: 2.7605 - val_accuracy: 0.6525 - 4s/epoch - 11ms/step\n",
      "Epoch 120/300\n",
      "420/420 - 4s - loss: 0.0100 - accuracy: 0.9973 - val_loss: 2.7854 - val_accuracy: 0.6520 - 4s/epoch - 11ms/step\n",
      "Epoch 121/300\n",
      "420/420 - 4s - loss: 0.0090 - accuracy: 0.9977 - val_loss: 2.6750 - val_accuracy: 0.6546 - 4s/epoch - 11ms/step\n",
      "Epoch 122/300\n",
      "420/420 - 4s - loss: 0.0151 - accuracy: 0.9961 - val_loss: 3.0870 - val_accuracy: 0.6001 - 4s/epoch - 11ms/step\n",
      "Epoch 123/300\n",
      "420/420 - 4s - loss: 0.0241 - accuracy: 0.9934 - val_loss: 2.9455 - val_accuracy: 0.6175 - 4s/epoch - 11ms/step\n",
      "Epoch 124/300\n",
      "420/420 - 4s - loss: 0.0138 - accuracy: 0.9963 - val_loss: 2.8882 - val_accuracy: 0.6445 - 4s/epoch - 11ms/step\n",
      "Epoch 125/300\n",
      "420/420 - 4s - loss: 0.0115 - accuracy: 0.9967 - val_loss: 2.7905 - val_accuracy: 0.6467 - 4s/epoch - 11ms/step\n",
      "Epoch 126/300\n",
      "420/420 - 4s - loss: 0.0108 - accuracy: 0.9972 - val_loss: 2.8328 - val_accuracy: 0.6485 - 4s/epoch - 11ms/step\n",
      "Epoch 127/300\n",
      "420/420 - 4s - loss: 0.0116 - accuracy: 0.9972 - val_loss: 2.8497 - val_accuracy: 0.6503 - 4s/epoch - 11ms/step\n",
      "Epoch 128/300\n",
      "420/420 - 4s - loss: 0.0103 - accuracy: 0.9974 - val_loss: 2.8398 - val_accuracy: 0.6371 - 4s/epoch - 11ms/step\n",
      "Epoch 129/300\n",
      "420/420 - 4s - loss: 0.0100 - accuracy: 0.9971 - val_loss: 2.8891 - val_accuracy: 0.6460 - 4s/epoch - 11ms/step\n",
      "Epoch 130/300\n",
      "420/420 - 4s - loss: 0.0209 - accuracy: 0.9939 - val_loss: 3.0968 - val_accuracy: 0.6080 - 4s/epoch - 11ms/step\n",
      "Epoch 131/300\n",
      "420/420 - 5s - loss: 0.0150 - accuracy: 0.9959 - val_loss: 2.7803 - val_accuracy: 0.6509 - 5s/epoch - 11ms/step\n",
      "Epoch 132/300\n",
      "420/420 - 4s - loss: 0.0065 - accuracy: 0.9982 - val_loss: 2.7617 - val_accuracy: 0.6616 - 4s/epoch - 11ms/step\n",
      "Epoch 133/300\n",
      "420/420 - 4s - loss: 0.0056 - accuracy: 0.9985 - val_loss: 2.6698 - val_accuracy: 0.6559 - 4s/epoch - 11ms/step\n",
      "Epoch 134/300\n",
      "420/420 - 4s - loss: 0.0091 - accuracy: 0.9977 - val_loss: 2.8125 - val_accuracy: 0.6555 - 4s/epoch - 11ms/step\n",
      "Epoch 135/300\n",
      "420/420 - 5s - loss: 0.0127 - accuracy: 0.9965 - val_loss: 3.2541 - val_accuracy: 0.5660 - 5s/epoch - 11ms/step\n",
      "Epoch 136/300\n",
      "420/420 - 5s - loss: 0.0285 - accuracy: 0.9917 - val_loss: 2.9223 - val_accuracy: 0.6044 - 5s/epoch - 11ms/step\n",
      "Epoch 137/300\n",
      "420/420 - 4s - loss: 0.0099 - accuracy: 0.9972 - val_loss: 2.8206 - val_accuracy: 0.6512 - 4s/epoch - 11ms/step\n",
      "Epoch 138/300\n",
      "420/420 - 4s - loss: 0.0034 - accuracy: 0.9992 - val_loss: 2.7902 - val_accuracy: 0.6586 - 4s/epoch - 11ms/step\n",
      "Epoch 139/300\n",
      "420/420 - 4s - loss: 0.0067 - accuracy: 0.9982 - val_loss: 2.9496 - val_accuracy: 0.6516 - 4s/epoch - 11ms/step\n",
      "Epoch 140/300\n",
      "420/420 - 5s - loss: 0.0177 - accuracy: 0.9951 - val_loss: 3.0835 - val_accuracy: 0.5996 - 5s/epoch - 11ms/step\n",
      "Epoch 141/300\n",
      "420/420 - 5s - loss: 0.0169 - accuracy: 0.9953 - val_loss: 3.0299 - val_accuracy: 0.6393 - 5s/epoch - 11ms/step\n",
      "Epoch 142/300\n",
      "420/420 - 5s - loss: 0.0115 - accuracy: 0.9969 - val_loss: 2.8747 - val_accuracy: 0.6359 - 5s/epoch - 11ms/step\n",
      "Epoch 143/300\n",
      "420/420 - 5s - loss: 0.0091 - accuracy: 0.9975 - val_loss: 2.7792 - val_accuracy: 0.6584 - 5s/epoch - 11ms/step\n",
      "Epoch 144/300\n",
      "420/420 - 5s - loss: 0.0055 - accuracy: 0.9986 - val_loss: 2.8531 - val_accuracy: 0.6547 - 5s/epoch - 11ms/step\n",
      "Epoch 145/300\n",
      "420/420 - 5s - loss: 0.0061 - accuracy: 0.9983 - val_loss: 2.8706 - val_accuracy: 0.6531 - 5s/epoch - 11ms/step\n",
      "Epoch 146/300\n",
      "420/420 - 5s - loss: 0.0208 - accuracy: 0.9938 - val_loss: 3.2171 - val_accuracy: 0.5945 - 5s/epoch - 11ms/step\n",
      "Epoch 147/300\n",
      "420/420 - 5s - loss: 0.0169 - accuracy: 0.9949 - val_loss: 2.9089 - val_accuracy: 0.6282 - 5s/epoch - 11ms/step\n",
      "Epoch 148/300\n",
      "420/420 - 4s - loss: 0.0103 - accuracy: 0.9975 - val_loss: 2.8194 - val_accuracy: 0.6594 - 4s/epoch - 11ms/step\n",
      "Epoch 149/300\n",
      "420/420 - 5s - loss: 0.0056 - accuracy: 0.9985 - val_loss: 2.8227 - val_accuracy: 0.6620 - 5s/epoch - 11ms/step\n",
      "Epoch 150/300\n",
      "420/420 - 5s - loss: 0.0050 - accuracy: 0.9986 - val_loss: 2.8826 - val_accuracy: 0.6613 - 5s/epoch - 11ms/step\n",
      "Epoch 151/300\n",
      "420/420 - 5s - loss: 0.0065 - accuracy: 0.9982 - val_loss: 2.8672 - val_accuracy: 0.6615 - 5s/epoch - 11ms/step\n",
      "Epoch 152/300\n",
      "420/420 - 5s - loss: 0.0117 - accuracy: 0.9965 - val_loss: 3.1171 - val_accuracy: 0.5724 - 5s/epoch - 11ms/step\n",
      "Epoch 153/300\n",
      "420/420 - 5s - loss: 0.0282 - accuracy: 0.9922 - val_loss: 3.0130 - val_accuracy: 0.6165 - 5s/epoch - 11ms/step\n",
      "Epoch 154/300\n",
      "420/420 - 5s - loss: 0.0113 - accuracy: 0.9970 - val_loss: 2.9067 - val_accuracy: 0.6518 - 5s/epoch - 11ms/step\n",
      "Epoch 155/300\n",
      "420/420 - 5s - loss: 0.0065 - accuracy: 0.9980 - val_loss: 2.8635 - val_accuracy: 0.6604 - 5s/epoch - 11ms/step\n",
      "Epoch 156/300\n",
      "420/420 - 5s - loss: 0.0044 - accuracy: 0.9990 - val_loss: 2.8434 - val_accuracy: 0.6591 - 5s/epoch - 11ms/step\n",
      "Epoch 157/300\n",
      "420/420 - 5s - loss: 0.0026 - accuracy: 0.9992 - val_loss: 2.7008 - val_accuracy: 0.6611 - 5s/epoch - 11ms/step\n",
      "Epoch 158/300\n",
      "420/420 - 5s - loss: 0.0164 - accuracy: 0.9952 - val_loss: 3.2159 - val_accuracy: 0.6062 - 5s/epoch - 11ms/step\n",
      "Epoch 159/300\n",
      "420/420 - 5s - loss: 0.0181 - accuracy: 0.9944 - val_loss: 2.9629 - val_accuracy: 0.6383 - 5s/epoch - 11ms/step\n",
      "Epoch 160/300\n",
      "420/420 - 5s - loss: 0.0112 - accuracy: 0.9968 - val_loss: 3.0147 - val_accuracy: 0.6511 - 5s/epoch - 11ms/step\n",
      "Epoch 161/300\n",
      "420/420 - 5s - loss: 0.0079 - accuracy: 0.9977 - val_loss: 2.9791 - val_accuracy: 0.6527 - 5s/epoch - 11ms/step\n",
      "Epoch 162/300\n",
      "420/420 - 5s - loss: 0.0078 - accuracy: 0.9979 - val_loss: 2.9879 - val_accuracy: 0.6483 - 5s/epoch - 11ms/step\n",
      "Epoch 163/300\n",
      "420/420 - 5s - loss: 0.0082 - accuracy: 0.9978 - val_loss: 2.8319 - val_accuracy: 0.6406 - 5s/epoch - 11ms/step\n",
      "Epoch 164/300\n",
      "420/420 - 5s - loss: 0.0128 - accuracy: 0.9966 - val_loss: 2.9771 - val_accuracy: 0.6514 - 5s/epoch - 11ms/step\n",
      "Epoch 165/300\n",
      "420/420 - 5s - loss: 0.0069 - accuracy: 0.9979 - val_loss: 2.6726 - val_accuracy: 0.6565 - 5s/epoch - 11ms/step\n",
      "Epoch 166/300\n",
      "420/420 - 5s - loss: 0.0077 - accuracy: 0.9980 - val_loss: 2.8189 - val_accuracy: 0.6441 - 5s/epoch - 11ms/step\n",
      "Epoch 167/300\n",
      "420/420 - 5s - loss: 0.0160 - accuracy: 0.9956 - val_loss: 2.9744 - val_accuracy: 0.6266 - 5s/epoch - 11ms/step\n",
      "Epoch 168/300\n",
      "420/420 - 5s - loss: 0.0157 - accuracy: 0.9958 - val_loss: 2.9722 - val_accuracy: 0.6507 - 5s/epoch - 11ms/step\n",
      "Epoch 169/300\n",
      "420/420 - 5s - loss: 0.0090 - accuracy: 0.9978 - val_loss: 2.8527 - val_accuracy: 0.6581 - 5s/epoch - 11ms/step\n",
      "Epoch 170/300\n",
      "420/420 - 5s - loss: 0.0020 - accuracy: 0.9994 - val_loss: 2.9027 - val_accuracy: 0.6656 - 5s/epoch - 11ms/step\n",
      "Epoch 171/300\n",
      "420/420 - 5s - loss: 0.0012 - accuracy: 0.9994 - val_loss: 2.8896 - val_accuracy: 0.6714 - 5s/epoch - 11ms/step\n",
      "Epoch 172/300\n",
      "420/420 - 5s - loss: 0.0018 - accuracy: 0.9994 - val_loss: 2.7738 - val_accuracy: 0.6569 - 5s/epoch - 11ms/step\n",
      "Epoch 173/300\n",
      "420/420 - 5s - loss: 0.0396 - accuracy: 0.9885 - val_loss: 3.5406 - val_accuracy: 0.5483 - 5s/epoch - 11ms/step\n",
      "Epoch 174/300\n",
      "420/420 - 5s - loss: 0.0132 - accuracy: 0.9958 - val_loss: 2.9399 - val_accuracy: 0.6565 - 5s/epoch - 11ms/step\n",
      "Epoch 175/300\n",
      "420/420 - 4s - loss: 0.0040 - accuracy: 0.9988 - val_loss: 2.8680 - val_accuracy: 0.6590 - 4s/epoch - 11ms/step\n",
      "Epoch 176/300\n",
      "420/420 - 4s - loss: 0.0021 - accuracy: 0.9994 - val_loss: 2.8349 - val_accuracy: 0.6690 - 4s/epoch - 11ms/step\n",
      "Epoch 177/300\n",
      "420/420 - 4s - loss: 0.0012 - accuracy: 0.9996 - val_loss: 2.9115 - val_accuracy: 0.6691 - 4s/epoch - 11ms/step\n",
      "Epoch 178/300\n",
      "420/420 - 4s - loss: 8.5734e-04 - accuracy: 0.9995 - val_loss: 2.9547 - val_accuracy: 0.6613 - 4s/epoch - 11ms/step\n",
      "Epoch 179/300\n",
      "420/420 - 5s - loss: 0.0292 - accuracy: 0.9919 - val_loss: 3.5313 - val_accuracy: 0.5361 - 5s/epoch - 11ms/step\n",
      "Epoch 180/300\n",
      "420/420 - 5s - loss: 0.0252 - accuracy: 0.9923 - val_loss: 2.9932 - val_accuracy: 0.6515 - 5s/epoch - 11ms/step\n",
      "Epoch 181/300\n",
      "420/420 - 5s - loss: 0.0068 - accuracy: 0.9979 - val_loss: 2.9132 - val_accuracy: 0.6575 - 5s/epoch - 11ms/step\n",
      "Epoch 182/300\n",
      "420/420 - 4s - loss: 0.0023 - accuracy: 0.9993 - val_loss: 2.9301 - val_accuracy: 0.6633 - 4s/epoch - 11ms/step\n",
      "Epoch 183/300\n",
      "420/420 - 5s - loss: 0.0011 - accuracy: 0.9995 - val_loss: 2.8941 - val_accuracy: 0.6678 - 5s/epoch - 11ms/step\n",
      "Epoch 184/300\n",
      "420/420 - 4s - loss: 0.0010 - accuracy: 0.9995 - val_loss: 2.8933 - val_accuracy: 0.6697 - 4s/epoch - 11ms/step\n",
      "Epoch 185/300\n",
      "420/420 - 4s - loss: 7.6020e-04 - accuracy: 0.9996 - val_loss: 2.9093 - val_accuracy: 0.6715 - 4s/epoch - 11ms/step\n",
      "Epoch 186/300\n",
      "420/420 - 4s - loss: 6.9305e-04 - accuracy: 0.9995 - val_loss: 2.9022 - val_accuracy: 0.6727 - 4s/epoch - 11ms/step\n",
      "Epoch 187/300\n",
      "420/420 - 5s - loss: 7.0167e-04 - accuracy: 0.9996 - val_loss: 2.9628 - val_accuracy: 0.6729 - 5s/epoch - 11ms/step\n",
      "Epoch 188/300\n",
      "420/420 - 5s - loss: 6.8082e-04 - accuracy: 0.9995 - val_loss: 2.8762 - val_accuracy: 0.6725 - 5s/epoch - 11ms/step\n",
      "Epoch 189/300\n",
      "420/420 - 5s - loss: 7.5854e-04 - accuracy: 0.9996 - val_loss: 2.9168 - val_accuracy: 0.6739 - 5s/epoch - 11ms/step\n",
      "Epoch 190/300\n",
      "420/420 - 5s - loss: 8.3304e-04 - accuracy: 0.9996 - val_loss: 2.9158 - val_accuracy: 0.6718 - 5s/epoch - 11ms/step\n",
      "Epoch 191/300\n",
      "420/420 - 5s - loss: 8.3060e-04 - accuracy: 0.9996 - val_loss: 2.8952 - val_accuracy: 0.6741 - 5s/epoch - 11ms/step\n",
      "Epoch 192/300\n",
      "420/420 - 5s - loss: 9.7818e-04 - accuracy: 0.9996 - val_loss: 3.0817 - val_accuracy: 0.6615 - 5s/epoch - 11ms/step\n",
      "Epoch 193/300\n",
      "420/420 - 5s - loss: 0.0694 - accuracy: 0.9794 - val_loss: 3.0250 - val_accuracy: 0.6504 - 5s/epoch - 11ms/step\n",
      "Epoch 194/300\n",
      "420/420 - 5s - loss: 0.0093 - accuracy: 0.9970 - val_loss: 2.8446 - val_accuracy: 0.6622 - 5s/epoch - 11ms/step\n",
      "Epoch 195/300\n",
      "420/420 - 5s - loss: 0.0023 - accuracy: 0.9994 - val_loss: 2.9188 - val_accuracy: 0.6699 - 5s/epoch - 11ms/step\n",
      "Epoch 196/300\n",
      "420/420 - 4s - loss: 9.6953e-04 - accuracy: 0.9996 - val_loss: 2.9080 - val_accuracy: 0.6742 - 4s/epoch - 11ms/step\n",
      "Epoch 197/300\n",
      "420/420 - 5s - loss: 7.9757e-04 - accuracy: 0.9996 - val_loss: 2.8818 - val_accuracy: 0.6738 - 5s/epoch - 11ms/step\n",
      "Epoch 198/300\n",
      "420/420 - 5s - loss: 7.2976e-04 - accuracy: 0.9996 - val_loss: 2.8880 - val_accuracy: 0.6739 - 5s/epoch - 11ms/step\n",
      "Epoch 199/300\n",
      "420/420 - 4s - loss: 6.9781e-04 - accuracy: 0.9996 - val_loss: 2.8834 - val_accuracy: 0.6739 - 4s/epoch - 11ms/step\n",
      "Epoch 200/300\n",
      "420/420 - 4s - loss: 6.9119e-04 - accuracy: 0.9995 - val_loss: 2.9084 - val_accuracy: 0.6746 - 4s/epoch - 11ms/step\n",
      "Epoch 201/300\n",
      "420/420 - 5s - loss: 6.5844e-04 - accuracy: 0.9996 - val_loss: 2.8895 - val_accuracy: 0.6735 - 5s/epoch - 11ms/step\n",
      "Epoch 202/300\n",
      "420/420 - 5s - loss: 6.8367e-04 - accuracy: 0.9995 - val_loss: 2.9165 - val_accuracy: 0.6763 - 5s/epoch - 11ms/step\n",
      "Epoch 203/300\n",
      "420/420 - 4s - loss: 6.6755e-04 - accuracy: 0.9995 - val_loss: 2.8367 - val_accuracy: 0.6747 - 4s/epoch - 11ms/step\n",
      "Epoch 204/300\n",
      "420/420 - 4s - loss: 7.1465e-04 - accuracy: 0.9995 - val_loss: 2.9242 - val_accuracy: 0.6742 - 4s/epoch - 11ms/step\n",
      "Epoch 205/300\n",
      "420/420 - 4s - loss: 7.4411e-04 - accuracy: 0.9996 - val_loss: 3.0233 - val_accuracy: 0.6735 - 4s/epoch - 11ms/step\n",
      "Epoch 206/300\n",
      "420/420 - 4s - loss: 7.6773e-04 - accuracy: 0.9996 - val_loss: 2.9411 - val_accuracy: 0.6747 - 4s/epoch - 11ms/step\n",
      "Epoch 207/300\n",
      "420/420 - 4s - loss: 0.0683 - accuracy: 0.9803 - val_loss: 2.8579 - val_accuracy: 0.6312 - 4s/epoch - 11ms/step\n",
      "Epoch 208/300\n",
      "420/420 - 5s - loss: 0.0206 - accuracy: 0.9934 - val_loss: 2.9038 - val_accuracy: 0.6588 - 5s/epoch - 11ms/step\n",
      "Epoch 209/300\n",
      "420/420 - 5s - loss: 0.0035 - accuracy: 0.9989 - val_loss: 2.9261 - val_accuracy: 0.6641 - 5s/epoch - 11ms/step\n",
      "Epoch 210/300\n",
      "420/420 - 5s - loss: 0.0012 - accuracy: 0.9996 - val_loss: 2.9239 - val_accuracy: 0.6683 - 5s/epoch - 11ms/step\n",
      "Epoch 211/300\n",
      "420/420 - 5s - loss: 8.2571e-04 - accuracy: 0.9997 - val_loss: 2.9105 - val_accuracy: 0.6699 - 5s/epoch - 11ms/step\n",
      "Epoch 212/300\n",
      "420/420 - 5s - loss: 7.2547e-04 - accuracy: 0.9995 - val_loss: 2.9164 - val_accuracy: 0.6709 - 5s/epoch - 11ms/step\n",
      "Epoch 213/300\n",
      "420/420 - 5s - loss: 6.8382e-04 - accuracy: 0.9996 - val_loss: 2.9264 - val_accuracy: 0.6709 - 5s/epoch - 11ms/step\n",
      "Epoch 214/300\n",
      "420/420 - 4s - loss: 6.7578e-04 - accuracy: 0.9996 - val_loss: 2.9405 - val_accuracy: 0.6717 - 4s/epoch - 11ms/step\n",
      "Epoch 215/300\n",
      "420/420 - 5s - loss: 6.4202e-04 - accuracy: 0.9995 - val_loss: 2.9331 - val_accuracy: 0.6725 - 5s/epoch - 11ms/step\n",
      "Epoch 216/300\n",
      "420/420 - 5s - loss: 6.2594e-04 - accuracy: 0.9995 - val_loss: 2.9177 - val_accuracy: 0.6726 - 5s/epoch - 11ms/step\n",
      "Epoch 217/300\n",
      "420/420 - 5s - loss: 6.4012e-04 - accuracy: 0.9996 - val_loss: 2.9734 - val_accuracy: 0.6723 - 5s/epoch - 11ms/step\n",
      "Epoch 218/300\n",
      "420/420 - 5s - loss: 6.3291e-04 - accuracy: 0.9995 - val_loss: 2.9424 - val_accuracy: 0.6723 - 5s/epoch - 11ms/step\n",
      "Epoch 219/300\n",
      "420/420 - 5s - loss: 6.6244e-04 - accuracy: 0.9996 - val_loss: 2.9443 - val_accuracy: 0.6712 - 5s/epoch - 11ms/step\n",
      "Epoch 220/300\n",
      "420/420 - 5s - loss: 6.6320e-04 - accuracy: 0.9996 - val_loss: 2.9215 - val_accuracy: 0.6738 - 5s/epoch - 11ms/step\n",
      "Epoch 221/300\n",
      "420/420 - 5s - loss: 8.0999e-04 - accuracy: 0.9996 - val_loss: 2.7584 - val_accuracy: 0.6689 - 5s/epoch - 11ms/step\n",
      "Epoch 222/300\n",
      "420/420 - 5s - loss: 0.0511 - accuracy: 0.9853 - val_loss: 3.6982 - val_accuracy: 0.5407 - 5s/epoch - 11ms/step\n",
      "Epoch 223/300\n",
      "420/420 - 5s - loss: 0.0358 - accuracy: 0.9887 - val_loss: 2.7828 - val_accuracy: 0.6515 - 5s/epoch - 11ms/step\n",
      "Epoch 224/300\n",
      "420/420 - 5s - loss: 0.0045 - accuracy: 0.9986 - val_loss: 2.9136 - val_accuracy: 0.6622 - 5s/epoch - 11ms/step\n",
      "Epoch 225/300\n",
      "420/420 - 4s - loss: 0.0017 - accuracy: 0.9993 - val_loss: 3.0414 - val_accuracy: 0.6659 - 4s/epoch - 11ms/step\n",
      "Epoch 226/300\n",
      "420/420 - 5s - loss: 9.4421e-04 - accuracy: 0.9996 - val_loss: 2.9969 - val_accuracy: 0.6675 - 5s/epoch - 11ms/step\n",
      "Epoch 227/300\n",
      "420/420 - 4s - loss: 7.7664e-04 - accuracy: 0.9995 - val_loss: 2.9902 - val_accuracy: 0.6686 - 4s/epoch - 11ms/step\n",
      "Epoch 228/300\n",
      "420/420 - 5s - loss: 6.7561e-04 - accuracy: 0.9996 - val_loss: 2.9790 - val_accuracy: 0.6700 - 5s/epoch - 11ms/step\n",
      "Epoch 229/300\n",
      "420/420 - 5s - loss: 6.4932e-04 - accuracy: 0.9996 - val_loss: 2.9751 - val_accuracy: 0.6698 - 5s/epoch - 11ms/step\n",
      "Epoch 230/300\n",
      "420/420 - 5s - loss: 6.3902e-04 - accuracy: 0.9995 - val_loss: 2.9636 - val_accuracy: 0.6705 - 5s/epoch - 11ms/step\n",
      "Epoch 231/300\n",
      "420/420 - 5s - loss: 6.1969e-04 - accuracy: 0.9996 - val_loss: 2.9628 - val_accuracy: 0.6712 - 5s/epoch - 11ms/step\n",
      "Epoch 232/300\n",
      "420/420 - 5s - loss: 6.2084e-04 - accuracy: 0.9995 - val_loss: 3.0124 - val_accuracy: 0.6717 - 5s/epoch - 11ms/step\n",
      "Epoch 233/300\n",
      "420/420 - 5s - loss: 6.0283e-04 - accuracy: 0.9996 - val_loss: 3.0156 - val_accuracy: 0.6719 - 5s/epoch - 11ms/step\n",
      "Epoch 234/300\n",
      "420/420 - 5s - loss: 6.1315e-04 - accuracy: 0.9996 - val_loss: 3.0500 - val_accuracy: 0.6703 - 5s/epoch - 11ms/step\n",
      "Epoch 235/300\n",
      "420/420 - 5s - loss: 5.9528e-04 - accuracy: 0.9995 - val_loss: 2.9399 - val_accuracy: 0.6713 - 5s/epoch - 11ms/step\n",
      "Epoch 236/300\n",
      "420/420 - 5s - loss: 6.0067e-04 - accuracy: 0.9995 - val_loss: 2.9074 - val_accuracy: 0.6720 - 5s/epoch - 11ms/step\n",
      "Epoch 237/300\n",
      "420/420 - 5s - loss: 8.8991e-04 - accuracy: 0.9996 - val_loss: 3.0541 - val_accuracy: 0.6687 - 5s/epoch - 11ms/step\n",
      "Epoch 238/300\n",
      "420/420 - 5s - loss: 0.0524 - accuracy: 0.9846 - val_loss: 3.3824 - val_accuracy: 0.6163 - 5s/epoch - 11ms/step\n",
      "Epoch 239/300\n",
      "420/420 - 5s - loss: 0.0221 - accuracy: 0.9930 - val_loss: 3.0041 - val_accuracy: 0.6530 - 5s/epoch - 11ms/step\n",
      "Epoch 240/300\n",
      "420/420 - 5s - loss: 0.0051 - accuracy: 0.9986 - val_loss: 2.9517 - val_accuracy: 0.6656 - 5s/epoch - 11ms/step\n",
      "Epoch 241/300\n",
      "420/420 - 5s - loss: 0.0019 - accuracy: 0.9993 - val_loss: 2.9835 - val_accuracy: 0.6662 - 5s/epoch - 11ms/step\n",
      "Epoch 242/300\n",
      "420/420 - 5s - loss: 0.0020 - accuracy: 0.9994 - val_loss: 2.9330 - val_accuracy: 0.6677 - 5s/epoch - 11ms/step\n",
      "Epoch 243/300\n",
      "420/420 - 5s - loss: 0.0015 - accuracy: 0.9995 - val_loss: 3.0256 - val_accuracy: 0.6696 - 5s/epoch - 11ms/step\n",
      "Epoch 244/300\n",
      "420/420 - 5s - loss: 7.7049e-04 - accuracy: 0.9996 - val_loss: 3.0063 - val_accuracy: 0.6713 - 5s/epoch - 11ms/step\n",
      "Epoch 245/300\n",
      "420/420 - 5s - loss: 6.5211e-04 - accuracy: 0.9996 - val_loss: 3.0148 - val_accuracy: 0.6724 - 5s/epoch - 11ms/step\n",
      "Epoch 246/300\n",
      "420/420 - 5s - loss: 6.4392e-04 - accuracy: 0.9995 - val_loss: 2.9797 - val_accuracy: 0.6723 - 5s/epoch - 11ms/step\n",
      "Epoch 247/300\n",
      "420/420 - 5s - loss: 6.1327e-04 - accuracy: 0.9995 - val_loss: 3.0064 - val_accuracy: 0.6732 - 5s/epoch - 11ms/step\n",
      "Epoch 248/300\n",
      "420/420 - 5s - loss: 5.9705e-04 - accuracy: 0.9996 - val_loss: 3.0035 - val_accuracy: 0.6736 - 5s/epoch - 11ms/step\n",
      "Epoch 249/300\n",
      "420/420 - 5s - loss: 5.9334e-04 - accuracy: 0.9995 - val_loss: 2.9802 - val_accuracy: 0.6730 - 5s/epoch - 11ms/step\n",
      "Epoch 250/300\n",
      "420/420 - 5s - loss: 5.9105e-04 - accuracy: 0.9995 - val_loss: 2.9956 - val_accuracy: 0.6734 - 5s/epoch - 11ms/step\n",
      "Epoch 251/300\n",
      "420/420 - 5s - loss: 5.9420e-04 - accuracy: 0.9995 - val_loss: 3.0369 - val_accuracy: 0.6735 - 5s/epoch - 11ms/step\n",
      "Epoch 252/300\n",
      "420/420 - 5s - loss: 6.1563e-04 - accuracy: 0.9996 - val_loss: 2.9817 - val_accuracy: 0.6719 - 5s/epoch - 11ms/step\n",
      "Epoch 253/300\n",
      "420/420 - 5s - loss: 0.0627 - accuracy: 0.9820 - val_loss: 3.2253 - val_accuracy: 0.5849 - 5s/epoch - 11ms/step\n",
      "Epoch 254/300\n",
      "420/420 - 5s - loss: 0.0236 - accuracy: 0.9927 - val_loss: 3.0594 - val_accuracy: 0.6525 - 5s/epoch - 11ms/step\n",
      "Epoch 255/300\n",
      "420/420 - 4s - loss: 0.0040 - accuracy: 0.9989 - val_loss: 3.0943 - val_accuracy: 0.6601 - 4s/epoch - 11ms/step\n",
      "Epoch 256/300\n",
      "420/420 - 4s - loss: 0.0014 - accuracy: 0.9995 - val_loss: 3.0340 - val_accuracy: 0.6628 - 4s/epoch - 11ms/step\n",
      "Epoch 257/300\n",
      "420/420 - 5s - loss: 9.0501e-04 - accuracy: 0.9995 - val_loss: 3.0261 - val_accuracy: 0.6641 - 5s/epoch - 11ms/step\n",
      "Epoch 258/300\n",
      "420/420 - 4s - loss: 7.4426e-04 - accuracy: 0.9995 - val_loss: 3.0248 - val_accuracy: 0.6667 - 4s/epoch - 11ms/step\n",
      "Epoch 259/300\n",
      "420/420 - 5s - loss: 6.4815e-04 - accuracy: 0.9996 - val_loss: 3.0342 - val_accuracy: 0.6668 - 5s/epoch - 11ms/step\n",
      "Epoch 260/300\n",
      "420/420 - 5s - loss: 6.2443e-04 - accuracy: 0.9996 - val_loss: 3.0368 - val_accuracy: 0.6670 - 5s/epoch - 11ms/step\n",
      "Epoch 261/300\n",
      "420/420 - 4s - loss: 5.9977e-04 - accuracy: 0.9996 - val_loss: 3.0280 - val_accuracy: 0.6670 - 4s/epoch - 11ms/step\n",
      "Epoch 262/300\n",
      "420/420 - 5s - loss: 5.9702e-04 - accuracy: 0.9996 - val_loss: 3.0268 - val_accuracy: 0.6688 - 5s/epoch - 11ms/step\n",
      "Epoch 263/300\n",
      "420/420 - 5s - loss: 5.8241e-04 - accuracy: 0.9996 - val_loss: 3.0280 - val_accuracy: 0.6686 - 5s/epoch - 11ms/step\n",
      "Epoch 264/300\n",
      "420/420 - 4s - loss: 5.8624e-04 - accuracy: 0.9996 - val_loss: 3.0590 - val_accuracy: 0.6694 - 4s/epoch - 11ms/step\n",
      "Epoch 265/300\n",
      "420/420 - 5s - loss: 5.6679e-04 - accuracy: 0.9996 - val_loss: 3.0119 - val_accuracy: 0.6703 - 5s/epoch - 11ms/step\n",
      "Epoch 266/300\n",
      "420/420 - 4s - loss: 5.9445e-04 - accuracy: 0.9995 - val_loss: 3.0408 - val_accuracy: 0.6711 - 4s/epoch - 11ms/step\n",
      "Epoch 267/300\n",
      "420/420 - 4s - loss: 6.1547e-04 - accuracy: 0.9996 - val_loss: 3.0270 - val_accuracy: 0.6700 - 4s/epoch - 11ms/step\n",
      "Epoch 268/300\n",
      "420/420 - 5s - loss: 6.3563e-04 - accuracy: 0.9995 - val_loss: 3.0102 - val_accuracy: 0.6690 - 5s/epoch - 11ms/step\n",
      "Epoch 269/300\n",
      "420/420 - 4s - loss: 7.8961e-04 - accuracy: 0.9995 - val_loss: 2.9685 - val_accuracy: 0.6587 - 4s/epoch - 11ms/step\n",
      "Epoch 270/300\n",
      "420/420 - 5s - loss: 0.0833 - accuracy: 0.9750 - val_loss: 3.0357 - val_accuracy: 0.6481 - 5s/epoch - 11ms/step\n",
      "Epoch 271/300\n",
      "420/420 - 5s - loss: 0.0062 - accuracy: 0.9981 - val_loss: 2.9513 - val_accuracy: 0.6619 - 5s/epoch - 11ms/step\n",
      "Epoch 272/300\n",
      "420/420 - 5s - loss: 0.0019 - accuracy: 0.9993 - val_loss: 3.0678 - val_accuracy: 0.6660 - 5s/epoch - 11ms/step\n",
      "Epoch 273/300\n",
      "420/420 - 5s - loss: 0.0010 - accuracy: 0.9994 - val_loss: 3.0808 - val_accuracy: 0.6665 - 5s/epoch - 11ms/step\n",
      "Epoch 274/300\n",
      "420/420 - 5s - loss: 7.1665e-04 - accuracy: 0.9996 - val_loss: 3.0191 - val_accuracy: 0.6691 - 5s/epoch - 11ms/step\n",
      "Epoch 275/300\n",
      "420/420 - 5s - loss: 6.6191e-04 - accuracy: 0.9996 - val_loss: 3.0323 - val_accuracy: 0.6691 - 5s/epoch - 11ms/step\n",
      "Epoch 276/300\n",
      "420/420 - 4s - loss: 6.1182e-04 - accuracy: 0.9996 - val_loss: 3.0416 - val_accuracy: 0.6706 - 4s/epoch - 11ms/step\n",
      "Epoch 277/300\n",
      "420/420 - 5s - loss: 5.9283e-04 - accuracy: 0.9996 - val_loss: 3.0566 - val_accuracy: 0.6705 - 5s/epoch - 11ms/step\n",
      "Epoch 278/300\n",
      "420/420 - 4s - loss: 5.6403e-04 - accuracy: 0.9996 - val_loss: 3.0381 - val_accuracy: 0.6708 - 4s/epoch - 11ms/step\n",
      "Epoch 279/300\n",
      "420/420 - 4s - loss: 5.5817e-04 - accuracy: 0.9996 - val_loss: 3.0383 - val_accuracy: 0.6721 - 4s/epoch - 11ms/step\n",
      "Epoch 280/300\n",
      "420/420 - 4s - loss: 5.5102e-04 - accuracy: 0.9996 - val_loss: 3.0482 - val_accuracy: 0.6716 - 4s/epoch - 11ms/step\n",
      "Epoch 281/300\n",
      "420/420 - 5s - loss: 5.5049e-04 - accuracy: 0.9996 - val_loss: 3.0646 - val_accuracy: 0.6715 - 5s/epoch - 11ms/step\n",
      "Epoch 282/300\n",
      "420/420 - 4s - loss: 5.4106e-04 - accuracy: 0.9995 - val_loss: 3.0260 - val_accuracy: 0.6708 - 4s/epoch - 11ms/step\n",
      "Epoch 283/300\n",
      "420/420 - 5s - loss: 0.0757 - accuracy: 0.9778 - val_loss: 3.2030 - val_accuracy: 0.6355 - 5s/epoch - 11ms/step\n",
      "Epoch 284/300\n",
      "420/420 - 4s - loss: 0.0093 - accuracy: 0.9972 - val_loss: 2.9341 - val_accuracy: 0.6583 - 4s/epoch - 11ms/step\n",
      "Epoch 285/300\n",
      "420/420 - 5s - loss: 0.0027 - accuracy: 0.9993 - val_loss: 3.0705 - val_accuracy: 0.6645 - 5s/epoch - 11ms/step\n",
      "Epoch 286/300\n",
      "420/420 - 5s - loss: 0.0011 - accuracy: 0.9995 - val_loss: 3.0514 - val_accuracy: 0.6659 - 5s/epoch - 11ms/step\n",
      "Epoch 287/300\n",
      "420/420 - 4s - loss: 7.0176e-04 - accuracy: 0.9995 - val_loss: 3.0493 - val_accuracy: 0.6671 - 4s/epoch - 11ms/step\n",
      "Epoch 288/300\n",
      "420/420 - 5s - loss: 6.3725e-04 - accuracy: 0.9996 - val_loss: 3.0621 - val_accuracy: 0.6682 - 5s/epoch - 11ms/step\n",
      "Epoch 289/300\n",
      "420/420 - 5s - loss: 6.0704e-04 - accuracy: 0.9996 - val_loss: 3.0731 - val_accuracy: 0.6678 - 5s/epoch - 11ms/step\n",
      "Epoch 290/300\n",
      "420/420 - 5s - loss: 5.8087e-04 - accuracy: 0.9996 - val_loss: 3.0673 - val_accuracy: 0.6678 - 5s/epoch - 11ms/step\n",
      "Epoch 291/300\n",
      "420/420 - 5s - loss: 5.6859e-04 - accuracy: 0.9995 - val_loss: 3.0733 - val_accuracy: 0.6686 - 5s/epoch - 11ms/step\n",
      "Epoch 292/300\n",
      "420/420 - 5s - loss: 5.6692e-04 - accuracy: 0.9996 - val_loss: 3.0453 - val_accuracy: 0.6691 - 5s/epoch - 11ms/step\n",
      "Epoch 293/300\n",
      "420/420 - 5s - loss: 5.5706e-04 - accuracy: 0.9996 - val_loss: 3.0965 - val_accuracy: 0.6697 - 5s/epoch - 11ms/step\n",
      "Epoch 294/300\n",
      "420/420 - 5s - loss: 0.0589 - accuracy: 0.9827 - val_loss: 3.1525 - val_accuracy: 0.6343 - 5s/epoch - 11ms/step\n",
      "Epoch 295/300\n",
      "420/420 - 5s - loss: 0.0162 - accuracy: 0.9948 - val_loss: 3.0589 - val_accuracy: 0.6581 - 5s/epoch - 11ms/step\n",
      "Epoch 296/300\n",
      "420/420 - 5s - loss: 0.0042 - accuracy: 0.9988 - val_loss: 3.0688 - val_accuracy: 0.6616 - 5s/epoch - 11ms/step\n",
      "Epoch 297/300\n",
      "420/420 - 5s - loss: 0.0011 - accuracy: 0.9995 - val_loss: 3.0969 - val_accuracy: 0.6668 - 5s/epoch - 11ms/step\n",
      "Epoch 298/300\n",
      "420/420 - 4s - loss: 7.6131e-04 - accuracy: 0.9995 - val_loss: 3.1057 - val_accuracy: 0.6681 - 4s/epoch - 11ms/step\n",
      "Epoch 299/300\n",
      "420/420 - 5s - loss: 6.5581e-04 - accuracy: 0.9996 - val_loss: 3.1150 - val_accuracy: 0.6692 - 5s/epoch - 11ms/step\n",
      "Epoch 300/300\n",
      "420/420 - 5s - loss: 6.1148e-04 - accuracy: 0.9996 - val_loss: 3.1139 - val_accuracy: 0.6699 - 5s/epoch - 11ms/step\n"
     ]
    }
   ],
   "execution_count": 12
  },
  {
   "metadata": {
    "ExecuteTime": {
     "end_time": "2024-10-02T15:33:47.444188Z",
     "start_time": "2024-10-02T15:33:47.047257Z"
    }
   },
   "cell_type": "code",
   "source": [
    "# DISCORD -> 設定 -> 整合 -> Webhook -> 新 Webhook > -> 複製 Webhook 網址\n",
    "DISCORD_WEBHOOK_URL = \"https://discord.com/api/webhooks/1287413088970346557/30gx7NdIfSxS1BRWk28IRkOHJeoET-ihIN_KAjYeXYkrpPeI0hBnE-68AHzhpTR4h3et\"\n",
    "requests.post(\n",
    "    url=DISCORD_WEBHOOK_URL,\n",
    "    data={\"content\": \"cnn with fake data模型訓練已完成!\"}\n",
    ")"
   ],
   "id": "e50ecb138fbe6aaa",
   "outputs": [
    {
     "data": {
      "text/plain": [
       "<Response [204]>"
      ]
     },
     "execution_count": 13,
     "metadata": {},
     "output_type": "execute_result"
    }
   ],
   "execution_count": 13
  },
  {
   "metadata": {
    "ExecuteTime": {
     "end_time": "2024-10-02T15:33:47.644567Z",
     "start_time": "2024-10-02T15:33:47.460188Z"
    }
   },
   "cell_type": "code",
   "source": [
    "accuracies = model_train_info.history['accuracy']\n",
    "val_accuracies = model_train_info.history['val_accuracy']\n",
    "\n",
    "plt.plot(list(range(epochs)), accuracies, label = 'accuracy')\n",
    "plt.plot(list(range(epochs)), val_accuracies, label = 'val_accuracy')\n",
    "plt.legend()\n",
    "plt.grid()\n",
    "plt.xticks(ticks = list(range(1, epochs + 1))) \n",
    "plt.xlabel('Epoch')\n",
    "plt.ylabel('Accuracy')\n",
    "plt.xticks(ticks=list(range(0, epochs + 1, 50)))\n",
    "plt.yticks(ticks=list(np.arange(0, 1 + 0.1, 0.1)))\n",
    "plt.show()"
   ],
   "id": "9bb57d39fcd1b1e3",
   "outputs": [
    {
     "data": {
      "text/plain": [
       "<Figure size 640x480 with 1 Axes>"
      ],
      "image/png": "[encoded data removed]"
     },
     "metadata": {},
     "output_type": "display_data"
    }
   ],
   "execution_count": 14
  },
  {
   "metadata": {
    "ExecuteTime": {
     "end_time": "2024-10-02T15:33:47.674974Z",
     "start_time": "2024-10-02T15:33:47.659974Z"
    }
   },
   "cell_type": "code",
   "source": [
    "print(f\"資料: {mfcc_matrix_list_scaled.shape}\")\n",
    "print(f\"最高準確率: {max(val_accuracies)}\")"
   ],
   "id": "e085c303956a0412",
   "outputs": [
    {
     "name": "stdout",
     "output_type": "stream",
     "text": [
      "資料: (67173, 13, 44)\n",
      "最高準確率: 0.6762932538986206\n"
     ]
    }
   ],
   "execution_count": 15
  },
  {
   "metadata": {
    "ExecuteTime": {
     "end_time": "2024-10-02T15:33:47.799221Z",
     "start_time": "2024-10-02T15:33:47.691672Z"
    }
   },
   "cell_type": "code",
   "source": "model.save(f\".\\\\cnn_edu_with_fake_model.h5\")",
   "id": "159f4a26b7c27405",
   "outputs": [],
   "execution_count": 16
  }
 ],
 "metadata": {
  "kernelspec": {
   "display_name": "Python 3",
   "language": "python",
   "name": "python3"
  },
  "language_info": {
   "codemirror_mode": {
    "name": "ipython",
    "version": 2
   },
   "file_extension": ".py",
   "mimetype": "text/x-python",
   "name": "python",
   "nbconvert_exporter": "python",
   "pygments_lexer": "ipython2",
   "version": "2.7.6"
  }
 },
 "nbformat": 4,
 "nbformat_minor": 5
}
