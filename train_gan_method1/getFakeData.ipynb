{
 "cells": [
  {
   "cell_type": "code",
   "metadata": {
    "ExecuteTime": {
     "end_time": "2024-09-27T19:24:09.053957Z",
     "start_time": "2024-09-27T19:24:08.173403Z"
    }
   },
   "source": [
    "import torch\n",
    "import torch.nn as nn\n",
    "\n",
    "import os\n",
    "from glob import glob\n",
    "import numpy as np\n",
    "\n",
    "device = torch.device('cuda' if torch.cuda.is_available() else 'cpu')\n",
    "print(f'Using device: {device}')"
   ],
   "outputs": [
    {
     "name": "stdout",
     "output_type": "stream",
     "text": [
      "Using device: cuda\n"
     ]
    }
   ],
   "execution_count": 1
  },
  {
   "cell_type": "code",
   "metadata": {
    "ExecuteTime": {
     "end_time": "2024-09-27T19:27:30.278065Z",
     "start_time": "2024-09-27T19:27:30.235513Z"
    }
   },
   "source": [
    "class ConditionalGenerator(nn.Module):\n",
    "    def __init__(self, input_dim, hidden_dim, output_shape, num_classes):\n",
    "        super(ConditionalGenerator, self).__init__()\n",
    "        self.output_shape = output_shape\n",
    "        self.output_dim = output_shape[0] * output_shape[1]\n",
    "        self.label_embedding = nn.Embedding(num_classes, input_dim)  # 將類別標籤轉換為與 z 相同維度的向量\n",
    "        self.model = nn.Sequential(\n",
    "            nn.Linear(input_dim * 2, hidden_dim),\n",
    "            nn.BatchNorm1d(hidden_dim),\n",
    "            nn.ReLU(),\n",
    "            nn.Linear(hidden_dim, hidden_dim * 2),\n",
    "            nn.BatchNorm1d(hidden_dim * 2),\n",
    "            nn.ReLU(),\n",
    "            nn.Linear(hidden_dim * 2, hidden_dim * 4), \n",
    "            nn.BatchNorm1d(hidden_dim * 4),\n",
    "            nn.ReLU(),\n",
    "            nn.Linear(hidden_dim * 4, self.output_dim),\n",
    "            nn.Tanh()\n",
    "        )\n",
    "\n",
    "    def forward(self, z, labels):\n",
    "        label_embedding = self.label_embedding(labels)\n",
    "        input_data = torch.cat([z, label_embedding], dim=1)  # 將噪聲 z 與條件 labels 拼接\n",
    "        x = self.model(input_data)\n",
    "        return x.view(x.size(0), *self.output_shape)\n",
    "    \n",
    "# 參數\n",
    "input_dim =  2048 \n",
    "hidden_dim = 128\n",
    "mfcc_shape = (13, 44)\n",
    "num_classes = 1467\n",
    "\n",
    "# 初始化生成器\n",
    "generator = ConditionalGenerator(input_dim, hidden_dim, mfcc_shape, num_classes).to(device)\n",
    "# 載入儲存的生成器權重\n",
    "generator.load_state_dict(torch.load(f\".\\\\cGAN_generator_edu_model.pth\", weights_only=True))\n",
    "# 確保模型設定為評估模式\n",
    "generator.eval()"
   ],
   "outputs": [
    {
     "data": {
      "text/plain": [
       "ConditionalGenerator(\n",
       "  (label_embedding): Embedding(1467, 2048)\n",
       "  (model): Sequential(\n",
       "    (0): Linear(in_features=4096, out_features=128, bias=True)\n",
       "    (1): BatchNorm1d(128, eps=1e-05, momentum=0.1, affine=True, track_running_stats=True)\n",
       "    (2): ReLU()\n",
       "    (3): Linear(in_features=128, out_features=256, bias=True)\n",
       "    (4): BatchNorm1d(256, eps=1e-05, momentum=0.1, affine=True, track_running_stats=True)\n",
       "    (5): ReLU()\n",
       "    (6): Linear(in_features=256, out_features=512, bias=True)\n",
       "    (7): BatchNorm1d(512, eps=1e-05, momentum=0.1, affine=True, track_running_stats=True)\n",
       "    (8): ReLU()\n",
       "    (9): Linear(in_features=512, out_features=572, bias=True)\n",
       "    (10): Tanh()\n",
       "  )\n",
       ")"
      ]
     },
     "execution_count": 4,
     "metadata": {},
     "output_type": "execute_result"
    }
   ],
   "execution_count": 4
  },
  {
   "cell_type": "code",
   "metadata": {
    "ExecuteTime": {
     "end_time": "2024-09-27T19:27:52.296715Z",
     "start_time": "2024-09-27T19:27:52.290716Z"
    }
   },
   "source": [
    "# 如果沒有 'fakedata' 這個資料夾就做一個\n",
    "fake_data_path = f\"..\\\\data\\\\fakeDataEduVer\\\\\"\n",
    "if not os.path.exists(fake_data_path):\n",
    "    os.mkdir(fake_data_path)"
   ],
   "outputs": [],
   "execution_count": 5
  },
  {
   "cell_type": "markdown",
   "metadata": {},
   "source": [
    "與之前的用法相反\n",
    "{0: 'a',\n",
    "1: 'a2',\n",
    "2: 'a4'}"
   ]
  },
  {
   "cell_type": "code",
   "metadata": {
    "ExecuteTime": {
     "end_time": "2024-09-27T19:28:06.070421Z",
     "start_time": "2024-09-27T19:28:06.058682Z"
    }
   },
   "source": [
    "sample_list = glob(f\"..\\\\data\\\\samplePinyinEdu\\\\Male\\\\*.wav\")\n",
    "\n",
    "label_dic: dict = {}\n",
    "for i in range(len(sample_list)):\n",
    "    label = sample_list[i][sample_list[i].find(\"_\") + 1:sample_list[i].find(\".wav\")]\n",
    "    label_dic[i] = label\n",
    "\n",
    "print(f\"type(label_dic): {type(label_dic)}\")\n",
    "print(f\"len(label_dic): {len(label_dic)}\")\n",
    "# label_dic"
   ],
   "outputs": [
    {
     "name": "stdout",
     "output_type": "stream",
     "text": [
      "type(label_dic): <class 'dict'>\n",
      "len(label_dic): 1467\n"
     ]
    }
   ],
   "execution_count": 6
  },
  {
   "metadata": {
    "ExecuteTime": {
     "end_time": "2024-09-27T19:28:10.397826Z",
     "start_time": "2024-09-27T19:28:10.312055Z"
    }
   },
   "cell_type": "code",
   "source": [
    "real_data_npy_list = glob(f\"..\\\\data\\\\mfccEduVer\\\\*npy\")\n",
    "print(f\"type(real_data_npy_list): {type(real_data_npy_list)}\")\n",
    "print(f\"len(real_data_npy_list): {len(real_data_npy_list)}\")"
   ],
   "outputs": [
    {
     "name": "stdout",
     "output_type": "stream",
     "text": [
      "type(real_data_npy_list): <class 'list'>\n",
      "len(real_data_npy_list): 45167\n"
     ]
    }
   ],
   "execution_count": 7
  },
  {
   "cell_type": "code",
   "metadata": {
    "ExecuteTime": {
     "end_time": "2024-09-27T19:28:31.506877Z",
     "start_time": "2024-09-27T19:28:27.158152Z"
    }
   },
   "source": [
    "batch_size = 10\n",
    "z = torch.randn(batch_size, input_dim).to(device)\n",
    "k = len(real_data_npy_list)\n",
    "for i in range(len(label_dic)):#len(label_dic)\n",
    "    labels = torch.tensor([i] * batch_size).to(device)  # 生成標籤為 10 的資料\n",
    "    fake_data = generator(z, labels)\n",
    "    for j in range(len(fake_data)):\n",
    "        path = f\"..\\\\data\\\\fakedataEduVer\\\\fakeData-{j}_{label_dic[i]}_{k}.npy\"\n",
    "        k += 1\n",
    "        np.save( path, arr=fake_data[0].detach().cpu().numpy())"
   ],
   "outputs": [],
   "execution_count": 8
  }
 ],
 "metadata": {
  "kernelspec": {
   "display_name": "Py39",
   "language": "python",
   "name": "python3"
  },
  "language_info": {
   "codemirror_mode": {
    "name": "ipython",
    "version": 3
   },
   "file_extension": ".py",
   "mimetype": "text/x-python",
   "name": "python",
   "nbconvert_exporter": "python",
   "pygments_lexer": "ipython3",
   "version": "3.9.18"
  }
 },
 "nbformat": 4,
 "nbformat_minor": 2
}
