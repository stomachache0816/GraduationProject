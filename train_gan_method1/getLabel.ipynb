{
 "cells": [
  {
   "cell_type": "code",
   "metadata": {
    "ExecuteTime": {
     "end_time": "2024-10-02T13:51:40.722246Z",
     "start_time": "2024-10-02T13:51:40.713193Z"
    }
   },
   "source": [
    "import platform\n",
    "print(f\"platform.python_version(): {platform.python_version()}\")\n",
    "from glob import glob\n",
    "import numpy as np\n",
    "from tqdm import tqdm"
   ],
   "outputs": [
    {
     "name": "stdout",
     "output_type": "stream",
     "text": [
      "platform.python_version(): 3.9.13\n"
     ]
    }
   ],
   "execution_count": 15
  },
  {
   "cell_type": "markdown",
   "metadata": {},
   "source": [
    "取得訓練資料npy檔路徑放入 'npy_file_list'\n"
   ]
  },
  {
   "cell_type": "markdown",
   "metadata": {},
   "source": [
    "並將 'npy_file_list' 內所有npy檔轉成陣列並放入 'mfcc_list'"
   ]
  },
  {
   "cell_type": "code",
   "metadata": {
    "ExecuteTime": {
     "end_time": "2024-10-02T13:51:48.115916Z",
     "start_time": "2024-10-02T13:51:40.735766Z"
    }
   },
   "source": [
    "npy_file_list = glob(f\"..\\\\data\\\\mfccEduVer\\\\*.npy\")\n",
    "print(f\"type(npy_file_list): {type(npy_file_list)}\")\n",
    "print(f\"len(npy_file_list): {len(npy_file_list)}\")\n",
    "\n",
    "mfcc_list = []\n",
    "\n",
    "for npy_file in tqdm(npy_file_list):\n",
    "    mfcc = np.load(file=npy_file)\n",
    "    mfcc_list.append(mfcc)\n",
    "\n",
    "# 將list()轉換成np.array()\n",
    "mfcc_list = np.array(mfcc_list)\n",
    "print(f\"type(mfcc_list): {type(mfcc_list)}\")\n",
    "print(f\"mfcc_list.shape: {mfcc_list.shape}\")"
   ],
   "outputs": [
    {
     "name": "stdout",
     "output_type": "stream",
     "text": [
      "type(npy_file_list): <class 'list'>\n",
      "len(npy_file_list): 45168\n"
     ]
    },
    {
     "name": "stderr",
     "output_type": "stream",
     "text": [
      "100%|██████████| 45168/45168 [00:07<00:00, 6270.08it/s]"
     ]
    },
    {
     "name": "stdout",
     "output_type": "stream",
     "text": [
      "type(mfcc_list): <class 'numpy.ndarray'>\n",
      "mfcc_list.shape: (45168, 13, 44)\n"
     ]
    },
    {
     "name": "stderr",
     "output_type": "stream",
     "text": [
      "\n"
     ]
    }
   ],
   "execution_count": 16
  },
  {
   "cell_type": "markdown",
   "metadata": {},
   "source": [
    "讀取 'npy_file_list' 中所有資料檔名的拼音標籤"
   ]
  },
  {
   "cell_type": "code",
   "metadata": {
    "ExecuteTime": {
     "end_time": "2024-10-02T13:51:48.162735Z",
     "start_time": "2024-10-02T13:51:48.133492Z"
    }
   },
   "source": [
    "label_pinyin_list = []\n",
    "\n",
    "for npy_file in npy_file_list:\n",
    "    label_pinyin = npy_file.split(\"_\")[1]\n",
    "    label_pinyin_list.append(label_pinyin)\n",
    "\n",
    "# 將list()轉換成np.array()\n",
    "label_pinyin_list = np.array(label_pinyin_list)\n",
    "\n",
    "print(f\"type(label_pinyin_list): {type(label_pinyin_list)}\")\n",
    "print(f\"label_pinyin_list.shape: {label_pinyin_list.shape}\")\n",
    "label_pinyin_list"
   ],
   "outputs": [
    {
     "name": "stdout",
     "output_type": "stream",
     "text": [
      "type(label_pinyin_list): <class 'numpy.ndarray'>\n",
      "label_pinyin_list.shape: (45168,)\n"
     ]
    },
    {
     "data": {
      "text/plain": [
       "array(['shi4', 'shu', 'ru4', ..., 'dian3', 'kai', 'ta'], dtype='<U7')"
      ]
     },
     "execution_count": 17,
     "metadata": {},
     "output_type": "execute_result"
    }
   ],
   "execution_count": 17
  },
  {
   "cell_type": "markdown",
   "metadata": {},
   "source": [
    "dictionary 標籤轉換器<br>key => pinyin<br>value => int<br>(0 <= int <= 1466)"
   ]
  },
  {
   "cell_type": "code",
   "metadata": {
    "ExecuteTime": {
     "end_time": "2024-10-02T13:51:48.194325Z",
     "start_time": "2024-10-02T13:51:48.179765Z"
    }
   },
   "source": [
    "sample_list = glob(f\"..\\\\data\\\\samplePinyinEdu\\\\MaleWav\\\\*.wav\")\n",
    "\n",
    "label_dic: dict = {}\n",
    "for i in range(len(sample_list)):\n",
    "    label = sample_list[i][sample_list[i].find(\"_\") + 1:sample_list[i].find(\".wav\")]\n",
    "    label_dic[label] = i\n",
    "\n",
    "print(f\"type(label_dic): {type(label_dic)}\")\n",
    "print(f\"len(label_dic): {len(label_dic)}\")\n",
    "# label_dic"
   ],
   "outputs": [
    {
     "name": "stdout",
     "output_type": "stream",
     "text": [
      "type(label_dic): <class 'dict'>\n",
      "len(label_dic): 1467\n"
     ]
    }
   ],
   "execution_count": 18
  },
  {
   "cell_type": "markdown",
   "metadata": {},
   "source": [
    "將 'label_pinyin_list' 裡的拼音標籤轉換成數字標籤放入 'label_int_list'"
   ]
  },
  {
   "cell_type": "code",
   "metadata": {
    "ExecuteTime": {
     "end_time": "2024-10-02T13:51:48.302560Z",
     "start_time": "2024-10-02T13:51:48.268954Z"
    }
   },
   "source": [
    "label_int_list = []\n",
    "i = 0\n",
    "for label_pinyin in label_pinyin_list:\n",
    "    if label_pinyin == 'ch5':\n",
    "        print(i)\n",
    "    i += 1\n",
    "    label_int = label_dic[label_pinyin]\n",
    "    label_int_list.append(label_int)\n",
    "\n",
    "label_int_list = np.array(label_int_list)\n",
    "print(f\"label_int_list.shape => {label_int_list.shape}\")\n",
    "# label_int_list"
   ],
   "outputs": [
    {
     "name": "stdout",
     "output_type": "stream",
     "text": [
      "label_int_list.shape => (45168,)\n"
     ]
    }
   ],
   "execution_count": 19
  },
  {
   "metadata": {
    "ExecuteTime": {
     "end_time": "2024-10-02T13:51:48.333447Z",
     "start_time": "2024-10-02T13:51:48.318585Z"
    }
   },
   "cell_type": "code",
   "source": "npy_file_list[308]",
   "outputs": [
    {
     "data": {
      "text/plain": [
       "'..\\\\data\\\\mfccEduVer\\\\F_cha2_42342.npy'"
      ]
     },
     "execution_count": 20,
     "metadata": {},
     "output_type": "execute_result"
    }
   ],
   "execution_count": 20
  },
  {
   "cell_type": "code",
   "metadata": {
    "ExecuteTime": {
     "end_time": "2024-10-02T13:51:48.363815Z",
     "start_time": "2024-10-02T13:51:48.349461Z"
    }
   },
   "source": "np.savez(f\".\\\\labelBySelf.npz\", data = label_int_list)",
   "outputs": [],
   "execution_count": 21
  }
 ],
 "metadata": {
  "kernelspec": {
   "display_name": "Py39",
   "language": "python",
   "name": "python3"
  },
  "language_info": {
   "codemirror_mode": {
    "name": "ipython",
    "version": 3
   },
   "file_extension": ".py",
   "mimetype": "text/x-python",
   "name": "python",
   "nbconvert_exporter": "python",
   "pygments_lexer": "ipython3",
   "version": "3.9.18"
  }
 },
 "nbformat": 4,
 "nbformat_minor": 2
}
