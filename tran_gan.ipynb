{
 "cells": [
  {
   "cell_type": "code",
   "metadata": {
    "ExecuteTime": {
     "end_time": "2024-09-10T17:05:22.915851Z",
     "start_time": "2024-09-10T17:05:18.161406Z"
    }
   },
   "source": [
    "import platform\n",
    "print(f\"platform.python_version(): {platform.python_version()}\")\n",
    "\n",
    "import os\n",
    "from glob import glob\n",
    "from tqdm import tqdm\n",
    "\n",
    "import torch\n",
    "import torch.nn as nn\n",
    "import torch.optim as optim\n",
    "from torch.utils.data import DataLoader, Dataset\n",
    "\n",
    "import numpy as np\n",
    "\n",
    "import matplotlib.pyplot as plt\n",
    "import matplotlib\n",
    "matplotlib.rc('font', family='Microsoft JhengHei')\n",
    "\n",
    "# 檢查CUDA是否可用\n",
    "device = torch.device('cuda' if torch.cuda.is_available() else 'cpu')\n",
    "print(f'Using device: {device}')"
   ],
   "outputs": [
    {
     "name": "stdout",
     "output_type": "stream",
     "text": [
      "platform.python_version(): 3.9.13\n",
      "Using device: cuda\n"
     ]
    }
   ],
   "execution_count": 1
  },
  {
   "cell_type": "markdown",
   "metadata": {},
   "source": [
    "載入mfcc為data"
   ]
  },
  {
   "cell_type": "code",
   "metadata": {
    "ExecuteTime": {
     "end_time": "2024-09-10T17:05:28.046529Z",
     "start_time": "2024-09-10T17:05:22.930850Z"
    }
   },
   "source": [
    "npy_file_list = glob(f\"{os.getcwd()}\\\\mfcc\\\\*.npy\")\n",
    "print(f\"type(npy_file_list): {type(npy_file_list)}\")\n",
    "print(f\"len(npy_file_list): {len(npy_file_list)}\")\n",
    "\n",
    "mfcc_list = []\n",
    "\n",
    "for npy_file in tqdm(npy_file_list):\n",
    "    mfcc = np.load(file=npy_file)\n",
    "    mfcc_list.append(mfcc)\n",
    "\n",
    "# 將list()轉換成np.array()\n",
    "mfcc_list = np.array(mfcc_list)\n",
    "print(f\"type(mfcc_list): {type(mfcc_list)}\")\n",
    "print(f\"mfcc_list.shape: {mfcc_list.shape}\")\n",
    "\n",
    "all_mfcc = []\n",
    "for mfcc in mfcc_list:\n",
    "    all_mfcc.append(mfcc)\n",
    "\n",
    "data = np.array(all_mfcc)\n",
    "data_len = len(data)"
   ],
   "outputs": [
    {
     "name": "stdout",
     "output_type": "stream",
     "text": [
      "type(npy_file_list): <class 'list'>\n",
      "len(npy_file_list): 32103\n"
     ]
    },
    {
     "name": "stderr",
     "output_type": "stream",
     "text": [
      "100%|██████████| 32103/32103 [00:04<00:00, 6440.33it/s]"
     ]
    },
    {
     "name": "stdout",
     "output_type": "stream",
     "text": [
      "type(mfcc_list): <class 'numpy.ndarray'>\n",
      "mfcc_list.shape: (32103, 13, 44)\n"
     ]
    },
    {
     "name": "stderr",
     "output_type": "stream",
     "text": [
      "\n"
     ]
    }
   ],
   "execution_count": 2
  },
  {
   "cell_type": "markdown",
   "metadata": {},
   "source": [
    "載入labelByself為labels"
   ]
  },
  {
   "cell_type": "code",
   "metadata": {
    "ExecuteTime": {
     "end_time": "2024-09-10T17:05:28.202524Z",
     "start_time": "2024-09-10T17:05:28.183526Z"
    }
   },
   "source": [
    "load_data = np.load('labelByself.npz')\n",
    "labels = load_data['data']"
   ],
   "outputs": [],
   "execution_count": 3
  },
  {
   "cell_type": "code",
   "metadata": {
    "ExecuteTime": {
     "end_time": "2024-09-10T17:18:02.722800Z",
     "start_time": "2024-09-10T17:05:28.218525Z"
    }
   },
   "source": [
    "#######################################################################\n",
    "#載入mfcc為data\n",
    "npy_file_list = glob(f\"{os.getcwd()}\\\\mfcc\\\\*.npy\")\n",
    "print(f\"type(npy_file_list): {type(npy_file_list)}\")\n",
    "print(f\"len(npy_file_list): {len(npy_file_list)}\")\n",
    "\n",
    "mfcc_list = []\n",
    "\n",
    "for npy_file in tqdm(npy_file_list):\n",
    "    mfcc = np.load(file=npy_file)\n",
    "    mfcc_list.append(mfcc)\n",
    "\n",
    "mfcc_list = np.array(mfcc_list)\n",
    "print(f\"type(mfcc_list): {type(mfcc_list)}\")\n",
    "print(f\"mfcc_list.shape: {mfcc_list.shape}\")\n",
    "\n",
    "all_mfcc = []\n",
    "for mfcc in mfcc_list:\n",
    "    all_mfcc.append(mfcc)\n",
    "\n",
    "data = np.array(all_mfcc)\n",
    "data_len = len(data)\n",
    "#######################################################################\n",
    "\n",
    "#######################################################################\n",
    "#載入labelByself為labels\n",
    "load_data = np.load('labelByself.npz')\n",
    "labels = load_data['data']\n",
    "#######################################################################\n",
    "\n",
    "every_epoch = [] \n",
    "every_d_loss = []\n",
    "every_g_loss = []\n",
    "every_DZ = []\n",
    "\n",
    "\n",
    "class PhonemeDataset(Dataset):\n",
    "    def __init__(self, data, labels):\n",
    "        self.data = data\n",
    "        self.labels = labels\n",
    "\n",
    "    def __len__(self):\n",
    "        return len(self.data)\n",
    "\n",
    "    def __getitem__(self, idx):\n",
    "        return self.data[idx], self.labels[idx]\n",
    "\n",
    "class Generator(nn.Module):\n",
    "    def __init__(self, input_dim, hidden_dim, output_shape):\n",
    "        super(Generator, self).__init__()\n",
    "        self.output_shape = output_shape\n",
    "        self.output_dim = output_shape[0] * output_shape[1]\n",
    "        self.model = nn.Sequential(\n",
    "            nn.Linear(input_dim, hidden_dim),\n",
    "            nn.BatchNorm1d(hidden_dim),\n",
    "            nn.ReLU(),\n",
    "            nn.Linear(hidden_dim, hidden_dim * 2),\n",
    "            nn.BatchNorm1d(hidden_dim * 2),\n",
    "            nn.ReLU(),\n",
    "            nn.Linear(hidden_dim * 2, hidden_dim * 4), \n",
    "            nn.BatchNorm1d(hidden_dim * 4),\n",
    "            nn.ReLU(),\n",
    "            nn.Linear(hidden_dim * 4, self.output_dim), \n",
    "            #nn.BatchNorm1d(hidden_dim * 8),\n",
    "            #nn.ReLU(),\n",
    "            #nn.Linear(hidden_dim * 8, self.output_dim),\n",
    "            nn.Tanh()\n",
    "        )\n",
    "\n",
    "    def forward(self, x):\n",
    "        x = self.model(x)\n",
    "        return x.view(x.size(0), *self.output_shape)\n",
    "\n",
    "class Discriminator(nn.Module):\n",
    "    def __init__(self, input_shape, hidden_dim):\n",
    "        super(Discriminator, self).__init__()\n",
    "        self.input_dim = input_shape[0] * input_shape[1]\n",
    "        self.model = nn.Sequential(\n",
    "            nn.Linear(self.input_dim, hidden_dim * 8),\n",
    "            nn.LeakyReLU(0.2),\n",
    "            nn.Dropout(0.3),\n",
    "            nn.Linear(hidden_dim * 8, hidden_dim * 4),\n",
    "            nn.LeakyReLU(0.2),\n",
    "            nn.Dropout(0.3),\n",
    "            nn.Linear(hidden_dim * 4, hidden_dim * 2),\n",
    "            nn.LeakyReLU(0.2),\n",
    "            nn.Dropout(0.3),\n",
    "            nn.Linear(hidden_dim * 2, hidden_dim),\n",
    "            nn.LeakyReLU(0.2),\n",
    "            nn.Dropout(0.3),\n",
    "            nn.Linear(hidden_dim, 1),\n",
    "            nn.Sigmoid()\n",
    "        )\n",
    "\n",
    "    def forward(self, x):\n",
    "        x = x.view(x.size(0), -1)\n",
    "        return self.model(x)\n",
    "\n",
    "# 假設原始MFCC矩陣的形狀為(13, 44)\n",
    "mfcc_shape = (13, 44)\n",
    "input_dim =  2048 # 生成器的輸入維度2048\n",
    "hidden_dim = 128\n",
    "\n",
    "# 初始化生成器和判別器\n",
    "generator = Generator(input_dim, hidden_dim, mfcc_shape).to(device)\n",
    "discriminator = Discriminator(mfcc_shape, hidden_dim).to(device)\n",
    "\n",
    "\n",
    "criterion = nn.BCELoss()\n",
    "optimizer_G = optim.Adam(generator.parameters(), lr=0.0000001)\n",
    "optimizer_D = optim.Adam(discriminator.parameters(), lr=0.0000001)#0.0000001\n",
    "\n",
    "# 創建數據集和數據加載器\n",
    "dataset = PhonemeDataset(data, labels)\n",
    "dataloader = DataLoader(dataset, batch_size=64, shuffle=True)\n",
    "\n",
    "# 訓練GAN模型\n",
    "num_epochs = 100\n",
    "d_steps = 1  # 每個生成器步驟後訓練判別器的步數\n",
    "g_steps = 3  # 每個判別器步驟後訓練生成器的步數\n",
    "\n",
    "for epoch in range(num_epochs):\n",
    "    for i, (data, labels) in enumerate(dataloader):\n",
    "        data = data.to(device)\n",
    "        batch_size = data.size(0)\n",
    "        real_labels = torch.ones(batch_size, 1).to(device)\n",
    "        fake_labels = torch.zeros(batch_size, 1).to(device)\n",
    "\n",
    "        # 訓練判別器\n",
    "        for _ in range(d_steps):\n",
    "            outputs = discriminator(data)\n",
    "            d_loss_real = criterion(outputs, real_labels)\n",
    "            real_score = outputs\n",
    "\n",
    "            z = torch.randn(batch_size, input_dim).to(device)\n",
    "            fake_data = generator(z)\n",
    "            outputs = discriminator(fake_data.detach())\n",
    "            d_loss_fake = criterion(outputs, fake_labels)\n",
    "            fake_score = outputs\n",
    "\n",
    "            d_loss = d_loss_real + d_loss_fake\n",
    "            optimizer_D.zero_grad()\n",
    "            d_loss.backward()\n",
    "            optimizer_D.step()\n",
    "\n",
    "        # 訓練生成器\n",
    "        for _ in range(g_steps):\n",
    "            z = torch.randn(batch_size, input_dim).to(device)\n",
    "            fake_data = generator(z)\n",
    "            outputs = discriminator(fake_data)\n",
    "            g_loss = criterion(outputs, real_labels)\n",
    "\n",
    "            optimizer_G.zero_grad()\n",
    "            g_loss.backward()\n",
    "            optimizer_G.step()\n",
    "\n",
    "    print(f'Epoch [{epoch+1}/{num_epochs}], d_loss: {d_loss.item():.4f}, g_loss: {g_loss.item():.4f}, '\n",
    "          f'D(x): {real_score.mean().item():.2f}, D(G(z)): {fake_score.mean().item():.2f}')\n",
    "\n",
    "    every_epoch.append(epoch)\n",
    "    every_d_loss.append(d_loss.item())\n",
    "    every_g_loss.append(g_loss.item())\n",
    "    every_DZ.append(fake_score.mean().item())\n",
    "\n",
    "print('訓練完成！')\n"
   ],
   "outputs": [
    {
     "name": "stdout",
     "output_type": "stream",
     "text": [
      "type(npy_file_list): <class 'list'>\n",
      "len(npy_file_list): 32103\n"
     ]
    },
    {
     "name": "stderr",
     "output_type": "stream",
     "text": [
      "100%|██████████| 32103/32103 [00:05<00:00, 6322.49it/s]\n"
     ]
    },
    {
     "name": "stdout",
     "output_type": "stream",
     "text": [
      "type(mfcc_list): <class 'numpy.ndarray'>\n",
      "mfcc_list.shape: (32103, 13, 44)\n",
      "Epoch [1/100], d_loss: 1.1666, g_loss: 0.6787, D(x): 0.65, D(G(z)): 0.51\n",
      "Epoch [2/100], d_loss: 1.0881, g_loss: 0.6752, D(x): 0.71, D(G(z)): 0.51\n",
      "Epoch [3/100], d_loss: 1.0211, g_loss: 0.6732, D(x): 0.76, D(G(z)): 0.51\n",
      "Epoch [4/100], d_loss: 1.0083, g_loss: 0.6686, D(x): 0.77, D(G(z)): 0.51\n",
      "Epoch [5/100], d_loss: 1.0042, g_loss: 0.6668, D(x): 0.79, D(G(z)): 0.51\n",
      "Epoch [6/100], d_loss: 0.9218, g_loss: 0.6656, D(x): 0.83, D(G(z)): 0.51\n",
      "Epoch [7/100], d_loss: 0.8438, g_loss: 0.6612, D(x): 0.89, D(G(z)): 0.52\n",
      "Epoch [8/100], d_loss: 0.8637, g_loss: 0.6592, D(x): 0.88, D(G(z)): 0.52\n",
      "Epoch [9/100], d_loss: 0.8156, g_loss: 0.6562, D(x): 0.92, D(G(z)): 0.52\n",
      "Epoch [10/100], d_loss: 0.8361, g_loss: 0.6536, D(x): 0.91, D(G(z)): 0.52\n",
      "Epoch [11/100], d_loss: 0.7924, g_loss: 0.6559, D(x): 0.95, D(G(z)): 0.52\n",
      "Epoch [12/100], d_loss: 0.8079, g_loss: 0.6533, D(x): 0.93, D(G(z)): 0.52\n",
      "Epoch [13/100], d_loss: 0.8107, g_loss: 0.6482, D(x): 0.93, D(G(z)): 0.52\n",
      "Epoch [14/100], d_loss: 0.7813, g_loss: 0.6504, D(x): 0.96, D(G(z)): 0.52\n",
      "Epoch [15/100], d_loss: 0.7709, g_loss: 0.6463, D(x): 0.97, D(G(z)): 0.52\n",
      "Epoch [16/100], d_loss: 0.7778, g_loss: 0.6461, D(x): 0.97, D(G(z)): 0.52\n",
      "Epoch [17/100], d_loss: 0.7632, g_loss: 0.6481, D(x): 0.98, D(G(z)): 0.52\n",
      "Epoch [18/100], d_loss: 0.7648, g_loss: 0.6471, D(x): 0.98, D(G(z)): 0.52\n",
      "Epoch [19/100], d_loss: 0.7639, g_loss: 0.6522, D(x): 0.97, D(G(z)): 0.52\n",
      "Epoch [20/100], d_loss: 0.7577, g_loss: 0.6460, D(x): 0.98, D(G(z)): 0.52\n",
      "Epoch [21/100], d_loss: 0.7511, g_loss: 0.6517, D(x): 0.98, D(G(z)): 0.52\n",
      "Epoch [22/100], d_loss: 0.7573, g_loss: 0.6534, D(x): 0.98, D(G(z)): 0.52\n",
      "Epoch [23/100], d_loss: 0.7495, g_loss: 0.6553, D(x): 0.99, D(G(z)): 0.52\n",
      "Epoch [24/100], d_loss: 0.7443, g_loss: 0.6549, D(x): 0.99, D(G(z)): 0.52\n",
      "Epoch [25/100], d_loss: 0.7355, g_loss: 0.6601, D(x): 0.99, D(G(z)): 0.52\n",
      "Epoch [26/100], d_loss: 0.7337, g_loss: 0.6638, D(x): 0.99, D(G(z)): 0.52\n",
      "Epoch [27/100], d_loss: 0.7277, g_loss: 0.6670, D(x): 0.99, D(G(z)): 0.51\n",
      "Epoch [28/100], d_loss: 0.7274, g_loss: 0.6712, D(x): 0.99, D(G(z)): 0.51\n",
      "Epoch [29/100], d_loss: 0.7184, g_loss: 0.6724, D(x): 0.99, D(G(z)): 0.51\n",
      "Epoch [30/100], d_loss: 0.7182, g_loss: 0.6781, D(x): 0.99, D(G(z)): 0.51\n",
      "Epoch [31/100], d_loss: 0.7112, g_loss: 0.6829, D(x): 0.99, D(G(z)): 0.51\n",
      "Epoch [32/100], d_loss: 0.7069, g_loss: 0.6872, D(x): 0.99, D(G(z)): 0.50\n",
      "Epoch [33/100], d_loss: 0.7052, g_loss: 0.6896, D(x): 0.99, D(G(z)): 0.50\n",
      "Epoch [34/100], d_loss: 0.7052, g_loss: 0.6915, D(x): 0.99, D(G(z)): 0.50\n",
      "Epoch [35/100], d_loss: 0.6951, g_loss: 0.6961, D(x): 0.99, D(G(z)): 0.50\n",
      "Epoch [36/100], d_loss: 0.6906, g_loss: 0.6980, D(x): 1.00, D(G(z)): 0.50\n",
      "Epoch [37/100], d_loss: 0.6877, g_loss: 0.7001, D(x): 1.00, D(G(z)): 0.49\n",
      "Epoch [38/100], d_loss: 0.6863, g_loss: 0.7013, D(x): 1.00, D(G(z)): 0.49\n",
      "Epoch [39/100], d_loss: 0.6856, g_loss: 0.7069, D(x): 1.00, D(G(z)): 0.49\n",
      "Epoch [40/100], d_loss: 0.6836, g_loss: 0.7115, D(x): 0.99, D(G(z)): 0.49\n",
      "Epoch [41/100], d_loss: 0.6764, g_loss: 0.7129, D(x): 1.00, D(G(z)): 0.49\n",
      "Epoch [42/100], d_loss: 0.6801, g_loss: 0.7156, D(x): 1.00, D(G(z)): 0.49\n",
      "Epoch [43/100], d_loss: 0.6762, g_loss: 0.7133, D(x): 1.00, D(G(z)): 0.49\n",
      "Epoch [44/100], d_loss: 0.6766, g_loss: 0.7130, D(x): 1.00, D(G(z)): 0.49\n",
      "Epoch [45/100], d_loss: 0.6733, g_loss: 0.7138, D(x): 1.00, D(G(z)): 0.49\n",
      "Epoch [46/100], d_loss: 0.6782, g_loss: 0.7167, D(x): 0.99, D(G(z)): 0.49\n",
      "Epoch [47/100], d_loss: 0.6720, g_loss: 0.7143, D(x): 1.00, D(G(z)): 0.49\n",
      "Epoch [48/100], d_loss: 0.6802, g_loss: 0.7133, D(x): 0.99, D(G(z)): 0.49\n",
      "Epoch [49/100], d_loss: 0.6764, g_loss: 0.7112, D(x): 1.00, D(G(z)): 0.49\n",
      "Epoch [50/100], d_loss: 0.6792, g_loss: 0.7093, D(x): 1.00, D(G(z)): 0.49\n",
      "Epoch [51/100], d_loss: 0.6795, g_loss: 0.7090, D(x): 1.00, D(G(z)): 0.49\n",
      "Epoch [52/100], d_loss: 0.6871, g_loss: 0.7048, D(x): 1.00, D(G(z)): 0.49\n",
      "Epoch [53/100], d_loss: 0.6871, g_loss: 0.6997, D(x): 0.99, D(G(z)): 0.49\n",
      "Epoch [54/100], d_loss: 0.6982, g_loss: 0.7006, D(x): 0.99, D(G(z)): 0.50\n",
      "Epoch [55/100], d_loss: 0.6948, g_loss: 0.7012, D(x): 1.00, D(G(z)): 0.50\n",
      "Epoch [56/100], d_loss: 0.6969, g_loss: 0.6940, D(x): 1.00, D(G(z)): 0.50\n",
      "Epoch [57/100], d_loss: 0.6935, g_loss: 0.6945, D(x): 1.00, D(G(z)): 0.50\n",
      "Epoch [58/100], d_loss: 0.6939, g_loss: 0.6916, D(x): 1.00, D(G(z)): 0.50\n",
      "Epoch [59/100], d_loss: 0.6983, g_loss: 0.6880, D(x): 1.00, D(G(z)): 0.50\n",
      "Epoch [60/100], d_loss: 0.7099, g_loss: 0.6859, D(x): 0.99, D(G(z)): 0.50\n",
      "Epoch [61/100], d_loss: 0.7062, g_loss: 0.6859, D(x): 1.00, D(G(z)): 0.50\n",
      "Epoch [62/100], d_loss: 0.7080, g_loss: 0.6863, D(x): 1.00, D(G(z)): 0.51\n",
      "Epoch [63/100], d_loss: 0.7046, g_loss: 0.6858, D(x): 1.00, D(G(z)): 0.50\n",
      "Epoch [64/100], d_loss: 0.7405, g_loss: 0.6787, D(x): 0.98, D(G(z)): 0.51\n",
      "Epoch [65/100], d_loss: 0.7114, g_loss: 0.6798, D(x): 1.00, D(G(z)): 0.51\n",
      "Epoch [66/100], d_loss: 0.7110, g_loss: 0.6795, D(x): 1.00, D(G(z)): 0.51\n",
      "Epoch [67/100], d_loss: 0.7277, g_loss: 0.6783, D(x): 0.98, D(G(z)): 0.51\n",
      "Epoch [68/100], d_loss: 0.7184, g_loss: 0.6756, D(x): 0.99, D(G(z)): 0.51\n",
      "Epoch [69/100], d_loss: 0.7212, g_loss: 0.6756, D(x): 0.99, D(G(z)): 0.51\n",
      "Epoch [70/100], d_loss: 0.7168, g_loss: 0.6781, D(x): 1.00, D(G(z)): 0.51\n",
      "Epoch [71/100], d_loss: 0.7090, g_loss: 0.6827, D(x): 1.00, D(G(z)): 0.51\n",
      "Epoch [72/100], d_loss: 0.7123, g_loss: 0.6812, D(x): 1.00, D(G(z)): 0.51\n",
      "Epoch [73/100], d_loss: 0.7122, g_loss: 0.6768, D(x): 0.99, D(G(z)): 0.51\n",
      "Epoch [74/100], d_loss: 0.7130, g_loss: 0.6824, D(x): 0.99, D(G(z)): 0.51\n",
      "Epoch [75/100], d_loss: 0.7120, g_loss: 0.6784, D(x): 0.99, D(G(z)): 0.51\n",
      "Epoch [76/100], d_loss: 0.7103, g_loss: 0.6846, D(x): 0.99, D(G(z)): 0.51\n",
      "Epoch [77/100], d_loss: 0.7101, g_loss: 0.6884, D(x): 0.99, D(G(z)): 0.50\n",
      "Epoch [78/100], d_loss: 0.7017, g_loss: 0.6843, D(x): 1.00, D(G(z)): 0.50\n",
      "Epoch [79/100], d_loss: 0.7002, g_loss: 0.6848, D(x): 1.00, D(G(z)): 0.50\n",
      "Epoch [80/100], d_loss: 0.6999, g_loss: 0.6924, D(x): 0.99, D(G(z)): 0.50\n",
      "Epoch [81/100], d_loss: 0.7113, g_loss: 0.6923, D(x): 0.98, D(G(z)): 0.50\n",
      "Epoch [82/100], d_loss: 0.6899, g_loss: 0.6941, D(x): 1.00, D(G(z)): 0.50\n",
      "Epoch [83/100], d_loss: 0.6963, g_loss: 0.6959, D(x): 1.00, D(G(z)): 0.50\n",
      "Epoch [84/100], d_loss: 0.6911, g_loss: 0.6997, D(x): 1.00, D(G(z)): 0.50\n",
      "Epoch [85/100], d_loss: 0.6960, g_loss: 0.7011, D(x): 0.99, D(G(z)): 0.50\n",
      "Epoch [86/100], d_loss: 0.6954, g_loss: 0.6996, D(x): 0.99, D(G(z)): 0.50\n",
      "Epoch [87/100], d_loss: 0.6853, g_loss: 0.7017, D(x): 1.00, D(G(z)): 0.49\n",
      "Epoch [88/100], d_loss: 0.6899, g_loss: 0.7044, D(x): 0.99, D(G(z)): 0.49\n",
      "Epoch [89/100], d_loss: 0.7515, g_loss: 0.7085, D(x): 0.97, D(G(z)): 0.49\n",
      "Epoch [90/100], d_loss: 0.6864, g_loss: 0.7059, D(x): 0.99, D(G(z)): 0.49\n",
      "Epoch [91/100], d_loss: 0.6773, g_loss: 0.7101, D(x): 1.00, D(G(z)): 0.49\n",
      "Epoch [92/100], d_loss: 0.6761, g_loss: 0.7132, D(x): 1.00, D(G(z)): 0.49\n",
      "Epoch [93/100], d_loss: 0.6909, g_loss: 0.7131, D(x): 0.99, D(G(z)): 0.49\n",
      "Epoch [94/100], d_loss: 0.7355, g_loss: 0.7167, D(x): 0.97, D(G(z)): 0.49\n",
      "Epoch [95/100], d_loss: 0.6781, g_loss: 0.7149, D(x): 0.99, D(G(z)): 0.49\n",
      "Epoch [96/100], d_loss: 0.6719, g_loss: 0.7171, D(x): 1.00, D(G(z)): 0.49\n",
      "Epoch [97/100], d_loss: 0.7167, g_loss: 0.7170, D(x): 0.98, D(G(z)): 0.49\n",
      "Epoch [98/100], d_loss: 0.6748, g_loss: 0.7224, D(x): 0.99, D(G(z)): 0.49\n",
      "Epoch [99/100], d_loss: 0.6708, g_loss: 0.7216, D(x): 1.00, D(G(z)): 0.49\n",
      "Epoch [100/100], d_loss: 0.6672, g_loss: 0.7204, D(x): 1.00, D(G(z)): 0.49\n",
      "訓練完成！\n"
     ]
    }
   ],
   "execution_count": 4
  },
  {
   "cell_type": "code",
   "metadata": {
    "ExecuteTime": {
     "end_time": "2024-09-10T17:18:03.064841Z",
     "start_time": "2024-09-10T17:18:02.940971Z"
    }
   },
   "source": [
    "plt.plot(every_epoch,  every_d_loss, linestyle='-', label='Discriminator Loss')\n",
    "plt.plot(every_epoch,  every_g_loss, linestyle='-', label='Generator Loss')\n",
    "plt.title(f'在{data_len}筆資料和{num_epochs}次epoch下d_loss與g_loss的變化')\n",
    "plt.xlabel('epoch')\n",
    "plt.ylabel('d_loss')\n",
    "\n",
    "\n",
    "plt.legend() \n",
    "\n",
    "plt.show()"
   ],
   "outputs": [
    {
     "data": {
      "text/plain": [
       "<Figure size 640x480 with 1 Axes>"
      ],
      "image/png": "[encoded data removed]"
     },
     "metadata": {},
     "output_type": "display_data"
    }
   ],
   "execution_count": 5
  },
  {
   "cell_type": "markdown",
   "metadata": {},
   "source": [
    "利用訓練好的GAN去生成音訊特徵"
   ]
  },
  {
   "cell_type": "code",
   "metadata": {
    "ExecuteTime": {
     "end_time": "2024-09-10T17:18:03.140993Z",
     "start_time": "2024-09-10T17:18:03.110612Z"
    }
   },
   "source": [
    "num_samples = 10\n",
    "\n",
    "# 創建新的MFCC數據\n",
    "new_mfcc_data = []\n",
    "generator.eval()  # 設置生成器為評估模式\n",
    "\n",
    "for i in range(num_samples):\n",
    "    noise = torch.randn(1, input_dim).to(device)  # 創建隨機噪聲向量\n",
    "    with torch.no_grad():  # 禁用梯度計算\n",
    "        generated_mfcc = generator(noise).view(1, *mfcc_shape)  # 生成數據並轉換形狀\n",
    "    new_mfcc_data.append(generated_mfcc.cpu().detach().numpy())  # 將數據從GPU移到CPU，並轉換為numpy數組\n",
    "\n",
    "new_mfcc_data = np.array(new_mfcc_data)  # 將列表轉換為numpy數組"
   ],
   "outputs": [],
   "execution_count": 6
  },
  {
   "cell_type": "markdown",
   "metadata": {},
   "source": [
    "資料做分群"
   ]
  },
  {
   "cell_type": "code",
   "metadata": {
    "ExecuteTime": {
     "end_time": "2024-09-10T17:18:05.556406Z",
     "start_time": "2024-09-10T17:18:03.189998Z"
    }
   },
   "source": [
    "from sklearn.decomposition import PCA\n",
    "from sklearn.cluster import DBSCAN"
   ],
   "outputs": [],
   "execution_count": 7
  },
  {
   "cell_type": "code",
   "metadata": {
    "ExecuteTime": {
     "end_time": "2024-09-10T17:18:10.874069Z",
     "start_time": "2024-09-10T17:18:05.699420Z"
    }
   },
   "source": [
    "#######################################################################\n",
    "#載入mfcc為data\n",
    "npy_file_list = glob(f\"{os.getcwd()}\\\\mfcc\\\\*.npy\")\n",
    "print(f\"type(npy_file_list): {type(npy_file_list)}\")\n",
    "print(f\"len(npy_file_list): {len(npy_file_list)}\")\n",
    "\n",
    "mfcc_list = []\n",
    "\n",
    "for npy_file in tqdm(npy_file_list):\n",
    "    mfcc = np.load(file=npy_file)\n",
    "    mfcc_list.append(mfcc)\n",
    "\n",
    "mfcc_list = np.array(mfcc_list)\n",
    "print(f\"type(mfcc_list): {type(mfcc_list)}\")\n",
    "print(f\"mfcc_list.shape: {mfcc_list.shape}\")\n",
    "\n",
    "all_mfcc = []\n",
    "for mfcc in mfcc_list:\n",
    "    all_mfcc.append(mfcc)\n",
    "\n",
    "data = np.array(all_mfcc)\n",
    "data_len = len(data)\n",
    "#######################################################################\n",
    "\n",
    "#######################################################################\n",
    "#載入labelByself為labels\n",
    "load_data = np.load('labelByself.npz')\n",
    "labels = load_data['data']\n",
    "#######################################################################\n",
    "\n"
   ],
   "outputs": [
    {
     "name": "stdout",
     "output_type": "stream",
     "text": [
      "type(npy_file_list): <class 'list'>\n",
      "len(npy_file_list): 32103\n"
     ]
    },
    {
     "name": "stderr",
     "output_type": "stream",
     "text": [
      "100%|██████████| 32103/32103 [00:05<00:00, 6387.83it/s]"
     ]
    },
    {
     "name": "stdout",
     "output_type": "stream",
     "text": [
      "type(mfcc_list): <class 'numpy.ndarray'>\n",
      "mfcc_list.shape: (32103, 13, 44)\n"
     ]
    },
    {
     "name": "stderr",
     "output_type": "stream",
     "text": [
      "\n"
     ]
    }
   ],
   "execution_count": 8
  },
  {
   "cell_type": "code",
   "metadata": {
    "ExecuteTime": {
     "end_time": "2024-09-10T17:18:11.293820Z",
     "start_time": "2024-09-10T17:18:10.953070Z"
    }
   },
   "source": [
    "num_samples, mfcc_height, mfcc_width = data.shape\n",
    "flat_mfcc_data = data.reshape(data.shape[0], -1) \n",
    "pca = PCA(n_components=2)\n",
    "data_pca= pca.fit_transform(flat_mfcc_data)\n",
    "\n",
    "clustering = DBSCAN(eps=3, min_samples=2).fit(data_pca)\n",
    "print(clustering.labels_[:1000])\n"
   ],
   "outputs": [
    {
     "name": "stdout",
     "output_type": "stream",
     "text": [
      "[ 0  1  2  0  3 -1  1  2  0  1  1  1  4  1  5  0  1  1  1  0  1  6  0  1\n",
      "  1  7  1  1  1  1  1  2 -1  0  8  9 10  2  0 11  1  1  1  1  0  2  1  2\n",
      " 12  2  1 -1  1  2  1 -1  1  1 13 14 15  1  1  0  1  1  1  1  2  1  2  0\n",
      "  1  2 16  1  1  1  1  2  1 17  1  1  0  1  1  1  1  1  1  1  1  1  1  1\n",
      "  1 -1 -1  1  1  1  2  1  1  1  1  1  2  1  1  2  1  0  1  1  1  1 18  1\n",
      "  1  2  1  1  1  1  1 19  1  1  1  1  1  1 20  1  2  1  1 21  1 22  1  1\n",
      "  1  1  2  2  1  1  0 -1 -1 -1 -1 -1 -1 -1 -1 -1 -1 -1 -1 -1 -1 -1 -1 -1\n",
      " -1 -1 -1 -1 -1 -1 -1 -1 -1 -1 -1 -1 -1 -1 -1 -1 -1 -1 -1 -1 -1 -1 -1 -1\n",
      " -1 -1 -1 -1 -1 -1 -1 -1 -1 -1 -1 -1 -1 -1 -1 -1 -1 -1 -1 -1 -1 -1 -1 -1\n",
      " -1 -1 -1 -1 -1 -1 -1 -1 -1 23 -1 24 25 -1 -1 -1 -1 -1 26 -1 -1 27 -1 -1\n",
      " -1 -1 -1 -1 -1 -1 -1 -1 -1 -1 -1 -1 -1 -1 -1 -1 -1 -1 -1 -1 -1 -1 -1 -1\n",
      " -1 -1 -1 -1 -1 -1 -1 -1 -1 -1 -1 -1 -1 -1 -1 -1 -1 -1 28 29 -1 -1 -1 -1\n",
      " -1 -1 -1 -1 -1 -1 -1 -1 -1 -1 -1 -1 -1 -1 -1 -1 -1 -1 -1 -1 -1 -1 -1 -1\n",
      " -1 -1 30 31 -1 -1 -1 32 -1 -1 -1 -1 -1 -1 -1 -1 -1 -1 -1 -1 -1 -1 -1 -1\n",
      " -1 -1 -1 -1 -1 -1 -1 -1 -1 -1 -1 -1 -1 -1 23 -1 -1 -1 -1 -1 -1 -1 -1 -1\n",
      " -1 -1 -1 -1 -1 -1 -1 -1 -1 -1 -1 -1 -1 -1 -1 -1 -1 -1 -1 -1 -1 -1 -1 -1\n",
      " -1 -1 -1 -1 -1 -1 -1 -1 -1 33 -1 -1 -1 -1 -1 34 -1 -1 -1 -1 -1 -1 -1 -1\n",
      " -1 -1 -1 -1 -1 -1 -1 -1 -1 -1 -1 -1 35 -1 -1 -1 -1 -1 -1 -1 -1 -1 -1 -1\n",
      " -1 36 37 38 39 -1 -1 -1 -1 -1 -1 -1 -1 -1 -1 -1 -1 36 37 38 39 -1 -1 -1\n",
      " -1 -1 -1 -1 -1 -1 -1 -1 -1 -1 -1 -1 -1 -1 -1 -1 -1 -1 -1 -1 -1 40 -1 -1\n",
      " -1 -1 -1 -1 -1 -1 -1 -1 -1 -1 -1 41 -1 -1 -1 -1 -1 -1 -1 -1 29 -1 -1 -1\n",
      " -1 -1 -1 -1 42 -1 -1 -1 -1 -1 -1 -1 -1 -1 -1 -1 -1 -1 -1 -1 -1 -1 -1 -1\n",
      " -1 -1 -1 -1 -1 -1 -1 43 -1 -1 -1 -1 -1 -1 -1 -1 -1 -1 -1 -1 -1 -1 30 -1\n",
      " -1 -1 -1 -1 -1 -1 -1 -1 -1 -1 -1 -1 -1 -1 -1 -1 -1 -1 -1 -1 -1 44 -1 -1\n",
      " -1 -1 -1 -1 -1 -1 -1 -1 -1 -1 -1 -1 -1 45 -1 -1 -1 -1 -1 -1 -1 -1 46 -1\n",
      " -1 -1 -1 -1 -1 -1 -1 -1 -1 -1 -1 -1 -1 -1 -1 -1 -1 -1 -1 -1 -1 -1 -1 -1\n",
      " -1 -1 47 -1 -1 -1 -1 -1 -1 -1 -1 -1 -1 -1 -1 -1 -1 -1 -1 -1 -1 -1 -1 -1\n",
      " -1 -1 -1 -1 -1 48 -1 49 -1 -1 -1 50 -1 -1 -1 -1 -1 -1 -1 -1 -1 -1 -1 -1\n",
      " -1 -1 -1 32 -1 -1 -1 -1 25 -1 -1 -1 -1 -1 -1 -1 -1 -1 -1 -1 -1 -1 -1 -1\n",
      " -1 -1 -1 -1 -1 -1 -1 -1 -1 -1 -1 -1 -1 51 -1 -1 -1 -1 -1 -1 -1 -1 -1 -1\n",
      " -1 -1 -1 -1 -1 -1 -1 -1 -1 -1 -1 -1 -1 -1 -1 -1 -1 -1 -1 52 53 -1 -1 -1\n",
      " -1 -1 -1 -1 -1 -1 -1 -1 -1 -1 -1 -1 -1 -1 -1 -1 -1 -1 -1 -1 -1 -1 -1 48\n",
      " -1 -1 -1 54 -1 -1 -1 -1 -1 -1 -1 -1 -1 -1 -1 -1 -1 -1 -1 -1 -1 -1 -1 -1\n",
      " -1 -1 -1 -1 -1 -1 -1 -1 -1 -1 -1 -1 -1 -1 -1 -1 55 56 57 58 59 60 -1 -1\n",
      " -1 -1 -1 -1 27 -1 -1 -1 55 56 57 58 59 60 -1 -1 -1 -1 -1 -1 -1 -1 33 61\n",
      " -1 -1 -1 -1 -1 -1 -1 -1 -1 -1 -1 -1 -1 -1 -1 -1 62 35 -1 63 -1 -1 -1 -1\n",
      " -1 -1 -1 -1 -1 -1 -1 -1 -1 -1 -1 -1 -1 -1 -1 -1 -1 64 -1 -1 -1 -1 -1 65\n",
      " -1 -1 -1 -1 -1 -1 -1 -1 -1 -1 -1 -1 -1 -1 -1 -1 -1 -1 -1 -1 -1 -1 66 -1\n",
      " -1 -1 -1 67 -1 -1 -1 -1 -1 -1 -1 -1 -1 -1 -1 -1 -1 -1 -1 -1 68 -1 -1 -1\n",
      " -1 -1 -1 -1 -1 -1 -1 -1 -1 -1 -1 -1 -1 -1 -1 -1 -1 -1 -1 -1 -1 -1 69 53\n",
      " -1 -1 -1 -1 -1 70 71 72 73 74 -1 -1 -1 -1 -1 -1 -1 -1 72 73 74 -1 -1 -1\n",
      " -1 -1 -1 -1 -1 -1 -1 -1 -1 -1 -1 -1 -1 -1 -1 -1]\n"
     ]
    }
   ],
   "execution_count": 9
  }
 ],
 "metadata": {
  "kernelspec": {
   "display_name": "Py39",
   "language": "python",
   "name": "python3"
  },
  "language_info": {
   "codemirror_mode": {
    "name": "ipython",
    "version": 3
   },
   "file_extension": ".py",
   "mimetype": "text/x-python",
   "name": "python",
   "nbconvert_exporter": "python",
   "pygments_lexer": "ipython3",
   "version": "3.9.18"
  }
 },
 "nbformat": 4,
 "nbformat_minor": 2
}
