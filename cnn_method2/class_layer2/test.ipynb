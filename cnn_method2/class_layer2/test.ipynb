{
 "cells": [
  {
   "cell_type": "code",
   "id": "initial_id",
   "metadata": {
    "collapsed": true,
    "ExecuteTime": {
     "end_time": "2024-10-02T09:17:29.517497Z",
     "start_time": "2024-10-02T09:17:26.986482Z"
    }
   },
   "source": [
    "import platform\n",
    "print(f\"platform.python_version(): {platform.python_version()}\")\n",
    "\n",
    "import os\n",
    "import scipy\n",
    "import numpy as np\n",
    "from glob import glob\n",
    "from tqdm import tqdm\n",
    "import pandas as pd\n",
    "import json\n",
    "\n",
    "from sklearn.preprocessing import StandardScaler\n",
    "from sklearn.model_selection import train_test_split\n",
    "\n",
    "import tensorflow as tf\n",
    "from tensorflow import keras\n",
    "from keras import Sequential\n",
    "from keras.utils import to_categorical\n",
    "from keras.layers import Dense, Flatten, Conv2D, MaxPooling2D, BatchNormalization, Activation\n",
    "\n",
    "import matplotlib.pyplot as plt\n",
    "\n",
    "print(f\"np.version.version: {np.version.version}\")\n",
    "print(f\"scipy.__version__: {scipy.__version__}\")\n",
    "print(f\"tf.__version__: {tf.__version__}\")\n",
    "# 確認GPU是否可用\n",
    "gpus = tf.config.experimental.list_physical_devices('GPU')\n",
    "print(f\"tf.config.list_physical_devices('GPU'): {tf.config.list_physical_devices('GPU')}\")"
   ],
   "outputs": [
    {
     "name": "stdout",
     "output_type": "stream",
     "text": [
      "platform.python_version(): 3.9.13\n",
      "np.version.version: 1.22.4\n",
      "scipy.__version__: 1.7.3\n",
      "tf.__version__: 2.10.1\n",
      "tf.config.list_physical_devices('GPU'): [PhysicalDevice(name='/physical_device:GPU:0', device_type='GPU')]\n"
     ]
    }
   ],
   "execution_count": 1
  },
  {
   "metadata": {},
   "cell_type": "code",
   "outputs": [],
   "execution_count": null,
   "source": [
    "npy_file_list = glob(f\"..\\\\..\\\\data\\\\\\\\*.npy\")\n",
    "print(f\"type(npy_file_list): {type(npy_file_list)}\")\n",
    "print(f\"len(npy_file_list): {len(npy_file_list)}\")\n",
    "# npy_file_list"
   ],
   "id": "efbe666e186aa53f"
  }
 ],
 "metadata": {
  "kernelspec": {
   "display_name": "Python 3",
   "language": "python",
   "name": "python3"
  },
  "language_info": {
   "codemirror_mode": {
    "name": "ipython",
    "version": 2
   },
   "file_extension": ".py",
   "mimetype": "text/x-python",
   "name": "python",
   "nbconvert_exporter": "python",
   "pygments_lexer": "ipython2",
   "version": "2.7.6"
  }
 },
 "nbformat": 4,
 "nbformat_minor": 5
}
