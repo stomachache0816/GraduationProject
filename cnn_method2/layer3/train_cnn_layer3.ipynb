{
 "cells": [
  {
   "cell_type": "code",
   "id": "initial_id",
   "metadata": {
    "collapsed": true,
    "ExecuteTime": {
     "end_time": "2024-10-19T16:33:23.979168Z",
     "start_time": "2024-10-19T16:33:17.028014Z"
    }
   },
   "source": [
    "import pandas as pd\n",
    "from glob import glob\n",
    "from tqdm import tqdm\n",
    "import json\n",
    "from model_training_process import *\n",
    "import requests\n",
    "import matplotlib.pyplot as plt\n",
    "import os"
   ],
   "outputs": [],
   "execution_count": 2
  },
  {
   "metadata": {},
   "cell_type": "markdown",
   "source": [
    "檔名音調: ' ', 2, 3, 4\n",
    "訓練標籤:  1 , 2, 3, 4, 5"
   ],
   "id": "b882b327aa8fab70"
  },
  {
   "metadata": {
    "ExecuteTime": {
     "end_time": "2024-10-19T16:33:23.995164Z",
     "start_time": "2024-10-19T16:33:23.983682Z"
    }
   },
   "cell_type": "code",
   "source": [
    "# data_accent_label = list()\n",
    "# for npy_file in tqdm(npy_file_path_list_selected):\n",
    "#     pinyin = npy_file.split(\"_\")[1]\n",
    "#     accent_label = int(pinyin[-1] if pinyin[-1].isdigit() else 1)\n",
    "#     data_accent_label.append(accent_label)\n",
    "# data_accent_label = np.array(data_accent_label)\n",
    "# print(f\"data_accent_label.shape = {data_accent_label.shape}\")"
   ],
   "id": "9beb1a347b713387",
   "outputs": [],
   "execution_count": 3
  },
  {
   "metadata": {
    "ExecuteTime": {
     "end_time": "2024-10-19T16:33:24.041770Z",
     "start_time": "2024-10-19T16:33:24.012167Z"
    }
   },
   "cell_type": "code",
   "source": [
    "class_df = pd.read_csv(\"..\\\\tables\\\\corrected_class_df_pinyin_label_table.csv\")\n",
    "class_df[[\"pinyin\", \"class_label\"]]"
   ],
   "id": "41ca6e7f1ceb2b4c",
   "outputs": [
    {
     "data": {
      "text/plain": [
       "    pinyin  class_label\n",
       "0      zhi            0\n",
       "1      chi            0\n",
       "2      shi            0\n",
       "3       ri            0\n",
       "4       zi            1\n",
       "..     ...          ...\n",
       "402    xun           20\n",
       "403   yong           18\n",
       "404  jiong           20\n",
       "405  qiong           20\n",
       "406  xiong           20\n",
       "\n",
       "[407 rows x 2 columns]"
      ],
      "text/html": [
       "<div>\n",
       "<style scoped>\n",
       "    .dataframe tbody tr th:only-of-type {\n",
       "        vertical-align: middle;\n",
       "    }\n",
       "\n",
       "    .dataframe tbody tr th {\n",
       "        vertical-align: top;\n",
       "    }\n",
       "\n",
       "    .dataframe thead th {\n",
       "        text-align: right;\n",
       "    }\n",
       "</style>\n",
       "<table border=\"1\" class=\"dataframe\">\n",
       "  <thead>\n",
       "    <tr style=\"text-align: right;\">\n",
       "      <th></th>\n",
       "      <th>pinyin</th>\n",
       "      <th>class_label</th>\n",
       "    </tr>\n",
       "  </thead>\n",
       "  <tbody>\n",
       "    <tr>\n",
       "      <th>0</th>\n",
       "      <td>zhi</td>\n",
       "      <td>0</td>\n",
       "    </tr>\n",
       "    <tr>\n",
       "      <th>1</th>\n",
       "      <td>chi</td>\n",
       "      <td>0</td>\n",
       "    </tr>\n",
       "    <tr>\n",
       "      <th>2</th>\n",
       "      <td>shi</td>\n",
       "      <td>0</td>\n",
       "    </tr>\n",
       "    <tr>\n",
       "      <th>3</th>\n",
       "      <td>ri</td>\n",
       "      <td>0</td>\n",
       "    </tr>\n",
       "    <tr>\n",
       "      <th>4</th>\n",
       "      <td>zi</td>\n",
       "      <td>1</td>\n",
       "    </tr>\n",
       "    <tr>\n",
       "      <th>...</th>\n",
       "      <td>...</td>\n",
       "      <td>...</td>\n",
       "    </tr>\n",
       "    <tr>\n",
       "      <th>402</th>\n",
       "      <td>xun</td>\n",
       "      <td>20</td>\n",
       "    </tr>\n",
       "    <tr>\n",
       "      <th>403</th>\n",
       "      <td>yong</td>\n",
       "      <td>18</td>\n",
       "    </tr>\n",
       "    <tr>\n",
       "      <th>404</th>\n",
       "      <td>jiong</td>\n",
       "      <td>20</td>\n",
       "    </tr>\n",
       "    <tr>\n",
       "      <th>405</th>\n",
       "      <td>qiong</td>\n",
       "      <td>20</td>\n",
       "    </tr>\n",
       "    <tr>\n",
       "      <th>406</th>\n",
       "      <td>xiong</td>\n",
       "      <td>20</td>\n",
       "    </tr>\n",
       "  </tbody>\n",
       "</table>\n",
       "<p>407 rows × 2 columns</p>\n",
       "</div>"
      ]
     },
     "execution_count": 4,
     "metadata": {},
     "output_type": "execute_result"
    }
   ],
   "execution_count": 4
  },
  {
   "metadata": {
    "ExecuteTime": {
     "end_time": "2024-10-19T16:39:37.860509Z",
     "start_time": "2024-10-19T16:39:37.843489Z"
    }
   },
   "cell_type": "code",
   "source": [
    "class_df['class_label_index'] = class_df.groupby('class_label').cumcount()\n",
    "class_df[[\"pinyin\", \"class_label\", \"class_label_index\"]]"
   ],
   "id": "584610213f9edb74",
   "outputs": [
    {
     "data": {
      "text/plain": [
       "    pinyin  class_label  class_label_index\n",
       "0      zhi            0                  0\n",
       "1      chi            0                  1\n",
       "2      shi            0                  2\n",
       "3       ri            0                  3\n",
       "4       zi            1                  0\n",
       "..     ...          ...                ...\n",
       "402    xun           20                 11\n",
       "403   yong           18                  4\n",
       "404  jiong           20                 12\n",
       "405  qiong           20                 13\n",
       "406  xiong           20                 14\n",
       "\n",
       "[407 rows x 3 columns]"
      ],
      "text/html": [
       "<div>\n",
       "<style scoped>\n",
       "    .dataframe tbody tr th:only-of-type {\n",
       "        vertical-align: middle;\n",
       "    }\n",
       "\n",
       "    .dataframe tbody tr th {\n",
       "        vertical-align: top;\n",
       "    }\n",
       "\n",
       "    .dataframe thead th {\n",
       "        text-align: right;\n",
       "    }\n",
       "</style>\n",
       "<table border=\"1\" class=\"dataframe\">\n",
       "  <thead>\n",
       "    <tr style=\"text-align: right;\">\n",
       "      <th></th>\n",
       "      <th>pinyin</th>\n",
       "      <th>class_label</th>\n",
       "      <th>class_label_index</th>\n",
       "    </tr>\n",
       "  </thead>\n",
       "  <tbody>\n",
       "    <tr>\n",
       "      <th>0</th>\n",
       "      <td>zhi</td>\n",
       "      <td>0</td>\n",
       "      <td>0</td>\n",
       "    </tr>\n",
       "    <tr>\n",
       "      <th>1</th>\n",
       "      <td>chi</td>\n",
       "      <td>0</td>\n",
       "      <td>1</td>\n",
       "    </tr>\n",
       "    <tr>\n",
       "      <th>2</th>\n",
       "      <td>shi</td>\n",
       "      <td>0</td>\n",
       "      <td>2</td>\n",
       "    </tr>\n",
       "    <tr>\n",
       "      <th>3</th>\n",
       "      <td>ri</td>\n",
       "      <td>0</td>\n",
       "      <td>3</td>\n",
       "    </tr>\n",
       "    <tr>\n",
       "      <th>4</th>\n",
       "      <td>zi</td>\n",
       "      <td>1</td>\n",
       "      <td>0</td>\n",
       "    </tr>\n",
       "    <tr>\n",
       "      <th>...</th>\n",
       "      <td>...</td>\n",
       "      <td>...</td>\n",
       "      <td>...</td>\n",
       "    </tr>\n",
       "    <tr>\n",
       "      <th>402</th>\n",
       "      <td>xun</td>\n",
       "      <td>20</td>\n",
       "      <td>11</td>\n",
       "    </tr>\n",
       "    <tr>\n",
       "      <th>403</th>\n",
       "      <td>yong</td>\n",
       "      <td>18</td>\n",
       "      <td>4</td>\n",
       "    </tr>\n",
       "    <tr>\n",
       "      <th>404</th>\n",
       "      <td>jiong</td>\n",
       "      <td>20</td>\n",
       "      <td>12</td>\n",
       "    </tr>\n",
       "    <tr>\n",
       "      <th>405</th>\n",
       "      <td>qiong</td>\n",
       "      <td>20</td>\n",
       "      <td>13</td>\n",
       "    </tr>\n",
       "    <tr>\n",
       "      <th>406</th>\n",
       "      <td>xiong</td>\n",
       "      <td>20</td>\n",
       "      <td>14</td>\n",
       "    </tr>\n",
       "  </tbody>\n",
       "</table>\n",
       "<p>407 rows × 3 columns</p>\n",
       "</div>"
      ]
     },
     "execution_count": 5,
     "metadata": {},
     "output_type": "execute_result"
    }
   ],
   "execution_count": 5
  },
  {
   "metadata": {
    "ExecuteTime": {
     "end_time": "2024-10-19T16:39:52.971905Z",
     "start_time": "2024-10-19T16:39:52.780943Z"
    }
   },
   "cell_type": "code",
   "source": [
    "npy_file_path_list = glob(\"..\\\\..\\\\data\\\\*EduVer\\\\*\")\n",
    "print(f\"len(npy_file_path_list): {len(npy_file_path_list)}\")"
   ],
   "id": "f0a9ecbba8286a45",
   "outputs": [
    {
     "name": "stdout",
     "output_type": "stream",
     "text": [
      "len(npy_file_path_list): 67173\n"
     ]
    }
   ],
   "execution_count": 6
  },
  {
   "metadata": {
    "ExecuteTime": {
     "end_time": "2024-10-19T16:40:15.467225Z",
     "start_time": "2024-10-19T16:40:14.216155Z"
    }
   },
   "cell_type": "code",
   "source": [
    "selected_npy_file_path_list = list()\n",
    "for npy_file_path in npy_file_path_list:\n",
    "    pinyin = npy_file_path.split(\"_\")[1]\n",
    "    pinyin_non_accent = pinyin[:-1] if pinyin[-1].isdigit() else pinyin\n",
    "    if pinyin_non_accent in list(class_df[\"pinyin\"]):\n",
    "        selected_npy_file_path_list.append(npy_file_path)\n",
    "print(f\"len(selected_npy_file_path_list): {len(selected_npy_file_path_list)}\")"
   ],
   "id": "284fdba74a0ba564",
   "outputs": [
    {
     "name": "stdout",
     "output_type": "stream",
     "text": [
      "len(selected_npy_file_path_list): 66852\n"
     ]
    }
   ],
   "execution_count": 7
  },
  {
   "metadata": {
    "ExecuteTime": {
     "end_time": "2024-10-19T16:45:36.506382Z",
     "start_time": "2024-10-19T16:41:39.791775Z"
    }
   },
   "cell_type": "code",
   "source": [
    "dic = dict()\n",
    "\n",
    "for i in range(len(class_df.groupby(\"class_label\").count().index)):\n",
    "    dic[f\"class_{i}_mfcc_matrix_list\"] = list()\n",
    "    dic[f\"class_{i}_class_label_index_list\"] = list()\n",
    "\n",
    "for npy_file_path in tqdm(selected_npy_file_path_list):\n",
    "    pinyin = npy_file_path.split(\"_\")[1]\n",
    "    pinyin_non_accent = pinyin[:-1] if pinyin[-1].isdigit() else pinyin\n",
    "    accent_label = int(pinyin[-1] if pinyin[-1].isdigit() else 1)\n",
    "    \n",
    "    class_label = class_df.loc[class_df[\"pinyin\"] == pinyin_non_accent, \"class_label\"].values[0]\n",
    "    # class_label_index = class_df.loc[class_df[\"pinyin\"] == pinyin_non_accent, \"class_label_index\"].values[0]\n",
    "    # print(f\"{pinyin_non_accent}, {class_label}, {class_label_index}\")\n",
    "\n",
    "    mfcc_matrix = np.load(npy_file_path)\n",
    "    dic[f\"class_{class_label}_mfcc_matrix_list\"].append(mfcc_matrix)\n",
    "    dic[f\"class_{class_label}_class_label_index_list\"].append(accent_label)\n",
    "\n",
    "for i in range(len(class_df.groupby(\"class_label\").count().index)):\n",
    "    dic[f\"class_{i}_mfcc_matrix_list\"] = np.array(dic[f\"class_{i}_mfcc_matrix_list\"])\n",
    "    dic[f\"class_{i}_class_label_index_list\"] = np.array(dic[f\"class_{i}_class_label_index_list\"])\n",
    "\n",
    "for i in range(len(class_df.groupby(\"class_label\").count().index)):\n",
    "    print(f\"class_{i}_mfcc_matrix_list.shape: {dic[f'class_{i}_mfcc_matrix_list'].shape}\")\n",
    "    print(f\"class_{i}_class_label_index_list.shape: {dic[f'class_{i}_class_label_index_list'].shape}\")"
   ],
   "id": "db505b549bb2bd6d",
   "outputs": [
    {
     "name": "stderr",
     "output_type": "stream",
     "text": [
      "100%|██████████| 66852/66852 [03:56<00:00, 282.52it/s]\n"
     ]
    },
    {
     "name": "stdout",
     "output_type": "stream",
     "text": [
      "class_0_mfcc_matrix_list.shape: (3133, 13, 44)\n",
      "class_0_class_label_index_list.shape: (3133,)\n",
      "class_1_mfcc_matrix_list.shape: (844, 13, 44)\n",
      "class_1_class_label_index_list.shape: (844,)\n",
      "class_2_mfcc_matrix_list.shape: (1322, 13, 44)\n",
      "class_2_class_label_index_list.shape: (1322,)\n",
      "class_3_mfcc_matrix_list.shape: (5333, 13, 44)\n",
      "class_3_class_label_index_list.shape: (5333,)\n",
      "class_4_mfcc_matrix_list.shape: (7255, 13, 44)\n",
      "class_4_class_label_index_list.shape: (7255,)\n",
      "class_5_mfcc_matrix_list.shape: (4499, 13, 44)\n",
      "class_5_class_label_index_list.shape: (4499,)\n",
      "class_6_mfcc_matrix_list.shape: (6060, 13, 44)\n",
      "class_6_class_label_index_list.shape: (6060,)\n",
      "class_7_mfcc_matrix_list.shape: (3050, 13, 44)\n",
      "class_7_class_label_index_list.shape: (3050,)\n",
      "class_8_mfcc_matrix_list.shape: (3167, 13, 44)\n",
      "class_8_class_label_index_list.shape: (3167,)\n",
      "class_9_mfcc_matrix_list.shape: (2396, 13, 44)\n",
      "class_9_class_label_index_list.shape: (2396,)\n",
      "class_10_mfcc_matrix_list.shape: (4181, 13, 44)\n",
      "class_10_class_label_index_list.shape: (4181,)\n",
      "class_11_mfcc_matrix_list.shape: (7682, 13, 44)\n",
      "class_11_class_label_index_list.shape: (7682,)\n",
      "class_12_mfcc_matrix_list.shape: (1852, 13, 44)\n",
      "class_12_class_label_index_list.shape: (1852,)\n",
      "class_13_mfcc_matrix_list.shape: (851, 13, 44)\n",
      "class_13_class_label_index_list.shape: (851,)\n",
      "class_14_mfcc_matrix_list.shape: (2651, 13, 44)\n",
      "class_14_class_label_index_list.shape: (2651,)\n",
      "class_15_mfcc_matrix_list.shape: (3583, 13, 44)\n",
      "class_15_class_label_index_list.shape: (3583,)\n",
      "class_16_mfcc_matrix_list.shape: (3674, 13, 44)\n",
      "class_16_class_label_index_list.shape: (3674,)\n",
      "class_17_mfcc_matrix_list.shape: (2115, 13, 44)\n",
      "class_17_class_label_index_list.shape: (2115,)\n",
      "class_18_mfcc_matrix_list.shape: (908, 13, 44)\n",
      "class_18_class_label_index_list.shape: (908,)\n",
      "class_19_mfcc_matrix_list.shape: (249, 13, 44)\n",
      "class_19_class_label_index_list.shape: (249,)\n",
      "class_20_mfcc_matrix_list.shape: (2047, 13, 44)\n",
      "class_20_class_label_index_list.shape: (2047,)\n"
     ]
    }
   ],
   "execution_count": 8
  },
  {
   "metadata": {},
   "cell_type": "code",
   "outputs": [],
   "execution_count": null,
   "source": [
    "channel = 1\n",
    "verbose = 2\n",
    "num_classes = len(class_df.index)\n",
    "test_size = 0.2"
   ],
   "id": "6fd810cfd422c236"
  },
  {
   "metadata": {},
   "cell_type": "code",
   "outputs": [],
   "execution_count": null,
   "source": [
    "model_train_info_list = list()\n",
    "model_list = list()\n",
    "\n",
    "for i in tqdm(range(len(class_df.groupby(\"class_label\").count().index))):\n",
    "    \n",
    "    best_params = json.load(\n",
    "        open(\n",
    "            file=f\"..\\\\..\\\\grid_search\\\\method2_with_fake_data\\\\layer2\\\\best_parameters_record\\\\best_parameters_class{i}.json\",\n",
    "            mode=\"r\"\n",
    "        )\n",
    "    )\n",
    "\n",
    "    learning_rate = best_params[\"learning_rate\"]\n",
    "    num_filters = best_params[\"num_filters\"]\n",
    "    dense_units = best_params[\"dense_unit\"]\n",
    "    batch_size = best_params[\"batch_size\"]\n",
    "    epochs = best_params[\"epochs\"]\n",
    "    \n",
    "    X = dic[f\"class_{i}_mfcc_matrix_list\"]\n",
    "    y = dic[f\"class_{i}_class_label_index_list\"]\n",
    "    \n",
    "    mfcc_dim_1 = X.shape[1]\n",
    "    mfcc_dim_2 = X.shape[2]\n",
    "    \n",
    "    X_train, X_test, y_train, y_test = get_processed_data(\n",
    "        X=X,\n",
    "        y=y,\n",
    "        num_classes=num_classes,\n",
    "        mfcc_dim_1=mfcc_dim_1,\n",
    "        mfcc_dim_2=mfcc_dim_2,\n",
    "        channel=channel,\n",
    "        test_size=test_size,\n",
    "    )\n",
    "\n",
    "    model = get_cnn_model(\n",
    "        input_shape=(mfcc_dim_1, mfcc_dim_2, channel),\n",
    "        num_classes=num_classes,\n",
    "        learning_rate=learning_rate,\n",
    "        num_filters=num_filters,\n",
    "        dense_units=dense_units\n",
    "    )\n",
    "    \n",
    "    model_train_info = model.fit(\n",
    "        X_train,\n",
    "        y_train,\n",
    "        batch_size=batch_size,\n",
    "        epochs=epochs,\n",
    "        verbose=verbose,\n",
    "        validation_data=(X_test, y_test)\n",
    "    )\n",
    "    \n",
    "    model_train_info_list.append(model_train_info)\n",
    "    model_list.append(model)"
   ],
   "id": "372b67c165552908"
  },
  {
   "metadata": {},
   "cell_type": "code",
   "outputs": [],
   "execution_count": null,
   "source": [
    "# DISCORD -> 設定 -> 整合 -> Webhook -> 新 Webhook > -> 複製 Webhook 網址\n",
    "DISCORD_WEBHOOK_URL = \"https://discord.com/api/webhooks/1287413088970346557/30gx7NdIfSxS1BRWk28IRkOHJeoET-ihIN_KAjYeXYkrpPeI0hBnE-68AHzhpTR4h3et\"\n",
    "requests.post(\n",
    "    url=DISCORD_WEBHOOK_URL,\n",
    "    data={\"content\": \"cnn method2 layer3 with fake data模型訓練已完成!\"}\n",
    ")"
   ],
   "id": "140943aba7a52524"
  },
  {
   "metadata": {},
   "cell_type": "code",
   "outputs": [],
   "execution_count": null,
   "source": [
    "plt.rcParams[\"font.sans-serif\"] = [\"Microsoft JhengHei\"]\n",
    "plt.rcParams[\"axes.unicode_minus\"] = False\n",
    "\n",
    "for class_label, model_train_info in enumerate(model_train_info_list):\n",
    "    accuracies = model_train_info.history['accuracy']\n",
    "    val_accuracies = model_train_info.history['val_accuracy']\n",
    "    \n",
    "    best_params = json.load(\n",
    "        open(\n",
    "            file=f\"..\\\\..\\\\grid_search\\\\method2_with_fake_data\\\\layer3\\\\best_parameters_record\\\\best_parameters_class{class_label}.json\",\n",
    "            mode=\"r\"\n",
    "        )\n",
    "    )\n",
    "    \n",
    "    epochs = best_params[\"epochs\"]\n",
    "    \n",
    "    hu_yin = class_df.loc[class_df[\"class_label\"] == class_label, \"hu_yin\"].values[0]\n",
    "    she2_yin = class_df.loc[class_df[\"class_label\"] == class_label, \"she2_yin\"].values[0]\n",
    "    plt.title(f\"{hu_yin}, {she2_yin}, class: {class_label}\")\n",
    "    \n",
    "    plt.plot(list(range(epochs)), accuracies, label=\"accuracy\")\n",
    "    plt.plot(list(range(epochs)), val_accuracies, label=\"val_accuracy\")\n",
    "    plt.legend()\n",
    "    plt.grid()\n",
    "    plt.xticks(ticks = list(range(1, epochs + 1))) \n",
    "    plt.xlabel(\"Epoch\")\n",
    "    plt.ylabel(\"Accuracy\")\n",
    "    plt.xticks(ticks=list(range(0, epochs + 1, 50)))\n",
    "    plt.yticks(ticks=list(np.arange(0, 1 + 0.1, 0.1)))\n",
    "    plt.show()"
   ],
   "id": "7e7a45bd72bfbb68"
  }
 ],
 "metadata": {
  "kernelspec": {
   "display_name": "Python 3",
   "language": "python",
   "name": "python3"
  },
  "language_info": {
   "codemirror_mode": {
    "name": "ipython",
    "version": 2
   },
   "file_extension": ".py",
   "mimetype": "text/x-python",
   "name": "python",
   "nbconvert_exporter": "python",
   "pygments_lexer": "ipython2",
   "version": "2.7.6"
  }
 },
 "nbformat": 4,
 "nbformat_minor": 5
}
