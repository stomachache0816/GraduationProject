{
 "cells": [
  {
   "cell_type": "code",
   "id": "initial_id",
   "metadata": {
    "collapsed": true,
    "ExecuteTime": {
     "end_time": "2024-10-19T14:47:57.891792Z",
     "start_time": "2024-10-19T14:47:57.881282Z"
    }
   },
   "source": [
    "import pandas as pd\n",
    "from glob import glob\n",
    "from tqdm import tqdm\n",
    "import requests\n",
    "import json\n",
    "import matplotlib.pyplot as plt\n",
    "from model_training_process import *\n",
    "import tensorflow as tf\n",
    "gpus = tf.config.experimental.list_physical_devices(\"GPU\")\n",
    "print(f\"tf.config.list_physical_devices('GPU'): {tf.config.list_physical_devices('GPU')}\")"
   ],
   "outputs": [
    {
     "name": "stdout",
     "output_type": "stream",
     "text": [
      "tf.config.list_physical_devices('GPU'): [PhysicalDevice(name='/physical_device:GPU:0', device_type='GPU')]\n"
     ]
    }
   ],
   "execution_count": 8
  },
  {
   "metadata": {
    "ExecuteTime": {
     "end_time": "2024-10-19T14:47:57.923838Z",
     "start_time": "2024-10-19T14:47:57.913316Z"
    }
   },
   "cell_type": "code",
   "source": [
    "class_df = pd.read_csv(filepath_or_buffer=\"..\\\\tables\\\\corrected_class_df_pinyin_label_table.csv\")\n",
    "class_df"
   ],
   "id": "3a746ea850e0e485",
   "outputs": [
    {
     "data": {
      "text/plain": [
       "    bopomofo pinyin hu_yin she2_yin  hu_yin_label  she2_yin_label  class_label\n",
       "0          ㄓ    zhi    純聲符      翹舌音             0               5            0\n",
       "1          ㄔ    chi    純聲符      翹舌音             0               5            0\n",
       "2          ㄕ    shi    純聲符      翹舌音             0               5            0\n",
       "3          ㄖ     ri    純聲符      翹舌音             0               5            0\n",
       "4          ㄗ     zi    純聲符      平舌音             0               6            1\n",
       "..       ...    ...    ...      ...           ...             ...          ...\n",
       "402      ㄒㄩㄣ    xun    撮口呼      舌面音             4               4           20\n",
       "403       ㄩㄥ   yong    撮口呼      純韻符             4               0           18\n",
       "404      ㄐㄩㄥ  jiong    撮口呼      舌面音             4               4           20\n",
       "405      ㄑㄩㄥ  qiong    撮口呼      舌面音             4               4           20\n",
       "406      ㄒㄩㄥ  xiong    撮口呼      舌面音             4               4           20\n",
       "\n",
       "[407 rows x 7 columns]"
      ],
      "text/html": [
       "<div>\n",
       "<style scoped>\n",
       "    .dataframe tbody tr th:only-of-type {\n",
       "        vertical-align: middle;\n",
       "    }\n",
       "\n",
       "    .dataframe tbody tr th {\n",
       "        vertical-align: top;\n",
       "    }\n",
       "\n",
       "    .dataframe thead th {\n",
       "        text-align: right;\n",
       "    }\n",
       "</style>\n",
       "<table border=\"1\" class=\"dataframe\">\n",
       "  <thead>\n",
       "    <tr style=\"text-align: right;\">\n",
       "      <th></th>\n",
       "      <th>bopomofo</th>\n",
       "      <th>pinyin</th>\n",
       "      <th>hu_yin</th>\n",
       "      <th>she2_yin</th>\n",
       "      <th>hu_yin_label</th>\n",
       "      <th>she2_yin_label</th>\n",
       "      <th>class_label</th>\n",
       "    </tr>\n",
       "  </thead>\n",
       "  <tbody>\n",
       "    <tr>\n",
       "      <th>0</th>\n",
       "      <td>ㄓ</td>\n",
       "      <td>zhi</td>\n",
       "      <td>純聲符</td>\n",
       "      <td>翹舌音</td>\n",
       "      <td>0</td>\n",
       "      <td>5</td>\n",
       "      <td>0</td>\n",
       "    </tr>\n",
       "    <tr>\n",
       "      <th>1</th>\n",
       "      <td>ㄔ</td>\n",
       "      <td>chi</td>\n",
       "      <td>純聲符</td>\n",
       "      <td>翹舌音</td>\n",
       "      <td>0</td>\n",
       "      <td>5</td>\n",
       "      <td>0</td>\n",
       "    </tr>\n",
       "    <tr>\n",
       "      <th>2</th>\n",
       "      <td>ㄕ</td>\n",
       "      <td>shi</td>\n",
       "      <td>純聲符</td>\n",
       "      <td>翹舌音</td>\n",
       "      <td>0</td>\n",
       "      <td>5</td>\n",
       "      <td>0</td>\n",
       "    </tr>\n",
       "    <tr>\n",
       "      <th>3</th>\n",
       "      <td>ㄖ</td>\n",
       "      <td>ri</td>\n",
       "      <td>純聲符</td>\n",
       "      <td>翹舌音</td>\n",
       "      <td>0</td>\n",
       "      <td>5</td>\n",
       "      <td>0</td>\n",
       "    </tr>\n",
       "    <tr>\n",
       "      <th>4</th>\n",
       "      <td>ㄗ</td>\n",
       "      <td>zi</td>\n",
       "      <td>純聲符</td>\n",
       "      <td>平舌音</td>\n",
       "      <td>0</td>\n",
       "      <td>6</td>\n",
       "      <td>1</td>\n",
       "    </tr>\n",
       "    <tr>\n",
       "      <th>...</th>\n",
       "      <td>...</td>\n",
       "      <td>...</td>\n",
       "      <td>...</td>\n",
       "      <td>...</td>\n",
       "      <td>...</td>\n",
       "      <td>...</td>\n",
       "      <td>...</td>\n",
       "    </tr>\n",
       "    <tr>\n",
       "      <th>402</th>\n",
       "      <td>ㄒㄩㄣ</td>\n",
       "      <td>xun</td>\n",
       "      <td>撮口呼</td>\n",
       "      <td>舌面音</td>\n",
       "      <td>4</td>\n",
       "      <td>4</td>\n",
       "      <td>20</td>\n",
       "    </tr>\n",
       "    <tr>\n",
       "      <th>403</th>\n",
       "      <td>ㄩㄥ</td>\n",
       "      <td>yong</td>\n",
       "      <td>撮口呼</td>\n",
       "      <td>純韻符</td>\n",
       "      <td>4</td>\n",
       "      <td>0</td>\n",
       "      <td>18</td>\n",
       "    </tr>\n",
       "    <tr>\n",
       "      <th>404</th>\n",
       "      <td>ㄐㄩㄥ</td>\n",
       "      <td>jiong</td>\n",
       "      <td>撮口呼</td>\n",
       "      <td>舌面音</td>\n",
       "      <td>4</td>\n",
       "      <td>4</td>\n",
       "      <td>20</td>\n",
       "    </tr>\n",
       "    <tr>\n",
       "      <th>405</th>\n",
       "      <td>ㄑㄩㄥ</td>\n",
       "      <td>qiong</td>\n",
       "      <td>撮口呼</td>\n",
       "      <td>舌面音</td>\n",
       "      <td>4</td>\n",
       "      <td>4</td>\n",
       "      <td>20</td>\n",
       "    </tr>\n",
       "    <tr>\n",
       "      <th>406</th>\n",
       "      <td>ㄒㄩㄥ</td>\n",
       "      <td>xiong</td>\n",
       "      <td>撮口呼</td>\n",
       "      <td>舌面音</td>\n",
       "      <td>4</td>\n",
       "      <td>4</td>\n",
       "      <td>20</td>\n",
       "    </tr>\n",
       "  </tbody>\n",
       "</table>\n",
       "<p>407 rows × 7 columns</p>\n",
       "</div>"
      ]
     },
     "execution_count": 9,
     "metadata": {},
     "output_type": "execute_result"
    }
   ],
   "execution_count": 9
  },
  {
   "metadata": {
    "ExecuteTime": {
     "end_time": "2024-10-19T14:47:58.126256Z",
     "start_time": "2024-10-19T14:47:57.970773Z"
    }
   },
   "cell_type": "code",
   "source": [
    "npy_file_path = glob(\"..\\\\..\\\\data\\\\*EduVer\\\\*.npy\", recursive=True)\n",
    "print(f\"len(npy_file_path) = {len(npy_file_path)}\")"
   ],
   "id": "77d965740926e63e",
   "outputs": [
    {
     "name": "stdout",
     "output_type": "stream",
     "text": [
      "len(npy_file_path) = 67173\n"
     ]
    }
   ],
   "execution_count": 10
  },
  {
   "metadata": {
    "ExecuteTime": {
     "end_time": "2024-10-19T14:47:59.126473Z",
     "start_time": "2024-10-19T14:47:58.158775Z"
    }
   },
   "cell_type": "code",
   "source": [
    "npy_file_path_list_selected = list()\n",
    "for npy_file in npy_file_path:\n",
    "    pinyin = npy_file.split(\"_\")[1]\n",
    "    pinyin_non_accent = pinyin[:-1] if pinyin[-1].isdigit() else pinyin\n",
    "    if pinyin_non_accent in list(class_df[\"pinyin\"]):\n",
    "        npy_file_path_list_selected.append(npy_file)\n",
    "print(f\"len(npy_file_path_selected) = {len(npy_file_path_list_selected)}\")"
   ],
   "id": "ff63d639ddf17071",
   "outputs": [
    {
     "name": "stdout",
     "output_type": "stream",
     "text": [
      "len(npy_file_path_selected) = 66852\n"
     ]
    }
   ],
   "execution_count": 11
  },
  {
   "metadata": {},
   "cell_type": "markdown",
   "source": [
    "檔名音調: ' ', 2, 3, 4\n",
    "訓練標籤:  1 , 2, 3, 4, 5"
   ],
   "id": "b882b327aa8fab70"
  },
  {
   "metadata": {
    "ExecuteTime": {
     "end_time": "2024-10-19T14:47:59.174024Z",
     "start_time": "2024-10-19T14:47:59.137986Z"
    }
   },
   "cell_type": "code",
   "source": [
    "data_accent_label = list()\n",
    "for npy_file in tqdm(npy_file_path_list_selected):\n",
    "    pinyin = npy_file.split(\"_\")[1]\n",
    "    accent_label = int(pinyin[-1] if pinyin[-1].isdigit() else 1)\n",
    "    data_accent_label.append(accent_label)\n",
    "data_accent_label = np.array(data_accent_label)\n",
    "print(f\"data_accent_label.shape = {data_accent_label.shape}\")"
   ],
   "id": "b3ec3dbf6c409a83",
   "outputs": [
    {
     "name": "stderr",
     "output_type": "stream",
     "text": [
      "100%|██████████| 66852/66852 [00:00<00:00, 2263753.88it/s]"
     ]
    },
    {
     "name": "stdout",
     "output_type": "stream",
     "text": [
      "data_accent_label.shape = (66852,)\n"
     ]
    },
    {
     "name": "stderr",
     "output_type": "stream",
     "text": [
      "\n"
     ]
    }
   ],
   "execution_count": 12
  },
  {
   "metadata": {
    "ExecuteTime": {
     "end_time": "2024-10-19T14:52:10.412924Z",
     "start_time": "2024-10-19T14:48:24.828363Z"
    }
   },
   "cell_type": "code",
   "source": [
    "mfcc_matrix_list = list()\n",
    "\n",
    "for npy_file_path in tqdm(npy_file_path_list_selected):\n",
    "    mfcc_matrix = np.load(npy_file_path)\n",
    "    mfcc_matrix_list.append(mfcc_matrix)\n",
    "\n",
    "mfcc_matrix_list = np.array(mfcc_matrix_list)\n",
    "print(f\"mfcc_matrix_list.shape = {mfcc_matrix_list.shape}\")"
   ],
   "id": "1930d21d6928eedd",
   "outputs": [
    {
     "name": "stderr",
     "output_type": "stream",
     "text": [
      "100%|██████████| 66852/66852 [03:45<00:00, 296.45it/s]\n"
     ]
    },
    {
     "name": "stdout",
     "output_type": "stream",
     "text": [
      "mfcc_matrix_list.shape = (66852, 13, 44)\n"
     ]
    }
   ],
   "execution_count": 14
  },
  {
   "metadata": {
    "ExecuteTime": {
     "end_time": "2024-10-19T15:45:04.527859Z",
     "start_time": "2024-10-19T15:45:04.503334Z"
    }
   },
   "cell_type": "code",
   "source": [
    "best_params = json.load(open(f\"..\\\\..\\\\grid_search\\\\method2_with_fake_data\\\\layer1\\\\best_params.json\", \"r\"))\n",
    "\n",
    "learning_rate = best_params[\"learning_rate\"]\n",
    "num_filters = best_params[\"num_filters\"]\n",
    "dense_units = best_params[\"dense_unit\"]\n",
    "batch_size = best_params[\"batch_size\"]\n",
    "epochs = best_params[\"epochs\"]\n",
    "\n",
    "channel = 1\n",
    "verbose = 2\n",
    "num_classes = len(class_df.index)\n",
    "test_size = 0.2\n",
    "mfcc_dim_1 = mfcc_matrix_list.shape[1]\n",
    "mfcc_dim_2 = mfcc_matrix_list.shape[2]\n",
    "print(f\"mfcc_dim_1: {mfcc_dim_1}\")\n",
    "print(f\"mfcc_dim_2: {mfcc_dim_2}\")"
   ],
   "id": "c26aef2ecdcd5d38",
   "outputs": [
    {
     "name": "stdout",
     "output_type": "stream",
     "text": [
      "mfcc_dim_1: 13\n",
      "mfcc_dim_2: 44\n"
     ]
    }
   ],
   "execution_count": 15
  },
  {
   "metadata": {
    "ExecuteTime": {
     "end_time": "2024-10-19T15:45:41.903117Z",
     "start_time": "2024-10-19T15:45:39.532800Z"
    }
   },
   "cell_type": "code",
   "source": [
    "X_train, X_test, y_train, y_test = get_processed_data(\n",
    "    X=mfcc_matrix_list,\n",
    "    y=data_accent_label,\n",
    "    num_classes=num_classes,\n",
    "    mfcc_dim_1=mfcc_dim_1,\n",
    "    mfcc_dim_2=mfcc_dim_2,\n",
    "    channel=channel,\n",
    "    test_size=test_size,\n",
    ")\n",
    "\n",
    "print(f\"X_train.shape: {X_train.shape}\")\n",
    "print(f\"y_train.shape: {y_train.shape}\")\n",
    "print(f\"X_test.shape: {X_test.shape}\")\n",
    "print(f\"y_test.shape: {y_test.shape}\")"
   ],
   "id": "20e1114eaf7816e3",
   "outputs": [
    {
     "name": "stdout",
     "output_type": "stream",
     "text": [
      "X_train.shape: (53481, 13, 44, 1)\n",
      "y_train.shape: (53481, 407)\n",
      "X_test.shape: (13371, 13, 44, 1)\n",
      "y_test.shape: (13371, 407)\n"
     ]
    }
   ],
   "execution_count": 16
  },
  {
   "metadata": {},
   "cell_type": "code",
   "outputs": [],
   "execution_count": null,
   "source": [
    "model = get_cnn_model(input_shape=(mfcc_dim_1, mfcc_dim_2, channel), num_classes=num_classes, learning_rate=learning_rate, num_filters=num_filters, dense_units=dense_units)\n",
    "model_train_info = model.fit(X_train, y_train, batch_size=batch_size, epochs=epochs, verbose=verbose, validation_data=(X_test, y_test))"
   ],
   "id": "392e2f8c177d7c1"
  },
  {
   "metadata": {},
   "cell_type": "code",
   "outputs": [],
   "execution_count": null,
   "source": [
    "# DISCORD -> 設定 -> 整合 -> Webhook -> 新 Webhook > -> 複製 Webhook 網址\n",
    "DISCORD_WEBHOOK_URL = \"https://discord.com/api/webhooks/1287413088970346557/30gx7NdIfSxS1BRWk28IRkOHJeoET-ihIN_KAjYeXYkrpPeI0hBnE-68AHzhpTR4h3et\"\n",
    "requests.post(\n",
    "    url=DISCORD_WEBHOOK_URL,\n",
    "    data={\"content\": \"cnn method2 layer3 with fake data模型訓練已完成!\"}\n",
    ")"
   ],
   "id": "22d56071da5e039b"
  },
  {
   "metadata": {},
   "cell_type": "code",
   "outputs": [],
   "execution_count": null,
   "source": [
    "accuracies = model_train_info.history[\"accuracy\"]\n",
    "val_accuracies = model_train_info.history[\"val_accuracy\"]\n",
    "\n",
    "plt.plot(list(range(epochs)), accuracies, label = \"accuracy\")\n",
    "plt.plot(list(range(epochs)), val_accuracies, label = \"val_accuracy\")\n",
    "plt.legend()\n",
    "plt.grid()\n",
    "plt.xticks(ticks = list(range(1, epochs + 1))) \n",
    "plt.xlabel(\"Epoch\")\n",
    "plt.ylabel(\"Accuracy\")\n",
    "plt.xticks(ticks=list(range(0, epochs + 1, 50)))\n",
    "plt.yticks(ticks=list(np.arange(0, 1 + 0.1, 0.1)))\n",
    "plt.show()"
   ],
   "id": "77025e58267bcdae"
  },
  {
   "metadata": {},
   "cell_type": "code",
   "outputs": [],
   "execution_count": null,
   "source": [
    "print(f\"資料: {mfcc_matrix_list.shape}\")\n",
    "print(f\"最高準確率: {max(val_accuracies)}\")"
   ],
   "id": "cc5aef6a49e9a151"
  },
  {
   "metadata": {},
   "cell_type": "code",
   "outputs": [],
   "execution_count": null,
   "source": "model.save(f\".\\\\cnn_layer3_with_fake_model.h5\")",
   "id": "28cd0931215545e7"
  }
 ],
 "metadata": {
  "kernelspec": {
   "display_name": "Python 3",
   "language": "python",
   "name": "python3"
  },
  "language_info": {
   "codemirror_mode": {
    "name": "ipython",
    "version": 2
   },
   "file_extension": ".py",
   "mimetype": "text/x-python",
   "name": "python",
   "nbconvert_exporter": "python",
   "pygments_lexer": "ipython2",
   "version": "2.7.6"
  }
 },
 "nbformat": 4,
 "nbformat_minor": 5
}
