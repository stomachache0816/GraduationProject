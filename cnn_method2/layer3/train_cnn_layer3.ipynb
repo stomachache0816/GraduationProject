{
 "cells": [
  {
   "cell_type": "code",
   "id": "initial_id",
   "metadata": {
    "collapsed": true,
    "ExecuteTime": {
     "end_time": "2024-10-17T12:13:24.013871Z",
     "start_time": "2024-10-17T12:13:14.450653Z"
    }
   },
   "source": [
    "import pandas as pd\n",
    "from glob import glob\n",
    "from tqdm import tqdm\n",
    "import requests\n",
    "import json\n",
    "import matplotlib.pyplot as plt\n",
    "from model_training_process import *\n",
    "import tensorflow as tf\n",
    "gpus = tf.config.experimental.list_physical_devices(\"GPU\")\n",
    "print(f\"tf.config.list_physical_devices('GPU'): {tf.config.list_physical_devices('GPU')}\")"
   ],
   "outputs": [
    {
     "name": "stdout",
     "output_type": "stream",
     "text": [
      "tf.config.list_physical_devices('GPU'): [PhysicalDevice(name='/physical_device:GPU:0', device_type='GPU')]\n"
     ]
    }
   ],
   "execution_count": 1
  },
  {
   "metadata": {
    "ExecuteTime": {
     "end_time": "2024-10-17T12:15:28.374680Z",
     "start_time": "2024-10-17T12:15:28.344150Z"
    }
   },
   "cell_type": "code",
   "source": [
    "class_df = pd.read_csv(filepath_or_buffer=\"..\\\\tables\\\\corrected_class_df_pinyin_label_table.csv\")\n",
    "class_df"
   ],
   "id": "3a746ea850e0e485",
   "outputs": [
    {
     "data": {
      "text/plain": [
       "    bopomofo pinyin hu_yin she2_yin  hu_yin_label  she2_yin_label  class_label\n",
       "0          ㄓ    zhi    純聲符      翹舌音             0               5            0\n",
       "1          ㄔ    chi    純聲符      翹舌音             0               5            0\n",
       "2          ㄕ    shi    純聲符      翹舌音             0               5            0\n",
       "3          ㄖ     ri    純聲符      翹舌音             0               5            0\n",
       "4          ㄗ     zi    純聲符      平舌音             0               6            1\n",
       "..       ...    ...    ...      ...           ...             ...          ...\n",
       "402      ㄒㄩㄣ    xun    撮口呼      舌面音             4               4           20\n",
       "403       ㄩㄥ   yong    撮口呼      純韻符             4               0           18\n",
       "404      ㄐㄩㄥ  jiong    撮口呼      舌面音             4               4           20\n",
       "405      ㄑㄩㄥ  qiong    撮口呼      舌面音             4               4           20\n",
       "406      ㄒㄩㄥ  xiong    撮口呼      舌面音             4               4           20\n",
       "\n",
       "[407 rows x 7 columns]"
      ],
      "text/html": [
       "<div>\n",
       "<style scoped>\n",
       "    .dataframe tbody tr th:only-of-type {\n",
       "        vertical-align: middle;\n",
       "    }\n",
       "\n",
       "    .dataframe tbody tr th {\n",
       "        vertical-align: top;\n",
       "    }\n",
       "\n",
       "    .dataframe thead th {\n",
       "        text-align: right;\n",
       "    }\n",
       "</style>\n",
       "<table border=\"1\" class=\"dataframe\">\n",
       "  <thead>\n",
       "    <tr style=\"text-align: right;\">\n",
       "      <th></th>\n",
       "      <th>bopomofo</th>\n",
       "      <th>pinyin</th>\n",
       "      <th>hu_yin</th>\n",
       "      <th>she2_yin</th>\n",
       "      <th>hu_yin_label</th>\n",
       "      <th>she2_yin_label</th>\n",
       "      <th>class_label</th>\n",
       "    </tr>\n",
       "  </thead>\n",
       "  <tbody>\n",
       "    <tr>\n",
       "      <th>0</th>\n",
       "      <td>ㄓ</td>\n",
       "      <td>zhi</td>\n",
       "      <td>純聲符</td>\n",
       "      <td>翹舌音</td>\n",
       "      <td>0</td>\n",
       "      <td>5</td>\n",
       "      <td>0</td>\n",
       "    </tr>\n",
       "    <tr>\n",
       "      <th>1</th>\n",
       "      <td>ㄔ</td>\n",
       "      <td>chi</td>\n",
       "      <td>純聲符</td>\n",
       "      <td>翹舌音</td>\n",
       "      <td>0</td>\n",
       "      <td>5</td>\n",
       "      <td>0</td>\n",
       "    </tr>\n",
       "    <tr>\n",
       "      <th>2</th>\n",
       "      <td>ㄕ</td>\n",
       "      <td>shi</td>\n",
       "      <td>純聲符</td>\n",
       "      <td>翹舌音</td>\n",
       "      <td>0</td>\n",
       "      <td>5</td>\n",
       "      <td>0</td>\n",
       "    </tr>\n",
       "    <tr>\n",
       "      <th>3</th>\n",
       "      <td>ㄖ</td>\n",
       "      <td>ri</td>\n",
       "      <td>純聲符</td>\n",
       "      <td>翹舌音</td>\n",
       "      <td>0</td>\n",
       "      <td>5</td>\n",
       "      <td>0</td>\n",
       "    </tr>\n",
       "    <tr>\n",
       "      <th>4</th>\n",
       "      <td>ㄗ</td>\n",
       "      <td>zi</td>\n",
       "      <td>純聲符</td>\n",
       "      <td>平舌音</td>\n",
       "      <td>0</td>\n",
       "      <td>6</td>\n",
       "      <td>1</td>\n",
       "    </tr>\n",
       "    <tr>\n",
       "      <th>...</th>\n",
       "      <td>...</td>\n",
       "      <td>...</td>\n",
       "      <td>...</td>\n",
       "      <td>...</td>\n",
       "      <td>...</td>\n",
       "      <td>...</td>\n",
       "      <td>...</td>\n",
       "    </tr>\n",
       "    <tr>\n",
       "      <th>402</th>\n",
       "      <td>ㄒㄩㄣ</td>\n",
       "      <td>xun</td>\n",
       "      <td>撮口呼</td>\n",
       "      <td>舌面音</td>\n",
       "      <td>4</td>\n",
       "      <td>4</td>\n",
       "      <td>20</td>\n",
       "    </tr>\n",
       "    <tr>\n",
       "      <th>403</th>\n",
       "      <td>ㄩㄥ</td>\n",
       "      <td>yong</td>\n",
       "      <td>撮口呼</td>\n",
       "      <td>純韻符</td>\n",
       "      <td>4</td>\n",
       "      <td>0</td>\n",
       "      <td>18</td>\n",
       "    </tr>\n",
       "    <tr>\n",
       "      <th>404</th>\n",
       "      <td>ㄐㄩㄥ</td>\n",
       "      <td>jiong</td>\n",
       "      <td>撮口呼</td>\n",
       "      <td>舌面音</td>\n",
       "      <td>4</td>\n",
       "      <td>4</td>\n",
       "      <td>20</td>\n",
       "    </tr>\n",
       "    <tr>\n",
       "      <th>405</th>\n",
       "      <td>ㄑㄩㄥ</td>\n",
       "      <td>qiong</td>\n",
       "      <td>撮口呼</td>\n",
       "      <td>舌面音</td>\n",
       "      <td>4</td>\n",
       "      <td>4</td>\n",
       "      <td>20</td>\n",
       "    </tr>\n",
       "    <tr>\n",
       "      <th>406</th>\n",
       "      <td>ㄒㄩㄥ</td>\n",
       "      <td>xiong</td>\n",
       "      <td>撮口呼</td>\n",
       "      <td>舌面音</td>\n",
       "      <td>4</td>\n",
       "      <td>4</td>\n",
       "      <td>20</td>\n",
       "    </tr>\n",
       "  </tbody>\n",
       "</table>\n",
       "<p>407 rows × 7 columns</p>\n",
       "</div>"
      ]
     },
     "execution_count": 3,
     "metadata": {},
     "output_type": "execute_result"
    }
   ],
   "execution_count": 3
  },
  {
   "metadata": {
    "ExecuteTime": {
     "end_time": "2024-10-17T12:13:46.110976Z",
     "start_time": "2024-10-17T12:13:45.923520Z"
    }
   },
   "cell_type": "code",
   "source": [
    "npy_file_path = glob(\"..\\\\..\\\\data\\\\*EduVer\\\\*.npy\", recursive=True)\n",
    "print(f\"len(npy_file_path) = {len(npy_file_path)}\")"
   ],
   "id": "77d965740926e63e",
   "outputs": [
    {
     "name": "stdout",
     "output_type": "stream",
     "text": [
      "len(npy_file_path) = 67173\n"
     ]
    }
   ],
   "execution_count": 2
  },
  {
   "metadata": {
    "ExecuteTime": {
     "end_time": "2024-10-17T12:21:37.203394Z",
     "start_time": "2024-10-17T12:21:36.121151Z"
    }
   },
   "cell_type": "code",
   "source": [
    "npy_file_path_selected = list()\n",
    "for npy_file in npy_file_path:\n",
    "    pinyin = npy_file.split(\"_\")[1]\n",
    "    pinyin_non_accent = pinyin[:-1] if pinyin[-1].isdigit() else pinyin\n",
    "    if pinyin_non_accent in list(class_df[\"pinyin\"]):\n",
    "        npy_file_path_selected.append(npy_file)\n",
    "print(f\"len(npy_file_path_selected) = {len(npy_file_path_selected)}\")"
   ],
   "id": "ff63d639ddf17071",
   "outputs": [
    {
     "name": "stdout",
     "output_type": "stream",
     "text": [
      "len(npy_file_path_selected) = 66852\n"
     ]
    }
   ],
   "execution_count": 8
  },
  {
   "metadata": {},
   "cell_type": "markdown",
   "source": [
    "檔名音調: ' ', 2, 3, 4\n",
    "訓練標籤:  1 , 2, 3, 4, 5"
   ],
   "id": "b882b327aa8fab70"
  },
  {
   "metadata": {
    "ExecuteTime": {
     "end_time": "2024-10-17T12:22:24.244465Z",
     "start_time": "2024-10-17T12:22:24.187933Z"
    }
   },
   "cell_type": "code",
   "source": [
    "data_accent_label = list()\n",
    "for npy_file in tqdm(npy_file_path):\n",
    "    pinyin = npy_file.split(\"_\")[1]\n",
    "    accent_label = int(pinyin[-1] if pinyin[-1].isdigit() else 1)\n",
    "    data_accent_label.append(accent_label)\n",
    "data_accent_label = np.array(data_accent_label)\n",
    "print(f\"len(data_accent_label) = {len(data_accent_label)}\")"
   ],
   "id": "b3ec3dbf6c409a83",
   "outputs": [
    {
     "name": "stderr",
     "output_type": "stream",
     "text": [
      "100%|██████████| 67173/67173 [00:00<00:00, 1751442.10it/s]"
     ]
    },
    {
     "name": "stdout",
     "output_type": "stream",
     "text": [
      "len(data_class_label) = 67173\n"
     ]
    },
    {
     "name": "stderr",
     "output_type": "stream",
     "text": [
      "\n"
     ]
    }
   ],
   "execution_count": 9
  }
 ],
 "metadata": {
  "kernelspec": {
   "display_name": "Python 3",
   "language": "python",
   "name": "python3"
  },
  "language_info": {
   "codemirror_mode": {
    "name": "ipython",
    "version": 2
   },
   "file_extension": ".py",
   "mimetype": "text/x-python",
   "name": "python",
   "nbconvert_exporter": "python",
   "pygments_lexer": "ipython2",
   "version": "2.7.6"
  }
 },
 "nbformat": 4,
 "nbformat_minor": 5
}
