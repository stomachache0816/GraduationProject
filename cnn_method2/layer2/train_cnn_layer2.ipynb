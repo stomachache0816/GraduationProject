{
 "cells": [
  {
   "cell_type": "code",
   "id": "initial_id",
   "metadata": {
    "collapsed": true,
    "ExecuteTime": {
     "end_time": "2024-10-07T09:00:24.678961Z",
     "start_time": "2024-10-07T09:00:24.142364Z"
    }
   },
   "source": [
    "import pandas as pd\n",
    "from glob import glob\n",
    "import numpy as np\n",
    "from tqdm import tqdm"
   ],
   "outputs": [],
   "execution_count": 1
  },
  {
   "metadata": {
    "ExecuteTime": {
     "end_time": "2024-10-07T09:00:47.408055Z",
     "start_time": "2024-10-07T09:00:47.384551Z"
    }
   },
   "cell_type": "code",
   "source": [
    "class_df = pd.read_csv(\"..\\\\tables\\\\corrected_class_df_pinyin_label_table.csv\")\n",
    "class_df[[\"pinyin\", \"class_label\"]]"
   ],
   "id": "fcc36c4a6348d27a",
   "outputs": [
    {
     "data": {
      "text/plain": [
       "    pinyin  class_label\n",
       "0      zhi            0\n",
       "1      chi            0\n",
       "2      shi            0\n",
       "3       ri            0\n",
       "4       zi            1\n",
       "..     ...          ...\n",
       "402    xun           20\n",
       "403   yong           18\n",
       "404  jiong           20\n",
       "405  qiong           20\n",
       "406  xiong           20\n",
       "\n",
       "[407 rows x 2 columns]"
      ],
      "text/html": [
       "<div>\n",
       "<style scoped>\n",
       "    .dataframe tbody tr th:only-of-type {\n",
       "        vertical-align: middle;\n",
       "    }\n",
       "\n",
       "    .dataframe tbody tr th {\n",
       "        vertical-align: top;\n",
       "    }\n",
       "\n",
       "    .dataframe thead th {\n",
       "        text-align: right;\n",
       "    }\n",
       "</style>\n",
       "<table border=\"1\" class=\"dataframe\">\n",
       "  <thead>\n",
       "    <tr style=\"text-align: right;\">\n",
       "      <th></th>\n",
       "      <th>pinyin</th>\n",
       "      <th>class_label</th>\n",
       "    </tr>\n",
       "  </thead>\n",
       "  <tbody>\n",
       "    <tr>\n",
       "      <th>0</th>\n",
       "      <td>zhi</td>\n",
       "      <td>0</td>\n",
       "    </tr>\n",
       "    <tr>\n",
       "      <th>1</th>\n",
       "      <td>chi</td>\n",
       "      <td>0</td>\n",
       "    </tr>\n",
       "    <tr>\n",
       "      <th>2</th>\n",
       "      <td>shi</td>\n",
       "      <td>0</td>\n",
       "    </tr>\n",
       "    <tr>\n",
       "      <th>3</th>\n",
       "      <td>ri</td>\n",
       "      <td>0</td>\n",
       "    </tr>\n",
       "    <tr>\n",
       "      <th>4</th>\n",
       "      <td>zi</td>\n",
       "      <td>1</td>\n",
       "    </tr>\n",
       "    <tr>\n",
       "      <th>...</th>\n",
       "      <td>...</td>\n",
       "      <td>...</td>\n",
       "    </tr>\n",
       "    <tr>\n",
       "      <th>402</th>\n",
       "      <td>xun</td>\n",
       "      <td>20</td>\n",
       "    </tr>\n",
       "    <tr>\n",
       "      <th>403</th>\n",
       "      <td>yong</td>\n",
       "      <td>18</td>\n",
       "    </tr>\n",
       "    <tr>\n",
       "      <th>404</th>\n",
       "      <td>jiong</td>\n",
       "      <td>20</td>\n",
       "    </tr>\n",
       "    <tr>\n",
       "      <th>405</th>\n",
       "      <td>qiong</td>\n",
       "      <td>20</td>\n",
       "    </tr>\n",
       "    <tr>\n",
       "      <th>406</th>\n",
       "      <td>xiong</td>\n",
       "      <td>20</td>\n",
       "    </tr>\n",
       "  </tbody>\n",
       "</table>\n",
       "<p>407 rows × 2 columns</p>\n",
       "</div>"
      ]
     },
     "execution_count": 2,
     "metadata": {},
     "output_type": "execute_result"
    }
   ],
   "execution_count": 2
  },
  {
   "metadata": {
    "ExecuteTime": {
     "end_time": "2024-10-07T09:00:52.022053Z",
     "start_time": "2024-10-07T09:00:51.999766Z"
    }
   },
   "cell_type": "code",
   "source": [
    "class_df['class_label_index'] = class_df.groupby('class_label').cumcount()\n",
    "class_df[[\"pinyin\", \"class_label\", \"class_label_index\"]]"
   ],
   "id": "c82177154559f733",
   "outputs": [
    {
     "data": {
      "text/plain": [
       "    pinyin  class_label  class_label_index\n",
       "0      zhi            0                  0\n",
       "1      chi            0                  1\n",
       "2      shi            0                  2\n",
       "3       ri            0                  3\n",
       "4       zi            1                  0\n",
       "..     ...          ...                ...\n",
       "402    xun           20                 11\n",
       "403   yong           18                  4\n",
       "404  jiong           20                 12\n",
       "405  qiong           20                 13\n",
       "406  xiong           20                 14\n",
       "\n",
       "[407 rows x 3 columns]"
      ],
      "text/html": [
       "<div>\n",
       "<style scoped>\n",
       "    .dataframe tbody tr th:only-of-type {\n",
       "        vertical-align: middle;\n",
       "    }\n",
       "\n",
       "    .dataframe tbody tr th {\n",
       "        vertical-align: top;\n",
       "    }\n",
       "\n",
       "    .dataframe thead th {\n",
       "        text-align: right;\n",
       "    }\n",
       "</style>\n",
       "<table border=\"1\" class=\"dataframe\">\n",
       "  <thead>\n",
       "    <tr style=\"text-align: right;\">\n",
       "      <th></th>\n",
       "      <th>pinyin</th>\n",
       "      <th>class_label</th>\n",
       "      <th>class_label_index</th>\n",
       "    </tr>\n",
       "  </thead>\n",
       "  <tbody>\n",
       "    <tr>\n",
       "      <th>0</th>\n",
       "      <td>zhi</td>\n",
       "      <td>0</td>\n",
       "      <td>0</td>\n",
       "    </tr>\n",
       "    <tr>\n",
       "      <th>1</th>\n",
       "      <td>chi</td>\n",
       "      <td>0</td>\n",
       "      <td>1</td>\n",
       "    </tr>\n",
       "    <tr>\n",
       "      <th>2</th>\n",
       "      <td>shi</td>\n",
       "      <td>0</td>\n",
       "      <td>2</td>\n",
       "    </tr>\n",
       "    <tr>\n",
       "      <th>3</th>\n",
       "      <td>ri</td>\n",
       "      <td>0</td>\n",
       "      <td>3</td>\n",
       "    </tr>\n",
       "    <tr>\n",
       "      <th>4</th>\n",
       "      <td>zi</td>\n",
       "      <td>1</td>\n",
       "      <td>0</td>\n",
       "    </tr>\n",
       "    <tr>\n",
       "      <th>...</th>\n",
       "      <td>...</td>\n",
       "      <td>...</td>\n",
       "      <td>...</td>\n",
       "    </tr>\n",
       "    <tr>\n",
       "      <th>402</th>\n",
       "      <td>xun</td>\n",
       "      <td>20</td>\n",
       "      <td>11</td>\n",
       "    </tr>\n",
       "    <tr>\n",
       "      <th>403</th>\n",
       "      <td>yong</td>\n",
       "      <td>18</td>\n",
       "      <td>4</td>\n",
       "    </tr>\n",
       "    <tr>\n",
       "      <th>404</th>\n",
       "      <td>jiong</td>\n",
       "      <td>20</td>\n",
       "      <td>12</td>\n",
       "    </tr>\n",
       "    <tr>\n",
       "      <th>405</th>\n",
       "      <td>qiong</td>\n",
       "      <td>20</td>\n",
       "      <td>13</td>\n",
       "    </tr>\n",
       "    <tr>\n",
       "      <th>406</th>\n",
       "      <td>xiong</td>\n",
       "      <td>20</td>\n",
       "      <td>14</td>\n",
       "    </tr>\n",
       "  </tbody>\n",
       "</table>\n",
       "<p>407 rows × 3 columns</p>\n",
       "</div>"
      ]
     },
     "execution_count": 3,
     "metadata": {},
     "output_type": "execute_result"
    }
   ],
   "execution_count": 3
  },
  {
   "metadata": {
    "ExecuteTime": {
     "end_time": "2024-10-07T09:00:56.590703Z",
     "start_time": "2024-10-07T09:00:56.284688Z"
    }
   },
   "cell_type": "code",
   "source": [
    "npy_file_path_list = glob(\"..\\\\..\\\\data\\\\*EduVer\\\\*\")\n",
    "print(f\"len(npy_file_path_list): {len(npy_file_path_list)}\")"
   ],
   "id": "f4557c05d63cf4fc",
   "outputs": [
    {
     "name": "stdout",
     "output_type": "stream",
     "text": [
      "len(npy_file_path_list): 67173\n"
     ]
    }
   ],
   "execution_count": 4
  },
  {
   "metadata": {
    "ExecuteTime": {
     "end_time": "2024-10-07T09:01:03.769606Z",
     "start_time": "2024-10-07T09:01:02.144384Z"
    }
   },
   "cell_type": "code",
   "source": [
    "selected_npy_file_path_list = list()\n",
    "for npy_file_path in npy_file_path_list:\n",
    "    pinyin = npy_file_path.split(\"_\")[1]\n",
    "    pinyin_non_accent = pinyin[:-1] if pinyin[-1].isdigit() else pinyin\n",
    "    if pinyin_non_accent in list(class_df[\"pinyin\"]):\n",
    "        selected_npy_file_path_list.append(npy_file_path)\n",
    "print(f\"len(npy_file_path_selected): {len(selected_npy_file_path_list)}\")"
   ],
   "id": "fa4e07cd3d9c057c",
   "outputs": [
    {
     "name": "stdout",
     "output_type": "stream",
     "text": [
      "len(npy_file_path_selected): 66852\n"
     ]
    }
   ],
   "execution_count": 5
  },
  {
   "metadata": {
    "ExecuteTime": {
     "end_time": "2024-10-07T09:01:58.899623Z",
     "start_time": "2024-10-07T09:01:58.884159Z"
    }
   },
   "cell_type": "code",
   "source": [
    "print(len(class_df.groupby(\"class_label\").count().index))\n",
    "class_df.groupby(\"class_label\").count().index"
   ],
   "id": "9cc4832ebea03c7d",
   "outputs": [
    {
     "name": "stdout",
     "output_type": "stream",
     "text": [
      "21\n"
     ]
    },
    {
     "data": {
      "text/plain": [
       "Index([0, 1, 2, 3, 4, 5, 6, 7, 8, 9, 10, 11, 12, 13, 14, 15, 16, 17, 18, 19,\n",
       "       20],\n",
       "      dtype='int64', name='class_label')"
      ]
     },
     "execution_count": 6,
     "metadata": {},
     "output_type": "execute_result"
    }
   ],
   "execution_count": 6
  },
  {
   "metadata": {
    "ExecuteTime": {
     "end_time": "2024-10-07T09:34:53.913298Z",
     "start_time": "2024-10-07T09:33:56.111016Z"
    }
   },
   "cell_type": "code",
   "source": [
    "dic = dict()\n",
    "\n",
    "for i in range(len(class_df.groupby(\"class_label\").count().index)):\n",
    "    dic[f\"class_{i}_mfcc_matrix_list\"] = list()\n",
    "    dic[f\"class_{i}_class_label_index_list\"] = list()\n",
    "\n",
    "for npy_file_path in tqdm(selected_npy_file_path_list):\n",
    "    pinyin = npy_file_path.split(\"_\")[1]\n",
    "    pinyin_non_accent = pinyin[:-1] if pinyin[-1].isdigit() else pinyin\n",
    "\n",
    "    class_label = class_df.loc[class_df[\"pinyin\"] == pinyin_non_accent, \"class_label\"].values[0]\n",
    "    class_label_index = class_df.loc[class_df[\"pinyin\"] == pinyin_non_accent, \"class_label_index\"].values[0]\n",
    "    # print(f\"{pinyin_non_accent}, {class_label}, {class_label_index}\")\n",
    "\n",
    "    mfcc_matrix = np.load(npy_file_path)\n",
    "    dic[f\"class_{class_label}_mfcc_matrix_list\"].append(mfcc_matrix)\n",
    "    dic[f\"class_{class_label}_class_label_index_list\"].append(class_label_index)\n",
    "\n",
    "for i in range(len(class_df.groupby(\"class_label\").count().index)):\n",
    "    dic[f\"class_{i}_mfcc_matrix_list\"] = np.array(dic[f\"class_{i}_mfcc_matrix_list\"])\n",
    "    dic[f\"class_{i}_class_label_index_list\"] = np.array(dic[f\"class_{i}_class_label_index_list\"])\n",
    "\n",
    "for i in range(len(class_df.groupby(\"class_label\").count().index)):\n",
    "    print(f\"class_{i}_mfcc_matrix_list.shape: {dic[f'class_{i}_mfcc_matrix_list'].shape}\")\n",
    "    print(f\"class_{i}_class_label_index_list.shape: {dic[f'class_{i}_class_label_index_list'].shape}\")"
   ],
   "id": "40bbaabc6dddb3f2",
   "outputs": [
    {
     "name": "stderr",
     "output_type": "stream",
     "text": [
      "100%|██████████| 66852/66852 [00:57<00:00, 1159.70it/s]\n"
     ]
    },
    {
     "name": "stdout",
     "output_type": "stream",
     "text": [
      "class_0_mfcc_matrix_list.shape: (3133, 13, 44)\n",
      "class_0_class_label_index_list.shape: (3133,)\n",
      "class_1_mfcc_matrix_list.shape: (844, 13, 44)\n",
      "class_1_class_label_index_list.shape: (844,)\n",
      "class_2_mfcc_matrix_list.shape: (1322, 13, 44)\n",
      "class_2_class_label_index_list.shape: (1322,)\n",
      "class_3_mfcc_matrix_list.shape: (5333, 13, 44)\n",
      "class_3_class_label_index_list.shape: (5333,)\n",
      "class_4_mfcc_matrix_list.shape: (7255, 13, 44)\n",
      "class_4_class_label_index_list.shape: (7255,)\n",
      "class_5_mfcc_matrix_list.shape: (4499, 13, 44)\n",
      "class_5_class_label_index_list.shape: (4499,)\n",
      "class_6_mfcc_matrix_list.shape: (6060, 13, 44)\n",
      "class_6_class_label_index_list.shape: (6060,)\n",
      "class_7_mfcc_matrix_list.shape: (3050, 13, 44)\n",
      "class_7_class_label_index_list.shape: (3050,)\n",
      "class_8_mfcc_matrix_list.shape: (3167, 13, 44)\n",
      "class_8_class_label_index_list.shape: (3167,)\n",
      "class_9_mfcc_matrix_list.shape: (2396, 13, 44)\n",
      "class_9_class_label_index_list.shape: (2396,)\n",
      "class_10_mfcc_matrix_list.shape: (4181, 13, 44)\n",
      "class_10_class_label_index_list.shape: (4181,)\n",
      "class_11_mfcc_matrix_list.shape: (7682, 13, 44)\n",
      "class_11_class_label_index_list.shape: (7682,)\n",
      "class_12_mfcc_matrix_list.shape: (1852, 13, 44)\n",
      "class_12_class_label_index_list.shape: (1852,)\n",
      "class_13_mfcc_matrix_list.shape: (851, 13, 44)\n",
      "class_13_class_label_index_list.shape: (851,)\n",
      "class_14_mfcc_matrix_list.shape: (2651, 13, 44)\n",
      "class_14_class_label_index_list.shape: (2651,)\n",
      "class_15_mfcc_matrix_list.shape: (3583, 13, 44)\n",
      "class_15_class_label_index_list.shape: (3583,)\n",
      "class_16_mfcc_matrix_list.shape: (3674, 13, 44)\n",
      "class_16_class_label_index_list.shape: (3674,)\n",
      "class_17_mfcc_matrix_list.shape: (2115, 13, 44)\n",
      "class_17_class_label_index_list.shape: (2115,)\n",
      "class_18_mfcc_matrix_list.shape: (908, 13, 44)\n",
      "class_18_class_label_index_list.shape: (908,)\n",
      "class_19_mfcc_matrix_list.shape: (249, 13, 44)\n",
      "class_19_class_label_index_list.shape: (249,)\n",
      "class_20_mfcc_matrix_list.shape: (2047, 13, 44)\n",
      "class_20_class_label_index_list.shape: (2047,)\n"
     ]
    }
   ],
   "execution_count": 9
  },
  {
   "metadata": {
    "jupyter": {
     "is_executing": true
    }
   },
   "cell_type": "code",
   "source": "",
   "id": "347593bd526d8756",
   "outputs": [],
   "execution_count": null
  }
 ],
 "metadata": {
  "kernelspec": {
   "display_name": "Python 3",
   "language": "python",
   "name": "python3"
  },
  "language_info": {
   "codemirror_mode": {
    "name": "ipython",
    "version": 2
   },
   "file_extension": ".py",
   "mimetype": "text/x-python",
   "name": "python",
   "nbconvert_exporter": "python",
   "pygments_lexer": "ipython2",
   "version": "2.7.6"
  }
 },
 "nbformat": 4,
 "nbformat_minor": 5
}
