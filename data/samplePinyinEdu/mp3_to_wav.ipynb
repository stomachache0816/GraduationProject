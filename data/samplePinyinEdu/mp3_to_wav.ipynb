{
 "cells": [
  {
   "cell_type": "code",
   "id": "initial_id",
   "metadata": {
    "collapsed": true,
    "ExecuteTime": {
     "end_time": "2024-10-02T13:18:35.217157Z",
     "start_time": "2024-10-02T13:18:35.204645Z"
    }
   },
   "source": [
    "from pydub import AudioSegment\n",
    "from glob import glob\n",
    "import shutil\n",
    "import os\n",
    "from tqdm import tqdm"
   ],
   "outputs": [],
   "execution_count": 4
  },
  {
   "metadata": {
    "ExecuteTime": {
     "end_time": "2024-10-02T13:18:35.232180Z",
     "start_time": "2024-10-02T13:18:35.222668Z"
    }
   },
   "cell_type": "code",
   "source": [
    "male_mp3_path_list = glob(pathname=f\".\\\\male\\\\*.mp3\")\n",
    "print(f\"len(male_mp3_path_list) = {len(male_mp3_path_list)}\")\n",
    "# male_mp3_path_list"
   ],
   "id": "5a775781fb9cd419",
   "outputs": [
    {
     "name": "stdout",
     "output_type": "stream",
     "text": [
      "len(male_mp3_path_list) = 1411\n"
     ]
    }
   ],
   "execution_count": 5
  },
  {
   "metadata": {
    "ExecuteTime": {
     "end_time": "2024-10-02T13:18:35.326639Z",
     "start_time": "2024-10-02T13:18:35.309636Z"
    }
   },
   "cell_type": "code",
   "source": [
    "male_wav_path_list = glob(pathname=f\".\\\\male\\\\*.wav\")\n",
    "print(f\"len(male_wav_path_list) = {len(male_wav_path_list)}\")"
   ],
   "id": "65969f6c82f016a0",
   "outputs": [
    {
     "name": "stdout",
     "output_type": "stream",
     "text": [
      "len(male_wav_path_list) = 56\n"
     ]
    }
   ],
   "execution_count": 6
  },
  {
   "metadata": {
    "ExecuteTime": {
     "end_time": "2024-10-02T13:18:35.419970Z",
     "start_time": "2024-10-02T13:18:35.403945Z"
    }
   },
   "cell_type": "code",
   "source": [
    "male_wav_dir_path = f\".\\\\maleWav\\\\\"\n",
    "if not os.path.exists(male_wav_dir_path):\n",
    "    os.mkdir(male_wav_dir_path)"
   ],
   "id": "bd6b050c6bb5e0b8",
   "outputs": [],
   "execution_count": 7
  },
  {
   "metadata": {
    "ExecuteTime": {
     "end_time": "2024-10-02T13:28:55.412807Z",
     "start_time": "2024-10-02T13:18:35.436265Z"
    }
   },
   "cell_type": "code",
   "source": [
    "for male_mp3_path in tqdm(male_mp3_path_list):\n",
    "    sound = AudioSegment.from_mp3(male_mp3_path)\n",
    "    wav_file_path = male_mp3_path.replace(\"male\", \"maleWav\").replace(\".mp3\", \".wav\")\n",
    "    sound.export(wav_file_path, format=\"wav\")"
   ],
   "id": "664a7253f3290ce",
   "outputs": [
    {
     "name": "stderr",
     "output_type": "stream",
     "text": [
      "100%|██████████| 1411/1411 [10:19<00:00,  2.28it/s]\n"
     ]
    }
   ],
   "execution_count": 8
  },
  {
   "metadata": {
    "ExecuteTime": {
     "end_time": "2024-10-02T13:28:55.459228Z",
     "start_time": "2024-10-02T13:28:55.429337Z"
    }
   },
   "cell_type": "code",
   "source": [
    "for male_wav_path in tqdm(male_wav_path_list):\n",
    "    shutil.copyfile(\n",
    "        male_wav_path,\n",
    "        male_wav_path.replace(\"male\", \"maleWav\")\n",
    "    )"
   ],
   "id": "ce2f64f940ca8e6c",
   "outputs": [
    {
     "name": "stderr",
     "output_type": "stream",
     "text": [
      "100%|██████████| 56/56 [00:00<00:00, 2186.71it/s]\n"
     ]
    }
   ],
   "execution_count": 9
  },
  {
   "metadata": {
    "ExecuteTime": {
     "end_time": "2024-10-02T13:28:55.553055Z",
     "start_time": "2024-10-02T13:28:55.533526Z"
    }
   },
   "cell_type": "code",
   "source": [
    "female_mp3_path_list = glob(pathname=f\".\\\\female\\\\*.mp3\")\n",
    "print(f\"len(female_mp3_path_list) = {len(female_mp3_path_list)}\")\n",
    "# female_mp3_path_list"
   ],
   "id": "5fd159b9b55f2bb",
   "outputs": [
    {
     "name": "stdout",
     "output_type": "stream",
     "text": [
      "len(female_mp3_path_list) = 1411\n"
     ]
    }
   ],
   "execution_count": 10
  },
  {
   "metadata": {
    "ExecuteTime": {
     "end_time": "2024-10-02T13:28:55.663315Z",
     "start_time": "2024-10-02T13:28:55.645290Z"
    }
   },
   "cell_type": "code",
   "source": [
    "female_wav_path_list = glob(pathname=f\".\\\\female\\\\*.wav\")\n",
    "print(f\"len(female_wav_path_list) = {len(female_wav_path_list)}\")"
   ],
   "id": "36ed820be0f43b1e",
   "outputs": [
    {
     "name": "stdout",
     "output_type": "stream",
     "text": [
      "len(female_wav_path_list) = 56\n"
     ]
    }
   ],
   "execution_count": 11
  },
  {
   "metadata": {
    "ExecuteTime": {
     "end_time": "2024-10-02T13:28:55.694543Z",
     "start_time": "2024-10-02T13:28:55.680029Z"
    }
   },
   "cell_type": "code",
   "source": [
    "female_wav_dir_path = f\".\\\\femaleWav\\\\\"\n",
    "if not os.path.exists(female_wav_dir_path):\n",
    "    os.mkdir(female_wav_dir_path)"
   ],
   "id": "376458906dac816e",
   "outputs": [],
   "execution_count": 12
  },
  {
   "metadata": {
    "ExecuteTime": {
     "end_time": "2024-10-02T13:39:23.343498Z",
     "start_time": "2024-10-02T13:28:55.710777Z"
    }
   },
   "cell_type": "code",
   "source": [
    "for female_mp3_path in tqdm(female_mp3_path_list):\n",
    "    sound = AudioSegment.from_mp3(female_mp3_path)\n",
    "    wav_file_path = female_mp3_path.replace(\"female\", \"femaleWav\").replace(\".mp3\", \".wav\")\n",
    "    if \"ch5\" in wav_file_path:\n",
    "        wav_file_path = wav_file_path.replace(\"ch5\", \"q5\")\n",
    "    sound.export(wav_file_path, format=\"wav\")"
   ],
   "id": "df2ac63d4a871567",
   "outputs": [
    {
     "name": "stderr",
     "output_type": "stream",
     "text": [
      "100%|██████████| 1411/1411 [10:27<00:00,  2.25it/s]\n"
     ]
    }
   ],
   "execution_count": 13
  },
  {
   "metadata": {
    "ExecuteTime": {
     "end_time": "2024-10-02T13:42:12.365773Z",
     "start_time": "2024-10-02T13:42:12.328485Z"
    }
   },
   "cell_type": "code",
   "source": [
    "for female_wav_path in tqdm(female_wav_path_list):\n",
    "    correct_path = \"\"\n",
    "    if \"ch5\" in female_wav_path:\n",
    "        correct_path = female_wav_path.replace(\"ch5\", \"q5\")\n",
    "    else:\n",
    "        correct_path = female_wav_path\n",
    "    shutil.copyfile(\n",
    "        female_wav_path,\n",
    "        correct_path.replace(\"female\", \"femaleWav\")\n",
    "    )"
   ],
   "id": "60c11f5c455d7a20",
   "outputs": [
    {
     "name": "stderr",
     "output_type": "stream",
     "text": [
      "100%|██████████| 56/56 [00:00<00:00, 2147.11it/s]\n"
     ]
    }
   ],
   "execution_count": 16
  }
 ],
 "metadata": {
  "kernelspec": {
   "display_name": "Python 3",
   "language": "python",
   "name": "python3"
  },
  "language_info": {
   "codemirror_mode": {
    "name": "ipython",
    "version": 2
   },
   "file_extension": ".py",
   "mimetype": "text/x-python",
   "name": "python",
   "nbconvert_exporter": "python",
   "pygments_lexer": "ipython2",
   "version": "2.7.6"
  }
 },
 "nbformat": 4,
 "nbformat_minor": 5
}
