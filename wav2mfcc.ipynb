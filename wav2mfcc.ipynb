{
 "cells": [
  {
   "cell_type": "code",
   "id": "initial_id",
   "metadata": {
    "collapsed": true,
    "ExecuteTime": {
     "end_time": "2024-09-17T14:23:52.152133Z",
     "start_time": "2024-09-17T14:23:50.744825Z"
    }
   },
   "source": [
    "import platform\n",
    "\n",
    "import librosa\n",
    "import numpy as np\n",
    "import scipy\n",
    "\n",
    "import os\n",
    "from glob import glob\n",
    "from tqdm import tqdm\n",
    "\n",
    "print(f\"platform.python_version(): {platform.python_version()}\")\n",
    "print(f\"np.version.version: {np.version.version}\")\n",
    "print(f\"scipy.__version__: {scipy.__version__}\")\n",
    "print(f\"librosa.version.version: {librosa.version.version}\")"
   ],
   "outputs": [
    {
     "name": "stdout",
     "output_type": "stream",
     "text": [
      "platform.python_version(): 3.9.13\n",
      "np.version.version: 1.22.4\n",
      "scipy.__version__: 1.7.3\n",
      "librosa.version.version: 0.10.2.post1\n"
     ]
    }
   ],
   "execution_count": 1
  },
  {
   "metadata": {
    "ExecuteTime": {
     "end_time": "2024-09-17T14:23:52.261907Z",
     "start_time": "2024-09-17T14:23:52.250399Z"
    }
   },
   "cell_type": "code",
   "source": [
    "# def get_mfcc(file_path, n_mfcc, max_pad_len):\n",
    "#     # 讀取音檔，轉為單聲道\n",
    "#     audio, sample_rate = librosa.load(file_path, mono=True, sr=None)\n",
    "#     # 計算 MFCC\n",
    "#     mfccs = librosa.feature.mfcc(y=audio, sr=sample_rate, n_mfcc=n_mfcc)\n",
    "#     # 計算填充或截斷的長度\n",
    "#     pad_width = max_pad_len - mfccs.shape[1]\n",
    "#     if pad_width < 0:\n",
    "#         # 截斷\n",
    "#         mfccs = mfccs[:, :max_pad_len]\n",
    "#     else:\n",
    "#         # 填充\n",
    "#         mfccs = np.pad(mfccs, pad_width=((0, 0), (0, pad_width)), mode='constant')\n",
    "#     return mfccs"
   ],
   "id": "25fd266c202c073e",
   "outputs": [],
   "execution_count": 2
  },
  {
   "metadata": {},
   "cell_type": "markdown",
   "source": "wav轉mfcc的function",
   "id": "44ee9746391f55f2"
  },
  {
   "metadata": {
    "ExecuteTime": {
     "end_time": "2024-09-17T14:23:52.588800Z",
     "start_time": "2024-09-17T14:23:52.573782Z"
    }
   },
   "cell_type": "code",
   "source": [
    "def get_mfcc(file_path, n_mfcc, max_pad_len, n_fft=2048, sr=22050, fmax=None, n_mels=128):\n",
    "    # 讀取音檔，轉為單聲道\n",
    "    audio, sample_rate = librosa.load(file_path, mono=True, sr=sr)\n",
    "    \n",
    "    # 確保 n_fft 小於或等於輸入信號的長度\n",
    "    n_fft = min(n_fft, len(audio))\n",
    "    \n",
    "    # 計算梅爾頻率倒譜係數（MFCC）\n",
    "    mfccs = librosa.feature.mfcc(y=audio, sr=sample_rate, n_mfcc=n_mfcc, n_fft=n_fft, n_mels=n_mels, fmax=fmax)\n",
    "    \n",
    "    # 計算填充或截斷的長度\n",
    "    pad_width = max_pad_len - mfccs.shape[1]\n",
    "    if pad_width < 0:\n",
    "        # 截斷\n",
    "        mfccs = mfccs[:, :max_pad_len]\n",
    "    else:\n",
    "        # 填充\n",
    "        mfccs = np.pad(mfccs, pad_width=((0, 0), (0, pad_width)), mode='constant')\n",
    "    \n",
    "    return mfccs"
   ],
   "id": "a0e0ccd35097f08d",
   "outputs": [],
   "execution_count": 3
  },
  {
   "metadata": {},
   "cell_type": "markdown",
   "source": "取得資料夾 'audio' 底下的所有wav檔案放入 'wav_path_list'",
   "id": "7eef53f580f5d081"
  },
  {
   "metadata": {
    "ExecuteTime": {
     "end_time": "2024-09-17T14:23:52.760423Z",
     "start_time": "2024-09-17T14:23:52.660932Z"
    }
   },
   "cell_type": "code",
   "source": [
    "wav_path_list: list = glob(f\"{os.getcwd()}\\\\audio\\\\*.wav\")\n",
    "print(f\"type(wav_list): {type(wav_path_list)}\")\n",
    "print(f\"len(wav_list): {len(wav_path_list)}\")\n",
    "# wav_path_list"
   ],
   "id": "ceec23229bb2bed6",
   "outputs": [
    {
     "name": "stdout",
     "output_type": "stream",
     "text": [
      "type(wav_list): <class 'list'>\n",
      "len(wav_list): 34215\n"
     ]
    }
   ],
   "execution_count": 4
  },
  {
   "metadata": {},
   "cell_type": "markdown",
   "source": "取得資料夾 'record' 底下的所有wav檔案放入 'record_wav_path_list'",
   "id": "9dd26af3da758bf"
  },
  {
   "metadata": {
    "ExecuteTime": {
     "end_time": "2024-09-17T14:23:52.840041Z",
     "start_time": "2024-09-17T14:23:52.820019Z"
    }
   },
   "cell_type": "code",
   "source": [
    "record_wav_path_list: list = glob(f\"{os.getcwd()}\\\\record\\\\*.wav\")\n",
    "print(f\"type(record_wav_path_list): {type(record_wav_path_list)}\")\n",
    "print(f\"len(record_wav_path_list): {len(record_wav_path_list)}\")\n",
    "# record_wav_path_list"
   ],
   "id": "f88438d09a7d75e",
   "outputs": [
    {
     "name": "stdout",
     "output_type": "stream",
     "text": [
      "type(record_wav_path_list): <class 'list'>\n",
      "len(record_wav_path_list): 3043\n"
     ]
    }
   ],
   "execution_count": 5
  },
  {
   "metadata": {},
   "cell_type": "markdown",
   "source": "取得 'samplePinyin\\\\Male' 資料夾底下的1467種拼音(來源: 教育部)路徑並放入 'sample_pinyin_list'",
   "id": "fd6a608277c35385"
  },
  {
   "metadata": {
    "ExecuteTime": {
     "end_time": "2024-09-17T14:23:53.010974Z",
     "start_time": "2024-09-17T14:23:52.993846Z"
    }
   },
   "cell_type": "code",
   "source": [
    "sample_list: list = glob(f\"{os.getcwd()}\\\\samplePinyin\\\\Male\\\\*.wav\")\n",
    "\n",
    "sample_pinyin_list: list = []\n",
    "for i in range(len(sample_list)):\n",
    "    label = sample_list[i][sample_list[i].find(\"_\") + 1:sample_list[i].find(\".wav\")]\n",
    "    sample_pinyin_list.append(label)\n",
    "    \n",
    "print(f\"type(sample_pinyin_list): {type(sample_pinyin_list)}\")    \n",
    "print(f\"len(sample_pinyin_list): {len(sample_pinyin_list)}\")    \n",
    "# sample_pinyin_list"
   ],
   "id": "5ac5c33a2f9d19e",
   "outputs": [
    {
     "name": "stdout",
     "output_type": "stream",
     "text": [
      "type(sample_pinyin_list): <class 'list'>\n",
      "len(sample_pinyin_list): 1467\n"
     ]
    }
   ],
   "execution_count": 6
  },
  {
   "metadata": {},
   "cell_type": "markdown",
   "source": "mfcc 設定",
   "id": "c831216845c0143f"
  },
  {
   "metadata": {
    "ExecuteTime": {
     "end_time": "2024-09-17T14:23:53.104738Z",
     "start_time": "2024-09-17T14:23:53.098733Z"
    }
   },
   "cell_type": "code",
   "source": [
    "n_mfcc: int = 13  # row\n",
    "max_pad_len: int = 44  # column\n",
    "\n",
    "# 如果沒有 'mfcc' 這個資料夾就做一個\n",
    "if not os.path.exists(f\"{os.getcwd()}\\\\mfcc\"):\n",
    "    os.mkdir(f\"{os.getcwd()}\\\\mfcc\")"
   ],
   "id": "a17a99c0d93a5321",
   "outputs": [],
   "execution_count": 7
  },
  {
   "metadata": {},
   "cell_type": "markdown",
   "source": "'record'下的wav轉成mfcc放入'mfcc'",
   "id": "82580765e439929d"
  },
  {
   "metadata": {
    "ExecuteTime": {
     "end_time": "2024-09-17T14:24:33.767185Z",
     "start_time": "2024-09-17T14:23:53.136797Z"
    }
   },
   "cell_type": "code",
   "source": [
    "for wav_path in tqdm(record_wav_path_list):\n",
    "    mfcc = get_mfcc(file_path=wav_path, n_mfcc=n_mfcc, max_pad_len=max_pad_len)\n",
    "    # 篩選掉 'record_wav_path_list' 中檔名的label格式不正確的檔案\n",
    "    label = wav_path[wav_path.find(\"_\") + 1:wav_path.find(\".wav\")]\n",
    "    if label in sample_pinyin_list:\n",
    "        path = wav_path.replace(\"record\", \"mfcc\").replace(\".wav\", \".npy\")\n",
    "        np.save(file=path, arr=mfcc)"
   ],
   "id": "52dc37d5beebb1e2",
   "outputs": [
    {
     "name": "stderr",
     "output_type": "stream",
     "text": [
      "100%|██████████| 3043/3043 [00:40<00:00, 74.94it/s] \n"
     ]
    }
   ],
   "execution_count": 8
  },
  {
   "metadata": {},
   "cell_type": "markdown",
   "source": "'audio'下的wav轉成mfcc放入'mfcc'",
   "id": "f49759990e35eda7"
  },
  {
   "metadata": {
    "ExecuteTime": {
     "end_time": "2024-09-17T14:28:28.870325Z",
     "start_time": "2024-09-17T14:24:33.785203Z"
    }
   },
   "cell_type": "code",
   "source": [
    "# 將轉好的mfcc陣列輸出成npy檔儲存在 'mfcc' 這個資料夾\n",
    "for wav_path in tqdm(wav_path_list):\n",
    "    mfcc = get_mfcc(file_path=wav_path, n_mfcc=n_mfcc, max_pad_len=max_pad_len)\n",
    "    \n",
    "    # 處理一聲和輕聲的標籤問題\n",
    "    label = wav_path[wav_path.find(\"_\") + 1:wav_path.find(\".wav\")]\n",
    "    if label[-1] == \"1\":\n",
    "        wav_path = wav_path.replace(f\"{label}.wav\", f\"{label.replace('1', '')}.wav\")\n",
    "    elif label[-1] not in [\"2\", \"3\", \"4\"]:\n",
    "        wav_path = wav_path.replace(f\"{label}.wav\", f\"{label}5.wav\")\n",
    "    \n",
    "    # 篩選掉 'wav_path_list' 中檔名的label格式不正確的檔案\n",
    "    label = wav_path[wav_path.find(\"_\") + 1:wav_path.find(\".wav\")]\n",
    "    if label in sample_pinyin_list:\n",
    "        path = wav_path.replace(\"audio\", \"mfcc\").replace(\".wav\", \".npy\")\n",
    "        np.save(file=path, arr=mfcc)"
   ],
   "id": "d9cd0f13993f6fcd",
   "outputs": [
    {
     "name": "stderr",
     "output_type": "stream",
     "text": [
      "  1%|          | 181/34215 [00:01<03:57, 143.49it/s]D:\\Coding\\SchoolProject\\GraduationProjectVenv\\lib\\site-packages\\librosa\\feature\\spectral.py:2143: UserWarning: Empty filters detected in mel frequency basis. Some channels will produce empty responses. Try increasing your sampling rate (and fmax) or reducing n_mels.\n",
      "  mel_basis = filters.mel(sr=sr, n_fft=n_fft, **kwargs)\n",
      "100%|██████████| 34215/34215 [03:55<00:00, 145.55it/s]\n"
     ]
    }
   ],
   "execution_count": 9
  }
 ],
 "metadata": {
  "kernelspec": {
   "display_name": "Python 3",
   "language": "python",
   "name": "python3"
  },
  "language_info": {
   "codemirror_mode": {
    "name": "ipython",
    "version": 2
   },
   "file_extension": ".py",
   "mimetype": "text/x-python",
   "name": "python",
   "nbconvert_exporter": "python",
   "pygments_lexer": "ipython2",
   "version": "2.7.6"
  }
 },
 "nbformat": 4,
 "nbformat_minor": 5
}
