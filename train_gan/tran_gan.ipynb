{
 "cells": [
  {
   "cell_type": "code",
   "metadata": {
    "ExecuteTime": {
     "end_time": "2024-09-23T18:41:00.784662Z",
     "start_time": "2024-09-23T18:40:55.905337Z"
    }
   },
   "source": [
    "import platform\n",
    "print(f\"platform.python_version(): {platform.python_version()}\")\n",
    "\n",
    "import os\n",
    "from glob import glob\n",
    "from tqdm import tqdm\n",
    "\n",
    "import torch\n",
    "import torch.nn as nn\n",
    "import torch.optim as optim\n",
    "from torch.utils.data import DataLoader, Dataset\n",
    "\n",
    "import numpy as np\n",
    "\n",
    "import matplotlib.pyplot as plt\n",
    "import matplotlib\n",
    "matplotlib.rc('font', family='Microsoft JhengHei')\n",
    "\n",
    "# 檢查CUDA是否可用\n",
    "device = torch.device('cuda' if torch.cuda.is_available() else 'cpu')\n",
    "print(f'Using device: {device}')"
   ],
   "outputs": [
    {
     "name": "stdout",
     "output_type": "stream",
     "text": [
      "platform.python_version(): 3.9.13\n",
      "Using device: cuda\n"
     ]
    }
   ],
   "execution_count": 1
  },
  {
   "cell_type": "markdown",
   "metadata": {},
   "source": [
    "載入mfcc為data"
   ]
  },
  {
   "cell_type": "code",
   "metadata": {
    "ExecuteTime": {
     "end_time": "2024-09-23T18:41:07.204257Z",
     "start_time": "2024-09-23T18:41:00.792664Z"
    }
   },
   "source": [
    "npy_file_list = glob(f\"..\\\\data\\\\mfcc\\\\*.npy\")\n",
    "print(f\"type(npy_file_list): {type(npy_file_list)}\")\n",
    "print(f\"len(npy_file_list): {len(npy_file_list)}\")\n",
    "\n",
    "mfcc_list = []\n",
    "\n",
    "for npy_file in tqdm(npy_file_list):\n",
    "    mfcc = np.load(file=npy_file)\n",
    "    mfcc_list.append(mfcc)\n",
    "\n",
    "# 將list()轉換成np.array()\n",
    "mfcc_list = np.array(mfcc_list)\n",
    "print(f\"type(mfcc_list): {type(mfcc_list)}\")\n",
    "print(f\"mfcc_list.shape: {mfcc_list.shape}\")\n",
    "\n",
    "all_mfcc = []\n",
    "for mfcc in mfcc_list:\n",
    "    all_mfcc.append(mfcc)\n",
    "\n",
    "data = np.array(all_mfcc)\n",
    "data_len = len(data)"
   ],
   "outputs": [
    {
     "name": "stdout",
     "output_type": "stream",
     "text": [
      "type(npy_file_list): <class 'list'>\n",
      "len(npy_file_list): 39423\n"
     ]
    },
    {
     "name": "stderr",
     "output_type": "stream",
     "text": [
      "100%|██████████| 39423/39423 [00:06<00:00, 6313.79it/s]"
     ]
    },
    {
     "name": "stdout",
     "output_type": "stream",
     "text": [
      "type(mfcc_list): <class 'numpy.ndarray'>\n",
      "mfcc_list.shape: (39423, 13, 44)\n"
     ]
    },
    {
     "name": "stderr",
     "output_type": "stream",
     "text": [
      "\n"
     ]
    }
   ],
   "execution_count": 2
  },
  {
   "cell_type": "markdown",
   "metadata": {},
   "source": [
    "載入labelByself為labels"
   ]
  },
  {
   "cell_type": "code",
   "metadata": {
    "ExecuteTime": {
     "end_time": "2024-09-23T18:41:07.345481Z",
     "start_time": "2024-09-23T18:41:07.329879Z"
    }
   },
   "source": [
    "load_data = np.load('labelByself.npz')\n",
    "labels = load_data['data']"
   ],
   "outputs": [],
   "execution_count": 3
  },
  {
   "cell_type": "code",
   "metadata": {
    "ExecuteTime": {
     "end_time": "2024-09-23T18:57:12.726444Z",
     "start_time": "2024-09-23T18:41:07.377486Z"
    }
   },
   "source": [
    "#######################################################################\n",
    "#載入mfcc為data\n",
    "npy_file_list = glob(f\"..\\\\data\\\\mfcc\\\\*.npy\")\n",
    "print(f\"type(npy_file_list): {type(npy_file_list)}\")\n",
    "print(f\"len(npy_file_list): {len(npy_file_list)}\")\n",
    "\n",
    "mfcc_list = []\n",
    "\n",
    "for npy_file in tqdm(npy_file_list):\n",
    "    mfcc = np.load(file=npy_file)\n",
    "    mfcc_list.append(mfcc)\n",
    "\n",
    "mfcc_list = np.array(mfcc_list)\n",
    "print(f\"type(mfcc_list): {type(mfcc_list)}\")\n",
    "print(f\"mfcc_list.shape: {mfcc_list.shape}\")\n",
    "\n",
    "all_mfcc = []\n",
    "for mfcc in mfcc_list:\n",
    "    all_mfcc.append(mfcc)\n",
    "\n",
    "data = np.array(all_mfcc)\n",
    "data_len = len(data)\n",
    "#######################################################################\n",
    "\n",
    "#######################################################################\n",
    "#載入labelByself為labels\n",
    "load_data = np.load('labelByself.npz')\n",
    "labels = load_data['data']\n",
    "#######################################################################\n",
    "\n",
    "every_epoch = [] \n",
    "every_d_loss = []\n",
    "every_g_loss = []\n",
    "every_DZ = []\n",
    "\n",
    "\n",
    "class PhonemeDataset(Dataset):\n",
    "    def __init__(self, data, labels):\n",
    "        self.data = data\n",
    "        self.labels = labels\n",
    "\n",
    "    def __len__(self):\n",
    "        return len(self.data)\n",
    "\n",
    "    def __getitem__(self, idx):\n",
    "        return self.data[idx], self.labels[idx]\n",
    "\n",
    "class Generator(nn.Module):\n",
    "    def __init__(self, input_dim, hidden_dim, output_shape):\n",
    "        super(Generator, self).__init__()\n",
    "        self.output_shape = output_shape\n",
    "        self.output_dim = output_shape[0] * output_shape[1]\n",
    "        self.model = nn.Sequential(\n",
    "            nn.Linear(input_dim, hidden_dim),\n",
    "            nn.BatchNorm1d(hidden_dim),\n",
    "            nn.ReLU(),\n",
    "            nn.Linear(hidden_dim, hidden_dim * 2),\n",
    "            nn.BatchNorm1d(hidden_dim * 2),\n",
    "            nn.ReLU(),\n",
    "            nn.Linear(hidden_dim * 2, hidden_dim * 4), \n",
    "            nn.BatchNorm1d(hidden_dim * 4),\n",
    "            nn.ReLU(),\n",
    "            nn.Linear(hidden_dim * 4, self.output_dim), \n",
    "            #nn.BatchNorm1d(hidden_dim * 8),\n",
    "            #nn.ReLU(),\n",
    "            #nn.Linear(hidden_dim * 8, self.output_dim),\n",
    "            nn.Tanh()\n",
    "        )\n",
    "\n",
    "    def forward(self, x):\n",
    "        x = self.model(x)\n",
    "        return x.view(x.size(0), *self.output_shape)\n",
    "\n",
    "class Discriminator(nn.Module):\n",
    "    def __init__(self, input_shape, hidden_dim):\n",
    "        super(Discriminator, self).__init__()\n",
    "        self.input_dim = input_shape[0] * input_shape[1]\n",
    "        self.model = nn.Sequential(\n",
    "            nn.Linear(self.input_dim, hidden_dim * 8),\n",
    "            nn.LeakyReLU(0.2),\n",
    "            nn.Dropout(0.3),\n",
    "            nn.Linear(hidden_dim * 8, hidden_dim * 4),\n",
    "            nn.LeakyReLU(0.2),\n",
    "            nn.Dropout(0.3),\n",
    "            nn.Linear(hidden_dim * 4, hidden_dim * 2),\n",
    "            nn.LeakyReLU(0.2),\n",
    "            nn.Dropout(0.3),\n",
    "            nn.Linear(hidden_dim * 2, hidden_dim),\n",
    "            nn.LeakyReLU(0.2),\n",
    "            nn.Dropout(0.3),\n",
    "            nn.Linear(hidden_dim, 1),\n",
    "            nn.Sigmoid()\n",
    "        )\n",
    "\n",
    "    def forward(self, x):\n",
    "        x = x.view(x.size(0), -1)\n",
    "        return self.model(x)\n",
    "\n",
    "# 假設原始MFCC矩陣的形狀為(13, 44)\n",
    "mfcc_shape = (13, 44)\n",
    "input_dim =  2048 # 生成器的輸入維度2048\n",
    "hidden_dim = 128\n",
    "\n",
    "# 初始化生成器和判別器\n",
    "generator = Generator(input_dim, hidden_dim, mfcc_shape).to(device)\n",
    "discriminator = Discriminator(mfcc_shape, hidden_dim).to(device)\n",
    "\n",
    "\n",
    "criterion = nn.BCELoss()\n",
    "optimizer_G = optim.Adam(generator.parameters(), lr=0.0000001)\n",
    "optimizer_D = optim.Adam(discriminator.parameters(), lr=0.0000001)#0.0000001\n",
    "\n",
    "# 創建數據集和數據加載器\n",
    "dataset = PhonemeDataset(data, labels)\n",
    "dataloader = DataLoader(dataset, batch_size=64, shuffle=True)\n",
    "\n",
    "# 訓練GAN模型\n",
    "num_epochs = 100\n",
    "d_steps = 1  # 每個生成器步驟後訓練判別器的步數\n",
    "g_steps = 3  # 每個判別器步驟後訓練生成器的步數\n",
    "\n",
    "for epoch in range(num_epochs):\n",
    "    for i, (data, labels) in enumerate(dataloader):\n",
    "        data = data.to(device)\n",
    "        batch_size = data.size(0)\n",
    "        real_labels = torch.ones(batch_size, 1).to(device)\n",
    "        fake_labels = torch.zeros(batch_size, 1).to(device)\n",
    "\n",
    "        # 訓練判別器\n",
    "        for _ in range(d_steps):\n",
    "            outputs = discriminator(data)\n",
    "            d_loss_real = criterion(outputs, real_labels)\n",
    "            real_score = outputs\n",
    "\n",
    "            z = torch.randn(batch_size, input_dim).to(device)\n",
    "            fake_data = generator(z)\n",
    "            outputs = discriminator(fake_data.detach())\n",
    "            d_loss_fake = criterion(outputs, fake_labels)\n",
    "            fake_score = outputs\n",
    "\n",
    "            d_loss = d_loss_real + d_loss_fake\n",
    "            optimizer_D.zero_grad()\n",
    "            d_loss.backward()\n",
    "            optimizer_D.step()\n",
    "\n",
    "        # 訓練生成器\n",
    "        for _ in range(g_steps):\n",
    "            z = torch.randn(batch_size, input_dim).to(device)\n",
    "            fake_data = generator(z)\n",
    "            outputs = discriminator(fake_data)\n",
    "            g_loss = criterion(outputs, real_labels)\n",
    "\n",
    "            optimizer_G.zero_grad()\n",
    "            g_loss.backward()\n",
    "            optimizer_G.step()\n",
    "\n",
    "    print(f'Epoch [{epoch+1}/{num_epochs}], d_loss: {d_loss.item():.4f}, g_loss: {g_loss.item():.4f}, '\n",
    "          f'D(x): {real_score.mean().item():.2f}, D(G(z)): {fake_score.mean().item():.2f}')\n",
    "\n",
    "    every_epoch.append(epoch)\n",
    "    every_d_loss.append(d_loss.item())\n",
    "    every_g_loss.append(g_loss.item())\n",
    "    every_DZ.append(fake_score.mean().item())\n",
    "\n",
    "print('訓練完成！')\n"
   ],
   "outputs": [
    {
     "name": "stdout",
     "output_type": "stream",
     "text": [
      "type(npy_file_list): <class 'list'>\n",
      "len(npy_file_list): 39423\n"
     ]
    },
    {
     "name": "stderr",
     "output_type": "stream",
     "text": [
      "100%|██████████| 39423/39423 [00:06<00:00, 6342.07it/s]\n"
     ]
    },
    {
     "name": "stdout",
     "output_type": "stream",
     "text": [
      "type(mfcc_list): <class 'numpy.ndarray'>\n",
      "mfcc_list.shape: (39423, 13, 44)\n",
      "Epoch [1/100], d_loss: 0.8911, g_loss: 0.7216, D(x): 0.81, D(G(z)): 0.48\n",
      "Epoch [2/100], d_loss: 0.8412, g_loss: 0.7208, D(x): 0.85, D(G(z)): 0.49\n",
      "Epoch [3/100], d_loss: 0.7708, g_loss: 0.7175, D(x): 0.91, D(G(z)): 0.49\n",
      "Epoch [4/100], d_loss: 0.7864, g_loss: 0.7139, D(x): 0.90, D(G(z)): 0.49\n",
      "Epoch [5/100], d_loss: 0.7503, g_loss: 0.7102, D(x): 0.93, D(G(z)): 0.49\n",
      "Epoch [6/100], d_loss: 0.7220, g_loss: 0.7093, D(x): 0.96, D(G(z)): 0.49\n",
      "Epoch [7/100], d_loss: 0.7172, g_loss: 0.7061, D(x): 0.97, D(G(z)): 0.49\n",
      "Epoch [8/100], d_loss: 0.7081, g_loss: 0.7053, D(x): 0.97, D(G(z)): 0.49\n",
      "Epoch [9/100], d_loss: 0.7068, g_loss: 0.7048, D(x): 0.98, D(G(z)): 0.49\n",
      "Epoch [10/100], d_loss: 0.7058, g_loss: 0.7044, D(x): 0.98, D(G(z)): 0.49\n",
      "Epoch [11/100], d_loss: 0.6963, g_loss: 0.7033, D(x): 0.98, D(G(z)): 0.49\n",
      "Epoch [12/100], d_loss: 0.6953, g_loss: 0.7066, D(x): 0.98, D(G(z)): 0.49\n",
      "Epoch [13/100], d_loss: 0.6909, g_loss: 0.7070, D(x): 0.99, D(G(z)): 0.49\n",
      "Epoch [14/100], d_loss: 0.6886, g_loss: 0.7144, D(x): 0.99, D(G(z)): 0.49\n",
      "Epoch [15/100], d_loss: 0.6807, g_loss: 0.7159, D(x): 0.99, D(G(z)): 0.49\n",
      "Epoch [16/100], d_loss: 0.6748, g_loss: 0.7179, D(x): 0.99, D(G(z)): 0.49\n",
      "Epoch [17/100], d_loss: 0.6693, g_loss: 0.7228, D(x): 0.99, D(G(z)): 0.48\n",
      "Epoch [18/100], d_loss: 0.6677, g_loss: 0.7280, D(x): 0.99, D(G(z)): 0.48\n",
      "Epoch [19/100], d_loss: 0.6600, g_loss: 0.7302, D(x): 1.00, D(G(z)): 0.48\n",
      "Epoch [20/100], d_loss: 0.6603, g_loss: 0.7364, D(x): 1.00, D(G(z)): 0.48\n",
      "Epoch [21/100], d_loss: 0.6544, g_loss: 0.7385, D(x): 1.00, D(G(z)): 0.48\n",
      "Epoch [22/100], d_loss: 0.6516, g_loss: 0.7387, D(x): 0.99, D(G(z)): 0.48\n",
      "Epoch [23/100], d_loss: 0.6468, g_loss: 0.7443, D(x): 1.00, D(G(z)): 0.47\n",
      "Epoch [24/100], d_loss: 0.6425, g_loss: 0.7464, D(x): 1.00, D(G(z)): 0.47\n",
      "Epoch [25/100], d_loss: 0.6425, g_loss: 0.7490, D(x): 1.00, D(G(z)): 0.47\n",
      "Epoch [26/100], d_loss: 0.6396, g_loss: 0.7525, D(x): 1.00, D(G(z)): 0.47\n",
      "Epoch [27/100], d_loss: 0.6399, g_loss: 0.7551, D(x): 1.00, D(G(z)): 0.47\n",
      "Epoch [28/100], d_loss: 0.6367, g_loss: 0.7574, D(x): 1.00, D(G(z)): 0.47\n",
      "Epoch [29/100], d_loss: 0.6340, g_loss: 0.7605, D(x): 1.00, D(G(z)): 0.47\n",
      "Epoch [30/100], d_loss: 0.6338, g_loss: 0.7614, D(x): 0.99, D(G(z)): 0.47\n",
      "Epoch [31/100], d_loss: 0.6341, g_loss: 0.7639, D(x): 0.99, D(G(z)): 0.47\n",
      "Epoch [32/100], d_loss: 0.6354, g_loss: 0.7617, D(x): 0.99, D(G(z)): 0.47\n",
      "Epoch [33/100], d_loss: 0.6323, g_loss: 0.7603, D(x): 1.00, D(G(z)): 0.47\n",
      "Epoch [34/100], d_loss: 0.6349, g_loss: 0.7618, D(x): 1.00, D(G(z)): 0.47\n",
      "Epoch [35/100], d_loss: 0.6316, g_loss: 0.7642, D(x): 1.00, D(G(z)): 0.47\n",
      "Epoch [36/100], d_loss: 0.6337, g_loss: 0.7604, D(x): 0.99, D(G(z)): 0.47\n",
      "Epoch [37/100], d_loss: 0.6333, g_loss: 0.7615, D(x): 1.00, D(G(z)): 0.47\n",
      "Epoch [38/100], d_loss: 0.6380, g_loss: 0.7554, D(x): 1.00, D(G(z)): 0.47\n",
      "Epoch [39/100], d_loss: 0.6382, g_loss: 0.7576, D(x): 1.00, D(G(z)): 0.47\n",
      "Epoch [40/100], d_loss: 0.6391, g_loss: 0.7525, D(x): 1.00, D(G(z)): 0.47\n",
      "Epoch [41/100], d_loss: 0.6453, g_loss: 0.7495, D(x): 0.99, D(G(z)): 0.47\n",
      "Epoch [42/100], d_loss: 0.6448, g_loss: 0.7485, D(x): 1.00, D(G(z)): 0.47\n",
      "Epoch [43/100], d_loss: 0.6435, g_loss: 0.7496, D(x): 1.00, D(G(z)): 0.47\n",
      "Epoch [44/100], d_loss: 0.6502, g_loss: 0.7479, D(x): 0.99, D(G(z)): 0.48\n",
      "Epoch [45/100], d_loss: 0.6500, g_loss: 0.7480, D(x): 1.00, D(G(z)): 0.48\n",
      "Epoch [46/100], d_loss: 0.6454, g_loss: 0.7471, D(x): 1.00, D(G(z)): 0.47\n",
      "Epoch [47/100], d_loss: 0.6493, g_loss: 0.7423, D(x): 0.99, D(G(z)): 0.47\n",
      "Epoch [48/100], d_loss: 0.6496, g_loss: 0.7436, D(x): 1.00, D(G(z)): 0.48\n",
      "Epoch [49/100], d_loss: 0.6526, g_loss: 0.7402, D(x): 1.00, D(G(z)): 0.48\n",
      "Epoch [50/100], d_loss: 0.6498, g_loss: 0.7441, D(x): 0.99, D(G(z)): 0.47\n",
      "Epoch [51/100], d_loss: 0.6512, g_loss: 0.7414, D(x): 0.99, D(G(z)): 0.48\n",
      "Epoch [52/100], d_loss: 0.6560, g_loss: 0.7445, D(x): 0.99, D(G(z)): 0.48\n",
      "Epoch [53/100], d_loss: 0.6488, g_loss: 0.7430, D(x): 1.00, D(G(z)): 0.47\n",
      "Epoch [54/100], d_loss: 0.6465, g_loss: 0.7439, D(x): 1.00, D(G(z)): 0.47\n",
      "Epoch [55/100], d_loss: 0.6461, g_loss: 0.7471, D(x): 1.00, D(G(z)): 0.47\n",
      "Epoch [56/100], d_loss: 0.6456, g_loss: 0.7474, D(x): 1.00, D(G(z)): 0.47\n",
      "Epoch [57/100], d_loss: 0.6394, g_loss: 0.7508, D(x): 1.00, D(G(z)): 0.47\n",
      "Epoch [58/100], d_loss: 0.6402, g_loss: 0.7541, D(x): 1.00, D(G(z)): 0.47\n",
      "Epoch [59/100], d_loss: 0.6419, g_loss: 0.7545, D(x): 1.00, D(G(z)): 0.47\n",
      "Epoch [60/100], d_loss: 0.6432, g_loss: 0.7535, D(x): 0.99, D(G(z)): 0.47\n",
      "Epoch [61/100], d_loss: 0.6372, g_loss: 0.7537, D(x): 1.00, D(G(z)): 0.47\n",
      "Epoch [62/100], d_loss: 0.6335, g_loss: 0.7594, D(x): 1.00, D(G(z)): 0.47\n",
      "Epoch [63/100], d_loss: 0.6359, g_loss: 0.7592, D(x): 0.99, D(G(z)): 0.47\n",
      "Epoch [64/100], d_loss: 0.6308, g_loss: 0.7587, D(x): 1.00, D(G(z)): 0.47\n",
      "Epoch [65/100], d_loss: 0.6306, g_loss: 0.7622, D(x): 1.00, D(G(z)): 0.47\n",
      "Epoch [66/100], d_loss: 0.6334, g_loss: 0.7651, D(x): 1.00, D(G(z)): 0.47\n",
      "Epoch [67/100], d_loss: 0.6261, g_loss: 0.7655, D(x): 1.00, D(G(z)): 0.46\n",
      "Epoch [68/100], d_loss: 0.6256, g_loss: 0.7700, D(x): 1.00, D(G(z)): 0.46\n",
      "Epoch [69/100], d_loss: 0.6293, g_loss: 0.7694, D(x): 1.00, D(G(z)): 0.46\n",
      "Epoch [70/100], d_loss: 0.6277, g_loss: 0.7710, D(x): 0.99, D(G(z)): 0.46\n",
      "Epoch [71/100], d_loss: 0.6216, g_loss: 0.7738, D(x): 1.00, D(G(z)): 0.46\n",
      "Epoch [72/100], d_loss: 0.6223, g_loss: 0.7718, D(x): 1.00, D(G(z)): 0.46\n",
      "Epoch [73/100], d_loss: 0.6223, g_loss: 0.7739, D(x): 1.00, D(G(z)): 0.46\n",
      "Epoch [74/100], d_loss: 0.6234, g_loss: 0.7747, D(x): 0.99, D(G(z)): 0.46\n",
      "Epoch [75/100], d_loss: 0.6193, g_loss: 0.7824, D(x): 1.00, D(G(z)): 0.46\n",
      "Epoch [76/100], d_loss: 0.6189, g_loss: 0.7823, D(x): 1.00, D(G(z)): 0.46\n",
      "Epoch [77/100], d_loss: 0.6149, g_loss: 0.7826, D(x): 1.00, D(G(z)): 0.46\n",
      "Epoch [78/100], d_loss: 0.6155, g_loss: 0.7860, D(x): 1.00, D(G(z)): 0.46\n",
      "Epoch [79/100], d_loss: 0.6146, g_loss: 0.7829, D(x): 0.99, D(G(z)): 0.46\n",
      "Epoch [80/100], d_loss: 0.6083, g_loss: 0.7874, D(x): 1.00, D(G(z)): 0.45\n",
      "Epoch [81/100], d_loss: 0.6094, g_loss: 0.7861, D(x): 1.00, D(G(z)): 0.45\n",
      "Epoch [82/100], d_loss: 0.6124, g_loss: 0.7890, D(x): 0.99, D(G(z)): 0.45\n",
      "Epoch [83/100], d_loss: 0.6025, g_loss: 0.7892, D(x): 1.00, D(G(z)): 0.45\n",
      "Epoch [84/100], d_loss: 0.6039, g_loss: 0.7920, D(x): 1.00, D(G(z)): 0.45\n",
      "Epoch [85/100], d_loss: 0.6199, g_loss: 0.7934, D(x): 0.99, D(G(z)): 0.45\n",
      "Epoch [86/100], d_loss: 0.6118, g_loss: 0.7960, D(x): 0.99, D(G(z)): 0.45\n",
      "Epoch [87/100], d_loss: 0.6022, g_loss: 0.7964, D(x): 1.00, D(G(z)): 0.45\n",
      "Epoch [88/100], d_loss: 0.6016, g_loss: 0.7956, D(x): 1.00, D(G(z)): 0.45\n",
      "Epoch [89/100], d_loss: 0.6028, g_loss: 0.7958, D(x): 1.00, D(G(z)): 0.45\n",
      "Epoch [90/100], d_loss: 0.6057, g_loss: 0.7973, D(x): 0.99, D(G(z)): 0.45\n",
      "Epoch [91/100], d_loss: 0.6019, g_loss: 0.7958, D(x): 1.00, D(G(z)): 0.45\n",
      "Epoch [92/100], d_loss: 0.6032, g_loss: 0.7990, D(x): 1.00, D(G(z)): 0.45\n",
      "Epoch [93/100], d_loss: 0.6017, g_loss: 0.7994, D(x): 1.00, D(G(z)): 0.45\n",
      "Epoch [94/100], d_loss: 0.6069, g_loss: 0.7993, D(x): 0.99, D(G(z)): 0.45\n",
      "Epoch [95/100], d_loss: 0.5990, g_loss: 0.7962, D(x): 1.00, D(G(z)): 0.45\n",
      "Epoch [96/100], d_loss: 0.5975, g_loss: 0.7933, D(x): 1.00, D(G(z)): 0.45\n",
      "Epoch [97/100], d_loss: 0.5991, g_loss: 0.8017, D(x): 1.00, D(G(z)): 0.45\n",
      "Epoch [98/100], d_loss: 0.5982, g_loss: 0.7984, D(x): 1.00, D(G(z)): 0.45\n",
      "Epoch [99/100], d_loss: 0.6072, g_loss: 0.7953, D(x): 0.99, D(G(z)): 0.45\n",
      "Epoch [100/100], d_loss: 0.6010, g_loss: 0.7979, D(x): 1.00, D(G(z)): 0.45\n",
      "訓練完成！\n"
     ]
    }
   ],
   "execution_count": 4
  },
  {
   "cell_type": "code",
   "metadata": {
    "ExecuteTime": {
     "end_time": "2024-09-23T18:57:12.836572Z",
     "start_time": "2024-09-23T18:57:12.729451Z"
    }
   },
   "source": [
    "plt.plot(every_epoch,  every_d_loss, linestyle='-', label='Discriminator Loss')\n",
    "plt.plot(every_epoch,  every_g_loss, linestyle='-', label='Generator Loss')\n",
    "plt.title(f'在{data_len}筆資料和{num_epochs}次epoch下d_loss與g_loss的變化')\n",
    "plt.xlabel('epoch')\n",
    "plt.ylabel('d_loss')\n",
    "\n",
    "\n",
    "plt.legend() \n",
    "\n",
    "plt.show()"
   ],
   "outputs": [
    {
     "data": {
      "text/plain": [
       "<Figure size 640x480 with 1 Axes>"
      ],
      "image/png": "[encoded data removed]"
     },
     "metadata": {},
     "output_type": "display_data"
    }
   ],
   "execution_count": 5
  },
  {
   "cell_type": "markdown",
   "metadata": {},
   "source": [
    "利用訓練好的GAN去生成音訊特徵"
   ]
  },
  {
   "cell_type": "code",
   "metadata": {
    "ExecuteTime": {
     "end_time": "2024-09-23T18:57:13.115881Z",
     "start_time": "2024-09-23T18:57:13.086349Z"
    }
   },
   "source": [
    "num_samples = 10\n",
    "\n",
    "# 創建新的MFCC數據\n",
    "new_mfcc_data = []\n",
    "generator.eval()  # 設置生成器為評估模式\n",
    "\n",
    "for i in range(num_samples):\n",
    "    noise = torch.randn(1, input_dim).to(device)  # 創建隨機噪聲向量\n",
    "    with torch.no_grad():  # 禁用梯度計算\n",
    "        generated_mfcc = generator(noise).view(1, *mfcc_shape)  # 生成數據並轉換形狀\n",
    "    new_mfcc_data.append(generated_mfcc.cpu().detach().numpy())  # 將數據從GPU移到CPU，並轉換為numpy數組\n",
    "\n",
    "new_mfcc_data = np.array(new_mfcc_data)  # 將列表轉換為numpy數組"
   ],
   "outputs": [],
   "execution_count": 6
  },
  {
   "cell_type": "markdown",
   "metadata": {},
   "source": [
    "資料做分群"
   ]
  },
  {
   "cell_type": "code",
   "metadata": {
    "ExecuteTime": {
     "end_time": "2024-09-23T18:57:14.251480Z",
     "start_time": "2024-09-23T18:57:13.119879Z"
    }
   },
   "source": [
    "from sklearn.decomposition import PCA\n",
    "from sklearn.cluster import DBSCAN"
   ],
   "outputs": [],
   "execution_count": 7
  },
  {
   "cell_type": "code",
   "metadata": {
    "ExecuteTime": {
     "end_time": "2024-09-23T18:57:20.841311Z",
     "start_time": "2024-09-23T18:57:14.314579Z"
    }
   },
   "source": [
    "#######################################################################\n",
    "#載入mfcc為data\n",
    "npy_file_list = glob(f\"..\\\\data\\\\mfcc\\\\*.npy\")\n",
    "print(f\"type(npy_file_list): {type(npy_file_list)}\")\n",
    "print(f\"len(npy_file_list): {len(npy_file_list)}\")\n",
    "\n",
    "mfcc_list = []\n",
    "\n",
    "for npy_file in tqdm(npy_file_list):\n",
    "    mfcc = np.load(file=npy_file)\n",
    "    mfcc_list.append(mfcc)\n",
    "\n",
    "mfcc_list = np.array(mfcc_list)\n",
    "print(f\"type(mfcc_list): {type(mfcc_list)}\")\n",
    "print(f\"mfcc_list.shape: {mfcc_list.shape}\")\n",
    "\n",
    "all_mfcc = []\n",
    "for mfcc in mfcc_list:\n",
    "    all_mfcc.append(mfcc)\n",
    "\n",
    "data = np.array(all_mfcc)\n",
    "data_len = len(data)\n",
    "#######################################################################\n",
    "\n",
    "#######################################################################\n",
    "#載入labelByself為labels\n",
    "load_data = np.load('labelByself.npz')\n",
    "labels = load_data['data']\n",
    "#######################################################################\n",
    "\n"
   ],
   "outputs": [
    {
     "name": "stdout",
     "output_type": "stream",
     "text": [
      "type(npy_file_list): <class 'list'>\n",
      "len(npy_file_list): 39423\n"
     ]
    },
    {
     "name": "stderr",
     "output_type": "stream",
     "text": [
      "100%|██████████| 39423/39423 [00:06<00:00, 6214.59it/s]\n"
     ]
    },
    {
     "name": "stdout",
     "output_type": "stream",
     "text": [
      "type(mfcc_list): <class 'numpy.ndarray'>\n",
      "mfcc_list.shape: (39423, 13, 44)\n"
     ]
    }
   ],
   "execution_count": 8
  },
  {
   "cell_type": "code",
   "metadata": {
    "ExecuteTime": {
     "end_time": "2024-09-23T18:57:21.356773Z",
     "start_time": "2024-09-23T18:57:20.936213Z"
    }
   },
   "source": [
    "num_samples, mfcc_height, mfcc_width = data.shape\n",
    "flat_mfcc_data = data.reshape(data.shape[0], -1) \n",
    "pca = PCA(n_components=2)\n",
    "data_pca= pca.fit_transform(flat_mfcc_data)\n",
    "\n",
    "clustering = DBSCAN(eps=3, min_samples=2).fit(data_pca)\n",
    "print(clustering.labels_[:1000])\n"
   ],
   "outputs": [
    {
     "name": "stdout",
     "output_type": "stream",
     "text": [
      "[ 0  1  2  0  1 -1  1  2  0  1  1  1  3  1  4  0  1  1  1  0  1  5  0  1\n",
      "  1  6  1  1  1  1  7  2 -1  0  1  8  1  2  0  1  1  1  1  1  0  2  1  2\n",
      "  1  2  1  1  1 -1  2  1  2  1  1  1  9 -1 10  1 -1  1  2  1 -1  1  1 -1\n",
      " 11 12  1  1  0 13  1  1  1  2  1  2  0  1  2  1  1  1  1  1  2  1  1  1\n",
      "  1  1  1  1  1  1  2  1 -1 14  1  1 15  2  1  1  0  1  1  1  1  1  1  1\n",
      "  1  1  1  1  1 -1  1  1  1  1  1 16  1  1 -1  1  1 -1  1  1  1  2  1  1\n",
      "  1  1  1  2  1  1  2  1  0  1  1  1  1 17  1  1  2  1  1  1  1  1 -1  1\n",
      "  1  1  1  1  1 18  1  2  1  1 19  1 20  1  1  1  1  2  2  1  1  0 -1 21\n",
      " -1 -1 -1 22 -1 -1 -1 -1 -1 -1 -1 -1 -1 -1 -1 -1 -1 -1 -1 -1 -1 -1 -1 -1\n",
      " -1 -1 -1 -1 -1 -1 -1 -1 -1 -1 -1 -1 -1 -1 -1 -1 -1 -1 -1 -1 -1 -1 -1 -1\n",
      " -1 -1 -1 -1 -1 -1 -1 23 -1 -1 -1 -1 -1 -1 -1 -1 -1 -1 -1 -1 -1 -1 -1 -1\n",
      " -1 -1 -1 -1 -1 -1 -1 -1 -1 24 -1 -1 -1 -1 -1 -1 -1 -1 25 -1 26 -1 -1 27\n",
      " -1 -1 -1 -1 -1 -1 -1 -1 -1 -1 -1 -1 -1 -1 -1 -1 -1 -1 -1 -1 -1 -1 28 29\n",
      " -1 -1 -1 -1 -1 30 -1 -1 -1 -1 -1 -1 -1 -1 -1 -1 -1 -1 -1 -1 -1 -1 -1 -1\n",
      " -1 -1 -1 -1 31 -1 -1 -1 32 -1 -1 -1 33 -1 34 -1 -1 -1 -1 -1 -1 -1 -1 -1\n",
      " -1 -1 -1 -1 -1 -1 -1 -1 -1 35 36 -1 -1 -1 -1 -1 -1 -1 -1 -1 -1 -1 -1 -1\n",
      " 37 -1 -1 -1 -1 -1 -1 -1 -1 -1 -1 38 -1 -1 -1 -1 -1 -1 -1 -1 -1 -1 -1 -1\n",
      " -1 -1 -1 -1 -1 -1 -1 -1 -1 -1 39 -1 -1 -1 -1 -1 -1 -1 -1 -1 40 -1 -1 -1\n",
      " -1 -1 -1 -1 -1 -1 -1 -1 -1 -1 -1 -1 -1 -1 -1 -1 -1 -1 -1 -1 -1 -1 -1 -1\n",
      " -1 -1 -1 -1 -1 -1 -1 -1 -1 41 -1 -1 -1 -1 -1 -1 42 43 44 45 -1 -1 -1 -1\n",
      " -1 -1 -1 -1 -1 -1 -1 -1 42 43 44 45 -1 -1 -1 -1 46 -1 47 -1 -1 -1 -1 -1\n",
      " -1 48 -1 -1 -1 -1 -1 -1 -1 -1 -1 -1 -1 -1 -1 -1 -1 -1 -1 -1 -1 -1 -1 -1\n",
      " 49 -1 -1 -1 -1 -1 -1 -1 -1 -1 -1 -1 -1 -1 -1 -1 -1 -1 -1 -1 -1 -1 -1 -1\n",
      " -1 34 -1 -1 -1 -1 -1 -1 -1 -1 -1 -1 -1 -1 -1 -1 -1 -1 -1 -1 -1 -1 -1 50\n",
      " -1 -1 -1 -1 -1 -1 -1 -1 -1 -1 -1 -1 -1 -1 -1 51 -1 52 -1 53 -1 -1 -1 -1\n",
      " -1 -1 -1 -1 -1 -1 -1 -1 -1 -1 -1 -1 -1 -1 -1 -1 -1 -1 -1 -1 -1 -1 -1 -1\n",
      " 52 -1 -1 -1 -1 -1 -1 -1 -1 -1 -1 -1 -1 -1 -1 -1 -1 -1 -1 -1 -1 -1 -1 -1\n",
      " -1 -1 -1 -1 -1 -1 -1 -1 -1 -1 -1 -1 -1 -1 -1 -1 -1 -1 -1 54 -1 -1 -1 -1\n",
      " -1 -1 -1 -1 -1 -1 -1 -1 -1 -1 -1 -1 -1 -1 -1 -1 -1 -1 -1 -1 40 -1 -1 -1\n",
      " -1 -1 -1 -1 -1 -1 -1 -1 -1 -1 -1 -1 -1 -1 -1 -1 -1 -1 -1 -1 -1 -1 -1 -1\n",
      " -1 -1 -1 -1 -1 -1 -1 -1 -1 -1 55 -1 -1 -1 -1 -1 -1 56 -1 -1 57 -1 -1 58\n",
      " -1 -1 -1 -1 -1 -1 -1 -1 -1 -1 -1 -1 -1 -1 -1 -1 -1 -1 -1 59 -1 -1 -1 60\n",
      " -1 -1 -1 -1 -1 -1 -1 -1 -1 -1 -1 -1 -1 -1 -1 61 -1 -1 -1 -1 -1 62 -1 63\n",
      " -1 -1 -1 -1 64 -1 -1 -1 22 -1 -1 -1 -1 65 -1 -1 -1 -1 -1 -1 -1 -1 -1 24\n",
      " -1 -1 -1 -1 -1 -1 -1 -1 -1 -1 -1 -1 -1 -1 -1 -1 -1 -1 66 -1 -1 -1 -1 -1\n",
      " -1 -1 -1 -1 -1 -1 -1 67 68 69 70 71 72 -1 -1 -1 -1 -1 -1 -1 -1 -1 -1 67\n",
      " 68 69 70 71 72 -1 -1 -1 -1 -1 -1 -1 -1 -1 -1 -1 -1 -1 -1 -1 -1 -1 -1 -1\n",
      " -1 -1 -1 -1 -1 -1 -1 -1 -1 -1 -1 -1 -1 -1 -1 73 -1 -1 -1 -1 -1 -1 -1 -1\n",
      " -1 -1 -1 -1 74 -1 -1 -1 -1 -1 -1 75 -1 -1 -1 -1 -1 -1 -1 -1 -1 -1 -1 -1\n",
      " -1 -1 -1 -1 -1 -1 -1 -1 -1 -1 -1 -1 -1 -1 -1 -1 -1 -1 -1 -1 -1 -1 76 -1\n",
      " -1 -1 -1 -1 -1 -1 -1 -1 -1 77 -1 -1 -1 -1 -1 -1 -1 -1 -1 -1 -1 -1 -1 -1\n",
      " -1 -1 -1 -1 -1 -1 -1 -1 -1 -1 -1 -1 78 -1 -1 -1]\n"
     ]
    }
   ],
   "execution_count": 9
  }
 ],
 "metadata": {
  "kernelspec": {
   "display_name": "Py39",
   "language": "python",
   "name": "python3"
  },
  "language_info": {
   "codemirror_mode": {
    "name": "ipython",
    "version": 3
   },
   "file_extension": ".py",
   "mimetype": "text/x-python",
   "name": "python",
   "nbconvert_exporter": "python",
   "pygments_lexer": "ipython3",
   "version": "3.9.18"
  }
 },
 "nbformat": 4,
 "nbformat_minor": 2
}
